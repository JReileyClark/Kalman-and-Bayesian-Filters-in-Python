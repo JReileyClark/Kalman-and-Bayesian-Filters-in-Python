{
 "cells": [
  {
   "cell_type": "markdown",
   "metadata": {},
   "source": [
    "# Discrete Bayes Filter"
   ]
  },
  {
   "cell_type": "code",
   "execution_count": 1,
   "metadata": {},
   "outputs": [
    {
     "data": {
      "text/plain": [
       "Plots.PyPlotBackend()"
      ]
     },
     "execution_count": 1,
     "metadata": {},
     "output_type": "execute_result"
    }
   ],
   "source": [
    "using Plots\n",
    "pyplot()"
   ]
  },
  {
   "cell_type": "markdown",
   "metadata": {},
   "source": [
    "The Kalman filter belongs to a family of filters called *Bayesian filters*. Most textbook treatments of the Kalman filter present the Bayesian formula, perhaps shows how it factors into the Kalman filter equations, but mostly keeps the discussion at a very abstract level. \n",
    "\n",
    "That approach requires a fairly sophisticated understanding of several fields of mathematics, and it still leaves much of the work of understanding and forming an intuitive grasp of the situation in the hands of the reader.\n",
    "\n",
    "I will use a different way to develop the topic, to which I owe the work of Dieter Fox and Sebastian Thrun a great debt. It depends on building an intuition on how Bayesian statistics work by tracking an object through a hallway - they use a robot, I use a dog. I like dogs, and they are less predictable than robots which imposes interesting difficulties for filtering. The first published example of this that I can find seems to be Fox 1999 [1], with a fuller example in Fox 2003 [2]. Sebastian Thrun also uses this formulation in his excellent Udacity course Artificial Intelligence for Robotics [3]. In fact, if you like watching videos, I highly recommend pausing reading this book in favor of first few lessons of that course, and then come back to this book for a deeper dive into the topic.\n",
    "\n",
    "Let's now use a simple thought experiment, much like we did with the g-h filter, to see how we might reason about the use of probabilities for filtering and tracking."
   ]
  },
  {
   "cell_type": "markdown",
   "metadata": {},
   "source": [
    "# Tracking a Dog\n",
    "\n",
    "Let's begin with a simple problem. We have a dog friendly workspace, and so people bring their dogs to work. Occasionally the dogs wander out of offices and down the halls. We want to be able to track them. So during a hackathon somebody invented a sonar sensor to attach to the dog's collar. It emits a signal, listens for the echo, and based on how quickly an echo comes back we can tell whether the dog is in front of an open doorway or not. It also senses when the dog walks, and reports in which direction the dog has moved. It connects to the network via wifi and sends an update once a second.\n",
    "\n",
    "I want to track my dog Simon, so I attach the device to his collar and then fire up Python, ready to write code to track him through the building. At first blush this may appear impossible. If I start listening to the sensor of Simon's collar I might read **door**, **hall**, **hall**, and so on. How can I use that information to determine where Simon is?\n",
    "\n",
    "To keep the problem small enough to plot easily we will assume that there are only 10 positions in the hallway, which we will number 0 to 9, where 1 is to the right of 0. For reasons that will be clear later, we will also assume that the hallway is circular or rectangular. If you move right from position 9, you will be at position 0.  \n",
    "\n",
    "When I begin listening to the sensor I have no reason to believe that Simon is at any particular position in the hallway. From my perspective he is equally likely to be in any position. There are 10 positions, so the probability that he is in any given position is 1/10. \n",
    "\n",
    "Let's represent our belief of his position in a NumPy array. I could use a Python list, but NumPy arrays offer functionality that we will be using soon."
   ]
  },
  {
   "cell_type": "code",
   "execution_count": 2,
   "metadata": {},
   "outputs": [
    {
     "data": {
      "text/plain": [
       "10-element Array{Float64,1}:\n",
       " 0.1\n",
       " 0.1\n",
       " 0.1\n",
       " 0.1\n",
       " 0.1\n",
       " 0.1\n",
       " 0.1\n",
       " 0.1\n",
       " 0.1\n",
       " 0.1"
      ]
     },
     "execution_count": 2,
     "metadata": {},
     "output_type": "execute_result"
    }
   ],
   "source": [
    "belief = ones(10)/10"
   ]
  },
  {
   "cell_type": "markdown",
   "metadata": {},
   "source": [
    "In [Bayesian statistics](https://en.wikipedia.org/wiki/Bayesian_probability) this is called a [*prior*](https://en.wikipedia.org/wiki/Prior_probability). It is the probability prior to incorporating measurements or other information. More completely, this is called the *prior probability distribution*. A [*probability distribution*](https://en.wikipedia.org/wiki/Probability_distribution) is a collection of all possible probabilities for an event. Probability distributions always sum to 1 because something had to happen; the distribution lists all possible events and the probability of each.\n",
    "\n",
    "I'm sure you've used probabilities before - as in \"the probability of rain today is 30%\". The last paragraph sounds like more of that. But Bayesian statistics was a revolution in probability because it treats probability as a belief about a single event. Let's take an example. I know that if I flip a fair coin infinitely many times I will get 50% heads and 50% tails. This is called [*frequentist statistics*](https://en.wikipedia.org/wiki/Frequentist_inference) to distinguish it from Bayesian statistics. Computations are based on the frequency in which events occur.\n",
    "\n",
    "I flip the coin one more time and let it land. Which way do I believe it landed? Frequentist probability has nothing to say about that; it will merely state that 50% of coin flips land as heads. In some ways it is meaningless to assign a probability to the current state of the coin. It is either heads or tails, we just don't know which. Bayes treats this as a belief about a single event - the strength of my belief or knowledge that this specific coin flip is heads is 50%. Some object to the term \"belief\"; belief can imply holding something to be true without evidence. In this book it always is a measure of the strength of our knowledge. We'll learn more about this as we go.\n",
    "\n",
    "Bayesian statistics takes past information (the prior) into account. We observe that it rains 4 times every 100 days. From this I could state that the chance of rain tomorrow is 1/25. This is not how weather prediction is done. If I know it is raining today and the storm front is stalled, it is likely to rain tomorrow. Weather prediction is Bayesian.\n",
    "\n",
    "In practice statisticians use a mix of frequentist and Bayesian techniques. Sometimes finding the prior is difficult or impossible, and frequentist techniques rule. In this book we can find the prior. When I talk about the probability of something I am referring to the probability that some specific thing is true given past events. When I do that I'm taking the Bayesian approach.\n",
    "\n",
    "Now let's create a map of the hallway. We'll place the first two doors close together, and then another door further away. We will use 1 for doors, and 0 for walls:"
   ]
  },
  {
   "cell_type": "code",
   "execution_count": 3,
   "metadata": {},
   "outputs": [
    {
     "data": {
      "text/plain": [
       "10-element Array{Float64,1}:\n",
       " 1.0\n",
       " 1.0\n",
       " 0.0\n",
       " 0.0\n",
       " 0.0\n",
       " 0.0\n",
       " 0.0\n",
       " 0.0\n",
       " 1.0\n",
       " 0.0"
      ]
     },
     "execution_count": 3,
     "metadata": {},
     "output_type": "execute_result"
    }
   ],
   "source": [
    "hallway = [1.0, 1.0, 0, 0, 0, 0, 0, 0, 1.0, 0]"
   ]
  },
  {
   "cell_type": "code",
   "execution_count": 4,
   "metadata": {},
   "outputs": [
    {
     "data": {
      "image/png": "[encoded data removed]"
     },
     "execution_count": 4,
     "metadata": {},
     "output_type": "execute_result"
    }
   ],
   "source": [
    "belief = hallway./sum(hallway)\n",
    "bar(1:length(belief),belief,ylim=[0,1], xlim=[.5,10], label=\"beliefs\")"
   ]
  },
  {
   "cell_type": "markdown",
   "metadata": {},
   "source": [
    "This distribution is called a [*categorical distribution*](https://en.wikipedia.org/wiki/Categorical_distribution), which is a discrete distribution describing the probability of observing $n$ outcomes. It is a [*multimodal distribution*](https://en.wikipedia.org/wiki/Multimodal_distribution) because we have multiple beliefs about the position of our dog. Of course we are not saying that we think he is simultaneously in three different locations, merely that we have narrowed down our knowledge to one of these three locations. My (Bayesian) belief is that there is a 33.3% chance of being at door 0, 33.3% at door 1, and a 33.3% chance of being at door 8.\n",
    "\n",
    "This is an improvement in two ways. I've rejected a number of hallway positions as impossible, and the strength of my belief in the remaining positions has increased from 10% to 33%. This will always happen. As our knowledge improves the probabilities will get closer to 100%.\n",
    "\n",
    "A few words about the [*mode*](https://en.wikipedia.org/wiki/Mode_(statistics&#41;)\n",
    "of a distribution. Given a set of numbers, such as {1, 2, 2, 2, 3, 3, 4}, the *mode* is the number that occurs most often. For this set the mode is 2. A set can contain more than one mode. The set {1, 2, 2, 2, 3, 3, 4, 4, 4} contains the modes 2 and 4, because both occur three times. We say the former set is [*unimodal*](https://en.wikipedia.org/wiki/Unimodality), and the latter is *multimodal*.\n",
    "\n",
    "Another term used for this distribution is a [*histogram*](https://en.wikipedia.org/wiki/Histogram). Histograms graphically depict the distribution of a set of numbers. The bar chart above is a histogram.\n",
    "\n",
    "I hand coded the `belief` array in the code above. How would we implement this in code? We represent doors with 1, and walls as 0, so we will multiply the hallway variable by the percentage, like so;"
   ]
  },
  {
   "cell_type": "code",
   "execution_count": 5,
   "metadata": {},
   "outputs": [
    {
     "data": {
      "text/plain": [
       "10-element Array{Float64,1}:\n",
       " 0.3333333333333333\n",
       " 0.3333333333333333\n",
       " 0.0               \n",
       " 0.0               \n",
       " 0.0               \n",
       " 0.0               \n",
       " 0.0               \n",
       " 0.0               \n",
       " 0.3333333333333333\n",
       " 0.0               "
      ]
     },
     "execution_count": 5,
     "metadata": {},
     "output_type": "execute_result"
    }
   ],
   "source": [
    "belief = hallway./3.0"
   ]
  },
  {
   "cell_type": "markdown",
   "metadata": {},
   "source": [
    "## Extracting Information from Sensor Readings\n",
    "\n",
    "Let's put Python aside and think about the problem a bit. Suppose we were to read the following from Simon's sensor:\n",
    "\n",
    "  * door\n",
    "  * move right\n",
    "  * door\n",
    "  \n",
    "\n",
    "Can we deduce Simon's location? Of course! Given the hallway's layout there is only one place from which you can get this sequence, and that is at the left end. Therefore we can confidently state that Simon is in front of the second doorway. If this is not clear, suppose Simon had started at the second or third door. After moving to the right, his sensor would have returned 'wall'. That doesn't match the sensor readings, so we know he didn't start there. We can continue with that logic for all the remaining starting positions. The only possibility is that he is now in front of the second door. Our belief is:"
   ]
  },
  {
   "cell_type": "code",
   "execution_count": 6,
   "metadata": {},
   "outputs": [
    {
     "data": {
      "text/plain": [
       "10-element Array{Float64,1}:\n",
       " 0.0\n",
       " 1.0\n",
       " 0.0\n",
       " 0.0\n",
       " 0.0\n",
       " 0.0\n",
       " 0.0\n",
       " 0.0\n",
       " 0.0\n",
       " 0.0"
      ]
     },
     "execution_count": 6,
     "metadata": {},
     "output_type": "execute_result"
    }
   ],
   "source": [
    "belief = [0, 1.0, 0, 0, 0, 0, 0, 0, 0, 0]"
   ]
  },
  {
   "cell_type": "markdown",
   "metadata": {},
   "source": [
    "I designed the hallway layout and sensor readings to give us an exact answer quickly. Real problems are not so clear cut. But this should trigger your intuition - the first sensor reading only gave us low probabilities (0.333) for Simon's location, but after a position update and another sensor reading we know more about where he is. You might suspect, correctly, that if you had a very long hallway with a large number of doors that after several sensor readings and positions updates we would either be able to know where Simon was, or have the possibilities narrowed down to a small number of possibilities. This is possible when a set of sensor readings only matches one to a few starting locations.\n",
    "\n",
    "We could implement this solution now, but instead let's consider a real world complication to the problem."
   ]
  },
  {
   "cell_type": "markdown",
   "metadata": {},
   "source": [
    "## Noisy Sensors\n",
    "\n",
    "Perfect sensors are rare. Perhaps the sensor would not detect a door if Simon sat in front of it while scratching himself, or misread if he is not facing down the hallway. Thus when I get **door** I cannot use 1/3 as the probability. I have to assign less than 1/3 to each door, and assign a small probability to each blank wall position. Something like\n",
    "\n",
    "```Python\n",
    "[.31, .31, .01, .01, .01, .01, .01, .01, .31, .01]\n",
    "```\n",
    "\n",
    "At first this may seem insurmountable. If the sensor is noisy it casts doubt on every piece of data. How can we conclude anything if we are always unsure?\n",
    "\n",
    "The answer, as for the problem above, is with probabilities. We are already comfortable assigning a probabilistic belief to the location of the dog; now we have to incorporate the additional uncertainty caused by the sensor noise. \n",
    "\n",
    "Say we get a reading of **door**, and suppose that testing shows that the sensor is 3 times more likely to be right than wrong. We should scale the probability distribution by 3 where there is a door. If we do that the result will no longer be a probability distribution, but we will learn how to fix that in a moment.\n",
    "\n",
    "Let's look at that in Python code. Here I use the variable `z` to denote the measurement. `z` or `y` are customary choices in the literature for the measurement. As a programmer I prefer meaningful variable names, but I want you to be able to read the literature and/or other filtering code, so I will start introducing these abbreviated names now."
   ]
  },
  {
   "cell_type": "code",
   "execution_count": 7,
   "metadata": {},
   "outputs": [
    {
     "data": {
      "image/png": "[encoded data removed]"
     },
     "execution_count": 7,
     "metadata": {},
     "output_type": "execute_result"
    }
   ],
   "source": [
    "function update_belief(hall, belief, z, correct_scale)\n",
    "    for (i, val) in enumerate(hall)\n",
    "        if val == z\n",
    "            belief[i] *= correct_scale\n",
    "        end\n",
    "    end\n",
    "end\n",
    "\n",
    "belief = ones(10)./10\n",
    "reading = 1\n",
    "update_belief(hallway, belief, reading, 3.0)\n",
    "bar(1:length(hallway),belief, ylim=[0,1.1])"
   ]
  },
  {
   "cell_type": "markdown",
   "metadata": {},
   "source": [
    "This is not a probability distribution because it does not sum to 1.0. But the code is doing mostly the right thing - the doors are assigned a number (0.3) that is 3 times higher than the walls (0.1). All we need to do is normalize the result so that the probabilities correctly sum to 1.0. Normalization is done by dividing each element by the sum of all elements in the list. That is easy with Julia:"
   ]
  },
  {
   "cell_type": "code",
   "execution_count": 8,
   "metadata": {},
   "outputs": [
    {
     "data": {
      "text/plain": [
       "10-element Array{Float64,1}:\n",
       " 0.1875             \n",
       " 0.1875             \n",
       " 0.06249999999999999\n",
       " 0.06249999999999999\n",
       " 0.06249999999999999\n",
       " 0.06249999999999999\n",
       " 0.06249999999999999\n",
       " 0.06249999999999999\n",
       " 0.1875             \n",
       " 0.06249999999999999"
      ]
     },
     "execution_count": 8,
     "metadata": {},
     "output_type": "execute_result"
    }
   ],
   "source": [
    "belief./sum(belief)"
   ]
  },
  {
   "cell_type": "markdown",
   "metadata": {},
   "source": [
    "## WE ARE NOT USING FILTERPY IN THIS TUTORIAL\n",
    "\n",
    "FilterPy implements this with the `normalize` function:\n",
    "\n",
    "```Python\n",
    "from filterpy.discrete_bayes import normalize\n",
    "normalize(belief)\n",
    "```\n",
    "\n",
    "It is a bit odd to say \"3 times as likely to be right as wrong\". We are working in probabilities, so let's specify the probability of the sensor being correct, and compute the scale factor from that. The equation for that is\n",
    "\n",
    "$$scale =  \\frac{prob_{correct}}{prob_{incorrect}} = \\frac{prob_{correct}} {1-prob_{correct}}$$\n",
    "\n",
    "\n",
    "\n",
    "Also, the `for` loop is cumbersome. As a general rule you will want to avoid using `for` loops in NumPy code. NumPy is implemented in C and Fortran, so if you avoid for loops the result often runs 100x faster than the equivalent loop.\n",
    "\n",
    "How do we get rid of this `for` loop? NumPy lets you index arrays with boolean arrays. You create a boolean array with logical operators. We can find all the doors in the hallway with:"
   ]
  },
  {
   "cell_type": "markdown",
   "metadata": {},
   "source": [
    "In Julia, `for` loops are actually very fast. Faster even than broadcasting in many cases. We love for loops in Julia!"
   ]
  },
  {
   "cell_type": "code",
   "execution_count": 85,
   "metadata": {},
   "outputs": [
    {
     "data": {
      "text/plain": [
       "scaled_update! (generic function with 1 method)"
      ]
     },
     "execution_count": 85,
     "metadata": {},
     "output_type": "execute_result"
    }
   ],
   "source": [
    "function normalize!(array)\n",
    "    array ./=(sum(array))\n",
    "    return\n",
    "end\n",
    "\n",
    "function normalize(array)\n",
    "    array ./(sum(array))   \n",
    "    return array ./(sum(array))\n",
    "end\n",
    "\n",
    "\n",
    "function scaled_update!(hall, belief, z, z_prob)\n",
    "    scale = z_prob / (1-z_prob)\n",
    "    println(scale)\n",
    "    belief[hallway.==z].*= scale\n",
    "    normalize!(belief)\n",
    "end"
   ]
  },
  {
   "cell_type": "code",
   "execution_count": 86,
   "metadata": {},
   "outputs": [
    {
     "name": "stdout",
     "output_type": "stream",
     "text": [
      "3.0\n"
     ]
    }
   ],
   "source": [
    "belief = ones(10)./10\n",
    "scaled_update!(hallway,belief,1,.75)"
   ]
  },
  {
   "cell_type": "code",
   "execution_count": 87,
   "metadata": {},
   "outputs": [
    {
     "data": {
      "image/png": "[encoded data removed]"
     },
     "execution_count": 87,
     "metadata": {},
     "output_type": "execute_result"
    }
   ],
   "source": [
    "bar(1:length(hallway),belief, ylim=[0,0.3],xlim=[0.5,10.5])"
   ]
  },
  {
   "cell_type": "markdown",
   "metadata": {},
   "source": [
    " We can see from the output that the sum is now 1.0, and that the probability of a door vs wall is still three times larger. The result also fits our intuition that the probability of a door must be less than 0.333, and that the probability of a wall must be greater than 0.0. Finally, it should fit our intuition that we have not yet been given any information that would allow us to distinguish between any given door or wall position, so all door positions should have the same value, and the same should be true for wall positions.\n",
    " \n",
    "This result is called the [*posterior*](https://en.wikipedia.org/wiki/Posterior_probability), which is short for *posterior probability distribution*. All this means is a probability distribution *after* incorporating the measurement information (posterior means 'after' in this context). To review, the *prior* is the probability distribution before including the measurement's information. \n",
    "\n",
    "Another term is the [*likelihood*](https://en.wikipedia.org/wiki/Likelihood_function). When we computed `belief[hall==z] *= scale` we were computing how *likely* each position was given the measurement. The likelihood is not a probability distribution because it does not sum to one.\n",
    "\n",
    "The combination of these gives the equation\n",
    "\n",
    "$$\\mathtt{posterior} = \\frac{\\mathtt{likelihood} \\times \\mathtt{prior}}{\\mathtt{normalization}}$$ \n",
    "\n",
    "When we talk about the filter's output we typically call the state after performing the prediction the *prior* or *prediction*, and we call the state after the update either the *posterior* or the *estimated state*. \n",
    "\n",
    "It is very important to learn and internalize these terms as most of the literature uses them extensively.\n",
    "\n",
    "Does `scaled_update()` perform this computation? It does. Let me recast it into this form:"
   ]
  },
  {
   "cell_type": "code",
   "execution_count": 88,
   "metadata": {},
   "outputs": [
    {
     "data": {
      "text/plain": [
       "scaled_update (generic function with 1 method)"
      ]
     },
     "execution_count": 88,
     "metadata": {},
     "output_type": "execute_result"
    }
   ],
   "source": [
    "function scaled_update(hall, belief, z, z_prob)\n",
    "    scale = z_prob / (1.0 - z_prob)\n",
    "    likelihood = ones(length(hall))\n",
    "    likelihood[hall.==z] .*= scale\n",
    "    return normalize!(likelihood .* belief)\n",
    "end\n"
   ]
  },
  {
   "cell_type": "markdown",
   "metadata": {},
   "source": [
    "This function is not fully general. It contains knowledge about the hallway, and how we match measurements to it. We always strive to write general functions. Here we will remove the computation of the likelihood from the function, and require the caller to compute the likelihood themselves.\n",
    "\n",
    "Here is a full implementation of the algorithm:\n",
    "\n",
    "```python\n",
    "def update(likelihood, prior):\n",
    "    return normalize(likelihood * prior)\n",
    "```\n",
    "\n",
    "Computation of the likelihood varies per problem. For example, the sensor might not return  just 1 or 0, but a `float` between 0 and 1 indicating the probability of being in front of a door. It might use computer vision and report a blob shape that you then probabilistically match to a door. It might use sonar and return a distance reading. In each case the computation of the likelihood will be different. We will see many examples of this throughout the book, and learn how to perform these calculations.\n",
    "\n",
    "FilterPy implements `update`. Here is the previous example in a fully general form:"
   ]
  },
  {
   "cell_type": "code",
   "execution_count": 89,
   "metadata": {},
   "outputs": [
    {
     "data": {
      "text/plain": [
       "10-element Array{Float64,1}:\n",
       " 0.0                \n",
       " 0.0                \n",
       " 0.14285714285714288\n",
       " 0.14285714285714288\n",
       " 0.14285714285714288\n",
       " 0.14285714285714288\n",
       " 0.14285714285714288\n",
       " 0.14285714285714288\n",
       " 0.0                \n",
       " 0.14285714285714288"
      ]
     },
     "execution_count": 89,
     "metadata": {},
     "output_type": "execute_result"
    }
   ],
   "source": [
    "function lh_hallway(hall, z, z_prob)\n",
    "    scale = 0\n",
    "    try\n",
    "        scale = z_prob / (1.0 - z_prob)\n",
    "        catch e\n",
    "            scale = 1e8\n",
    "    end\n",
    "    likelihood = ones(length(hall))\n",
    "    likelihood[hall .==  z] .*= scale\n",
    "    return likelihood\n",
    "end\n",
    "\n",
    "function update(likelihood, prior)\n",
    "    return normalize(likelihood.*prior)\n",
    "end\n",
    "belief = ones(10)./10\n",
    "likelihood = lh_hallway(hallway, 1, 0)\n",
    "update(likelihood, belief)\n"
   ]
  },
  {
   "cell_type": "markdown",
   "metadata": {},
   "source": [
    "## Incorporating Movement\n",
    "\n",
    "Recall how quickly we were able to find an exact solution when we incorporated a series of measurements and movement updates. However, that occurred in a fictional world of perfect sensors. Might we be able to find an exact solution with noisy sensors?\n",
    "\n",
    "Unfortunately, the answer is no. Even if the sensor readings perfectly match an extremely complicated hallway map, we cannot be 100% certain that the dog is in a specific position - there is, after all, a tiny possibility that every sensor reading was wrong! Naturally, in a more typical situation most sensor readings will be correct, and we might be close to 100% sure of our answer, but never 100% sure. This may seem complicated, but let's go ahead and program the math.\n",
    "\n",
    "First let's deal with the simple case - assume the movement sensor is perfect, and it reports that the dog has moved one space to the right. How would we alter our `belief` array?\n",
    "\n",
    "I hope that after a moment's thought it is clear that we should shift all the values one space to the right. If we previously thought there was a 50% chance of Simon being at position 3, then after he moved one position to the right we should believe that there is a 50% chance he is at position 4. The hallway is circular, so we will use modulo arithmetic to perform the shift."
   ]
  },
  {
   "cell_type": "code",
   "execution_count": 90,
   "metadata": {},
   "outputs": [
    {
     "data": {
      "image/png": "[encoded data removed]"
     },
     "execution_count": 90,
     "metadata": {},
     "output_type": "execute_result"
    }
   ],
   "source": [
    "function perfect_predict(belief, move)\n",
    "    n = length(belief)\n",
    "    result = zeros(n)\n",
    "    for i in 1:n\n",
    "        result[i] = belief[mod1(i-move,n)]\n",
    "    end\n",
    "    return result\n",
    "end\n",
    "\n",
    "\n",
    "belief = [0.35, 0.1, 0.2, 0.3, 0,0,0,0,0,0.05]\n",
    "plt1 = bar(belief, title=\"Before Prediction\", ylim=[0,.4])\n",
    "\n",
    "belief = perfect_predict(belief, 1)\n",
    "plt2 = bar(belief, title=\"After Prediction\", ylim=(0,0.4))\n",
    "plot(plt1,plt2)"
   ]
  },
  {
   "cell_type": "markdown",
   "metadata": {},
   "source": [
    "We can see that we correctly shifted all values one position to the right, wrapping from the end of the array back to the beginning. \n",
    "\n",
    "The next cell animates this so you can see it in action. Use the slider to move forwards and backwards in time. This simulates Simon walking around and around the hallway. It does not yet incorporate new measurements so the probability distribution does not change shape, only position."
   ]
  },
  {
   "cell_type": "code",
   "execution_count": 91,
   "metadata": {},
   "outputs": [],
   "source": [
    "using Interact"
   ]
  },
  {
   "cell_type": "code",
   "execution_count": 92,
   "metadata": {},
   "outputs": [
    {
     "data": {
      "application/vnd.webio.node+json": {
       "children": [
        {
         "children": [
          {
           "children": [
            {
             "children": [
              {
               "children": [
                {
                 "children": [
                  "time_step"
                 ],
                 "instanceArgs": {
                  "namespace": "html",
                  "tag": "label"
                 },
                 "nodeType": "DOM",
                 "props": {
                  "className": "interact ",
                  "style": {
                   "padding": "5px 10px 0px 10px"
                  }
                 },
                 "type": "node"
                }
               ],
               "instanceArgs": {
                "namespace": "html",
                "tag": "div"
               },
               "nodeType": "DOM",
               "props": {
                "className": "interact-flex-row-left"
               },
               "type": "node"
              },
              {
               "children": [
                {
                 "children": [],
                 "instanceArgs": {
                  "namespace": "html",
                  "tag": "input"
                 },
                 "nodeType": "DOM",
                 "props": {
                  "attributes": {
                   "data-bind": "numericValue: index, valueUpdate: 'input', event: {change: function (){this.changes(this.changes()+1)}}",
                   "orient": "horizontal",
                   "type": "range"
                  },
                  "className": "slider slider is-fullwidth",
                  "max": 20,
                  "min": 1,
                  "step": 1,
                  "style": {}
                 },
                 "type": "node"
                }
               ],
               "instanceArgs": {
                "namespace": "html",
                "tag": "div"
               },
               "nodeType": "DOM",
               "props": {
                "className": "interact-flex-row-center"
               },
               "type": "node"
              },
              {
               "children": [
                {
                 "children": [],
                 "instanceArgs": {
                  "namespace": "html",
                  "tag": "p"
                 },
                 "nodeType": "DOM",
                 "props": {
                  "attributes": {
                   "data-bind": "text: formatted_val"
                  }
                 },
                 "type": "node"
                }
               ],
               "instanceArgs": {
                "namespace": "html",
                "tag": "div"
               },
               "nodeType": "DOM",
               "props": {
                "className": "interact-flex-row-right"
               },
               "type": "node"
              }
             ],
             "instanceArgs": {
              "namespace": "html",
              "tag": "div"
             },
             "nodeType": "DOM",
             "props": {
              "className": "interact-flex-row interact-widget"
             },
             "type": "node"
            }
           ],
           "instanceArgs": {
            "handlers": {
             "changes": [
              "(function (val){return (val!=this.model[\"changes\"]()) ? (this.valueFromJulia[\"changes\"]=true, this.model[\"changes\"](val)) : undefined})"
             ],
             "index": [
              "(function (val){return (val!=this.model[\"index\"]()) ? (this.valueFromJulia[\"index\"]=true, this.model[\"index\"](val)) : undefined})"
             ]
            },
            "id": "7425640804122437051",
            "imports": {
             "data": [
              {
               "name": "knockout",
               "type": "js",
               "url": "/assetserver/857af7cfa2c6302c47ba8e724856b27ae83296c0-knockout.js"
              },
              {
               "name": "knockout_punches",
               "type": "js",
               "url": "/assetserver/9ef95fa5c842f59587f36d7893fc9857da6f7c7a-knockout_punches.js"
              },
              {
               "name": null,
               "type": "js",
               "url": "/assetserver/eeb343794b2b4f0b3b4e5d24cd3b6e1de3a20b0d-all.js"
              },
              {
               "name": null,
               "type": "css",
               "url": "/assetserver/21e3a368ed5f0102a794036e8bb6dbdd4cd39ca9-style.css"
              },
              {
               "name": null,
               "type": "css",
               "url": "/assetserver/c50c206481b6c9f223fa1428e62bdbe7270ed1f5-bulma_confined.min.css"
              }
             ],
             "type": "async_block"
            },
            "mount_callbacks": [
             "function () {\n    var handler = (function (ko, koPunches) {\n    ko.punches.enableAll();\n    ko.bindingHandlers.numericValue = {\n        init: function(element, valueAccessor, allBindings, data, context) {\n            var stringified = ko.observable(ko.unwrap(valueAccessor()));\n            stringified.subscribe(function(value) {\n                var val = parseFloat(value);\n                if (!isNaN(val)) {\n                    valueAccessor()(val);\n                }\n            });\n            valueAccessor().subscribe(function(value) {\n                var str = JSON.stringify(value);\n                if ((str == \"0\") && ([\"-0\", \"-0.\"].indexOf(stringified()) >= 0))\n                     return;\n                 if ([\"null\", \"\"].indexOf(str) >= 0)\n                     return;\n                stringified(str);\n            });\n            ko.applyBindingsToNode(\n                element,\n                {\n                    value: stringified,\n                    valueUpdate: allBindings.get('valueUpdate'),\n                },\n                context,\n            );\n        }\n    };\n    var json_data = {\"formatted_vals\":[\"1\",\"2\",\"3\",\"4\",\"5\",\"6\",\"7\",\"8\",\"9\",\"10\",\"11\",\"12\",\"13\",\"14\",\"15\",\"16\",\"17\",\"18\",\"19\",\"20\"],\"changes\":WebIO.getval({\"name\":\"changes\",\"scope\":\"7425640804122437051\",\"id\":\"ob_20\",\"type\":\"observable\"}),\"index\":WebIO.getval({\"name\":\"index\",\"scope\":\"7425640804122437051\",\"id\":\"ob_19\",\"type\":\"observable\"})};\n    var self = this;\n    function AppViewModel() {\n        for (var key in json_data) {\n            var el = json_data[key];\n            this[key] = Array.isArray(el) ? ko.observableArray(el) : ko.observable(el);\n        }\n        \n        [this[\"formatted_val\"]=ko.computed(    function(){\n        return this.formatted_vals()[parseInt(this.index())-(1)];\n    }\n,this)]\n        [this[\"changes\"].subscribe((function (val){!(this.valueFromJulia[\"changes\"]) ? (WebIO.setval({\"name\":\"changes\",\"scope\":\"7425640804122437051\",\"id\":\"ob_20\",\"type\":\"observable\"},val)) : undefined; return this.valueFromJulia[\"changes\"]=false}),self),this[\"index\"].subscribe((function (val){!(this.valueFromJulia[\"index\"]) ? (WebIO.setval({\"name\":\"index\",\"scope\":\"7425640804122437051\",\"id\":\"ob_19\",\"type\":\"observable\"},val)) : undefined; return this.valueFromJulia[\"index\"]=false}),self)]\n        \n    }\n    self.model = new AppViewModel();\n    self.valueFromJulia = {};\n    for (var key in json_data) {\n        self.valueFromJulia[key] = false;\n    }\n    ko.applyBindings(self.model, self.dom);\n}\n);\n    (WebIO.importBlock({\"data\":[{\"name\":\"knockout\",\"type\":\"js\",\"url\":\"/assetserver/857af7cfa2c6302c47ba8e724856b27ae83296c0-knockout.js\"},{\"name\":\"knockout_punches\",\"type\":\"js\",\"url\":\"/assetserver/9ef95fa5c842f59587f36d7893fc9857da6f7c7a-knockout_punches.js\"}],\"type\":\"async_block\"})).then((imports) => handler.apply(this, imports));\n}\n"
            ],
            "observables": {
             "changes": {
              "id": "ob_20",
              "sync": false,
              "value": 0
             },
             "index": {
              "id": "ob_19",
              "sync": true,
              "value": 10
             }
            },
            "systemjs_options": null
           },
           "nodeType": "Scope",
           "props": {},
           "type": "node"
          }
         ],
         "instanceArgs": {
          "namespace": "html",
          "tag": "div"
         },
         "nodeType": "DOM",
         "props": {
          "className": "field interact-widget"
         },
         "type": "node"
        },
        {
         "children": [
          {
           "children": [],
           "instanceArgs": {
            "id": "ob_28",
            "name": "obs-node"
           },
           "nodeType": "ObservableNode",
           "props": {},
           "type": "node"
          }
         ],
         "instanceArgs": {
          "handlers": {},
          "id": "11593947439955203796",
          "imports": {
           "data": [],
           "type": "async_block"
          },
          "mount_callbacks": [],
          "observables": {
           "obs-node": {
            "id": "ob_28",
            "sync": false,
            "value": {
             "children": [
              {
               "children": [],
               "instanceArgs": {
                "namespace": "html",
                "tag": "div"
               },
               "nodeType": "DOM",
               "props": {
                "setInnerHtml": "<img src=\"data:image/png;base64,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\" />"
               },
               "type": "node"
              }
             ],
             "instanceArgs": {
              "namespace": "html",
              "tag": "div"
             },
             "nodeType": "DOM",
             "props": {
              "className": "interact-flex-row interact-widget"
             },
             "type": "node"
            }
           }
          },
          "systemjs_options": null
         },
         "nodeType": "Scope",
         "props": {},
         "type": "node"
        }
       ],
       "instanceArgs": {
        "namespace": "html",
        "tag": "div"
       },
       "nodeType": "DOM",
       "props": {},
       "type": "node"
      },
      "text/html": [
       "<div\n",
       "    class=\"webio-mountpoint\"\n",
       "    data-webio-mountpoint=\"5056153631158586530\"\n",
       ">\n",
       "    <script>\n",
       "    if (window.require && require.defined && require.defined(\"nbextensions/webio/main\")) {\n",
       "        console.log(\"Jupyter WebIO extension detected, not mounting.\");\n",
       "    } else if (window.WebIO) {\n",
       "        WebIO.mount(\n",
       "            document.querySelector('[data-webio-mountpoint=\"5056153631158586530\"]'),\n",
       "            {\"props\":{},\"nodeType\":\"DOM\",\"type\":\"node\",\"instanceArgs\":{\"namespace\":\"html\",\"tag\":\"div\"},\"children\":[{\"props\":{\"className\":\"field interact-widget\"},\"nodeType\":\"DOM\",\"type\":\"node\",\"instanceArgs\":{\"namespace\":\"html\",\"tag\":\"div\"},\"children\":[{\"props\":{},\"nodeType\":\"Scope\",\"type\":\"node\",\"instanceArgs\":{\"imports\":{\"data\":[{\"name\":\"knockout\",\"type\":\"js\",\"url\":\"\\/assetserver\\/857af7cfa2c6302c47ba8e724856b27ae83296c0-knockout.js\"},{\"name\":\"knockout_punches\",\"type\":\"js\",\"url\":\"\\/assetserver\\/9ef95fa5c842f59587f36d7893fc9857da6f7c7a-knockout_punches.js\"},{\"name\":null,\"type\":\"js\",\"url\":\"\\/assetserver\\/eeb343794b2b4f0b3b4e5d24cd3b6e1de3a20b0d-all.js\"},{\"name\":null,\"type\":\"css\",\"url\":\"\\/assetserver\\/21e3a368ed5f0102a794036e8bb6dbdd4cd39ca9-style.css\"},{\"name\":null,\"type\":\"css\",\"url\":\"\\/assetserver\\/c50c206481b6c9f223fa1428e62bdbe7270ed1f5-bulma_confined.min.css\"}],\"type\":\"async_block\"},\"id\":\"7425640804122437051\",\"handlers\":{\"changes\":[\"(function (val){return (val!=this.model[\\\"changes\\\"]()) ? (this.valueFromJulia[\\\"changes\\\"]=true, this.model[\\\"changes\\\"](val)) : undefined})\"],\"index\":[\"(function (val){return (val!=this.model[\\\"index\\\"]()) ? (this.valueFromJulia[\\\"index\\\"]=true, this.model[\\\"index\\\"](val)) : undefined})\"]},\"systemjs_options\":null,\"mount_callbacks\":[\"function () {\\n    var handler = (function (ko, koPunches) {\\n    ko.punches.enableAll();\\n    ko.bindingHandlers.numericValue = {\\n        init: function(element, valueAccessor, allBindings, data, context) {\\n            var stringified = ko.observable(ko.unwrap(valueAccessor()));\\n            stringified.subscribe(function(value) {\\n                var val = parseFloat(value);\\n                if (!isNaN(val)) {\\n                    valueAccessor()(val);\\n                }\\n            });\\n            valueAccessor().subscribe(function(value) {\\n                var str = JSON.stringify(value);\\n                if ((str == \\\"0\\\") && ([\\\"-0\\\", \\\"-0.\\\"].indexOf(stringified()) >= 0))\\n                     return;\\n                 if ([\\\"null\\\", \\\"\\\"].indexOf(str) >= 0)\\n                     return;\\n                stringified(str);\\n            });\\n            ko.applyBindingsToNode(\\n                element,\\n                {\\n                    value: stringified,\\n                    valueUpdate: allBindings.get('valueUpdate'),\\n                },\\n                context,\\n            );\\n        }\\n    };\\n    var json_data = {\\\"formatted_vals\\\":[\\\"1\\\",\\\"2\\\",\\\"3\\\",\\\"4\\\",\\\"5\\\",\\\"6\\\",\\\"7\\\",\\\"8\\\",\\\"9\\\",\\\"10\\\",\\\"11\\\",\\\"12\\\",\\\"13\\\",\\\"14\\\",\\\"15\\\",\\\"16\\\",\\\"17\\\",\\\"18\\\",\\\"19\\\",\\\"20\\\"],\\\"changes\\\":WebIO.getval({\\\"name\\\":\\\"changes\\\",\\\"scope\\\":\\\"7425640804122437051\\\",\\\"id\\\":\\\"ob_20\\\",\\\"type\\\":\\\"observable\\\"}),\\\"index\\\":WebIO.getval({\\\"name\\\":\\\"index\\\",\\\"scope\\\":\\\"7425640804122437051\\\",\\\"id\\\":\\\"ob_19\\\",\\\"type\\\":\\\"observable\\\"})};\\n    var self = this;\\n    function AppViewModel() {\\n        for (var key in json_data) {\\n            var el = json_data[key];\\n            this[key] = Array.isArray(el) ? ko.observableArray(el) : ko.observable(el);\\n        }\\n        \\n        [this[\\\"formatted_val\\\"]=ko.computed(    function(){\\n        return this.formatted_vals()[parseInt(this.index())-(1)];\\n    }\\n,this)]\\n        [this[\\\"changes\\\"].subscribe((function (val){!(this.valueFromJulia[\\\"changes\\\"]) ? (WebIO.setval({\\\"name\\\":\\\"changes\\\",\\\"scope\\\":\\\"7425640804122437051\\\",\\\"id\\\":\\\"ob_20\\\",\\\"type\\\":\\\"observable\\\"},val)) : undefined; return this.valueFromJulia[\\\"changes\\\"]=false}),self),this[\\\"index\\\"].subscribe((function (val){!(this.valueFromJulia[\\\"index\\\"]) ? (WebIO.setval({\\\"name\\\":\\\"index\\\",\\\"scope\\\":\\\"7425640804122437051\\\",\\\"id\\\":\\\"ob_19\\\",\\\"type\\\":\\\"observable\\\"},val)) : undefined; return this.valueFromJulia[\\\"index\\\"]=false}),self)]\\n        \\n    }\\n    self.model = new AppViewModel();\\n    self.valueFromJulia = {};\\n    for (var key in json_data) {\\n        self.valueFromJulia[key] = false;\\n    }\\n    ko.applyBindings(self.model, self.dom);\\n}\\n);\\n    (WebIO.importBlock({\\\"data\\\":[{\\\"name\\\":\\\"knockout\\\",\\\"type\\\":\\\"js\\\",\\\"url\\\":\\\"\\/assetserver\\/857af7cfa2c6302c47ba8e724856b27ae83296c0-knockout.js\\\"},{\\\"name\\\":\\\"knockout_punches\\\",\\\"type\\\":\\\"js\\\",\\\"url\\\":\\\"\\/assetserver\\/9ef95fa5c842f59587f36d7893fc9857da6f7c7a-knockout_punches.js\\\"}],\\\"type\\\":\\\"async_block\\\"})).then((imports) => handler.apply(this, imports));\\n}\\n\"],\"observables\":{\"changes\":{\"sync\":false,\"id\":\"ob_20\",\"value\":0},\"index\":{\"sync\":true,\"id\":\"ob_19\",\"value\":10}}},\"children\":[{\"props\":{\"className\":\"interact-flex-row interact-widget\"},\"nodeType\":\"DOM\",\"type\":\"node\",\"instanceArgs\":{\"namespace\":\"html\",\"tag\":\"div\"},\"children\":[{\"props\":{\"className\":\"interact-flex-row-left\"},\"nodeType\":\"DOM\",\"type\":\"node\",\"instanceArgs\":{\"namespace\":\"html\",\"tag\":\"div\"},\"children\":[{\"props\":{\"className\":\"interact \",\"style\":{\"padding\":\"5px 10px 0px 10px\"}},\"nodeType\":\"DOM\",\"type\":\"node\",\"instanceArgs\":{\"namespace\":\"html\",\"tag\":\"label\"},\"children\":[\"time_step\"]}]},{\"props\":{\"className\":\"interact-flex-row-center\"},\"nodeType\":\"DOM\",\"type\":\"node\",\"instanceArgs\":{\"namespace\":\"html\",\"tag\":\"div\"},\"children\":[{\"props\":{\"max\":20,\"min\":1,\"attributes\":{\"type\":\"range\",\"data-bind\":\"numericValue: index, valueUpdate: 'input', event: {change: function (){this.changes(this.changes()+1)}}\",\"orient\":\"horizontal\"},\"step\":1,\"className\":\"slider slider is-fullwidth\",\"style\":{}},\"nodeType\":\"DOM\",\"type\":\"node\",\"instanceArgs\":{\"namespace\":\"html\",\"tag\":\"input\"},\"children\":[]}]},{\"props\":{\"className\":\"interact-flex-row-right\"},\"nodeType\":\"DOM\",\"type\":\"node\",\"instanceArgs\":{\"namespace\":\"html\",\"tag\":\"div\"},\"children\":[{\"props\":{\"attributes\":{\"data-bind\":\"text: formatted_val\"}},\"nodeType\":\"DOM\",\"type\":\"node\",\"instanceArgs\":{\"namespace\":\"html\",\"tag\":\"p\"},\"children\":[]}]}]}]}]},{\"props\":{},\"nodeType\":\"Scope\",\"type\":\"node\",\"instanceArgs\":{\"imports\":{\"data\":[],\"type\":\"async_block\"},\"id\":\"10558489416035282587\",\"handlers\":{},\"systemjs_options\":null,\"mount_callbacks\":[],\"observables\":{\"obs-node\":{\"sync\":false,\"id\":\"ob_26\",\"value\":{\"props\":{\"className\":\"interact-flex-row interact-widget\"},\"nodeType\":\"DOM\",\"type\":\"node\",\"instanceArgs\":{\"namespace\":\"html\",\"tag\":\"div\"},\"children\":[{\"props\":{\"setInnerHtml\":\"<img src=\\\"data:image\\/png;base64,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\\\" \\/>\"},\"nodeType\":\"DOM\",\"type\":\"node\",\"instanceArgs\":{\"namespace\":\"html\",\"tag\":\"div\"},\"children\":[]}]}}}},\"children\":[{\"props\":{},\"nodeType\":\"ObservableNode\",\"type\":\"node\",\"instanceArgs\":{\"id\":\"ob_26\",\"name\":\"obs-node\"},\"children\":[]}]}]},\n",
       "            window,\n",
       "        );\n",
       "    } else {\n",
       "        document\n",
       "            .querySelector('[data-webio-mountpoint=\"5056153631158586530\"]')\n",
       "            .innerHTML = '<strong>WebIO not detected.</strong>';\n",
       "    }\n",
       "    </script>\n",
       "</div>\n"
      ],
      "text/plain": [
       "Node{WebIO.DOM}(WebIO.DOM(:html, :div), Any[Node{WebIO.DOM}(WebIO.DOM(:html, :div), Any[Scope(Node{WebIO.DOM}(WebIO.DOM(:html, :div), Any[Node{WebIO.DOM}(WebIO.DOM(:html, :div), Any[Node{WebIO.DOM}(WebIO.DOM(:html, :label), Any[\"time_step\"], Dict{Symbol,Any}(:className => \"interact \",:style => Dict{Any,Any}(:padding => \"5px 10px 0px 10px\")))], Dict{Symbol,Any}(:className => \"interact-flex-row-left\")), Node{WebIO.DOM}(WebIO.DOM(:html, :div), Any[Node{WebIO.DOM}(WebIO.DOM(:html, :input), Any[], Dict{Symbol,Any}(:max => 20,:min => 1,:attributes => Dict{Any,Any}(:type => \"range\",Symbol(\"data-bind\") => \"numericValue: index, valueUpdate: 'input', event: {change: function (){this.changes(this.changes()+1)}}\",\"orient\" => \"horizontal\"),:step => 1,:className => \"slider slider is-fullwidth\",:style => Dict{Any,Any}()))], Dict{Symbol,Any}(:className => \"interact-flex-row-center\")), Node{WebIO.DOM}(WebIO.DOM(:html, :div), Any[Node{WebIO.DOM}(WebIO.DOM(:html, :p), Any[], Dict{Symbol,Any}(:attributes => Dict(\"data-bind\" => \"text: formatted_val\")))], Dict{Symbol,Any}(:className => \"interact-flex-row-right\"))], Dict{Symbol,Any}(:className => \"interact-flex-row interact-widget\")), Dict{String,Tuple{Observables.AbstractObservable,Union{Nothing, Bool}}}(\"changes\" => (Observable{Int64} with 1 listeners. Value:\n",
       "0, nothing),\"index\" => (Observable{Int64} with 2 listeners. Value:\n",
       "10, nothing)), Set(String[]), nothing, Asset[Asset(\"js\", \"knockout\", \"/Users/justinclark/.juliapro/JuliaPro_v1.2.0-1/packages/Knockout/1sDlc/src/../assets/knockout.js\"), Asset(\"js\", \"knockout_punches\", \"/Users/justinclark/.juliapro/JuliaPro_v1.2.0-1/packages/Knockout/1sDlc/src/../assets/knockout_punches.js\"), Asset(\"js\", nothing, \"/Users/justinclark/.juliapro/JuliaPro_v1.2.0-1/packages/InteractBase/9mFwe/src/../assets/all.js\"), Asset(\"css\", nothing, \"/Users/justinclark/.juliapro/JuliaPro_v1.2.0-1/packages/InteractBase/9mFwe/src/../assets/style.css\"), Asset(\"css\", nothing, \"/Users/justinclark/.juliapro/JuliaPro_v1.2.0-1/packages/Interact/SbgIk/src/../assets/bulma_confined.min.css\")], Dict{Any,Any}(\"changes\" => Any[WebIO.JSString(\"(function (val){return (val!=this.model[\\\"changes\\\"]()) ? (this.valueFromJulia[\\\"changes\\\"]=true, this.model[\\\"changes\\\"](val)) : undefined})\")],\"index\" => Any[WebIO.JSString(\"(function (val){return (val!=this.model[\\\"index\\\"]()) ? (this.valueFromJulia[\\\"index\\\"]=true, this.model[\\\"index\\\"](val)) : undefined})\")]), WebIO.ConnectionPool(Channel{Any}(sz_max:32,sz_curr:0), Set(AbstractConnection[]), Channel{AbstractConnection}(sz_max:32,sz_curr:0)), WebIO.JSString[WebIO.JSString(\"function () {\\n    var handler = (function (ko, koPunches) {\\n    ko.punches.enableAll();\\n    ko.bindingHandlers.numericValue = {\\n        init: function(element, valueAccessor, allBindings, data, context) {\\n            var stringified = ko.observable(ko.unwrap(valueAccessor()));\\n            stringified.subscribe(function(value) {\\n                var val = parseFloat(value);\\n                if (!isNaN(val)) {\\n                    valueAccessor()(val);\\n                }\\n            });\\n            valueAccessor().subscribe(function(value) {\\n                var str = JSON.stringify(value);\\n                if ((str == \\\"0\\\") && ([\\\"-0\\\", \\\"-0.\\\"].indexOf(stringified()) >= 0))\\n                     return;\\n                 if ([\\\"null\\\", \\\"\\\"].indexOf(str) >= 0)\\n                     return;\\n                stringified(str);\\n            });\\n            ko.applyBindingsToNode(\\n                element,\\n                {\\n                    value: stringified,\\n                    valueUpdate: allBindings.get('valueUpdate'),\\n                },\\n                context,\\n            );\\n        }\\n    };\\n    var json_data = {\\\"formatted_vals\\\":[\\\"1\\\",\\\"2\\\",\\\"3\\\",\\\"4\\\",\\\"5\\\",\\\"6\\\",\\\"7\\\",\\\"8\\\",\\\"9\\\",\\\"10\\\",\\\"11\\\",\\\"12\\\",\\\"13\\\",\\\"14\\\",\\\"15\\\",\\\"16\\\",\\\"17\\\",\\\"18\\\",\\\"19\\\",\\\"20\\\"],\\\"changes\\\":WebIO.getval({\\\"name\\\":\\\"changes\\\",\\\"scope\\\":\\\"7425640804122437051\\\",\\\"id\\\":\\\"ob_20\\\",\\\"type\\\":\\\"observable\\\"}),\\\"index\\\":WebIO.getval({\\\"name\\\":\\\"index\\\",\\\"scope\\\":\\\"7425640804122437051\\\",\\\"id\\\":\\\"ob_19\\\",\\\"type\\\":\\\"observable\\\"})};\\n    var self = this;\\n    function AppViewModel() {\\n        for (var key in json_data) {\\n            var el = json_data[key];\\n            this[key] = Array.isArray(el) ? ko.observableArray(el) : ko.observable(el);\\n        }\\n        \\n        [this[\\\"formatted_val\\\"]=ko.computed(    function(){\\n        return this.formatted_vals()[parseInt(this.index())-(1)];\\n    }\\n,this)]\\n        [this[\\\"changes\\\"].subscribe((function (val){!(this.valueFromJulia[\\\"changes\\\"]) ? (WebIO.setval({\\\"name\\\":\\\"changes\\\",\\\"scope\\\":\\\"7425640804122437051\\\",\\\"id\\\":\\\"ob_20\\\",\\\"type\\\":\\\"observable\\\"},val)) : undefined; return this.valueFromJulia[\\\"changes\\\"]=false}),self),this[\\\"index\\\"].subscribe((function (val){!(this.valueFromJulia[\\\"index\\\"]) ? (WebIO.setval({\\\"name\\\":\\\"index\\\",\\\"scope\\\":\\\"7425640804122437051\\\",\\\"id\\\":\\\"ob_19\\\",\\\"type\\\":\\\"observable\\\"},val)) : undefined; return this.valueFromJulia[\\\"index\\\"]=false}),self)]\\n        \\n    }\\n    self.model = new AppViewModel();\\n    self.valueFromJulia = {};\\n    for (var key in json_data) {\\n        self.valueFromJulia[key] = false;\\n    }\\n    ko.applyBindings(self.model, self.dom);\\n}\\n);\\n    (WebIO.importBlock({\\\"data\\\":[{\\\"name\\\":\\\"knockout\\\",\\\"type\\\":\\\"js\\\",\\\"url\\\":\\\"/assetserver/857af7cfa2c6302c47ba8e724856b27ae83296c0-knockout.js\\\"},{\\\"name\\\":\\\"knockout_punches\\\",\\\"type\\\":\\\"js\\\",\\\"url\\\":\\\"/assetserver/9ef95fa5c842f59587f36d7893fc9857da6f7c7a-knockout_punches.js\\\"}],\\\"type\\\":\\\"async_block\\\"})).then((imports) => handler.apply(this, imports));\\n}\\n\")])], Dict{Symbol,Any}(:className => \"field interact-widget\")), Observable{Any} with 0 listeners. Value:\n",
       "Node{WebIO.DOM}(WebIO.DOM(:html, :div), Any[Plot{Plots.PyPlotBackend() n=1}], Dict{Symbol,Any}(:className => \"interact-flex-row interact-widget\"))], Dict{Symbol,Any}())"
      ]
     },
     "execution_count": 92,
     "metadata": {
      "application/vnd.webio.node+json": {
       "kernelId": "6cbaf82c-84ad-4b44-bac2-8ff9cb3b49c9"
      }
     },
     "output_type": "execute_result"
    }
   ],
   "source": [
    "belief = [0.35, 0.1, 0.2, 0.3, 0, 0, 0, 0, 0, 0.05]\n",
    "beliefs = []\n",
    "\n",
    "for _ in 1:20\n",
    "    belief = perfect_predict(belief, 1)\n",
    "    push!(beliefs, belief)\n",
    "end\n",
    "\n",
    "@manipulate throttle = 1 for time_step in 1:20\n",
    "        bar(beliefs[time_step])\n",
    "end"
   ]
  },
  {
   "cell_type": "markdown",
   "metadata": {},
   "source": [
    "## Terminology\n",
    "\n",
    "Let's pause a moment to review terminology. I introduced this terminology in the last chapter, but let's take a second to help solidify your knowledge. \n",
    "\n",
    "The *system* is what we are trying to model or filter. Here the system is our dog. The *state* is its current configuration or value. In this chapter the state is our dog's position. We rarely know the actual state, so we say our filters produce the *estimated state* of the system. In practice this often gets called the state, so be careful to understand the context.\n",
    " \n",
    "One cycle of prediction and updating with a measurement is called the state or system *evolution*, which is short for *time evolution* [7]. Another term is *system propagation*. It refers to how the state of the system changes over time. For filters, time is usually a discrete step, such as 1 second. For our dog tracker the system state is the position of the dog, and the state evolution is the position after a discrete amount of time has passed.\n",
    "\n",
    "We model the system behavior with the *process model*. Here, our process model is that the dog moves one or more positions at each time step. This is not a particularly accurate model of how dogs behave. The error in the model is called the *system error* or *process error*. \n",
    "\n",
    "The prediction is our new *prior*. Time has moved forward and we made a prediction without benefit of knowing the measurements. \n",
    "\n",
    "Let's work an example. The current position of the dog is 17 m. Our epoch is 2 seconds long, and the dog is traveling at 15 m/s. Where do we predict he will be in two seconds? \n",
    "\n",
    "Clearly,\n",
    "\n",
    "$$ \\begin{aligned}\n",
    "\\bar x &= 17 + (15*2) \\\\\n",
    "&= 47\n",
    "\\end{aligned}$$\n",
    "\n",
    "I use bars over variables to indicate that they are priors (predictions). We can write the equation for the process model like this:\n",
    "\n",
    "$$ \\bar x_{k+1} = f_x(\\bullet) + x_k$$\n",
    "\n",
    "$x_k$ is the current position or state. If the dog is at 17 m then $x_k = 17$.\n",
    "\n",
    "$f_x(\\bullet)$ is the state propagation function for x. It describes how much the $x_k$ changes over one time step. For our example it performs the computation $15 \\cdot 2$ so we would define it as \n",
    "\n",
    "$$f_x(v_x, t) = v_k t$$."
   ]
  },
  {
   "cell_type": "markdown",
   "metadata": {},
   "source": [
    "## Adding Uncertainty to the Prediction\n",
    "\n",
    "`perfect_predict()` assumes perfect measurements, but all sensors have noise. What if the sensor reported that our dog moved one space, but he actually moved two spaces, or zero? This may sound like an insurmountable problem, but let's model it and see what happens.\n",
    "\n",
    "Assume that the sensor's movement measurement is 80% likely to be correct, 10% likely to overshoot one position to the right, and 10% likely to undershoot to the left. That is, if the movement measurement is 4 (meaning 4 spaces to the right), the dog is 80% likely to have moved 4 spaces to the right, 10% to have moved 3 spaces, and 10% to have moved 5 spaces.\n",
    "\n",
    "Each result in the array now needs to incorporate probabilities for 3 different situations. For example, consider the reported movement of 2. If we are 100% certain the dog started from position 3, then there is an 80% chance he is at 5, and a 10% chance for either 4 or 6. Let's try coding that:"
   ]
  },
  {
   "cell_type": "code",
   "execution_count": 93,
   "metadata": {},
   "outputs": [
    {
     "data": {
      "image/png": "[encoded data removed]"
     },
     "execution_count": 93,
     "metadata": {},
     "output_type": "execute_result"
    }
   ],
   "source": [
    "function predict_move(belief, move, p_under, p_correct, p_over)\n",
    "    n = length(belief)\n",
    "    prior = zeros(n)\n",
    "    for i in 1:n\n",
    "        prior[i] = (belief[mod1(i-move,n)] * p_correct +\n",
    "                   belief[mod1(i-move-1,n)]*p_over +\n",
    "                   belief[mod1(i-move+1,n)]*p_under)\n",
    "    end\n",
    "    return prior\n",
    "end\n",
    "belief = [0.0, 0.0, 0.0, 1.0, 0.0, 0.0, 0.0, 0.0, 0.0, 0.0]\n",
    "prior = predict_move(belief, 2, 0.1, 0.8, 0.1)\n",
    "plt1 = bar(belief, title=\"Belief\",leg=false)\n",
    "plt2 = bar(prior, title=\"Prior\",leg=false, ylim=[0,1])\n",
    "plot(plt1,plt2)"
   ]
  },
  {
   "cell_type": "code",
   "execution_count": 94,
   "metadata": {},
   "outputs": [
    {
     "data": {
      "image/png": "[encoded data removed]"
     },
     "execution_count": 94,
     "metadata": {},
     "output_type": "execute_result"
    }
   ],
   "source": [
    "belief = [0.0, 0.0, 0.4, 0.6, 0.0, 0.0, 0.0, 0.0, 0.0, 0.0]\n",
    "prior = predict_move(belief, 2, 0.1, 0.8, 0.1)\n",
    "plt1 = bar(belief, title=\"Belief\",leg=false)\n",
    "plt2 = bar(prior, title=\"Prior\",leg=false, ylim=[0,1])\n",
    "plot(plt1,plt2)"
   ]
  },
  {
   "cell_type": "markdown",
   "metadata": {},
   "source": [
    "Here the results are more complicated, but you should still be able to work it out in your head. The 0.04 is due to the possibility that the 0.4 belief undershot by 1. The 0.38 is due to the following: the 80% chance that we moved 2 positions (0.4 $\\times$ 0.8) and the 10% chance that we undershot (0.6 $\\times$ 0.1). Overshooting plays no role here because if we overshot both 0.4 and 0.6 would be past this position. **I strongly suggest working some examples until all of this is very clear, as so much of what follows depends on understanding this step.**\n",
    "\n",
    "If you look at the probabilities after performing the update you might be dismayed. In the example above we started with probabilities of 0.4 and 0.6 in two positions; after performing the update the probabilities are not only lowered, but they are strewn out across the map.\n",
    "\n",
    "This is not a coincidence, or the result of a carefully chosen example - it is always true of the prediction. If the sensor is noisy we lose some information on every prediction. Suppose we were to perform the prediction an infinite number of times - what would the result be? If we lose information on every step, we must eventually end up with no information at all, and our probabilities will be equally distributed across the `belief` array. Let's try this with 100 iterations. The plot is animated; use the slider to change the step number."
   ]
  },
  {
   "cell_type": "code",
   "execution_count": 95,
   "metadata": {},
   "outputs": [
    {
     "name": "stdout",
     "output_type": "stream",
     "text": [
      "[1.0, 0.0, 0.0, 0.0, 0.0, 0.0, 0.0, 0.0, 0.0, 0.0]\n",
      "Final Belief: [0.10407069117568402, 0.10329322360073037, 0.10125783507283201, 0.09874205250864139, 0.09670681933932739, 0.09592944778125935, 0.09670681933932739, 0.0987420525086414, 0.10125783507283202, 0.10329322360073039]\n"
     ]
    },
    {
     "data": {
      "application/vnd.webio.node+json": {
       "children": [
        {
         "children": [
          {
           "children": [
            {
             "children": [
              {
               "children": [
                {
                 "children": [
                  "Step Number"
                 ],
                 "instanceArgs": {
                  "namespace": "html",
                  "tag": "label"
                 },
                 "nodeType": "DOM",
                 "props": {
                  "className": "interact ",
                  "style": {
                   "padding": "5px 10px 0px 10px"
                  }
                 },
                 "type": "node"
                }
               ],
               "instanceArgs": {
                "namespace": "html",
                "tag": "div"
               },
               "nodeType": "DOM",
               "props": {
                "className": "interact-flex-row-left"
               },
               "type": "node"
              },
              {
               "children": [
                {
                 "children": [],
                 "instanceArgs": {
                  "namespace": "html",
                  "tag": "input"
                 },
                 "nodeType": "DOM",
                 "props": {
                  "attributes": {
                   "data-bind": "numericValue: index, valueUpdate: 'input', event: {change: function (){this.changes(this.changes()+1)}}",
                   "orient": "horizontal",
                   "type": "range"
                  },
                  "className": "slider slider is-fullwidth",
                  "max": 100,
                  "min": 1,
                  "step": 1,
                  "style": {}
                 },
                 "type": "node"
                }
               ],
               "instanceArgs": {
                "namespace": "html",
                "tag": "div"
               },
               "nodeType": "DOM",
               "props": {
                "className": "interact-flex-row-center"
               },
               "type": "node"
              },
              {
               "children": [
                {
                 "children": [],
                 "instanceArgs": {
                  "namespace": "html",
                  "tag": "p"
                 },
                 "nodeType": "DOM",
                 "props": {
                  "attributes": {
                   "data-bind": "text: formatted_val"
                  }
                 },
                 "type": "node"
                }
               ],
               "instanceArgs": {
                "namespace": "html",
                "tag": "div"
               },
               "nodeType": "DOM",
               "props": {
                "className": "interact-flex-row-right"
               },
               "type": "node"
              }
             ],
             "instanceArgs": {
              "namespace": "html",
              "tag": "div"
             },
             "nodeType": "DOM",
             "props": {
              "className": "interact-flex-row interact-widget"
             },
             "type": "node"
            }
           ],
           "instanceArgs": {
            "handlers": {
             "changes": [
              "(function (val){return (val!=this.model[\"changes\"]()) ? (this.valueFromJulia[\"changes\"]=true, this.model[\"changes\"](val)) : undefined})"
             ],
             "index": [
              "(function (val){return (val!=this.model[\"index\"]()) ? (this.valueFromJulia[\"index\"]=true, this.model[\"index\"](val)) : undefined})"
             ]
            },
            "id": "6391387851514889497",
            "imports": {
             "data": [
              {
               "name": "knockout",
               "type": "js",
               "url": "/assetserver/857af7cfa2c6302c47ba8e724856b27ae83296c0-knockout.js"
              },
              {
               "name": "knockout_punches",
               "type": "js",
               "url": "/assetserver/9ef95fa5c842f59587f36d7893fc9857da6f7c7a-knockout_punches.js"
              },
              {
               "name": null,
               "type": "js",
               "url": "/assetserver/eeb343794b2b4f0b3b4e5d24cd3b6e1de3a20b0d-all.js"
              },
              {
               "name": null,
               "type": "css",
               "url": "/assetserver/21e3a368ed5f0102a794036e8bb6dbdd4cd39ca9-style.css"
              },
              {
               "name": null,
               "type": "css",
               "url": "/assetserver/c50c206481b6c9f223fa1428e62bdbe7270ed1f5-bulma_confined.min.css"
              }
             ],
             "type": "async_block"
            },
            "mount_callbacks": [
             "function () {\n    var handler = (function (ko, koPunches) {\n    ko.punches.enableAll();\n    ko.bindingHandlers.numericValue = {\n        init: function(element, valueAccessor, allBindings, data, context) {\n            var stringified = ko.observable(ko.unwrap(valueAccessor()));\n            stringified.subscribe(function(value) {\n                var val = parseFloat(value);\n                if (!isNaN(val)) {\n                    valueAccessor()(val);\n                }\n            });\n            valueAccessor().subscribe(function(value) {\n                var str = JSON.stringify(value);\n                if ((str == \"0\") && ([\"-0\", \"-0.\"].indexOf(stringified()) >= 0))\n                     return;\n                 if ([\"null\", \"\"].indexOf(str) >= 0)\n                     return;\n                stringified(str);\n            });\n            ko.applyBindingsToNode(\n                element,\n                {\n                    value: stringified,\n                    valueUpdate: allBindings.get('valueUpdate'),\n                },\n                context,\n            );\n        }\n    };\n    var json_data = {\"formatted_vals\":[\"1\",\"2\",\"3\",\"4\",\"5\",\"6\",\"7\",\"8\",\"9\",\"10\",\"11\",\"12\",\"13\",\"14\",\"15\",\"16\",\"17\",\"18\",\"19\",\"20\",\"21\",\"22\",\"23\",\"24\",\"25\",\"26\",\"27\",\"28\",\"29\",\"30\",\"31\",\"32\",\"33\",\"34\",\"35\",\"36\",\"37\",\"38\",\"39\",\"40\",\"41\",\"42\",\"43\",\"44\",\"45\",\"46\",\"47\",\"48\",\"49\",\"50\",\"51\",\"52\",\"53\",\"54\",\"55\",\"56\",\"57\",\"58\",\"59\",\"60\",\"61\",\"62\",\"63\",\"64\",\"65\",\"66\",\"67\",\"68\",\"69\",\"70\",\"71\",\"72\",\"73\",\"74\",\"75\",\"76\",\"77\",\"78\",\"79\",\"80\",\"81\",\"82\",\"83\",\"84\",\"85\",\"86\",\"87\",\"88\",\"89\",\"90\",\"91\",\"92\",\"93\",\"94\",\"95\",\"96\",\"97\",\"98\",\"99\",\"100\"],\"changes\":WebIO.getval({\"name\":\"changes\",\"scope\":\"6391387851514889497\",\"id\":\"ob_30\",\"type\":\"observable\"}),\"index\":WebIO.getval({\"name\":\"index\",\"scope\":\"6391387851514889497\",\"id\":\"ob_29\",\"type\":\"observable\"})};\n    var self = this;\n    function AppViewModel() {\n        for (var key in json_data) {\n            var el = json_data[key];\n            this[key] = Array.isArray(el) ? ko.observableArray(el) : ko.observable(el);\n        }\n        \n        [this[\"formatted_val\"]=ko.computed(    function(){\n        return this.formatted_vals()[parseInt(this.index())-(1)];\n    }\n,this)]\n        [this[\"changes\"].subscribe((function (val){!(this.valueFromJulia[\"changes\"]) ? (WebIO.setval({\"name\":\"changes\",\"scope\":\"6391387851514889497\",\"id\":\"ob_30\",\"type\":\"observable\"},val)) : undefined; return this.valueFromJulia[\"changes\"]=false}),self),this[\"index\"].subscribe((function (val){!(this.valueFromJulia[\"index\"]) ? (WebIO.setval({\"name\":\"index\",\"scope\":\"6391387851514889497\",\"id\":\"ob_29\",\"type\":\"observable\"},val)) : undefined; return this.valueFromJulia[\"index\"]=false}),self)]\n        \n    }\n    self.model = new AppViewModel();\n    self.valueFromJulia = {};\n    for (var key in json_data) {\n        self.valueFromJulia[key] = false;\n    }\n    ko.applyBindings(self.model, self.dom);\n}\n);\n    (WebIO.importBlock({\"data\":[{\"name\":\"knockout\",\"type\":\"js\",\"url\":\"/assetserver/857af7cfa2c6302c47ba8e724856b27ae83296c0-knockout.js\"},{\"name\":\"knockout_punches\",\"type\":\"js\",\"url\":\"/assetserver/9ef95fa5c842f59587f36d7893fc9857da6f7c7a-knockout_punches.js\"}],\"type\":\"async_block\"})).then((imports) => handler.apply(this, imports));\n}\n"
            ],
            "observables": {
             "changes": {
              "id": "ob_30",
              "sync": false,
              "value": 0
             },
             "index": {
              "id": "ob_29",
              "sync": true,
              "value": 1
             }
            },
            "systemjs_options": null
           },
           "nodeType": "Scope",
           "props": {},
           "type": "node"
          }
         ],
         "instanceArgs": {
          "namespace": "html",
          "tag": "div"
         },
         "nodeType": "DOM",
         "props": {
          "className": "field interact-widget"
         },
         "type": "node"
        },
        {
         "children": [
          {
           "children": [],
           "instanceArgs": {
            "id": "ob_36",
            "name": "obs-node"
           },
           "nodeType": "ObservableNode",
           "props": {},
           "type": "node"
          }
         ],
         "instanceArgs": {
          "handlers": {},
          "id": "9647066528274868692",
          "imports": {
           "data": [],
           "type": "async_block"
          },
          "mount_callbacks": [],
          "observables": {
           "obs-node": {
            "id": "ob_36",
            "sync": false,
            "value": {
             "children": [
              {
               "children": [],
               "instanceArgs": {
                "namespace": "html",
                "tag": "div"
               },
               "nodeType": "DOM",
               "props": {
                "setInnerHtml": "<img src=\"data:image/png;base64,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\" />"
               },
               "type": "node"
              }
             ],
             "instanceArgs": {
              "namespace": "html",
              "tag": "div"
             },
             "nodeType": "DOM",
             "props": {
              "className": "interact-flex-row interact-widget"
             },
             "type": "node"
            }
           }
          },
          "systemjs_options": null
         },
         "nodeType": "Scope",
         "props": {},
         "type": "node"
        }
       ],
       "instanceArgs": {
        "namespace": "html",
        "tag": "div"
       },
       "nodeType": "DOM",
       "props": {},
       "type": "node"
      },
      "text/html": [
       "<div\n",
       "    class=\"webio-mountpoint\"\n",
       "    data-webio-mountpoint=\"1065803124289749098\"\n",
       ">\n",
       "    <script>\n",
       "    if (window.require && require.defined && require.defined(\"nbextensions/webio/main\")) {\n",
       "        console.log(\"Jupyter WebIO extension detected, not mounting.\");\n",
       "    } else if (window.WebIO) {\n",
       "        WebIO.mount(\n",
       "            document.querySelector('[data-webio-mountpoint=\"1065803124289749098\"]'),\n",
       "            {\"props\":{},\"nodeType\":\"DOM\",\"type\":\"node\",\"instanceArgs\":{\"namespace\":\"html\",\"tag\":\"div\"},\"children\":[{\"props\":{\"className\":\"field interact-widget\"},\"nodeType\":\"DOM\",\"type\":\"node\",\"instanceArgs\":{\"namespace\":\"html\",\"tag\":\"div\"},\"children\":[{\"props\":{},\"nodeType\":\"Scope\",\"type\":\"node\",\"instanceArgs\":{\"imports\":{\"data\":[{\"name\":\"knockout\",\"type\":\"js\",\"url\":\"\\/assetserver\\/857af7cfa2c6302c47ba8e724856b27ae83296c0-knockout.js\"},{\"name\":\"knockout_punches\",\"type\":\"js\",\"url\":\"\\/assetserver\\/9ef95fa5c842f59587f36d7893fc9857da6f7c7a-knockout_punches.js\"},{\"name\":null,\"type\":\"js\",\"url\":\"\\/assetserver\\/eeb343794b2b4f0b3b4e5d24cd3b6e1de3a20b0d-all.js\"},{\"name\":null,\"type\":\"css\",\"url\":\"\\/assetserver\\/21e3a368ed5f0102a794036e8bb6dbdd4cd39ca9-style.css\"},{\"name\":null,\"type\":\"css\",\"url\":\"\\/assetserver\\/c50c206481b6c9f223fa1428e62bdbe7270ed1f5-bulma_confined.min.css\"}],\"type\":\"async_block\"},\"id\":\"6391387851514889497\",\"handlers\":{\"changes\":[\"(function (val){return (val!=this.model[\\\"changes\\\"]()) ? (this.valueFromJulia[\\\"changes\\\"]=true, this.model[\\\"changes\\\"](val)) : undefined})\"],\"index\":[\"(function (val){return (val!=this.model[\\\"index\\\"]()) ? (this.valueFromJulia[\\\"index\\\"]=true, this.model[\\\"index\\\"](val)) : undefined})\"]},\"systemjs_options\":null,\"mount_callbacks\":[\"function () {\\n    var handler = (function (ko, koPunches) {\\n    ko.punches.enableAll();\\n    ko.bindingHandlers.numericValue = {\\n        init: function(element, valueAccessor, allBindings, data, context) {\\n            var stringified = ko.observable(ko.unwrap(valueAccessor()));\\n            stringified.subscribe(function(value) {\\n                var val = parseFloat(value);\\n                if (!isNaN(val)) {\\n                    valueAccessor()(val);\\n                }\\n            });\\n            valueAccessor().subscribe(function(value) {\\n                var str = JSON.stringify(value);\\n                if ((str == \\\"0\\\") && ([\\\"-0\\\", \\\"-0.\\\"].indexOf(stringified()) >= 0))\\n                     return;\\n                 if ([\\\"null\\\", \\\"\\\"].indexOf(str) >= 0)\\n                     return;\\n                stringified(str);\\n            });\\n            ko.applyBindingsToNode(\\n                element,\\n                {\\n                    value: stringified,\\n                    valueUpdate: allBindings.get('valueUpdate'),\\n                },\\n                context,\\n            );\\n        }\\n    };\\n    var json_data = {\\\"formatted_vals\\\":[\\\"1\\\",\\\"2\\\",\\\"3\\\",\\\"4\\\",\\\"5\\\",\\\"6\\\",\\\"7\\\",\\\"8\\\",\\\"9\\\",\\\"10\\\",\\\"11\\\",\\\"12\\\",\\\"13\\\",\\\"14\\\",\\\"15\\\",\\\"16\\\",\\\"17\\\",\\\"18\\\",\\\"19\\\",\\\"20\\\",\\\"21\\\",\\\"22\\\",\\\"23\\\",\\\"24\\\",\\\"25\\\",\\\"26\\\",\\\"27\\\",\\\"28\\\",\\\"29\\\",\\\"30\\\",\\\"31\\\",\\\"32\\\",\\\"33\\\",\\\"34\\\",\\\"35\\\",\\\"36\\\",\\\"37\\\",\\\"38\\\",\\\"39\\\",\\\"40\\\",\\\"41\\\",\\\"42\\\",\\\"43\\\",\\\"44\\\",\\\"45\\\",\\\"46\\\",\\\"47\\\",\\\"48\\\",\\\"49\\\",\\\"50\\\",\\\"51\\\",\\\"52\\\",\\\"53\\\",\\\"54\\\",\\\"55\\\",\\\"56\\\",\\\"57\\\",\\\"58\\\",\\\"59\\\",\\\"60\\\",\\\"61\\\",\\\"62\\\",\\\"63\\\",\\\"64\\\",\\\"65\\\",\\\"66\\\",\\\"67\\\",\\\"68\\\",\\\"69\\\",\\\"70\\\",\\\"71\\\",\\\"72\\\",\\\"73\\\",\\\"74\\\",\\\"75\\\",\\\"76\\\",\\\"77\\\",\\\"78\\\",\\\"79\\\",\\\"80\\\",\\\"81\\\",\\\"82\\\",\\\"83\\\",\\\"84\\\",\\\"85\\\",\\\"86\\\",\\\"87\\\",\\\"88\\\",\\\"89\\\",\\\"90\\\",\\\"91\\\",\\\"92\\\",\\\"93\\\",\\\"94\\\",\\\"95\\\",\\\"96\\\",\\\"97\\\",\\\"98\\\",\\\"99\\\",\\\"100\\\"],\\\"changes\\\":WebIO.getval({\\\"name\\\":\\\"changes\\\",\\\"scope\\\":\\\"6391387851514889497\\\",\\\"id\\\":\\\"ob_30\\\",\\\"type\\\":\\\"observable\\\"}),\\\"index\\\":WebIO.getval({\\\"name\\\":\\\"index\\\",\\\"scope\\\":\\\"6391387851514889497\\\",\\\"id\\\":\\\"ob_29\\\",\\\"type\\\":\\\"observable\\\"})};\\n    var self = this;\\n    function AppViewModel() {\\n        for (var key in json_data) {\\n            var el = json_data[key];\\n            this[key] = Array.isArray(el) ? ko.observableArray(el) : ko.observable(el);\\n        }\\n        \\n        [this[\\\"formatted_val\\\"]=ko.computed(    function(){\\n        return this.formatted_vals()[parseInt(this.index())-(1)];\\n    }\\n,this)]\\n        [this[\\\"changes\\\"].subscribe((function (val){!(this.valueFromJulia[\\\"changes\\\"]) ? (WebIO.setval({\\\"name\\\":\\\"changes\\\",\\\"scope\\\":\\\"6391387851514889497\\\",\\\"id\\\":\\\"ob_30\\\",\\\"type\\\":\\\"observable\\\"},val)) : undefined; return this.valueFromJulia[\\\"changes\\\"]=false}),self),this[\\\"index\\\"].subscribe((function (val){!(this.valueFromJulia[\\\"index\\\"]) ? (WebIO.setval({\\\"name\\\":\\\"index\\\",\\\"scope\\\":\\\"6391387851514889497\\\",\\\"id\\\":\\\"ob_29\\\",\\\"type\\\":\\\"observable\\\"},val)) : undefined; return this.valueFromJulia[\\\"index\\\"]=false}),self)]\\n        \\n    }\\n    self.model = new AppViewModel();\\n    self.valueFromJulia = {};\\n    for (var key in json_data) {\\n        self.valueFromJulia[key] = false;\\n    }\\n    ko.applyBindings(self.model, self.dom);\\n}\\n);\\n    (WebIO.importBlock({\\\"data\\\":[{\\\"name\\\":\\\"knockout\\\",\\\"type\\\":\\\"js\\\",\\\"url\\\":\\\"\\/assetserver\\/857af7cfa2c6302c47ba8e724856b27ae83296c0-knockout.js\\\"},{\\\"name\\\":\\\"knockout_punches\\\",\\\"type\\\":\\\"js\\\",\\\"url\\\":\\\"\\/assetserver\\/9ef95fa5c842f59587f36d7893fc9857da6f7c7a-knockout_punches.js\\\"}],\\\"type\\\":\\\"async_block\\\"})).then((imports) => handler.apply(this, imports));\\n}\\n\"],\"observables\":{\"changes\":{\"sync\":false,\"id\":\"ob_30\",\"value\":0},\"index\":{\"sync\":true,\"id\":\"ob_29\",\"value\":1}}},\"children\":[{\"props\":{\"className\":\"interact-flex-row interact-widget\"},\"nodeType\":\"DOM\",\"type\":\"node\",\"instanceArgs\":{\"namespace\":\"html\",\"tag\":\"div\"},\"children\":[{\"props\":{\"className\":\"interact-flex-row-left\"},\"nodeType\":\"DOM\",\"type\":\"node\",\"instanceArgs\":{\"namespace\":\"html\",\"tag\":\"div\"},\"children\":[{\"props\":{\"className\":\"interact \",\"style\":{\"padding\":\"5px 10px 0px 10px\"}},\"nodeType\":\"DOM\",\"type\":\"node\",\"instanceArgs\":{\"namespace\":\"html\",\"tag\":\"label\"},\"children\":[\"Step Number\"]}]},{\"props\":{\"className\":\"interact-flex-row-center\"},\"nodeType\":\"DOM\",\"type\":\"node\",\"instanceArgs\":{\"namespace\":\"html\",\"tag\":\"div\"},\"children\":[{\"props\":{\"max\":100,\"min\":1,\"attributes\":{\"type\":\"range\",\"data-bind\":\"numericValue: index, valueUpdate: 'input', event: {change: function (){this.changes(this.changes()+1)}}\",\"orient\":\"horizontal\"},\"step\":1,\"className\":\"slider slider is-fullwidth\",\"style\":{}},\"nodeType\":\"DOM\",\"type\":\"node\",\"instanceArgs\":{\"namespace\":\"html\",\"tag\":\"input\"},\"children\":[]}]},{\"props\":{\"className\":\"interact-flex-row-right\"},\"nodeType\":\"DOM\",\"type\":\"node\",\"instanceArgs\":{\"namespace\":\"html\",\"tag\":\"div\"},\"children\":[{\"props\":{\"attributes\":{\"data-bind\":\"text: formatted_val\"}},\"nodeType\":\"DOM\",\"type\":\"node\",\"instanceArgs\":{\"namespace\":\"html\",\"tag\":\"p\"},\"children\":[]}]}]}]}]},{\"props\":{},\"nodeType\":\"Scope\",\"type\":\"node\",\"instanceArgs\":{\"imports\":{\"data\":[],\"type\":\"async_block\"},\"id\":\"11810835514345586307\",\"handlers\":{},\"systemjs_options\":null,\"mount_callbacks\":[],\"observables\":{\"obs-node\":{\"sync\":false,\"id\":\"ob_34\",\"value\":{\"props\":{\"className\":\"interact-flex-row interact-widget\"},\"nodeType\":\"DOM\",\"type\":\"node\",\"instanceArgs\":{\"namespace\":\"html\",\"tag\":\"div\"},\"children\":[{\"props\":{\"setInnerHtml\":\"<img src=\\\"data:image\\/png;base64,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\\\" \\/>\"},\"nodeType\":\"DOM\",\"type\":\"node\",\"instanceArgs\":{\"namespace\":\"html\",\"tag\":\"div\"},\"children\":[]}]}}}},\"children\":[{\"props\":{},\"nodeType\":\"ObservableNode\",\"type\":\"node\",\"instanceArgs\":{\"id\":\"ob_34\",\"name\":\"obs-node\"},\"children\":[]}]}]},\n",
       "            window,\n",
       "        );\n",
       "    } else {\n",
       "        document\n",
       "            .querySelector('[data-webio-mountpoint=\"1065803124289749098\"]')\n",
       "            .innerHTML = '<strong>WebIO not detected.</strong>';\n",
       "    }\n",
       "    </script>\n",
       "</div>\n"
      ],
      "text/plain": [
       "Node{WebIO.DOM}(WebIO.DOM(:html, :div), Any[Node{WebIO.DOM}(WebIO.DOM(:html, :div), Any[Scope(Node{WebIO.DOM}(WebIO.DOM(:html, :div), Any[Node{WebIO.DOM}(WebIO.DOM(:html, :div), Any[Node{WebIO.DOM}(WebIO.DOM(:html, :label), Any[\"Step Number\"], Dict{Symbol,Any}(:className => \"interact \",:style => Dict{Any,Any}(:padding => \"5px 10px 0px 10px\")))], Dict{Symbol,Any}(:className => \"interact-flex-row-left\")), Node{WebIO.DOM}(WebIO.DOM(:html, :div), Any[Node{WebIO.DOM}(WebIO.DOM(:html, :input), Any[], Dict{Symbol,Any}(:max => 100,:min => 1,:attributes => Dict{Any,Any}(:type => \"range\",Symbol(\"data-bind\") => \"numericValue: index, valueUpdate: 'input', event: {change: function (){this.changes(this.changes()+1)}}\",\"orient\" => \"horizontal\"),:step => 1,:className => \"slider slider is-fullwidth\",:style => Dict{Any,Any}()))], Dict{Symbol,Any}(:className => \"interact-flex-row-center\")), Node{WebIO.DOM}(WebIO.DOM(:html, :div), Any[Node{WebIO.DOM}(WebIO.DOM(:html, :p), Any[], Dict{Symbol,Any}(:attributes => Dict(\"data-bind\" => \"text: formatted_val\")))], Dict{Symbol,Any}(:className => \"interact-flex-row-right\"))], Dict{Symbol,Any}(:className => \"interact-flex-row interact-widget\")), Dict{String,Tuple{Observables.AbstractObservable,Union{Nothing, Bool}}}(\"changes\" => (Observable{Int64} with 1 listeners. Value:\n",
       "0, nothing),\"index\" => (Observable{Int64} with 2 listeners. Value:\n",
       "1, nothing)), Set(String[]), nothing, Asset[Asset(\"js\", \"knockout\", \"/Users/justinclark/.juliapro/JuliaPro_v1.2.0-1/packages/Knockout/1sDlc/src/../assets/knockout.js\"), Asset(\"js\", \"knockout_punches\", \"/Users/justinclark/.juliapro/JuliaPro_v1.2.0-1/packages/Knockout/1sDlc/src/../assets/knockout_punches.js\"), Asset(\"js\", nothing, \"/Users/justinclark/.juliapro/JuliaPro_v1.2.0-1/packages/InteractBase/9mFwe/src/../assets/all.js\"), Asset(\"css\", nothing, \"/Users/justinclark/.juliapro/JuliaPro_v1.2.0-1/packages/InteractBase/9mFwe/src/../assets/style.css\"), Asset(\"css\", nothing, \"/Users/justinclark/.juliapro/JuliaPro_v1.2.0-1/packages/Interact/SbgIk/src/../assets/bulma_confined.min.css\")], Dict{Any,Any}(\"changes\" => Any[WebIO.JSString(\"(function (val){return (val!=this.model[\\\"changes\\\"]()) ? (this.valueFromJulia[\\\"changes\\\"]=true, this.model[\\\"changes\\\"](val)) : undefined})\")],\"index\" => Any[WebIO.JSString(\"(function (val){return (val!=this.model[\\\"index\\\"]()) ? (this.valueFromJulia[\\\"index\\\"]=true, this.model[\\\"index\\\"](val)) : undefined})\")]), WebIO.ConnectionPool(Channel{Any}(sz_max:32,sz_curr:0), Set(AbstractConnection[]), Channel{AbstractConnection}(sz_max:32,sz_curr:0)), WebIO.JSString[WebIO.JSString(\"function () {\\n    var handler = (function (ko, koPunches) {\\n    ko.punches.enableAll();\\n    ko.bindingHandlers.numericValue = {\\n        init: function(element, valueAccessor, allBindings, data, context) {\\n            var stringified = ko.observable(ko.unwrap(valueAccessor()));\\n            stringified.subscribe(function(value) {\\n                var val = parseFloat(value);\\n                if (!isNaN(val)) {\\n                    valueAccessor()(val);\\n                }\\n            });\\n            valueAccessor().subscribe(function(value) {\\n                var str = JSON.stringify(value);\\n                if ((str == \\\"0\\\") && ([\\\"-0\\\", \\\"-0.\\\"].indexOf(stringified()) >= 0))\\n                     return;\\n                 if ([\\\"null\\\", \\\"\\\"].indexOf(str) >= 0)\\n                     return;\\n                stringified(str);\\n            });\\n            ko.applyBindingsToNode(\\n                element,\\n                {\\n                    value: stringified,\\n                    valueUpdate: allBindings.get('valueUpdate'),\\n                },\\n                context,\\n            );\\n        }\\n    };\\n    var json_data = {\\\"formatted_vals\\\":[\\\"1\\\",\\\"2\\\",\\\"3\\\",\\\"4\\\",\\\"5\\\",\\\"6\\\",\\\"7\\\",\\\"8\\\",\\\"9\\\",\\\"10\\\",\\\"11\\\",\\\"12\\\",\\\"13\\\",\\\"14\\\",\\\"15\\\",\\\"16\\\",\\\"17\\\",\\\"18\\\",\\\"19\\\",\\\"20\\\",\\\"21\\\",\\\"22\\\",\\\"23\\\",\\\"24\\\",\\\"25\\\",\\\"26\\\",\\\"27\\\",\\\"28\\\",\\\"29\\\",\\\"30\\\",\\\"31\\\",\\\"32\\\",\\\"33\\\",\\\"34\\\",\\\"35\\\",\\\"36\\\",\\\"37\\\",\\\"38\\\",\\\"39\\\",\\\"40\\\",\\\"41\\\",\\\"42\\\",\\\"43\\\",\\\"44\\\",\\\"45\\\",\\\"46\\\",\\\"47\\\",\\\"48\\\",\\\"49\\\",\\\"50\\\",\\\"51\\\",\\\"52\\\",\\\"53\\\",\\\"54\\\",\\\"55\\\",\\\"56\\\",\\\"57\\\",\\\"58\\\",\\\"59\\\",\\\"60\\\",\\\"61\\\",\\\"62\\\",\\\"63\\\",\\\"64\\\",\\\"65\\\",\\\"66\\\",\\\"67\\\",\\\"68\\\",\\\"69\\\",\\\"70\\\",\\\"71\\\",\\\"72\\\",\\\"73\\\",\\\"74\\\",\\\"75\\\",\\\"76\\\",\\\"77\\\",\\\"78\\\",\\\"79\\\",\\\"80\\\",\\\"81\\\",\\\"82\\\",\\\"83\\\",\\\"84\\\",\\\"85\\\",\\\"86\\\",\\\"87\\\",\\\"88\\\",\\\"89\\\",\\\"90\\\",\\\"91\\\",\\\"92\\\",\\\"93\\\",\\\"94\\\",\\\"95\\\",\\\"96\\\",\\\"97\\\",\\\"98\\\",\\\"99\\\",\\\"100\\\"],\\\"changes\\\":WebIO.getval({\\\"name\\\":\\\"changes\\\",\\\"scope\\\":\\\"6391387851514889497\\\",\\\"id\\\":\\\"ob_30\\\",\\\"type\\\":\\\"observable\\\"}),\\\"index\\\":WebIO.getval({\\\"name\\\":\\\"index\\\",\\\"scope\\\":\\\"6391387851514889497\\\",\\\"id\\\":\\\"ob_29\\\",\\\"type\\\":\\\"observable\\\"})};\\n    var self = this;\\n    function AppViewModel() {\\n        for (var key in json_data) {\\n            var el = json_data[key];\\n            this[key] = Array.isArray(el) ? ko.observableArray(el) : ko.observable(el);\\n        }\\n        \\n        [this[\\\"formatted_val\\\"]=ko.computed(    function(){\\n        return this.formatted_vals()[parseInt(this.index())-(1)];\\n    }\\n,this)]\\n        [this[\\\"changes\\\"].subscribe((function (val){!(this.valueFromJulia[\\\"changes\\\"]) ? (WebIO.setval({\\\"name\\\":\\\"changes\\\",\\\"scope\\\":\\\"6391387851514889497\\\",\\\"id\\\":\\\"ob_30\\\",\\\"type\\\":\\\"observable\\\"},val)) : undefined; return this.valueFromJulia[\\\"changes\\\"]=false}),self),this[\\\"index\\\"].subscribe((function (val){!(this.valueFromJulia[\\\"index\\\"]) ? (WebIO.setval({\\\"name\\\":\\\"index\\\",\\\"scope\\\":\\\"6391387851514889497\\\",\\\"id\\\":\\\"ob_29\\\",\\\"type\\\":\\\"observable\\\"},val)) : undefined; return this.valueFromJulia[\\\"index\\\"]=false}),self)]\\n        \\n    }\\n    self.model = new AppViewModel();\\n    self.valueFromJulia = {};\\n    for (var key in json_data) {\\n        self.valueFromJulia[key] = false;\\n    }\\n    ko.applyBindings(self.model, self.dom);\\n}\\n);\\n    (WebIO.importBlock({\\\"data\\\":[{\\\"name\\\":\\\"knockout\\\",\\\"type\\\":\\\"js\\\",\\\"url\\\":\\\"/assetserver/857af7cfa2c6302c47ba8e724856b27ae83296c0-knockout.js\\\"},{\\\"name\\\":\\\"knockout_punches\\\",\\\"type\\\":\\\"js\\\",\\\"url\\\":\\\"/assetserver/9ef95fa5c842f59587f36d7893fc9857da6f7c7a-knockout_punches.js\\\"}],\\\"type\\\":\\\"async_block\\\"})).then((imports) => handler.apply(this, imports));\\n}\\n\")])], Dict{Symbol,Any}(:className => \"field interact-widget\")), Observable{Any} with 0 listeners. Value:\n",
       "Node{WebIO.DOM}(WebIO.DOM(:html, :div), Any[Plot{Plots.PyPlotBackend() n=1}], Dict{Symbol,Any}(:className => \"interact-flex-row interact-widget\"))], Dict{Symbol,Any}())"
      ]
     },
     "execution_count": 95,
     "metadata": {
      "application/vnd.webio.node+json": {
       "kernelId": "6cbaf82c-84ad-4b44-bac2-8ff9cb3b49c9"
      }
     },
     "output_type": "execute_result"
    }
   ],
   "source": [
    "belief = zeros(10)\n",
    "belief[1]=1.0\n",
    "println(belief)\n",
    "beliefs = []\n",
    "\n",
    "for i in 1:100\n",
    "    belief = predict_move(belief, 1, 0.1, 0.8, 0.1)\n",
    "    push!(beliefs,belief)\n",
    "end\n",
    "println(\"Final Belief: \", belief)\n",
    "\n",
    "@manipulate for step in slider(1:length(beliefs), value=1, label=\"Step Number\")\n",
    "    bar(beliefs[step])\n",
    "end"
   ]
  },
  {
   "cell_type": "markdown",
   "metadata": {},
   "source": [
    "After 100 iterations we have lost almost all information, even though we were 100% sure that we started in position 0. Feel free to play with the numbers to see the effect of differing number of updates. For example, after 100 updates a small amount of information is left, after 50 a lot is left, but by 200 iterations essentially all information is lost."
   ]
  },
  {
   "cell_type": "markdown",
   "metadata": {},
   "source": [
    "And, if you are viewing this online here is an animation of that output.\n",
    "<img src=\"animations/02_no_info.gif\">\n",
    "\n",
    "I will not generate these standalone animations through the rest of the book. Please see the preface for instructions to run this book on the web, for free, or install IPython on your computer. This will allow you to run all of the cells and see the animations. It's very important that you practice with this code, not just read passively."
   ]
  },
  {
   "cell_type": "markdown",
   "metadata": {},
   "source": [
    "## Generalizing with Convolution\n",
    "\n",
    "We made the assumption that the movement error is at most one position. But it is possible for the error to be two, three, or more positions. As programmers we always want to generalize our code so that it works for all cases. \n",
    "\n",
    "This is easily solved with [*convolution*](https://en.wikipedia.org/wiki/Convolution). Convolution modifies one function with another function. In our case we are modifying a probability distribution with the error function of the sensor. The implementation of `predict_move()` is a convolution, though we did not call it that. Formally, convolution is defined as\n",
    "\n",
    "$$ (f \\ast g) (t) = \\int_0^t \\!f(\\tau) \\, g(t-\\tau) \\, \\mathrm{d}\\tau$$\n",
    "\n",
    "where $f\\ast g$ is the notation for convolving f by g. It does not mean multiply.\n",
    "\n",
    "Integrals are for continuous functions, but we are using discrete functions. We replace the integral with a summation, and the parenthesis with array brackets.\n",
    "\n",
    "$$ (f \\ast g) [t] = \\sum\\limits_{\\tau=0}^t \\!f[\\tau] \\, g[t-\\tau]$$\n",
    "\n",
    "Comparison shows that `predict_move()` is computing this equation - it computes the sum of a series of multiplications.\n",
    "\n",
    "[Khan Academy](https://www.khanacademy.org/math/differential-equations/laplace-transform/convolution-integral/v/introduction-to-the-convolution) [4] has a good introduction to convolution, and Wikipedia has some excellent animations of convolutions [5]. But the general idea is already clear. You slide an array called the *kernel* across another array, multiplying the neighbors of the current cell with the values of the second array. In our example above we used 0.8 for the probability of moving to the correct location, 0.1 for undershooting, and 0.1 for overshooting. We make a kernel of this with the array `[0.1, 0.8, 0.1]`. All we need to do is write a loop that goes over each element of our array, multiplying by the kernel, and summing the results. To emphasize that the belief is a probability distribution I have named it `pdf`."
   ]
  },
  {
   "cell_type": "code",
   "execution_count": 96,
   "metadata": {},
   "outputs": [
    {
     "data": {
      "text/plain": [
       "predict_move_convolution (generic function with 1 method)"
      ]
     },
     "execution_count": 96,
     "metadata": {},
     "output_type": "execute_result"
    }
   ],
   "source": [
    "function predict_move_convolution(pdf, offset, kernel)\n",
    "    N = length(pdf)\n",
    "    kN = length(kernel)\n",
    "    width = (kN - 1)÷2\n",
    "    \n",
    "    prior = zeros(N)\n",
    "    for i in 1:N\n",
    "        for k in 1:kN\n",
    "            index = mod1(i + (width-k) - offset+1,N)\n",
    "            prior[i] += pdf[index]*kernel[k]\n",
    "        end\n",
    "    end\n",
    "    return prior\n",
    "end"
   ]
  },
  {
   "cell_type": "markdown",
   "metadata": {},
   "source": [
    "This illustrates the algorithm, but it runs very slow. SciPy provides a convolution routine `convolve()` in the `ndimage.filters` module. We  need to shift the pdf by `offset` before convolution; `np.roll()` does that. The move and predict algorithm can be implemented with one line:\n",
    "\n",
    "```python\n",
    "convolve(np.roll(pdf, offset), kernel, mode='wrap')\n",
    "```\n",
    "\n",
    "FilterPy implements this with `discrete_bayes`' `predict()` function."
   ]
  },
  {
   "cell_type": "code",
   "execution_count": 97,
   "metadata": {},
   "outputs": [
    {
     "data": {
      "image/png": "[encoded data removed]"
     },
     "execution_count": 97,
     "metadata": {},
     "output_type": "execute_result"
    }
   ],
   "source": [
    "belief = [.05, .05, .05, .05, .55, .05, .05, .05, .05, .05]\n",
    "prior = predict_move_convolution(belief, 1, [0.1, 0.8, 0.1])\n",
    "plt1 = bar(belief,leg=false,xlim=[1,11],ylim=[0,.6],title=\"belief\")\n",
    "plt2 = bar(prior, leg=false,xlim=[1,11],ylim=[0,.6], title = \"prior\")\n",
    "plot(plt1,plt2)"
   ]
  },
  {
   "cell_type": "markdown",
   "metadata": {},
   "source": [
    "All of the elements are unchanged except the middle ones. The values in position 4 and 6 should be \n",
    "$$(0.1 \\times 0.05)+ (0.8 \\times 0.05) + (0.1 \\times 0.55) = 0.1$$\n",
    "\n",
    "Position 5 should be $$(0.1 \\times 0.05) + (0.8 \\times 0.55)+ (0.1 \\times 0.05) = 0.45$$\n",
    "\n",
    "Let's ensure that it shifts the positions correctly for movements greater than one and for asymmetric kernels."
   ]
  },
  {
   "cell_type": "code",
   "execution_count": 98,
   "metadata": {},
   "outputs": [
    {
     "data": {
      "image/png": "[encoded data removed]"
     },
     "execution_count": 98,
     "metadata": {},
     "output_type": "execute_result"
    }
   ],
   "source": [
    "belief = [.05, .05, .05, .05, .55, .05, .05, .05, .05, .05]\n",
    "prior = predict_move_convolution(belief, 3, [0.05,0.05,0.6,0.3,0.1])\n",
    "plt1 = bar(belief,leg=false,xlim=[0,11],ylim=[0,.6],title=\"belief\")\n",
    "plt2 = bar(prior, leg=false,xlim=[0,11],ylim=[0,.6], title = \"prior\")\n",
    "plot(plt1,plt2)"
   ]
  },
  {
   "cell_type": "markdown",
   "metadata": {},
   "source": [
    "The position was correctly shifted by 3 positions and we give more weight to the likelihood of an overshoot vs an undershoot, so this looks correct.\n",
    "\n",
    "Make sure you understand what we are doing. We are making a prediction of where the dog is moving, and convolving the probabilities to get the prior.\n",
    "\n",
    "If we weren't using probabilities we would use this equation that I gave earlier:\n",
    "\n",
    "$$ \\bar x_{k+1} = x_k + f_{\\mathbf x}(\\bullet)$$\n",
    "\n",
    "The prior, our prediction of where the dog will be, is the amount the dog moved plus his current position. The dog was at 10, he moved 5 meters, so he is now at 15 m. It couldn't be simpler. But we are using probabilities to model this, so our equation is:\n",
    "\n",
    "$$ \\bar{ \\mathbf x}_{k+1} = \\mathbf x_k \\ast f_{\\mathbf x}(\\bullet)$$\n",
    "\n",
    "We are *convolving* the current probabilistic position estimate with a probabilistic estimate of how much we think the dog moved. It's the same concept, but the math is slightly different. $\\mathbf x$ is bold to denote that it is an array of numbers. "
   ]
  },
  {
   "cell_type": "markdown",
   "metadata": {},
   "source": [
    "## Integrating Measurements and Movement Updates\n",
    "\n",
    "The problem of losing information during a prediction may make it seem as if our system would quickly devolve into having no knowledge. However, each prediction is followed by an update where we incorporate the measurement into the estimate. The update improves our knowledge. The output of the update step is fed into the next prediction. The prediction degrades our certainty. That is passed into another update, where certainty is again increased.\n",
    "\n",
    "Let's think about this intuitively. Consider a simple case - you are tracking a dog while he sits still. During each prediction you predict he doesn't move. Your filter quickly *converges* on an accurate estimate of his position. Then the microwave in the kitchen turns on, and he goes streaking off. You don't know this, so at the next prediction you predict he is in the same spot. But the measurements tell a different story. As you incorporate the measurements your belief will be smeared along the hallway, leading towards the kitchen. On every epoch (cycle) your belief that he is sitting still will get smaller, and your belief that he is inbound towards the kitchen at a startling rate of speed increases.\n",
    "\n",
    "That is what intuition tells us. What does the math tell us?\n",
    "\n",
    "We have already programmed the update and predict steps. All we need to do is feed the result of one into the other, and we will have implemented a dog tracker!!! Let's see how it performs. We will input measurements as if the dog started at position 0 and moved right one position each epoch. As in a real world application, we will start with no knowledge of his position by assigning equal probability to all positions. "
   ]
  },
  {
   "cell_type": "code",
   "execution_count": 126,
   "metadata": {
    "scrolled": true
   },
   "outputs": [
    {
     "data": {
      "image/png": "[encoded data removed]"
     },
     "execution_count": 126,
     "metadata": {},
     "output_type": "execute_result"
    }
   ],
   "source": [
    "hallway = [1, 1, 0, 0, 0, 0, 0, 0, 1, 0]\n",
    "prior = ones(10)*.1\n",
    "likelihood = lh_hallway(hallway, 1, .75)\n",
    "posterior = update(likelihood, prior)\n",
    "plt1 = bar(prior,leg=false,xlim=[0,11],ylim=[0,.6],title=\"prior\")\n",
    "plt2 = bar(posterior, leg=false,xlim=[0,11],ylim=[0,.6], title = \"posterior\")\n",
    "plot(plt1,plt2)"
   ]
  },
  {
   "cell_type": "code",
   "execution_count": 127,
   "metadata": {
    "scrolled": true
   },
   "outputs": [
    {
     "data": {
      "image/png": "[encoded data removed]"
     },
     "execution_count": 127,
     "metadata": {},
     "output_type": "execute_result"
    }
   ],
   "source": [
    "kernel = [0.1, 0.8, 0.1]\n",
    "prior = predict_move_convolution(posterior, 1, kernel)\n",
    "plt1 = bar(prior,leg=false,xlim=[0,11],ylim=[0,.6],title=\"prior\")\n",
    "plt2 = bar(posterior, leg=false,xlim=[0,11],ylim=[0,.6], title = \"posterior\")\n",
    "plot(plt2,plt1)"
   ]
  },
  {
   "cell_type": "code",
   "execution_count": 128,
   "metadata": {},
   "outputs": [
    {
     "data": {
      "image/png": "[encoded data removed]"
     },
     "execution_count": 128,
     "metadata": {},
     "output_type": "execute_result"
    }
   ],
   "source": [
    "likelihood = lh_hallway(hallway, 1, .75)\n",
    "posterior = update(likelihood, prior)\n",
    "plt1 = bar(prior,leg=false,xlim=[0,11],ylim=[0,.6],title=\"prior\")\n",
    "plt2 = bar(posterior, leg=false,xlim=[0,11],ylim=[0,.6], title = \"posterior\")\n",
    "plot(plt1,plt2)"
   ]
  },
  {
   "cell_type": "code",
   "execution_count": 129,
   "metadata": {},
   "outputs": [
    {
     "data": {
      "image/png": "[encoded data removed]"
     },
     "execution_count": 129,
     "metadata": {},
     "output_type": "execute_result"
    }
   ],
   "source": [
    "prior = predict_move_convolution(posterior, 1, kernel)\n",
    "likelihood = lh_hallway(hallway, 0, 0.75)\n",
    "posterior = update(likelihood, prior)\n",
    "plt1 = bar(prior,leg=false,xlim=[0,11],ylim=[0,.6],title=\"prior\")\n",
    "plt2 = bar(posterior, leg=false,xlim=[0,11],ylim=[0,.6], title = \"posterior\")\n",
    "plot(plt1,plt2)"
   ]
  },
  {
   "cell_type": "code",
   "execution_count": 130,
   "metadata": {},
   "outputs": [
    {
     "data": {
      "image/png": "[encoded data removed]"
     },
     "execution_count": 130,
     "metadata": {},
     "output_type": "execute_result"
    }
   ],
   "source": [
    "prior = predict_move_convolution(posterior, 1, kernel)\n",
    "likelihood = lh_hallway(hallway, 0, .75)\n",
    "posterior = update(likelihood, prior)\n",
    "\n",
    "plt1 = bar(prior,leg=false,xlim=[0,11],ylim=[0,.6],title=\"prior\")\n",
    "plt2 = bar(posterior, leg=false,xlim=[0,11],ylim=[0,.6], title = \"posterior\")\n",
    "plot(plt1,plt2)"
   ]
  },
  {
   "cell_type": "markdown",
   "metadata": {},
   "source": [
    "I ignored an important issue. Earlier I assumed that we had a motion sensor for the predict step; then, when talking about the dog and the microwave I assumed that you had no knowledge that he suddenly began running. I mentioned that your belief that the dog is running would increase over time, but I did not provide any code for this. In short, how do we detect and/or estimate changes in the process model if we aren't directly measuring it?\n",
    "\n",
    "For now I want to ignore this problem. In later chapters we will learn the mathematics behind this estimation; for now it is a large enough task just to learn this algorithm. It is profoundly important to solve this problem, but we haven't yet built enough of the mathematical apparatus that is required, and so for the remainder of the chapter we will ignore the problem by assuming we have a sensor that senses movement."
   ]
  },
  {
   "cell_type": "markdown",
   "metadata": {},
   "source": [
    "## The Discrete Bayes Algorithm\n",
    "\n",
    "This chart illustrates the algorithm:"
   ]
  },
  {
   "cell_type": "markdown",
   "metadata": {},
   "source": [
    "This filter is a form of the g-h filter. Here we are using the percentages for the errors to implicitly compute the $g$ and $h$ parameters. We could express the discrete Bayes algorithm as a g-h filter, but that would obscure the logic of this filter.\n",
    "\n",
    "The filter equations are:\n",
    "\n",
    "$$\\begin{aligned} \\bar {\\mathbf x} &= \\mathbf x \\ast f_{\\mathbf x}(\\bullet)\\, \\, &\\text{Predict Step} \\\\\n",
    "\\mathbf x &= \\|\\mathcal L \\cdot \\bar{\\mathbf x}\\|\\, \\, &\\text{Update Step}\\end{aligned}$$\n",
    "\n",
    "$\\mathcal L$ is the usual way to write the likelihood function, so I use that. The $\\|\\|$ notation denotes taking the norm. We need to normalize the product of the likelihood with the prior to ensure $x$ is a probability distribution that sums to one.\n",
    "\n",
    "We can express this in pseudocode.\n",
    "\n",
    "**Initialization**\n",
    "\n",
    "    1. Initialize our belief in the state\n",
    "    \n",
    "**Predict**\n",
    "\n",
    "    1. Based on the system behavior, predict state for the next time step\n",
    "    2. Adjust belief to account for the uncertainty in prediction\n",
    "    \n",
    "**Update**\n",
    "\n",
    "    1. Get a measurement and associated belief about its accuracy\n",
    "    2. Compute how likely it is the measurement matches each state\n",
    "    3. Update state belief with this likelihood\n",
    "\n",
    "When we cover the Kalman filter we will use this exact same algorithm; only the details of the computation will differ.\n",
    "\n",
    "Algorithms in this form are sometimes called *predictor correctors*. We make a prediction, then correct them.\n",
    "\n",
    "Let's animate this. First Let's write functions to perform the filtering and to plot the results at any step. I've plotted the position of the doorways in black. Prior are drawn in orange, and the posterior in blue. I draw a thick vertical line to indicate where Simon really is. This is not an output of the filter - we know where Simon is only because we are simulating his movement."
   ]
  },
  {
   "cell_type": "code",
   "execution_count": null,
   "metadata": {},
   "outputs": [],
   "source": [
    "function discrete_bayes_sim(prior, kernel, measurements, z_prob, hallway)\n",
    "    posterior = ones(10)*0.1\n",
    "    priors, posterios = "
   ]
  },
  {
   "cell_type": "code",
   "execution_count": null,
   "metadata": {},
   "outputs": [],
   "source": []
  }
 ],
 "metadata": {
  "@webio": {
   "lastCommId": "42c3982c4e114ec5984cf2400b8cd6dc",
   "lastKernelId": "6cbaf82c-84ad-4b44-bac2-8ff9cb3b49c9"
  },
  "kernelspec": {
   "display_name": "Julia 1.2.0",
   "language": "julia",
   "name": "julia-1.2"
  },
  "language_info": {
   "file_extension": ".jl",
   "mimetype": "application/julia",
   "name": "julia",
   "version": "1.2.0"
  }
 },
 "nbformat": 4,
 "nbformat_minor": 4
}
