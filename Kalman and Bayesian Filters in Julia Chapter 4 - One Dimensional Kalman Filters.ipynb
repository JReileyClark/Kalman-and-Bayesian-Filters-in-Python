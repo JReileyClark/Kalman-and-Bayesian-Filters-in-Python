{
 "cells": [
  {
   "cell_type": "code",
   "execution_count": 53,
   "metadata": {},
   "outputs": [
    {
     "ename": "LoadError",
     "evalue": "syntax: \"./\" is not a unary operator",
     "output_type": "error",
     "traceback": [
      "syntax: \"./\" is not a unary operator",
      "",
      "Stacktrace:",
      " [1] top-level scope at In[53]:1",
      " [2] include_string(::Function, ::Module, ::String, ::String) at .\\loading.jl:1091"
     ]
    }
   ],
   "source": [
    "[Table of Contents](./table_of_contents.ipynb)"
   ]
  },
  {
   "cell_type": "markdown",
   "metadata": {},
   "source": [
    "# One Dimensional Kalman Filters"
   ]
  },
  {
   "cell_type": "code",
   "execution_count": 106,
   "metadata": {},
   "outputs": [
    {
     "data": {
      "text/plain": [
       "Plots.GRBackend()"
      ]
     },
     "execution_count": 106,
     "metadata": {},
     "output_type": "execute_result"
    }
   ],
   "source": [
    "using Plots\n",
    "using Printf\n",
    "gr()"
   ]
  },
  {
   "cell_type": "markdown",
   "metadata": {},
   "source": [
    "Now that we understand the discrete Bayes filter and Gaussians we are prepared to implement a Kalman filter. We will do this exactly as we did the discrete Bayes filter - rather than starting with equations we will develop the code step by step based on reasoning about the problem. \n",
    "\n",
    "\"One dimensional\" means that the filter only tracks one state variable, such as position on the x-axis. In subsequent chapters we will learn a more general multidimensional form of the filter that can track many state variables simultaneously, such as position, velocity, and acceleration. Recall that we used velocity in the g-h filter to get better estimates than by tracking position alone. The same is true for the Kalman filter.\n",
    "\n",
    "So why not just jump into the multidimensional form of the filter? To be honest, the math is difficult, and my intuitive approach to developing the filter starts to break down. This math obscures the rather simple principles that allow the Kalman filter to work.\n",
    "\n",
    "So, in this chapter we learn how to use Gaussians to implement a Bayesian filter. That's all the Kalman filter is - a Bayesian filter that uses Gaussians. In the next chapter we will switch to a multidimensional form and the full power of the Kalman filter will be unleashed!"
   ]
  },
  {
   "cell_type": "markdown",
   "metadata": {},
   "source": [
    "## Problem Description\n",
    "\n",
    "As in the **Discrete Bayes Filter** chapter we will be tracking a moving object in a long hallway at work. Assume that in our latest hackathon someone created an RFID tracker that provides a reasonably accurate position of the dog. The sensor returns the distance of the dog from the left end of the hallway in meters. So, 23.4 would mean the dog is 23.4 meters from the left end of the hallway.\n",
    "\n",
    "The sensor is not perfect. A reading of 23.4 could correspond to the dog being at 23.7, or 23.0. However, it is very unlikely to correspond to a position of 47.6. Testing during the hackathon confirmed this result - the sensor is 'reasonably' accurate, and while it had errors, the errors are small. Furthermore, the errors seemed to be evenly distributed on both sides of the true position; a position of 23 m would equally likely be measured as 22.9 or 23.1. Perhaps we can model this with a Gaussian.\n",
    "\n",
    "We predict that the dog is moving. This prediction is not perfect. Sometimes our prediction will overshoot, sometimes it will undershoot. We are more likely to undershoot or overshoot by a little than a lot. Perhaps we can also model this with a Gaussian."
   ]
  },
  {
   "cell_type": "markdown",
   "metadata": {},
   "source": [
    "## Beliefs as Gaussians\n",
    "\n",
    "We can express our belief in the dog's position with a Gaussian. Say we believe that our dog is at 10 meters, and the variance in that belief is 1 m$^2$, or $\\mathcal{N}(10,\\, 1)$. A plot of the pdf follows:"
   ]
  },
  {
   "cell_type": "code",
   "execution_count": 55,
   "metadata": {},
   "outputs": [],
   "source": [
    "using Statistics\n",
    "using Distributions\n",
    "using Distributions: Normal\n",
    "# For formatted print statements\n",
    "using Printf"
   ]
  },
  {
   "cell_type": "code",
   "execution_count": 56,
   "metadata": {},
   "outputs": [
    {
     "data": {
      "image/svg+xml": [
       "<?xml version=\"1.0\" encoding=\"utf-8\"?>\n",
       "<svg xmlns=\"http://www.w3.org/2000/svg\" xmlns:xlink=\"http://www.w3.org/1999/xlink\" width=\"600\" height=\"400\" viewBox=\"0 0 2400 1600\">\n",
       "<defs>\n",
       "  <clipPath id=\"clip520\">\n",
       "    <rect x=\"0\" y=\"0\" width=\"2400\" height=\"1600\"/>\n",
       "  </clipPath>\n",
       "</defs>\n",
       "<path clip-path=\"url(#clip520)\" d=\"\n",
       "M0 1600 L2400 1600 L2400 0 L0 0  Z\n",
       "  \" fill=\"#ffffff\" fill-rule=\"evenodd\" fill-opacity=\"1\"/>\n",
       "<defs>\n",
       "  <clipPath id=\"clip521\">\n",
       "    <rect x=\"480\" y=\"0\" width=\"1681\" height=\"1600\"/>\n",
       "  </clipPath>\n",
       "</defs>\n",
       "<path clip-path=\"url(#clip520)\" d=\"\n",
       "M148.334 1486.45 L2352.76 1486.45 L2352.76 47.2441 L148.334 47.2441  Z\n",
       "  \" fill=\"#ffffff\" fill-rule=\"evenodd\" fill-opacity=\"1\"/>\n",
       "<defs>\n",
       "  <clipPath id=\"clip522\">\n",
       "    <rect x=\"148\" y=\"47\" width=\"2205\" height=\"1440\"/>\n",
       "  </clipPath>\n",
       "</defs>\n",
       "<polyline clip-path=\"url(#clip522)\" style=\"stroke:#000000; stroke-width:2; stroke-opacity:0.1; fill:none\" points=\"\n",
       "  210.724,1486.45 210.724,47.2441 \n",
       "  \"/>\n",
       "<polyline clip-path=\"url(#clip522)\" style=\"stroke:#000000; stroke-width:2; stroke-opacity:0.1; fill:none\" points=\"\n",
       "  730.634,1486.45 730.634,47.2441 \n",
       "  \"/>\n",
       "<polyline clip-path=\"url(#clip522)\" style=\"stroke:#000000; stroke-width:2; stroke-opacity:0.1; fill:none\" points=\"\n",
       "  1250.55,1486.45 1250.55,47.2441 \n",
       "  \"/>\n",
       "<polyline clip-path=\"url(#clip522)\" style=\"stroke:#000000; stroke-width:2; stroke-opacity:0.1; fill:none\" points=\"\n",
       "  1770.46,1486.45 1770.46,47.2441 \n",
       "  \"/>\n",
       "<polyline clip-path=\"url(#clip522)\" style=\"stroke:#000000; stroke-width:2; stroke-opacity:0.1; fill:none\" points=\"\n",
       "  2290.37,1486.45 2290.37,47.2441 \n",
       "  \"/>\n",
       "<polyline clip-path=\"url(#clip522)\" style=\"stroke:#000000; stroke-width:2; stroke-opacity:0.1; fill:none\" points=\"\n",
       "  148.334,1445.72 2352.76,1445.72 \n",
       "  \"/>\n",
       "<polyline clip-path=\"url(#clip522)\" style=\"stroke:#000000; stroke-width:2; stroke-opacity:0.1; fill:none\" points=\"\n",
       "  148.334,1103.64 2352.76,1103.64 \n",
       "  \"/>\n",
       "<polyline clip-path=\"url(#clip522)\" style=\"stroke:#000000; stroke-width:2; stroke-opacity:0.1; fill:none\" points=\"\n",
       "  148.334,761.565 2352.76,761.565 \n",
       "  \"/>\n",
       "<polyline clip-path=\"url(#clip522)\" style=\"stroke:#000000; stroke-width:2; stroke-opacity:0.1; fill:none\" points=\"\n",
       "  148.334,419.489 2352.76,419.489 \n",
       "  \"/>\n",
       "<polyline clip-path=\"url(#clip522)\" style=\"stroke:#000000; stroke-width:2; stroke-opacity:0.1; fill:none\" points=\"\n",
       "  148.334,77.4138 2352.76,77.4138 \n",
       "  \"/>\n",
       "<polyline clip-path=\"url(#clip520)\" style=\"stroke:#000000; stroke-width:4; stroke-opacity:1; fill:none\" points=\"\n",
       "  148.334,1486.45 2352.76,1486.45 \n",
       "  \"/>\n",
       "<polyline clip-path=\"url(#clip520)\" style=\"stroke:#000000; stroke-width:4; stroke-opacity:1; fill:none\" points=\"\n",
       "  148.334,1486.45 148.334,47.2441 \n",
       "  \"/>\n",
       "<polyline clip-path=\"url(#clip520)\" style=\"stroke:#000000; stroke-width:4; stroke-opacity:1; fill:none\" points=\"\n",
       "  210.724,1486.45 210.724,1469.18 \n",
       "  \"/>\n",
       "<polyline clip-path=\"url(#clip520)\" style=\"stroke:#000000; stroke-width:4; stroke-opacity:1; fill:none\" points=\"\n",
       "  730.634,1486.45 730.634,1469.18 \n",
       "  \"/>\n",
       "<polyline clip-path=\"url(#clip520)\" style=\"stroke:#000000; stroke-width:4; stroke-opacity:1; fill:none\" points=\"\n",
       "  1250.55,1486.45 1250.55,1469.18 \n",
       "  \"/>\n",
       "<polyline clip-path=\"url(#clip520)\" style=\"stroke:#000000; stroke-width:4; stroke-opacity:1; fill:none\" points=\"\n",
       "  1770.46,1486.45 1770.46,1469.18 \n",
       "  \"/>\n",
       "<polyline clip-path=\"url(#clip520)\" style=\"stroke:#000000; stroke-width:4; stroke-opacity:1; fill:none\" points=\"\n",
       "  2290.37,1486.45 2290.37,1469.18 \n",
       "  \"/>\n",
       "<polyline clip-path=\"url(#clip520)\" style=\"stroke:#000000; stroke-width:4; stroke-opacity:1; fill:none\" points=\"\n",
       "  148.334,1445.72 174.787,1445.72 \n",
       "  \"/>\n",
       "<polyline clip-path=\"url(#clip520)\" style=\"stroke:#000000; stroke-width:4; stroke-opacity:1; fill:none\" points=\"\n",
       "  148.334,1103.64 174.787,1103.64 \n",
       "  \"/>\n",
       "<polyline clip-path=\"url(#clip520)\" style=\"stroke:#000000; stroke-width:4; stroke-opacity:1; fill:none\" points=\"\n",
       "  148.334,761.565 174.787,761.565 \n",
       "  \"/>\n",
       "<polyline clip-path=\"url(#clip520)\" style=\"stroke:#000000; stroke-width:4; stroke-opacity:1; fill:none\" points=\"\n",
       "  148.334,419.489 174.787,419.489 \n",
       "  \"/>\n",
       "<polyline clip-path=\"url(#clip520)\" style=\"stroke:#000000; stroke-width:4; stroke-opacity:1; fill:none\" points=\"\n",
       "  148.334,77.4138 174.787,77.4138 \n",
       "  \"/>\n",
       "<path clip-path=\"url(#clip520)\" d=\"M 0 0 M210.724 1508.44 Q207.113 1508.44 205.284 1512 Q203.478 1515.55 203.478 1522.67 Q203.478 1529.78 205.284 1533.35 Q207.113 1536.89 210.724 1536.89 Q214.358 1536.89 216.163 1533.35 Q217.992 1529.78 217.992 1522.67 Q217.992 1515.55 216.163 1512 Q214.358 1508.44 210.724 1508.44 M210.724 1504.73 Q216.534 1504.73 219.589 1509.34 Q222.668 1513.92 222.668 1522.67 Q222.668 1531.4 219.589 1536.01 Q216.534 1540.59 210.724 1540.59 Q204.914 1540.59 201.835 1536.01 Q198.779 1531.4 198.779 1522.67 Q198.779 1513.92 201.835 1509.34 Q204.914 1504.73 210.724 1504.73 Z\" fill=\"#000000\" fill-rule=\"evenodd\" fill-opacity=\"1\" /><path clip-path=\"url(#clip520)\" d=\"M 0 0 M720.912 1505.36 L739.269 1505.36 L739.269 1509.3 L725.195 1509.3 L725.195 1517.77 Q726.213 1517.42 727.232 1517.26 Q728.25 1517.07 729.269 1517.07 Q735.056 1517.07 738.435 1520.24 Q741.815 1523.42 741.815 1528.83 Q741.815 1534.41 738.343 1537.51 Q734.871 1540.59 728.551 1540.59 Q726.375 1540.59 724.107 1540.22 Q721.861 1539.85 719.454 1539.11 L719.454 1534.41 Q721.537 1535.54 723.759 1536.1 Q725.982 1536.66 728.458 1536.66 Q732.463 1536.66 734.801 1534.55 Q737.139 1532.44 737.139 1528.83 Q737.139 1525.22 734.801 1523.11 Q732.463 1521.01 728.458 1521.01 Q726.584 1521.01 724.709 1521.42 Q722.857 1521.84 720.912 1522.72 L720.912 1505.36 Z\" fill=\"#000000\" fill-rule=\"evenodd\" fill-opacity=\"1\" /><path clip-path=\"url(#clip520)\" d=\"M 0 0 M1227.42 1535.98 L1235.06 1535.98 L1235.06 1509.62 L1226.75 1511.29 L1226.75 1507.03 L1235.01 1505.36 L1239.69 1505.36 L1239.69 1535.98 L1247.33 1535.98 L1247.33 1539.92 L1227.42 1539.92 L1227.42 1535.98 Z\" fill=\"#000000\" fill-rule=\"evenodd\" fill-opacity=\"1\" /><path clip-path=\"url(#clip520)\" d=\"M 0 0 M1262.4 1508.44 Q1258.79 1508.44 1256.96 1512 Q1255.15 1515.55 1255.15 1522.67 Q1255.15 1529.78 1256.96 1533.35 Q1258.79 1536.89 1262.4 1536.89 Q1266.03 1536.89 1267.84 1533.35 Q1269.67 1529.78 1269.67 1522.67 Q1269.67 1515.55 1267.84 1512 Q1266.03 1508.44 1262.4 1508.44 M1262.4 1504.73 Q1268.21 1504.73 1271.26 1509.34 Q1274.34 1513.92 1274.34 1522.67 Q1274.34 1531.4 1271.26 1536.01 Q1268.21 1540.59 1262.4 1540.59 Q1256.59 1540.59 1253.51 1536.01 Q1250.45 1531.4 1250.45 1522.67 Q1250.45 1513.92 1253.51 1509.34 Q1256.59 1504.73 1262.4 1504.73 Z\" fill=\"#000000\" fill-rule=\"evenodd\" fill-opacity=\"1\" /><path clip-path=\"url(#clip520)\" d=\"M 0 0 M1747.83 1535.98 L1755.47 1535.98 L1755.47 1509.62 L1747.16 1511.29 L1747.16 1507.03 L1755.42 1505.36 L1760.1 1505.36 L1760.1 1535.98 L1767.74 1535.98 L1767.74 1539.92 L1747.83 1539.92 L1747.83 1535.98 Z\" fill=\"#000000\" fill-rule=\"evenodd\" fill-opacity=\"1\" /><path clip-path=\"url(#clip520)\" d=\"M 0 0 M1772.85 1505.36 L1791.21 1505.36 L1791.21 1509.3 L1777.13 1509.3 L1777.13 1517.77 Q1778.15 1517.42 1779.17 1517.26 Q1780.19 1517.07 1781.21 1517.07 Q1787 1517.07 1790.37 1520.24 Q1793.75 1523.42 1793.75 1528.83 Q1793.75 1534.41 1790.28 1537.51 Q1786.81 1540.59 1780.49 1540.59 Q1778.31 1540.59 1776.05 1540.22 Q1773.8 1539.85 1771.39 1539.11 L1771.39 1534.41 Q1773.48 1535.54 1775.7 1536.1 Q1777.92 1536.66 1780.4 1536.66 Q1784.4 1536.66 1786.74 1534.55 Q1789.08 1532.44 1789.08 1528.83 Q1789.08 1525.22 1786.74 1523.11 Q1784.4 1521.01 1780.4 1521.01 Q1778.52 1521.01 1776.65 1521.42 Q1774.8 1521.84 1772.85 1522.72 L1772.85 1505.36 Z\" fill=\"#000000\" fill-rule=\"evenodd\" fill-opacity=\"1\" /><path clip-path=\"url(#clip520)\" d=\"M 0 0 M2271.51 1535.98 L2287.83 1535.98 L2287.83 1539.92 L2265.89 1539.92 L2265.89 1535.98 Q2268.55 1533.23 2273.13 1528.6 Q2277.74 1523.95 2278.92 1522.61 Q2281.17 1520.08 2282.04 1518.35 Q2282.95 1516.59 2282.95 1514.9 Q2282.95 1512.14 2281 1510.41 Q2279.08 1508.67 2275.98 1508.67 Q2273.78 1508.67 2271.33 1509.43 Q2268.9 1510.2 2266.12 1511.75 L2266.12 1507.03 Q2268.94 1505.89 2271.4 1505.31 Q2273.85 1504.73 2275.89 1504.73 Q2281.26 1504.73 2284.45 1507.42 Q2287.65 1510.11 2287.65 1514.6 Q2287.65 1516.73 2286.84 1518.65 Q2286.05 1520.54 2283.94 1523.14 Q2283.36 1523.81 2280.26 1527.03 Q2277.16 1530.22 2271.51 1535.98 Z\" fill=\"#000000\" fill-rule=\"evenodd\" fill-opacity=\"1\" /><path clip-path=\"url(#clip520)\" d=\"M 0 0 M2302.9 1508.44 Q2299.29 1508.44 2297.46 1512 Q2295.66 1515.55 2295.66 1522.67 Q2295.66 1529.78 2297.46 1533.35 Q2299.29 1536.89 2302.9 1536.89 Q2306.54 1536.89 2308.34 1533.35 Q2310.17 1529.78 2310.17 1522.67 Q2310.17 1515.55 2308.34 1512 Q2306.54 1508.44 2302.9 1508.44 M2302.9 1504.73 Q2308.71 1504.73 2311.77 1509.34 Q2314.85 1513.92 2314.85 1522.67 Q2314.85 1531.4 2311.77 1536.01 Q2308.71 1540.59 2302.9 1540.59 Q2297.09 1540.59 2294.01 1536.01 Q2290.96 1531.4 2290.96 1522.67 Q2290.96 1513.92 2294.01 1509.34 Q2297.09 1504.73 2302.9 1504.73 Z\" fill=\"#000000\" fill-rule=\"evenodd\" fill-opacity=\"1\" /><path clip-path=\"url(#clip520)\" d=\"M 0 0 M75.4226 1431.51 Q71.8115 1431.51 69.9828 1435.08 Q68.1773 1438.62 68.1773 1445.75 Q68.1773 1452.86 69.9828 1456.42 Q71.8115 1459.96 75.4226 1459.96 Q79.0569 1459.96 80.8624 1456.42 Q82.6911 1452.86 82.6911 1445.75 Q82.6911 1438.62 80.8624 1435.08 Q79.0569 1431.51 75.4226 1431.51 M75.4226 1427.81 Q81.2328 1427.81 84.2883 1432.42 Q87.367 1437 87.367 1445.75 Q87.367 1454.48 84.2883 1459.08 Q81.2328 1463.67 75.4226 1463.67 Q69.6125 1463.67 66.5338 1459.08 Q63.4782 1454.48 63.4782 1445.75 Q63.4782 1437 66.5338 1432.42 Q69.6125 1427.81 75.4226 1427.81 Z\" fill=\"#000000\" fill-rule=\"evenodd\" fill-opacity=\"1\" /><path clip-path=\"url(#clip520)\" d=\"M 0 0 M92.4364 1457.12 L97.3206 1457.12 L97.3206 1463 L92.4364 1463 L92.4364 1457.12 Z\" fill=\"#000000\" fill-rule=\"evenodd\" fill-opacity=\"1\" /><path clip-path=\"url(#clip520)\" d=\"M 0 0 M112.39 1431.51 Q108.779 1431.51 106.95 1435.08 Q105.145 1438.62 105.145 1445.75 Q105.145 1452.86 106.95 1456.42 Q108.779 1459.96 112.39 1459.96 Q116.024 1459.96 117.83 1456.42 Q119.658 1452.86 119.658 1445.75 Q119.658 1438.62 117.83 1435.08 Q116.024 1431.51 112.39 1431.51 M112.39 1427.81 Q118.2 1427.81 121.256 1432.42 Q124.334 1437 124.334 1445.75 Q124.334 1454.48 121.256 1459.08 Q118.2 1463.67 112.39 1463.67 Q106.58 1463.67 103.501 1459.08 Q100.446 1454.48 100.446 1445.75 Q100.446 1437 103.501 1432.42 Q106.58 1427.81 112.39 1427.81 Z\" fill=\"#000000\" fill-rule=\"evenodd\" fill-opacity=\"1\" /><path clip-path=\"url(#clip520)\" d=\"M 0 0 M76.6495 1089.44 Q73.0384 1089.44 71.2097 1093 Q69.4041 1096.55 69.4041 1103.67 Q69.4041 1110.78 71.2097 1114.35 Q73.0384 1117.89 76.6495 1117.89 Q80.2837 1117.89 82.0892 1114.35 Q83.9179 1110.78 83.9179 1103.67 Q83.9179 1096.55 82.0892 1093 Q80.2837 1089.44 76.6495 1089.44 M76.6495 1085.74 Q82.4596 1085.74 85.5152 1090.34 Q88.5938 1094.92 88.5938 1103.67 Q88.5938 1112.4 85.5152 1117.01 Q82.4596 1121.59 76.6495 1121.59 Q70.8393 1121.59 67.7606 1117.01 Q64.7051 1112.4 64.7051 1103.67 Q64.7051 1094.92 67.7606 1090.34 Q70.8393 1085.74 76.6495 1085.74 Z\" fill=\"#000000\" fill-rule=\"evenodd\" fill-opacity=\"1\" /><path clip-path=\"url(#clip520)\" d=\"M 0 0 M93.6633 1115.04 L98.5475 1115.04 L98.5475 1120.92 L93.6633 1120.92 L93.6633 1115.04 Z\" fill=\"#000000\" fill-rule=\"evenodd\" fill-opacity=\"1\" /><path clip-path=\"url(#clip520)\" d=\"M 0 0 M104.427 1116.99 L112.066 1116.99 L112.066 1090.62 L103.756 1092.29 L103.756 1088.03 L112.02 1086.36 L116.696 1086.36 L116.696 1116.99 L124.334 1116.99 L124.334 1120.92 L104.427 1120.92 L104.427 1116.99 Z\" fill=\"#000000\" fill-rule=\"evenodd\" fill-opacity=\"1\" /><path clip-path=\"url(#clip520)\" d=\"M 0 0 M77.0198 747.363 Q73.4087 747.363 71.58 750.928 Q69.7745 754.47 69.7745 761.599 Q69.7745 768.706 71.58 772.271 Q73.4087 775.812 77.0198 775.812 Q80.6541 775.812 82.4596 772.271 Q84.2883 768.706 84.2883 761.599 Q84.2883 754.47 82.4596 750.928 Q80.6541 747.363 77.0198 747.363 M77.0198 743.66 Q82.83 743.66 85.8855 748.266 Q88.9642 752.85 88.9642 761.599 Q88.9642 770.326 85.8855 774.933 Q82.83 779.516 77.0198 779.516 Q71.2097 779.516 68.131 774.933 Q65.0754 770.326 65.0754 761.599 Q65.0754 752.85 68.131 748.266 Q71.2097 743.66 77.0198 743.66 Z\" fill=\"#000000\" fill-rule=\"evenodd\" fill-opacity=\"1\" /><path clip-path=\"url(#clip520)\" d=\"M 0 0 M94.0336 772.965 L98.9179 772.965 L98.9179 778.845 L94.0336 778.845 L94.0336 772.965 Z\" fill=\"#000000\" fill-rule=\"evenodd\" fill-opacity=\"1\" /><path clip-path=\"url(#clip520)\" d=\"M 0 0 M108.015 774.91 L124.334 774.91 L124.334 778.845 L102.39 778.845 L102.39 774.91 Q105.052 772.155 109.635 767.525 Q114.242 762.873 115.422 761.53 Q117.668 759.007 118.547 757.271 Q119.45 755.512 119.45 753.822 Q119.45 751.067 117.506 749.331 Q115.584 747.595 112.483 747.595 Q110.284 747.595 107.83 748.359 Q105.399 749.123 102.622 750.674 L102.622 745.951 Q105.446 744.817 107.899 744.238 Q110.353 743.66 112.39 743.66 Q117.76 743.66 120.955 746.345 Q124.149 749.03 124.149 753.521 Q124.149 755.65 123.339 757.572 Q122.552 759.47 120.446 762.062 Q119.867 762.734 116.765 765.951 Q113.663 769.146 108.015 774.91 Z\" fill=\"#000000\" fill-rule=\"evenodd\" fill-opacity=\"1\" /><path clip-path=\"url(#clip520)\" d=\"M 0 0 M76.0708 405.288 Q72.4597 405.288 70.631 408.853 Q68.8254 412.394 68.8254 419.524 Q68.8254 426.63 70.631 430.195 Q72.4597 433.737 76.0708 433.737 Q79.705 433.737 81.5105 430.195 Q83.3392 426.63 83.3392 419.524 Q83.3392 412.394 81.5105 408.853 Q79.705 405.288 76.0708 405.288 M76.0708 401.584 Q81.8809 401.584 84.9365 406.191 Q88.0151 410.774 88.0151 419.524 Q88.0151 428.251 84.9365 432.857 Q81.8809 437.441 76.0708 437.441 Q70.2606 437.441 67.1819 432.857 Q64.1264 428.251 64.1264 419.524 Q64.1264 410.774 67.1819 406.191 Q70.2606 401.584 76.0708 401.584 Z\" fill=\"#000000\" fill-rule=\"evenodd\" fill-opacity=\"1\" /><path clip-path=\"url(#clip520)\" d=\"M 0 0 M93.0846 430.89 L97.9688 430.89 L97.9688 436.769 L93.0846 436.769 L93.0846 430.89 Z\" fill=\"#000000\" fill-rule=\"evenodd\" fill-opacity=\"1\" /><path clip-path=\"url(#clip520)\" d=\"M 0 0 M117.205 418.135 Q120.561 418.853 122.436 421.121 Q124.334 423.39 124.334 426.723 Q124.334 431.839 120.816 434.64 Q117.297 437.441 110.816 437.441 Q108.64 437.441 106.325 437.001 Q104.034 436.584 101.58 435.728 L101.58 431.214 Q103.524 432.348 105.839 432.927 Q108.154 433.505 110.677 433.505 Q115.075 433.505 117.367 431.769 Q119.682 430.033 119.682 426.723 Q119.682 423.668 117.529 421.955 Q115.399 420.218 111.58 420.218 L107.552 420.218 L107.552 416.376 L111.765 416.376 Q115.214 416.376 117.043 415.01 Q118.871 413.621 118.871 411.029 Q118.871 408.367 116.973 406.955 Q115.098 405.519 111.58 405.519 Q109.659 405.519 107.459 405.936 Q105.26 406.353 102.622 407.232 L102.622 403.066 Q105.284 402.325 107.598 401.955 Q109.936 401.584 111.996 401.584 Q117.321 401.584 120.422 404.015 Q123.524 406.422 123.524 410.543 Q123.524 413.413 121.881 415.404 Q120.237 417.371 117.205 418.135 Z\" fill=\"#000000\" fill-rule=\"evenodd\" fill-opacity=\"1\" /><path clip-path=\"url(#clip520)\" d=\"M 0 0 M74.9365 63.2125 Q71.3254 63.2125 69.4967 66.7773 Q67.6912 70.319 67.6912 77.4486 Q67.6912 84.555 69.4967 88.1198 Q71.3254 91.6615 74.9365 91.6615 Q78.5707 91.6615 80.3763 88.1198 Q82.205 84.555 82.205 77.4486 Q82.205 70.319 80.3763 66.7773 Q78.5707 63.2125 74.9365 63.2125 M74.9365 59.5088 Q80.7467 59.5088 83.8022 64.1153 Q86.8809 68.6986 86.8809 77.4486 Q86.8809 86.1754 83.8022 90.7818 Q80.7467 95.3651 74.9365 95.3651 Q69.1264 95.3651 66.0477 90.7818 Q62.9921 86.1754 62.9921 77.4486 Q62.9921 68.6986 66.0477 64.1153 Q69.1264 59.5088 74.9365 59.5088 Z\" fill=\"#000000\" fill-rule=\"evenodd\" fill-opacity=\"1\" /><path clip-path=\"url(#clip520)\" d=\"M 0 0 M91.9503 88.8142 L96.8345 88.8142 L96.8345 94.6938 L91.9503 94.6938 L91.9503 88.8142 Z\" fill=\"#000000\" fill-rule=\"evenodd\" fill-opacity=\"1\" /><path clip-path=\"url(#clip520)\" d=\"M 0 0 M114.751 64.2079 L102.946 82.6569 L114.751 82.6569 L114.751 64.2079 M113.524 60.1338 L119.404 60.1338 L119.404 82.6569 L124.334 82.6569 L124.334 86.5457 L119.404 86.5457 L119.404 94.6938 L114.751 94.6938 L114.751 86.5457 L99.1493 86.5457 L99.1493 82.0319 L113.524 60.1338 Z\" fill=\"#000000\" fill-rule=\"evenodd\" fill-opacity=\"1\" /><polyline clip-path=\"url(#clip522)\" style=\"stroke:#009af9; stroke-width:4; stroke-opacity:1; fill:none\" points=\"\n",
       "  210.724,1445.72 231.73,1445.72 252.737,1445.72 273.743,1445.72 294.75,1445.72 315.756,1445.72 336.763,1445.72 357.769,1445.72 378.776,1445.72 399.782,1445.72 \n",
       "  420.789,1445.72 441.795,1445.72 462.802,1445.72 483.808,1445.72 504.815,1445.72 525.821,1445.72 546.828,1445.72 567.834,1445.72 588.841,1445.72 609.847,1445.72 \n",
       "  630.854,1445.72 651.86,1445.72 672.867,1445.72 693.873,1445.71 714.88,1445.71 735.886,1445.71 756.893,1445.7 777.899,1445.67 798.906,1445.61 819.912,1445.46 \n",
       "  840.919,1445.13 861.925,1444.45 882.931,1443.08 903.938,1440.44 924.944,1435.58 945.951,1427.02 966.957,1412.61 987.964,1389.44 1008.97,1353.88 1029.98,1301.85 \n",
       "  1050.98,1229.34 1071.99,1133.3 1093,1012.67 1114,869.478 1135.01,709.595 1156.02,542.957 1177.02,382.872 1198.03,244.439 1219.04,142.273 1240.04,87.9763 \n",
       "  1261.05,87.9763 1282.05,142.273 1303.06,244.439 1324.07,382.872 1345.07,542.957 1366.08,709.595 1387.09,869.478 1408.09,1012.67 1429.1,1133.3 1450.11,1229.34 \n",
       "  1471.11,1301.85 1492.12,1353.88 1513.13,1389.44 1534.13,1412.61 1555.14,1427.02 1576.15,1435.58 1597.15,1440.44 1618.16,1443.08 1639.17,1444.45 1660.17,1445.13 \n",
       "  1681.18,1445.46 1702.18,1445.61 1723.19,1445.67 1744.2,1445.7 1765.2,1445.71 1786.21,1445.71 1807.22,1445.71 1828.22,1445.72 1849.23,1445.72 1870.24,1445.72 \n",
       "  1891.24,1445.72 1912.25,1445.72 1933.26,1445.72 1954.26,1445.72 1975.27,1445.72 1996.28,1445.72 2017.28,1445.72 2038.29,1445.72 2059.3,1445.72 2080.3,1445.72 \n",
       "  2101.31,1445.72 2122.31,1445.72 2143.32,1445.72 2164.33,1445.72 2185.33,1445.72 2206.34,1445.72 2227.35,1445.72 2248.35,1445.72 2269.36,1445.72 2290.37,1445.72 \n",
       "  \n",
       "  \"/>\n",
       "<path clip-path=\"url(#clip520)\" d=\"\n",
       "M1983.32 216.178 L2279.28 216.178 L2279.28 95.2176 L1983.32 95.2176  Z\n",
       "  \" fill=\"#ffffff\" fill-rule=\"evenodd\" fill-opacity=\"1\"/>\n",
       "<polyline clip-path=\"url(#clip520)\" style=\"stroke:#000000; stroke-width:4; stroke-opacity:1; fill:none\" points=\"\n",
       "  1983.32,216.178 2279.28,216.178 2279.28,95.2176 1983.32,95.2176 1983.32,216.178 \n",
       "  \"/>\n",
       "<polyline clip-path=\"url(#clip520)\" style=\"stroke:#009af9; stroke-width:4; stroke-opacity:1; fill:none\" points=\"\n",
       "  2007.81,155.698 2154.78,155.698 \n",
       "  \"/>\n",
       "<path clip-path=\"url(#clip520)\" d=\"M 0 0 M2193.11 175.385 Q2191.31 180.015 2189.59 181.427 Q2187.88 182.839 2185.01 182.839 L2181.61 182.839 L2181.61 179.274 L2184.11 179.274 Q2185.87 179.274 2186.84 178.44 Q2187.81 177.607 2188.99 174.505 L2189.76 172.561 L2179.27 147.052 L2183.78 147.052 L2191.89 167.329 L2199.99 147.052 L2204.5 147.052 L2193.11 175.385 Z\" fill=\"#000000\" fill-rule=\"evenodd\" fill-opacity=\"1\" /><path clip-path=\"url(#clip520)\" d=\"M 0 0 M2210.38 169.042 L2218.02 169.042 L2218.02 142.677 L2209.71 144.343 L2209.71 140.084 L2217.97 138.418 L2222.65 138.418 L2222.65 169.042 L2230.29 169.042 L2230.29 172.978 L2210.38 172.978 L2210.38 169.042 Z\" fill=\"#000000\" fill-rule=\"evenodd\" fill-opacity=\"1\" /></svg>\n"
      ]
     },
     "execution_count": 56,
     "metadata": {},
     "output_type": "execute_result"
    }
   ],
   "source": [
    "# \\scrN<tab> = Normal(μ,σ)\n",
    "𝒩 = Normal(10,1)\n",
    "\n",
    "# Lets create a function that makes plotting distributions easier\n",
    "function plotdist(dist::Distribution, xrange)\n",
    "    xs = range(xrange[1],xrange[2],length=100)\n",
    "    return plot(xs, pdf(dist, xs))\n",
    "end\n",
    "\n",
    "function plotdist!(dist::Distribution, xrange)\n",
    "    xs = range(xrange[1],xrange[2],length=100)\n",
    "    return plot!(xs, pdf(dist, xs))\n",
    "end\n",
    "plotdist(𝒩,[0,20])"
   ]
  },
  {
   "cell_type": "markdown",
   "metadata": {},
   "source": [
    "This plot depicts our uncertainty about the dog's position. It represents a fairly inexact belief. While we believe that it is most likely that the dog is at 10 m, any position from 9 m to 11 m or so are quite likely as well. Assume the dog is standing still, and we query the sensor again. This time it returns 10.2 m. Can we use this additional information to improve our estimate?\n",
    "\n",
    "Intuition suggests we can. Consider: if we read the sensor 500 times and each time it returned a value between 8 and 12, all centered around 10, we should be very confident that the dog is near 10. Of course, a different interpretation is possible. Perhaps our dog was randomly wandering back and forth in a way that exactly emulated random draws from a normal distribution. But that seems extremely unlikely - I've never seen a dog do that. Let's look at 500 draws from $\\mathcal N(10, 1)$:"
   ]
  },
  {
   "cell_type": "code",
   "execution_count": 57,
   "metadata": {},
   "outputs": [
    {
     "name": "stdout",
     "output_type": "stream",
     "text": [
      "Mean of readings is 10.082"
     ]
    },
    {
     "data": {
      "image/svg+xml": [
       "<?xml version=\"1.0\" encoding=\"utf-8\"?>\n",
       "<svg xmlns=\"http://www.w3.org/2000/svg\" xmlns:xlink=\"http://www.w3.org/1999/xlink\" width=\"600\" height=\"400\" viewBox=\"0 0 2400 1600\">\n",
       "<defs>\n",
       "  <clipPath id=\"clip560\">\n",
       "    <rect x=\"0\" y=\"0\" width=\"2400\" height=\"1600\"/>\n",
       "  </clipPath>\n",
       "</defs>\n",
       "<path clip-path=\"url(#clip560)\" d=\"\n",
       "M0 1600 L2400 1600 L2400 0 L0 0  Z\n",
       "  \" fill=\"#ffffff\" fill-rule=\"evenodd\" fill-opacity=\"1\"/>\n",
       "<defs>\n",
       "  <clipPath id=\"clip561\">\n",
       "    <rect x=\"480\" y=\"0\" width=\"1681\" height=\"1600\"/>\n",
       "  </clipPath>\n",
       "</defs>\n",
       "<path clip-path=\"url(#clip560)\" d=\"\n",
       "M134.584 1486.45 L2352.76 1486.45 L2352.76 47.2441 L134.584 47.2441  Z\n",
       "  \" fill=\"#ffffff\" fill-rule=\"evenodd\" fill-opacity=\"1\"/>\n",
       "<defs>\n",
       "  <clipPath id=\"clip562\">\n",
       "    <rect x=\"134\" y=\"47\" width=\"2219\" height=\"1440\"/>\n",
       "  </clipPath>\n",
       "</defs>\n",
       "<polyline clip-path=\"url(#clip562)\" style=\"stroke:#000000; stroke-width:2; stroke-opacity:0.1; fill:none\" points=\"\n",
       "  193.169,1486.45 193.169,47.2441 \n",
       "  \"/>\n",
       "<polyline clip-path=\"url(#clip562)\" style=\"stroke:#000000; stroke-width:2; stroke-opacity:0.1; fill:none\" points=\"\n",
       "  612.531,1486.45 612.531,47.2441 \n",
       "  \"/>\n",
       "<polyline clip-path=\"url(#clip562)\" style=\"stroke:#000000; stroke-width:2; stroke-opacity:0.1; fill:none\" points=\"\n",
       "  1031.89,1486.45 1031.89,47.2441 \n",
       "  \"/>\n",
       "<polyline clip-path=\"url(#clip562)\" style=\"stroke:#000000; stroke-width:2; stroke-opacity:0.1; fill:none\" points=\"\n",
       "  1451.25,1486.45 1451.25,47.2441 \n",
       "  \"/>\n",
       "<polyline clip-path=\"url(#clip562)\" style=\"stroke:#000000; stroke-width:2; stroke-opacity:0.1; fill:none\" points=\"\n",
       "  1870.62,1486.45 1870.62,47.2441 \n",
       "  \"/>\n",
       "<polyline clip-path=\"url(#clip562)\" style=\"stroke:#000000; stroke-width:2; stroke-opacity:0.1; fill:none\" points=\"\n",
       "  2289.98,1486.45 2289.98,47.2441 \n",
       "  \"/>\n",
       "<polyline clip-path=\"url(#clip562)\" style=\"stroke:#000000; stroke-width:2; stroke-opacity:0.1; fill:none\" points=\"\n",
       "  134.584,1310.93 2352.76,1310.93 \n",
       "  \"/>\n",
       "<polyline clip-path=\"url(#clip562)\" style=\"stroke:#000000; stroke-width:2; stroke-opacity:0.1; fill:none\" points=\"\n",
       "  134.584,1085.56 2352.76,1085.56 \n",
       "  \"/>\n",
       "<polyline clip-path=\"url(#clip562)\" style=\"stroke:#000000; stroke-width:2; stroke-opacity:0.1; fill:none\" points=\"\n",
       "  134.584,860.181 2352.76,860.181 \n",
       "  \"/>\n",
       "<polyline clip-path=\"url(#clip562)\" style=\"stroke:#000000; stroke-width:2; stroke-opacity:0.1; fill:none\" points=\"\n",
       "  134.584,634.806 2352.76,634.806 \n",
       "  \"/>\n",
       "<polyline clip-path=\"url(#clip562)\" style=\"stroke:#000000; stroke-width:2; stroke-opacity:0.1; fill:none\" points=\"\n",
       "  134.584,409.43 2352.76,409.43 \n",
       "  \"/>\n",
       "<polyline clip-path=\"url(#clip562)\" style=\"stroke:#000000; stroke-width:2; stroke-opacity:0.1; fill:none\" points=\"\n",
       "  134.584,184.054 2352.76,184.054 \n",
       "  \"/>\n",
       "<polyline clip-path=\"url(#clip560)\" style=\"stroke:#000000; stroke-width:4; stroke-opacity:1; fill:none\" points=\"\n",
       "  134.584,1486.45 2352.76,1486.45 \n",
       "  \"/>\n",
       "<polyline clip-path=\"url(#clip560)\" style=\"stroke:#000000; stroke-width:4; stroke-opacity:1; fill:none\" points=\"\n",
       "  134.584,1486.45 134.584,47.2441 \n",
       "  \"/>\n",
       "<polyline clip-path=\"url(#clip560)\" style=\"stroke:#000000; stroke-width:4; stroke-opacity:1; fill:none\" points=\"\n",
       "  193.169,1486.45 193.169,1469.18 \n",
       "  \"/>\n",
       "<polyline clip-path=\"url(#clip560)\" style=\"stroke:#000000; stroke-width:4; stroke-opacity:1; fill:none\" points=\"\n",
       "  612.531,1486.45 612.531,1469.18 \n",
       "  \"/>\n",
       "<polyline clip-path=\"url(#clip560)\" style=\"stroke:#000000; stroke-width:4; stroke-opacity:1; fill:none\" points=\"\n",
       "  1031.89,1486.45 1031.89,1469.18 \n",
       "  \"/>\n",
       "<polyline clip-path=\"url(#clip560)\" style=\"stroke:#000000; stroke-width:4; stroke-opacity:1; fill:none\" points=\"\n",
       "  1451.25,1486.45 1451.25,1469.18 \n",
       "  \"/>\n",
       "<polyline clip-path=\"url(#clip560)\" style=\"stroke:#000000; stroke-width:4; stroke-opacity:1; fill:none\" points=\"\n",
       "  1870.62,1486.45 1870.62,1469.18 \n",
       "  \"/>\n",
       "<polyline clip-path=\"url(#clip560)\" style=\"stroke:#000000; stroke-width:4; stroke-opacity:1; fill:none\" points=\"\n",
       "  2289.98,1486.45 2289.98,1469.18 \n",
       "  \"/>\n",
       "<polyline clip-path=\"url(#clip560)\" style=\"stroke:#000000; stroke-width:4; stroke-opacity:1; fill:none\" points=\"\n",
       "  134.584,1310.93 161.203,1310.93 \n",
       "  \"/>\n",
       "<polyline clip-path=\"url(#clip560)\" style=\"stroke:#000000; stroke-width:4; stroke-opacity:1; fill:none\" points=\"\n",
       "  134.584,1085.56 161.203,1085.56 \n",
       "  \"/>\n",
       "<polyline clip-path=\"url(#clip560)\" style=\"stroke:#000000; stroke-width:4; stroke-opacity:1; fill:none\" points=\"\n",
       "  134.584,860.181 161.203,860.181 \n",
       "  \"/>\n",
       "<polyline clip-path=\"url(#clip560)\" style=\"stroke:#000000; stroke-width:4; stroke-opacity:1; fill:none\" points=\"\n",
       "  134.584,634.806 161.203,634.806 \n",
       "  \"/>\n",
       "<polyline clip-path=\"url(#clip560)\" style=\"stroke:#000000; stroke-width:4; stroke-opacity:1; fill:none\" points=\"\n",
       "  134.584,409.43 161.203,409.43 \n",
       "  \"/>\n",
       "<polyline clip-path=\"url(#clip560)\" style=\"stroke:#000000; stroke-width:4; stroke-opacity:1; fill:none\" points=\"\n",
       "  134.584,184.054 161.203,184.054 \n",
       "  \"/>\n",
       "<path clip-path=\"url(#clip560)\" d=\"M 0 0 M193.169 1508.44 Q189.558 1508.44 187.729 1512 Q185.924 1515.55 185.924 1522.67 Q185.924 1529.78 187.729 1533.35 Q189.558 1536.89 193.169 1536.89 Q196.804 1536.89 198.609 1533.35 Q200.438 1529.78 200.438 1522.67 Q200.438 1515.55 198.609 1512 Q196.804 1508.44 193.169 1508.44 M193.169 1504.73 Q198.979 1504.73 202.035 1509.34 Q205.114 1513.92 205.114 1522.67 Q205.114 1531.4 202.035 1536.01 Q198.979 1540.59 193.169 1540.59 Q187.359 1540.59 184.28 1536.01 Q181.225 1531.4 181.225 1522.67 Q181.225 1513.92 184.28 1509.34 Q187.359 1504.73 193.169 1504.73 Z\" fill=\"#000000\" fill-rule=\"evenodd\" fill-opacity=\"1\" /><path clip-path=\"url(#clip560)\" d=\"M 0 0 M575.899 1535.98 L583.538 1535.98 L583.538 1509.62 L575.228 1511.29 L575.228 1507.03 L583.492 1505.36 L588.168 1505.36 L588.168 1535.98 L595.806 1535.98 L595.806 1539.92 L575.899 1539.92 L575.899 1535.98 Z\" fill=\"#000000\" fill-rule=\"evenodd\" fill-opacity=\"1\" /><path clip-path=\"url(#clip560)\" d=\"M 0 0 M610.876 1508.44 Q607.265 1508.44 605.436 1512 Q603.631 1515.55 603.631 1522.67 Q603.631 1529.78 605.436 1533.35 Q607.265 1536.89 610.876 1536.89 Q614.51 1536.89 616.316 1533.35 Q618.144 1529.78 618.144 1522.67 Q618.144 1515.55 616.316 1512 Q614.51 1508.44 610.876 1508.44 M610.876 1504.73 Q616.686 1504.73 619.742 1509.34 Q622.82 1513.92 622.82 1522.67 Q622.82 1531.4 619.742 1536.01 Q616.686 1540.59 610.876 1540.59 Q605.066 1540.59 601.987 1536.01 Q598.931 1531.4 598.931 1522.67 Q598.931 1513.92 601.987 1509.34 Q605.066 1504.73 610.876 1504.73 Z\" fill=\"#000000\" fill-rule=\"evenodd\" fill-opacity=\"1\" /><path clip-path=\"url(#clip560)\" d=\"M 0 0 M637.89 1508.44 Q634.278 1508.44 632.45 1512 Q630.644 1515.55 630.644 1522.67 Q630.644 1529.78 632.45 1533.35 Q634.278 1536.89 637.89 1536.89 Q641.524 1536.89 643.329 1533.35 Q645.158 1529.78 645.158 1522.67 Q645.158 1515.55 643.329 1512 Q641.524 1508.44 637.89 1508.44 M637.89 1504.73 Q643.7 1504.73 646.755 1509.34 Q649.834 1513.92 649.834 1522.67 Q649.834 1531.4 646.755 1536.01 Q643.7 1540.59 637.89 1540.59 Q632.079 1540.59 629.001 1536.01 Q625.945 1531.4 625.945 1522.67 Q625.945 1513.92 629.001 1509.34 Q632.079 1504.73 637.89 1504.73 Z\" fill=\"#000000\" fill-rule=\"evenodd\" fill-opacity=\"1\" /><path clip-path=\"url(#clip560)\" d=\"M 0 0 M999.532 1535.98 L1015.85 1535.98 L1015.85 1539.92 L993.907 1539.92 L993.907 1535.98 Q996.569 1533.23 1001.15 1528.6 Q1005.76 1523.95 1006.94 1522.61 Q1009.18 1520.08 1010.06 1518.35 Q1010.97 1516.59 1010.97 1514.9 Q1010.97 1512.14 1009.02 1510.41 Q1007.1 1508.67 1004 1508.67 Q1001.8 1508.67 999.346 1509.43 Q996.916 1510.2 994.138 1511.75 L994.138 1507.03 Q996.962 1505.89 999.416 1505.31 Q1001.87 1504.73 1003.91 1504.73 Q1009.28 1504.73 1012.47 1507.42 Q1015.67 1510.11 1015.67 1514.6 Q1015.67 1516.73 1014.86 1518.65 Q1014.07 1520.54 1011.96 1523.14 Q1011.38 1523.81 1008.28 1527.03 Q1005.18 1530.22 999.532 1535.98 Z\" fill=\"#000000\" fill-rule=\"evenodd\" fill-opacity=\"1\" /><path clip-path=\"url(#clip560)\" d=\"M 0 0 M1030.92 1508.44 Q1027.31 1508.44 1025.48 1512 Q1023.68 1515.55 1023.68 1522.67 Q1023.68 1529.78 1025.48 1533.35 Q1027.31 1536.89 1030.92 1536.89 Q1034.55 1536.89 1036.36 1533.35 Q1038.19 1529.78 1038.19 1522.67 Q1038.19 1515.55 1036.36 1512 Q1034.55 1508.44 1030.92 1508.44 M1030.92 1504.73 Q1036.73 1504.73 1039.79 1509.34 Q1042.86 1513.92 1042.86 1522.67 Q1042.86 1531.4 1039.79 1536.01 Q1036.73 1540.59 1030.92 1540.59 Q1025.11 1540.59 1022.03 1536.01 Q1018.98 1531.4 1018.98 1522.67 Q1018.98 1513.92 1022.03 1509.34 Q1025.11 1504.73 1030.92 1504.73 Z\" fill=\"#000000\" fill-rule=\"evenodd\" fill-opacity=\"1\" /><path clip-path=\"url(#clip560)\" d=\"M 0 0 M1057.93 1508.44 Q1054.32 1508.44 1052.49 1512 Q1050.69 1515.55 1050.69 1522.67 Q1050.69 1529.78 1052.49 1533.35 Q1054.32 1536.89 1057.93 1536.89 Q1061.57 1536.89 1063.37 1533.35 Q1065.2 1529.78 1065.2 1522.67 Q1065.2 1515.55 1063.37 1512 Q1061.57 1508.44 1057.93 1508.44 M1057.93 1504.73 Q1063.74 1504.73 1066.8 1509.34 Q1069.88 1513.92 1069.88 1522.67 Q1069.88 1531.4 1066.8 1536.01 Q1063.74 1540.59 1057.93 1540.59 Q1052.12 1540.59 1049.05 1536.01 Q1045.99 1531.4 1045.99 1522.67 Q1045.99 1513.92 1049.05 1509.34 Q1052.12 1504.73 1057.93 1504.73 Z\" fill=\"#000000\" fill-rule=\"evenodd\" fill-opacity=\"1\" /><path clip-path=\"url(#clip560)\" d=\"M 0 0 M1428.49 1521.29 Q1431.84 1522 1433.72 1524.27 Q1435.62 1526.54 1435.62 1529.87 Q1435.62 1534.99 1432.1 1537.79 Q1428.58 1540.59 1422.1 1540.59 Q1419.92 1540.59 1417.61 1540.15 Q1415.32 1539.73 1412.86 1538.88 L1412.86 1534.36 Q1414.81 1535.5 1417.12 1536.08 Q1419.44 1536.66 1421.96 1536.66 Q1426.36 1536.66 1428.65 1534.92 Q1430.96 1533.18 1430.96 1529.87 Q1430.96 1526.82 1428.81 1525.11 Q1426.68 1523.37 1422.86 1523.37 L1418.84 1523.37 L1418.84 1519.53 L1423.05 1519.53 Q1426.5 1519.53 1428.33 1518.16 Q1430.15 1516.77 1430.15 1514.18 Q1430.15 1511.52 1428.26 1510.11 Q1426.38 1508.67 1422.86 1508.67 Q1420.94 1508.67 1418.74 1509.09 Q1416.54 1509.5 1413.9 1510.38 L1413.9 1506.22 Q1416.57 1505.48 1418.88 1505.11 Q1421.22 1504.73 1423.28 1504.73 Q1428.6 1504.73 1431.71 1507.17 Q1434.81 1509.57 1434.81 1513.69 Q1434.81 1516.56 1433.16 1518.55 Q1431.52 1520.52 1428.49 1521.29 Z\" fill=\"#000000\" fill-rule=\"evenodd\" fill-opacity=\"1\" /><path clip-path=\"url(#clip560)\" d=\"M 0 0 M1450.69 1508.44 Q1447.08 1508.44 1445.25 1512 Q1443.44 1515.55 1443.44 1522.67 Q1443.44 1529.78 1445.25 1533.35 Q1447.08 1536.89 1450.69 1536.89 Q1454.32 1536.89 1456.13 1533.35 Q1457.96 1529.78 1457.96 1522.67 Q1457.96 1515.55 1456.13 1512 Q1454.32 1508.44 1450.69 1508.44 M1450.69 1504.73 Q1456.5 1504.73 1459.55 1509.34 Q1462.63 1513.92 1462.63 1522.67 Q1462.63 1531.4 1459.55 1536.01 Q1456.5 1540.59 1450.69 1540.59 Q1444.88 1540.59 1441.8 1536.01 Q1438.74 1531.4 1438.74 1522.67 Q1438.74 1513.92 1441.8 1509.34 Q1444.88 1504.73 1450.69 1504.73 Z\" fill=\"#000000\" fill-rule=\"evenodd\" fill-opacity=\"1\" /><path clip-path=\"url(#clip560)\" d=\"M 0 0 M1477.7 1508.44 Q1474.09 1508.44 1472.26 1512 Q1470.46 1515.55 1470.46 1522.67 Q1470.46 1529.78 1472.26 1533.35 Q1474.09 1536.89 1477.7 1536.89 Q1481.34 1536.89 1483.14 1533.35 Q1484.97 1529.78 1484.97 1522.67 Q1484.97 1515.55 1483.14 1512 Q1481.34 1508.44 1477.7 1508.44 M1477.7 1504.73 Q1483.51 1504.73 1486.57 1509.34 Q1489.65 1513.92 1489.65 1522.67 Q1489.65 1531.4 1486.57 1536.01 Q1483.51 1540.59 1477.7 1540.59 Q1471.89 1540.59 1468.81 1536.01 Q1465.76 1531.4 1465.76 1522.67 Q1465.76 1513.92 1468.81 1509.34 Q1471.89 1504.73 1477.7 1504.73 Z\" fill=\"#000000\" fill-rule=\"evenodd\" fill-opacity=\"1\" /><path clip-path=\"url(#clip560)\" d=\"M 0 0 M1846.61 1509.43 L1834.81 1527.88 L1846.61 1527.88 L1846.61 1509.43 M1845.38 1505.36 L1851.26 1505.36 L1851.26 1527.88 L1856.19 1527.88 L1856.19 1531.77 L1851.26 1531.77 L1851.26 1539.92 L1846.61 1539.92 L1846.61 1531.77 L1831.01 1531.77 L1831.01 1527.26 L1845.38 1505.36 Z\" fill=\"#000000\" fill-rule=\"evenodd\" fill-opacity=\"1\" /><path clip-path=\"url(#clip560)\" d=\"M 0 0 M1871.26 1508.44 Q1867.65 1508.44 1865.82 1512 Q1864.02 1515.55 1864.02 1522.67 Q1864.02 1529.78 1865.82 1533.35 Q1867.65 1536.89 1871.26 1536.89 Q1874.9 1536.89 1876.7 1533.35 Q1878.53 1529.78 1878.53 1522.67 Q1878.53 1515.55 1876.7 1512 Q1874.9 1508.44 1871.26 1508.44 M1871.26 1504.73 Q1877.07 1504.73 1880.13 1509.34 Q1883.21 1513.92 1883.21 1522.67 Q1883.21 1531.4 1880.13 1536.01 Q1877.07 1540.59 1871.26 1540.59 Q1865.45 1540.59 1862.38 1536.01 Q1859.32 1531.4 1859.32 1522.67 Q1859.32 1513.92 1862.38 1509.34 Q1865.45 1504.73 1871.26 1504.73 Z\" fill=\"#000000\" fill-rule=\"evenodd\" fill-opacity=\"1\" /><path clip-path=\"url(#clip560)\" d=\"M 0 0 M1898.28 1508.44 Q1894.67 1508.44 1892.84 1512 Q1891.03 1515.55 1891.03 1522.67 Q1891.03 1529.78 1892.84 1533.35 Q1894.67 1536.89 1898.28 1536.89 Q1901.91 1536.89 1903.72 1533.35 Q1905.55 1529.78 1905.55 1522.67 Q1905.55 1515.55 1903.72 1512 Q1901.91 1508.44 1898.28 1508.44 M1898.28 1504.73 Q1904.09 1504.73 1907.14 1509.34 Q1910.22 1513.92 1910.22 1522.67 Q1910.22 1531.4 1907.14 1536.01 Q1904.09 1540.59 1898.28 1540.59 Q1892.47 1540.59 1889.39 1536.01 Q1886.33 1531.4 1886.33 1522.67 Q1886.33 1513.92 1889.39 1509.34 Q1892.47 1504.73 1898.28 1504.73 Z\" fill=\"#000000\" fill-rule=\"evenodd\" fill-opacity=\"1\" /><path clip-path=\"url(#clip560)\" d=\"M 0 0 M2253.24 1505.36 L2271.6 1505.36 L2271.6 1509.3 L2257.52 1509.3 L2257.52 1517.77 Q2258.54 1517.42 2259.56 1517.26 Q2260.58 1517.07 2261.6 1517.07 Q2267.38 1517.07 2270.76 1520.24 Q2274.14 1523.42 2274.14 1528.83 Q2274.14 1534.41 2270.67 1537.51 Q2267.2 1540.59 2260.88 1540.59 Q2258.7 1540.59 2256.44 1540.22 Q2254.19 1539.85 2251.78 1539.11 L2251.78 1534.41 Q2253.87 1535.54 2256.09 1536.1 Q2258.31 1536.66 2260.79 1536.66 Q2264.79 1536.66 2267.13 1534.55 Q2269.47 1532.44 2269.47 1528.83 Q2269.47 1525.22 2267.13 1523.11 Q2264.79 1521.01 2260.79 1521.01 Q2258.91 1521.01 2257.04 1521.42 Q2255.19 1521.84 2253.24 1522.72 L2253.24 1505.36 Z\" fill=\"#000000\" fill-rule=\"evenodd\" fill-opacity=\"1\" /><path clip-path=\"url(#clip560)\" d=\"M 0 0 M2289.21 1508.44 Q2285.6 1508.44 2283.77 1512 Q2281.97 1515.55 2281.97 1522.67 Q2281.97 1529.78 2283.77 1533.35 Q2285.6 1536.89 2289.21 1536.89 Q2292.85 1536.89 2294.65 1533.35 Q2296.48 1529.78 2296.48 1522.67 Q2296.48 1515.55 2294.65 1512 Q2292.85 1508.44 2289.21 1508.44 M2289.21 1504.73 Q2295.02 1504.73 2298.08 1509.34 Q2301.16 1513.92 2301.16 1522.67 Q2301.16 1531.4 2298.08 1536.01 Q2295.02 1540.59 2289.21 1540.59 Q2283.4 1540.59 2280.32 1536.01 Q2277.27 1531.4 2277.27 1522.67 Q2277.27 1513.92 2280.32 1509.34 Q2283.4 1504.73 2289.21 1504.73 Z\" fill=\"#000000\" fill-rule=\"evenodd\" fill-opacity=\"1\" /><path clip-path=\"url(#clip560)\" d=\"M 0 0 M2316.23 1508.44 Q2312.62 1508.44 2310.79 1512 Q2308.98 1515.55 2308.98 1522.67 Q2308.98 1529.78 2310.79 1533.35 Q2312.62 1536.89 2316.23 1536.89 Q2319.86 1536.89 2321.67 1533.35 Q2323.5 1529.78 2323.5 1522.67 Q2323.5 1515.55 2321.67 1512 Q2319.86 1508.44 2316.23 1508.44 M2316.23 1504.73 Q2322.04 1504.73 2325.09 1509.34 Q2328.17 1513.92 2328.17 1522.67 Q2328.17 1531.4 2325.09 1536.01 Q2322.04 1540.59 2316.23 1540.59 Q2310.42 1540.59 2307.34 1536.01 Q2304.28 1531.4 2304.28 1522.67 Q2304.28 1513.92 2307.34 1509.34 Q2310.42 1504.73 2316.23 1504.73 Z\" fill=\"#000000\" fill-rule=\"evenodd\" fill-opacity=\"1\" /><path clip-path=\"url(#clip560)\" d=\"M 0 0 M98.7327 1311.8 Q95.3994 1311.8 93.4781 1313.58 Q91.5799 1315.37 91.5799 1318.49 Q91.5799 1321.62 93.4781 1323.4 Q95.3994 1325.18 98.7327 1325.18 Q102.066 1325.18 103.987 1323.4 Q105.909 1321.59 105.909 1318.49 Q105.909 1315.37 103.987 1313.58 Q102.089 1311.8 98.7327 1311.8 M94.0568 1309.81 Q91.0475 1309.07 89.3577 1307.01 Q87.6911 1304.95 87.6911 1301.99 Q87.6911 1297.84 90.6309 1295.44 Q93.5938 1293.03 98.7327 1293.03 Q103.895 1293.03 106.834 1295.44 Q109.774 1297.84 109.774 1301.99 Q109.774 1304.95 108.084 1307.01 Q106.418 1309.07 103.432 1309.81 Q106.811 1310.6 108.686 1312.89 Q110.584 1315.18 110.584 1318.49 Q110.584 1323.51 107.506 1326.2 Q104.45 1328.88 98.7327 1328.88 Q93.0151 1328.88 89.9364 1326.2 Q86.8809 1323.51 86.8809 1318.49 Q86.8809 1315.18 88.779 1312.89 Q90.6772 1310.6 94.0568 1309.81 M92.3438 1302.43 Q92.3438 1305.11 94.0105 1306.62 Q95.7003 1308.12 98.7327 1308.12 Q101.742 1308.12 103.432 1306.62 Q105.145 1305.11 105.145 1302.43 Q105.145 1299.74 103.432 1298.24 Q101.742 1296.73 98.7327 1296.73 Q95.7003 1296.73 94.0105 1298.24 Q92.3438 1299.74 92.3438 1302.43 Z\" fill=\"#000000\" fill-rule=\"evenodd\" fill-opacity=\"1\" /><path clip-path=\"url(#clip560)\" d=\"M 0 0 M88.9642 1102.12 L88.9642 1097.86 Q90.7235 1098.69 92.529 1099.13 Q94.3346 1099.57 96.0707 1099.57 Q100.7 1099.57 103.131 1096.47 Q105.584 1093.35 105.932 1087 Q104.589 1088.99 102.529 1090.06 Q100.469 1091.12 97.9688 1091.12 Q92.7836 1091.12 89.7512 1088 Q86.742 1084.85 86.742 1079.41 Q86.742 1074.09 89.8901 1070.87 Q93.0383 1067.65 98.2697 1067.65 Q104.265 1067.65 107.413 1072.26 Q110.584 1076.84 110.584 1085.59 Q110.584 1093.76 106.696 1098.65 Q102.83 1103.51 96.279 1103.51 Q94.5197 1103.51 92.7142 1103.16 Q90.9086 1102.81 88.9642 1102.12 M98.2697 1087.47 Q101.418 1087.47 103.247 1085.31 Q105.098 1083.16 105.098 1079.41 Q105.098 1075.68 103.247 1073.53 Q101.418 1071.36 98.2697 1071.36 Q95.1216 1071.36 93.2697 1073.53 Q91.441 1075.68 91.441 1079.41 Q91.441 1083.16 93.2697 1085.31 Q95.1216 1087.47 98.2697 1087.47 Z\" fill=\"#000000\" fill-rule=\"evenodd\" fill-opacity=\"1\" /><path clip-path=\"url(#clip560)\" d=\"M 0 0 M63.6634 873.526 L71.3023 873.526 L71.3023 847.161 L62.9921 848.827 L62.9921 844.568 L71.256 842.901 L75.9319 842.901 L75.9319 873.526 L83.5707 873.526 L83.5707 877.461 L63.6634 877.461 L63.6634 873.526 Z\" fill=\"#000000\" fill-rule=\"evenodd\" fill-opacity=\"1\" /><path clip-path=\"url(#clip560)\" d=\"M 0 0 M98.6401 845.98 Q95.029 845.98 93.2003 849.545 Q91.3948 853.087 91.3948 860.216 Q91.3948 867.323 93.2003 870.887 Q95.029 874.429 98.6401 874.429 Q102.274 874.429 104.08 870.887 Q105.909 867.323 105.909 860.216 Q105.909 853.087 104.08 849.545 Q102.274 845.98 98.6401 845.98 M98.6401 842.276 Q104.45 842.276 107.506 846.883 Q110.584 851.466 110.584 860.216 Q110.584 868.943 107.506 873.549 Q104.45 878.133 98.6401 878.133 Q92.8299 878.133 89.7512 873.549 Q86.6957 868.943 86.6957 860.216 Q86.6957 851.466 89.7512 846.883 Q92.8299 842.276 98.6401 842.276 Z\" fill=\"#000000\" fill-rule=\"evenodd\" fill-opacity=\"1\" /><path clip-path=\"url(#clip560)\" d=\"M 0 0 M64.8903 648.15 L72.5291 648.15 L72.5291 621.785 L64.219 623.452 L64.219 619.192 L72.4828 617.526 L77.1587 617.526 L77.1587 648.15 L84.7976 648.15 L84.7976 652.086 L64.8903 652.086 L64.8903 648.15 Z\" fill=\"#000000\" fill-rule=\"evenodd\" fill-opacity=\"1\" /><path clip-path=\"url(#clip560)\" d=\"M 0 0 M90.6772 648.15 L98.316 648.15 L98.316 621.785 L90.0059 623.452 L90.0059 619.192 L98.2697 617.526 L102.946 617.526 L102.946 648.15 L110.584 648.15 L110.584 652.086 L90.6772 652.086 L90.6772 648.15 Z\" fill=\"#000000\" fill-rule=\"evenodd\" fill-opacity=\"1\" /><path clip-path=\"url(#clip560)\" d=\"M 0 0 M65.2606 422.775 L72.8995 422.775 L72.8995 396.409 L64.5893 398.076 L64.5893 393.816 L72.8532 392.15 L77.5291 392.15 L77.5291 422.775 L85.1679 422.775 L85.1679 426.71 L65.2606 426.71 L65.2606 422.775 Z\" fill=\"#000000\" fill-rule=\"evenodd\" fill-opacity=\"1\" /><path clip-path=\"url(#clip560)\" d=\"M 0 0 M94.2651 422.775 L110.584 422.775 L110.584 426.71 L88.6401 426.71 L88.6401 422.775 Q91.3022 420.02 95.8855 415.39 Q100.492 410.738 101.672 409.395 Q103.918 406.872 104.797 405.136 Q105.7 403.377 105.7 401.687 Q105.7 398.932 103.756 397.196 Q101.835 395.46 98.7327 395.46 Q96.5336 395.46 94.0799 396.224 Q91.6494 396.988 88.8716 398.539 L88.8716 393.816 Q91.6957 392.682 94.1494 392.104 Q96.6031 391.525 98.6401 391.525 Q104.01 391.525 107.205 394.21 Q110.399 396.895 110.399 401.386 Q110.399 403.516 109.589 405.437 Q108.802 407.335 106.696 409.928 Q106.117 410.599 103.015 413.816 Q99.9132 417.011 94.2651 422.775 Z\" fill=\"#000000\" fill-rule=\"evenodd\" fill-opacity=\"1\" /><path clip-path=\"url(#clip560)\" d=\"M 0 0 M64.3116 197.399 L71.9504 197.399 L71.9504 171.033 L63.6403 172.7 L63.6403 168.441 L71.9041 166.774 L76.58 166.774 L76.58 197.399 L84.2189 197.399 L84.2189 201.334 L64.3116 201.334 L64.3116 197.399 Z\" fill=\"#000000\" fill-rule=\"evenodd\" fill-opacity=\"1\" /><path clip-path=\"url(#clip560)\" d=\"M 0 0 M103.455 182.7 Q106.811 183.417 108.686 185.686 Q110.584 187.954 110.584 191.288 Q110.584 196.404 107.066 199.204 Q103.547 202.005 97.066 202.005 Q94.8901 202.005 92.5753 201.566 Q90.2836 201.149 87.83 200.292 L87.83 195.779 Q89.7744 196.913 92.0892 197.491 Q94.404 198.07 96.9271 198.07 Q101.325 198.07 103.617 196.334 Q105.932 194.598 105.932 191.288 Q105.932 188.232 103.779 186.519 Q101.649 184.783 97.8299 184.783 L93.8021 184.783 L93.8021 180.941 L98.0151 180.941 Q101.464 180.941 103.293 179.575 Q105.122 178.186 105.122 175.593 Q105.122 172.931 103.223 171.519 Q101.348 170.084 97.8299 170.084 Q95.9086 170.084 93.7096 170.501 Q91.5105 170.918 88.8716 171.797 L88.8716 167.631 Q91.5336 166.89 93.8484 166.519 Q96.1864 166.149 98.2466 166.149 Q103.571 166.149 106.672 168.58 Q109.774 170.987 109.774 175.107 Q109.774 177.978 108.131 179.968 Q106.487 181.936 103.455 182.7 Z\" fill=\"#000000\" fill-rule=\"evenodd\" fill-opacity=\"1\" /><polyline clip-path=\"url(#clip562)\" style=\"stroke:#009af9; stroke-width:4; stroke-opacity:1; fill:none\" points=\"\n",
       "  197.363,796.654 201.557,1004.4 205.75,1040.72 209.944,1002.1 214.137,824.844 218.331,1084.52 222.525,1079.15 226.718,616.259 230.912,1026.16 235.105,1058.34 \n",
       "  239.299,843.749 243.493,434.219 247.686,892.147 251.88,951.294 256.074,1306.84 260.267,1113.57 264.461,930.524 268.654,738.496 272.848,773.132 277.042,559.543 \n",
       "  281.235,911.137 285.429,686.696 289.622,703.605 293.816,702.118 298.01,751.464 302.203,493.862 306.397,1004.98 310.591,730.993 314.784,981.413 318.978,1087.49 \n",
       "  323.171,908.317 327.365,663.09 331.559,1218.59 335.752,800.312 339.946,950.295 344.139,668.136 348.333,680.715 352.527,880.345 356.72,1131.23 360.914,1292.99 \n",
       "  365.108,854.928 369.301,534.23 373.495,861.267 377.688,803.122 381.882,1021.56 386.076,873.839 390.269,816.466 394.463,810.577 398.656,908.676 402.85,605.022 \n",
       "  407.044,630.376 411.237,560.849 415.431,1266.97 419.625,1272.35 423.818,1062.14 428.012,674.925 432.205,421.221 436.399,962.953 440.593,873.25 444.786,967.881 \n",
       "  448.98,819.47 453.173,1100.29 457.367,871.42 461.561,753.471 465.754,877.304 469.948,1427.17 474.142,573.012 478.335,449.195 482.529,734.711 486.722,781.061 \n",
       "  490.916,469.302 495.11,1038.8 499.303,675.017 503.497,523.342 507.691,1018.93 511.884,1154.98 516.078,855.81 520.271,945.1 524.465,522.817 528.659,893.493 \n",
       "  532.852,959.505 537.046,911.111 541.239,1166.26 545.433,834.692 549.627,634.042 553.82,832.061 558.014,803.283 562.208,856.085 566.401,706.921 570.595,754.833 \n",
       "  574.788,725.252 578.982,578.328 583.176,786.259 587.369,839.744 591.563,903.044 595.756,1001.28 599.95,789.423 604.144,807.089 608.337,585.421 612.531,758.284 \n",
       "  616.725,853.654 620.918,1070.91 625.112,772.414 629.305,1110.57 633.499,825.717 637.693,1107.87 641.886,811.362 646.08,1036.8 650.273,741.047 654.467,976.676 \n",
       "  658.661,794.957 662.854,1217.1 667.048,616.064 671.242,828.392 675.435,1109.67 679.629,1015.74 683.822,913.126 688.016,780.988 692.21,956.759 696.403,852.166 \n",
       "  700.597,972.687 704.79,629.099 708.984,597.391 713.178,838.298 717.371,778.258 721.565,930.402 725.759,901.79 729.952,894.843 734.146,842.648 738.339,1105.22 \n",
       "  742.533,968.72 746.727,1139.74 750.92,630.977 755.114,1063.04 759.307,659.29 763.501,555.15 767.695,519.77 771.888,668.434 776.082,809.192 780.276,1009.8 \n",
       "  784.469,931.943 788.663,676.045 792.856,464.027 797.05,968.826 801.244,1298.02 805.437,1024.21 809.631,1166.1 813.825,623.526 818.018,1173.69 822.212,835.211 \n",
       "  826.405,1420.74 830.599,786.245 834.793,1043.42 838.986,681.297 843.18,1078.7 847.373,1071.98 851.567,814.911 855.761,920.308 859.954,667.512 864.148,885.24 \n",
       "  868.342,1043.61 872.535,709.614 876.729,1151.63 880.922,626.08 885.116,831.088 889.31,715.169 893.503,918.145 897.697,545.213 901.89,805.909 906.084,734.747 \n",
       "  910.278,1030.11 914.471,925.738 918.665,1027.55 922.859,1103.29 927.052,898.162 931.246,961.927 935.439,1279.31 939.633,687.538 943.827,395.476 948.02,726.037 \n",
       "  952.214,798.164 956.407,1097 960.601,985.481 964.795,902.543 968.988,765.567 973.182,901.602 977.376,881.305 981.569,384.956 985.763,806.473 989.956,857.717 \n",
       "  994.15,801.98 998.344,483.129 1002.54,866.544 1006.73,1156.22 1010.92,628.155 1015.12,1132.45 1019.31,905.944 1023.51,702.179 1027.7,527.072 1031.89,857.711 \n",
       "  1036.09,1082.78 1040.28,1217.03 1044.47,680.568 1048.67,456.851 1052.86,583.079 1057.05,947.876 1061.25,938.124 1065.44,847.028 1069.64,1125.24 1073.83,853.665 \n",
       "  1078.02,326.97 1082.22,737.744 1086.41,621.872 1090.6,1223.97 1094.8,928.76 1098.99,749.895 1103.18,1317.44 1107.38,1329.24 1111.57,782.005 1115.76,873.085 \n",
       "  1119.96,633.429 1124.15,1299.59 1128.35,947.624 1132.54,734.359 1136.73,938.237 1140.93,958.609 1145.12,536.262 1149.31,794.629 1153.51,592.494 1157.7,555.431 \n",
       "  1161.89,417.821 1166.09,396.789 1170.28,760.287 1174.48,883.537 1178.67,595.063 1182.86,509.76 1187.06,888.819 1191.25,693 1195.44,744.048 1199.64,951.895 \n",
       "  1203.83,777.117 1208.02,970.213 1212.22,745.83 1216.41,1329.22 1220.61,727.761 1224.8,136.89 1228.99,921.347 1233.19,745.662 1237.38,586.431 1241.57,772.587 \n",
       "  1245.77,960.34 1249.96,728.446 1254.15,589.3 1258.35,876.934 1262.54,710.558 1266.74,668.876 1270.93,883.237 1275.12,1222.49 1279.32,798.854 1283.51,763.846 \n",
       "  1287.7,929.509 1291.9,920.317 1296.09,1094.52 1300.28,1382.63 1304.48,822.356 1308.67,964.378 1312.86,754.431 1317.06,710.501 1321.25,1068.37 1325.45,1213.89 \n",
       "  1329.64,815.787 1333.83,781.932 1338.03,722.37 1342.22,1019.66 1346.41,705.219 1350.61,1004.15 1354.8,898.028 1358.99,940.573 1363.19,843.809 1367.38,819.255 \n",
       "  1371.58,514.907 1375.77,1008.25 1379.96,1178.97 1384.16,1005.82 1388.35,867.129 1392.54,939.733 1396.74,778.401 1400.93,709.464 1405.12,948.058 1409.32,905.699 \n",
       "  1413.51,1152.15 1417.71,872.323 1421.9,817.412 1426.09,717.339 1430.29,563.186 1434.48,608.404 1438.67,903.678 1442.87,786.009 1447.06,838.3 1451.25,880.958 \n",
       "  1455.45,1091.75 1459.64,393.466 1463.84,879.052 1468.03,526.896 1472.22,790.227 1476.42,404.108 1480.61,744.6 1484.8,848.755 1489,890.75 1493.19,1275.32 \n",
       "  1497.38,495.122 1501.58,87.9763 1505.77,826.07 1509.96,817.53 1514.16,704.439 1518.35,545.794 1522.55,773.019 1526.74,905.71 1530.93,1093.39 1535.13,569.804 \n",
       "  1539.32,278.059 1543.51,551.023 1547.71,957.62 1551.9,1139.04 1556.09,761.934 1560.29,1069.17 1564.48,874.265 1568.68,1092.45 1572.87,876.24 1577.06,1240.26 \n",
       "  1581.26,839.425 1585.45,920.018 1589.64,919.017 1593.84,1445.72 1598.03,829.642 1602.22,948.565 1606.42,644.255 1610.61,1029.64 1614.81,849.988 1619,493.468 \n",
       "  1623.19,655.832 1627.39,787.163 1631.58,891.885 1635.77,682.306 1639.97,419.823 1644.16,683.733 1648.35,322.306 1652.55,930.736 1656.74,807.731 1660.94,684.029 \n",
       "  1665.13,1175.81 1669.32,602.421 1673.52,947.544 1677.71,830.223 1681.9,309.36 1686.1,516.046 1690.29,762.024 1694.48,1024.64 1698.68,585.709 1702.87,1248.49 \n",
       "  1707.06,1166.55 1711.26,565.273 1715.45,999.944 1719.65,844.303 1723.84,919.543 1728.03,1041.09 1732.23,1027.12 1736.42,873.324 1740.61,761.715 1744.81,989.397 \n",
       "  1749,1195.51 1753.19,980.449 1757.39,1124.23 1761.58,1102.27 1765.78,978.676 1769.97,738.209 1774.16,794.83 1778.36,905.568 1782.55,1145.39 1786.74,1044.49 \n",
       "  1790.94,1140.86 1795.13,1000.83 1799.32,566.382 1803.52,904.26 1807.71,760.836 1811.91,1020.64 1816.1,904.342 1820.29,749.891 1824.49,580.493 1828.68,576.363 \n",
       "  1832.87,659.623 1837.07,899.832 1841.26,358.309 1845.45,742.345 1849.65,1022.41 1853.84,1021.74 1858.03,907.345 1862.23,815.073 1866.42,578.353 1870.62,513.129 \n",
       "  1874.81,753.842 1879,832.766 1883.2,733.889 1887.39,486.895 1891.58,811.305 1895.78,1301.82 1899.97,716.897 1904.16,812.964 1908.36,793.715 1912.55,902.814 \n",
       "  1916.75,711.261 1920.94,829.238 1925.13,832.157 1929.33,998.377 1933.52,792.931 1937.71,620.111 1941.91,1195.4 1946.1,852.544 1950.29,1126.59 1954.49,775.432 \n",
       "  1958.68,676.619 1962.88,802.08 1967.07,585.877 1971.26,415.179 1975.46,1126.86 1979.65,1097.91 1983.84,852.211 1988.04,672.24 1992.23,662.523 1996.42,524.296 \n",
       "  2000.62,736.383 2004.81,726.698 2009.01,643.796 2013.2,714.711 2017.39,1126.69 2021.59,1104.46 2025.78,566.357 2029.97,744.862 2034.17,610.453 2038.36,926.645 \n",
       "  2042.55,1065.56 2046.75,1327.33 2050.94,814.423 2055.13,689.057 2059.33,786.186 2063.52,580.597 2067.72,940.131 2071.91,877.101 2076.1,844.941 2080.3,655.922 \n",
       "  2084.49,646.77 2088.68,1018.99 2092.88,761.87 2097.07,610.529 2101.26,1007.8 2105.46,348.846 2109.65,682.536 2113.85,877.657 2118.04,903.559 2122.23,1125.62 \n",
       "  2126.43,803.575 2130.62,1109.34 2134.81,985.442 2139.01,1112.89 2143.2,969.808 2147.39,749.451 2151.59,857.291 2155.78,1241.04 2159.98,1007.46 2164.17,827.587 \n",
       "  2168.36,982.673 2172.56,582.717 2176.75,580.46 2180.94,1270.13 2185.14,1146.04 2189.33,985.572 2193.52,555.092 2197.72,732.818 2201.91,932.662 2206.11,1145.98 \n",
       "  2210.3,1011.15 2214.49,853.623 2218.69,830.45 2222.88,711.803 2227.07,924.554 2231.27,179.069 2235.46,295.77 2239.65,846.88 2243.85,584.489 2248.04,930.045 \n",
       "  2252.23,772.226 2256.43,1032.74 2260.62,744.03 2264.82,849.95 2269.01,725.663 2273.2,1178.11 2277.4,959.637 2281.59,808.405 2285.78,891.687 2289.98,598.482 \n",
       "  \n",
       "  \"/>\n",
       "</svg>\n"
      ]
     },
     "execution_count": 57,
     "metadata": {},
     "output_type": "execute_result"
    }
   ],
   "source": [
    "xs = range(1,500,length=500)\n",
    "ys = randn(500) .+ 10\n",
    "@printf \"Mean of readings is %.3f\" mean(ys)\n",
    "plot(xs, ys, leg=false)"
   ]
  },
  {
   "cell_type": "markdown",
   "metadata": {},
   "source": [
    "Eyeballing this confirms our intuition - no dog moves like this. However, noisy sensor data certainly looks this way.  The computed mean of the readings is almost exactly 10. Assuming the dog is standing still, we say the dog is at position 10 with a variance of 1."
   ]
  },
  {
   "cell_type": "markdown",
   "metadata": {},
   "source": [
    "## Tracking with Gaussian Probabilities\n",
    "\n",
    "The discrete Bayes filter used a histogram of probabilities to track the dog. Each bin in the histogram represents a position, and the value is the probability of the dog being in that position.\n",
    "\n",
    "Tracking was performed with a cycle of predictions and updates. We used the equations \n",
    "\n",
    "$$\\begin{aligned} \n",
    "\\bar {\\mathbf x} &= \\mathbf x \\ast f_{\\mathbf x}(\\bullet)\\, \\, &\\text{Predict} \\\\\n",
    "\\mathbf x &= \\mathcal L \\cdot \\bar{\\mathbf x}\\, \\, &\\text{Update}\n",
    "\\end{aligned}$$\n",
    "\n",
    "to compute the new probability distributions. Recall that $\\bar{\\mathbf x}$ is the *prior*, $\\mathcal L$ is the *likelihood* of a measurement given the prior $\\bar{\\mathbf x}$, $f_{\\mathbf x}(\\bullet)$ is the *process model*, and $\\ast$ denotes *convolution*. $\\mathbf x$ is bold to denote that it is a histogram of numbers, or a vector.\n",
    "\n",
    "This method works, but led to histograms that implied the dog could be in multiple places at once. Also, the computations are very slow for large problems.\n",
    "\n",
    "Can we replace $\\mathbf x$, the histogram, with a Gaussian $\\mathcal N(x, \\sigma^2)$? Absolutely! We've learned how to express belief as a Gaussian. A Gaussian, which is a single number pair $\\mathcal N(\\mu, \\sigma^2),$ can replace an entire histogram of probabilities:"
   ]
  },
  {
   "cell_type": "code",
   "execution_count": 58,
   "metadata": {},
   "outputs": [
    {
     "data": {
      "image/svg+xml": [
       "<?xml version=\"1.0\" encoding=\"utf-8\"?>\n",
       "<svg xmlns=\"http://www.w3.org/2000/svg\" xmlns:xlink=\"http://www.w3.org/1999/xlink\" width=\"600\" height=\"400\" viewBox=\"0 0 2400 1600\">\n",
       "<defs>\n",
       "  <clipPath id=\"clip600\">\n",
       "    <rect x=\"0\" y=\"0\" width=\"2400\" height=\"1600\"/>\n",
       "  </clipPath>\n",
       "</defs>\n",
       "<path clip-path=\"url(#clip600)\" d=\"\n",
       "M0 1600 L2400 1600 L2400 0 L0 0  Z\n",
       "  \" fill=\"#ffffff\" fill-rule=\"evenodd\" fill-opacity=\"1\"/>\n",
       "<defs>\n",
       "  <clipPath id=\"clip601\">\n",
       "    <rect x=\"480\" y=\"0\" width=\"1681\" height=\"1600\"/>\n",
       "  </clipPath>\n",
       "</defs>\n",
       "<path clip-path=\"url(#clip600)\" d=\"\n",
       "M148.334 1486.45 L2352.76 1486.45 L2352.76 47.2441 L148.334 47.2441  Z\n",
       "  \" fill=\"#ffffff\" fill-rule=\"evenodd\" fill-opacity=\"1\"/>\n",
       "<defs>\n",
       "  <clipPath id=\"clip602\">\n",
       "    <rect x=\"148\" y=\"47\" width=\"2205\" height=\"1440\"/>\n",
       "  </clipPath>\n",
       "</defs>\n",
       "<polyline clip-path=\"url(#clip602)\" style=\"stroke:#000000; stroke-width:2; stroke-opacity:0.1; fill:none\" points=\"\n",
       "  418.688,1486.45 418.688,47.2441 \n",
       "  \"/>\n",
       "<polyline clip-path=\"url(#clip602)\" style=\"stroke:#000000; stroke-width:2; stroke-opacity:0.1; fill:none\" points=\"\n",
       "  834.617,1486.45 834.617,47.2441 \n",
       "  \"/>\n",
       "<polyline clip-path=\"url(#clip602)\" style=\"stroke:#000000; stroke-width:2; stroke-opacity:0.1; fill:none\" points=\"\n",
       "  1250.55,1486.45 1250.55,47.2441 \n",
       "  \"/>\n",
       "<polyline clip-path=\"url(#clip602)\" style=\"stroke:#000000; stroke-width:2; stroke-opacity:0.1; fill:none\" points=\"\n",
       "  1666.47,1486.45 1666.47,47.2441 \n",
       "  \"/>\n",
       "<polyline clip-path=\"url(#clip602)\" style=\"stroke:#000000; stroke-width:2; stroke-opacity:0.1; fill:none\" points=\"\n",
       "  2082.4,1486.45 2082.4,47.2441 \n",
       "  \"/>\n",
       "<polyline clip-path=\"url(#clip602)\" style=\"stroke:#000000; stroke-width:2; stroke-opacity:0.1; fill:none\" points=\"\n",
       "  148.334,1445.72 2352.76,1445.72 \n",
       "  \"/>\n",
       "<polyline clip-path=\"url(#clip602)\" style=\"stroke:#000000; stroke-width:2; stroke-opacity:0.1; fill:none\" points=\"\n",
       "  148.334,1104.95 2352.76,1104.95 \n",
       "  \"/>\n",
       "<polyline clip-path=\"url(#clip602)\" style=\"stroke:#000000; stroke-width:2; stroke-opacity:0.1; fill:none\" points=\"\n",
       "  148.334,764.177 2352.76,764.177 \n",
       "  \"/>\n",
       "<polyline clip-path=\"url(#clip602)\" style=\"stroke:#000000; stroke-width:2; stroke-opacity:0.1; fill:none\" points=\"\n",
       "  148.334,423.408 2352.76,423.408 \n",
       "  \"/>\n",
       "<polyline clip-path=\"url(#clip602)\" style=\"stroke:#000000; stroke-width:2; stroke-opacity:0.1; fill:none\" points=\"\n",
       "  148.334,82.6392 2352.76,82.6392 \n",
       "  \"/>\n",
       "<polyline clip-path=\"url(#clip600)\" style=\"stroke:#000000; stroke-width:4; stroke-opacity:1; fill:none\" points=\"\n",
       "  148.334,1486.45 2352.76,1486.45 \n",
       "  \"/>\n",
       "<polyline clip-path=\"url(#clip600)\" style=\"stroke:#000000; stroke-width:4; stroke-opacity:1; fill:none\" points=\"\n",
       "  148.334,1486.45 148.334,47.2441 \n",
       "  \"/>\n",
       "<polyline clip-path=\"url(#clip600)\" style=\"stroke:#000000; stroke-width:4; stroke-opacity:1; fill:none\" points=\"\n",
       "  418.688,1486.45 418.688,1469.18 \n",
       "  \"/>\n",
       "<polyline clip-path=\"url(#clip600)\" style=\"stroke:#000000; stroke-width:4; stroke-opacity:1; fill:none\" points=\"\n",
       "  834.617,1486.45 834.617,1469.18 \n",
       "  \"/>\n",
       "<polyline clip-path=\"url(#clip600)\" style=\"stroke:#000000; stroke-width:4; stroke-opacity:1; fill:none\" points=\"\n",
       "  1250.55,1486.45 1250.55,1469.18 \n",
       "  \"/>\n",
       "<polyline clip-path=\"url(#clip600)\" style=\"stroke:#000000; stroke-width:4; stroke-opacity:1; fill:none\" points=\"\n",
       "  1666.47,1486.45 1666.47,1469.18 \n",
       "  \"/>\n",
       "<polyline clip-path=\"url(#clip600)\" style=\"stroke:#000000; stroke-width:4; stroke-opacity:1; fill:none\" points=\"\n",
       "  2082.4,1486.45 2082.4,1469.18 \n",
       "  \"/>\n",
       "<polyline clip-path=\"url(#clip600)\" style=\"stroke:#000000; stroke-width:4; stroke-opacity:1; fill:none\" points=\"\n",
       "  148.334,1445.72 174.787,1445.72 \n",
       "  \"/>\n",
       "<polyline clip-path=\"url(#clip600)\" style=\"stroke:#000000; stroke-width:4; stroke-opacity:1; fill:none\" points=\"\n",
       "  148.334,1104.95 174.787,1104.95 \n",
       "  \"/>\n",
       "<polyline clip-path=\"url(#clip600)\" style=\"stroke:#000000; stroke-width:4; stroke-opacity:1; fill:none\" points=\"\n",
       "  148.334,764.177 174.787,764.177 \n",
       "  \"/>\n",
       "<polyline clip-path=\"url(#clip600)\" style=\"stroke:#000000; stroke-width:4; stroke-opacity:1; fill:none\" points=\"\n",
       "  148.334,423.408 174.787,423.408 \n",
       "  \"/>\n",
       "<polyline clip-path=\"url(#clip600)\" style=\"stroke:#000000; stroke-width:4; stroke-opacity:1; fill:none\" points=\"\n",
       "  148.334,82.6392 174.787,82.6392 \n",
       "  \"/>\n",
       "<path clip-path=\"url(#clip600)\" d=\"M 0 0 M419.093 1520.78 Q415.945 1520.78 414.093 1522.93 Q412.264 1525.08 412.264 1528.83 Q412.264 1532.56 414.093 1534.73 Q415.945 1536.89 419.093 1536.89 Q422.241 1536.89 424.07 1534.73 Q425.922 1532.56 425.922 1528.83 Q425.922 1525.08 424.07 1522.93 Q422.241 1520.78 419.093 1520.78 M428.375 1506.12 L428.375 1510.38 Q426.616 1509.55 424.811 1509.11 Q423.028 1508.67 421.269 1508.67 Q416.639 1508.67 414.186 1511.8 Q411.755 1514.92 411.408 1521.24 Q412.774 1519.23 414.834 1518.16 Q416.894 1517.07 419.371 1517.07 Q424.579 1517.07 427.588 1520.24 Q430.621 1523.39 430.621 1528.83 Q430.621 1534.16 427.473 1537.37 Q424.325 1540.59 419.093 1540.59 Q413.098 1540.59 409.926 1536.01 Q406.755 1531.4 406.755 1522.67 Q406.755 1514.48 410.644 1509.62 Q414.533 1504.73 421.084 1504.73 Q422.843 1504.73 424.625 1505.08 Q426.431 1505.43 428.375 1506.12 Z\" fill=\"#000000\" fill-rule=\"evenodd\" fill-opacity=\"1\" /><path clip-path=\"url(#clip600)\" d=\"M 0 0 M834.617 1523.51 Q831.283 1523.51 829.362 1525.29 Q827.464 1527.07 827.464 1530.2 Q827.464 1533.32 829.362 1535.11 Q831.283 1536.89 834.617 1536.89 Q837.95 1536.89 839.871 1535.11 Q841.792 1533.3 841.792 1530.2 Q841.792 1527.07 839.871 1525.29 Q837.973 1523.51 834.617 1523.51 M829.941 1521.52 Q826.931 1520.78 825.242 1518.72 Q823.575 1516.66 823.575 1513.69 Q823.575 1509.55 826.515 1507.14 Q829.478 1504.73 834.617 1504.73 Q839.779 1504.73 842.718 1507.14 Q845.658 1509.55 845.658 1513.69 Q845.658 1516.66 843.968 1518.72 Q842.302 1520.78 839.316 1521.52 Q842.695 1522.3 844.57 1524.6 Q846.468 1526.89 846.468 1530.2 Q846.468 1535.22 843.39 1537.91 Q840.334 1540.59 834.617 1540.59 Q828.899 1540.59 825.82 1537.91 Q822.765 1535.22 822.765 1530.2 Q822.765 1526.89 824.663 1524.6 Q826.561 1522.3 829.941 1521.52 M828.228 1514.13 Q828.228 1516.82 829.894 1518.32 Q831.584 1519.83 834.617 1519.83 Q837.626 1519.83 839.316 1518.32 Q841.029 1516.82 841.029 1514.13 Q841.029 1511.45 839.316 1509.94 Q837.626 1508.44 834.617 1508.44 Q831.584 1508.44 829.894 1509.94 Q828.228 1511.45 828.228 1514.13 Z\" fill=\"#000000\" fill-rule=\"evenodd\" fill-opacity=\"1\" /><path clip-path=\"url(#clip600)\" d=\"M 0 0 M1227.42 1535.98 L1235.06 1535.98 L1235.06 1509.62 L1226.75 1511.29 L1226.75 1507.03 L1235.01 1505.36 L1239.69 1505.36 L1239.69 1535.98 L1247.33 1535.98 L1247.33 1539.92 L1227.42 1539.92 L1227.42 1535.98 Z\" fill=\"#000000\" fill-rule=\"evenodd\" fill-opacity=\"1\" /><path clip-path=\"url(#clip600)\" d=\"M 0 0 M1262.4 1508.44 Q1258.79 1508.44 1256.96 1512 Q1255.15 1515.55 1255.15 1522.67 Q1255.15 1529.78 1256.96 1533.35 Q1258.79 1536.89 1262.4 1536.89 Q1266.03 1536.89 1267.84 1533.35 Q1269.67 1529.78 1269.67 1522.67 Q1269.67 1515.55 1267.84 1512 Q1266.03 1508.44 1262.4 1508.44 M1262.4 1504.73 Q1268.21 1504.73 1271.26 1509.34 Q1274.34 1513.92 1274.34 1522.67 Q1274.34 1531.4 1271.26 1536.01 Q1268.21 1540.59 1262.4 1540.59 Q1256.59 1540.59 1253.51 1536.01 Q1250.45 1531.4 1250.45 1522.67 Q1250.45 1513.92 1253.51 1509.34 Q1256.59 1504.73 1262.4 1504.73 Z\" fill=\"#000000\" fill-rule=\"evenodd\" fill-opacity=\"1\" /><path clip-path=\"url(#clip600)\" d=\"M 0 0 M1644.15 1535.98 L1651.79 1535.98 L1651.79 1509.62 L1643.48 1511.29 L1643.48 1507.03 L1651.74 1505.36 L1656.42 1505.36 L1656.42 1535.98 L1664.05 1535.98 L1664.05 1539.92 L1644.15 1539.92 L1644.15 1535.98 Z\" fill=\"#000000\" fill-rule=\"evenodd\" fill-opacity=\"1\" /><path clip-path=\"url(#clip600)\" d=\"M 0 0 M1673.15 1535.98 L1689.47 1535.98 L1689.47 1539.92 L1667.53 1539.92 L1667.53 1535.98 Q1670.19 1533.23 1674.77 1528.6 Q1679.38 1523.95 1680.56 1522.61 Q1682.8 1520.08 1683.68 1518.35 Q1684.59 1516.59 1684.59 1514.9 Q1684.59 1512.14 1682.64 1510.41 Q1680.72 1508.67 1677.62 1508.67 Q1675.42 1508.67 1672.97 1509.43 Q1670.54 1510.2 1667.76 1511.75 L1667.76 1507.03 Q1670.58 1505.89 1673.04 1505.31 Q1675.49 1504.73 1677.53 1504.73 Q1682.9 1504.73 1686.09 1507.42 Q1689.29 1510.11 1689.29 1514.6 Q1689.29 1516.73 1688.48 1518.65 Q1687.69 1520.54 1685.58 1523.14 Q1685 1523.81 1681.9 1527.03 Q1678.8 1530.22 1673.15 1535.98 Z\" fill=\"#000000\" fill-rule=\"evenodd\" fill-opacity=\"1\" /><path clip-path=\"url(#clip600)\" d=\"M 0 0 M2059.03 1535.98 L2066.67 1535.98 L2066.67 1509.62 L2058.36 1511.29 L2058.36 1507.03 L2066.63 1505.36 L2071.3 1505.36 L2071.3 1535.98 L2078.94 1535.98 L2078.94 1539.92 L2059.03 1539.92 L2059.03 1535.98 Z\" fill=\"#000000\" fill-rule=\"evenodd\" fill-opacity=\"1\" /><path clip-path=\"url(#clip600)\" d=\"M 0 0 M2096.86 1509.43 L2085.05 1527.88 L2096.86 1527.88 L2096.86 1509.43 M2095.63 1505.36 L2101.51 1505.36 L2101.51 1527.88 L2106.44 1527.88 L2106.44 1531.77 L2101.51 1531.77 L2101.51 1539.92 L2096.86 1539.92 L2096.86 1531.77 L2081.26 1531.77 L2081.26 1527.26 L2095.63 1505.36 Z\" fill=\"#000000\" fill-rule=\"evenodd\" fill-opacity=\"1\" /><path clip-path=\"url(#clip600)\" d=\"M 0 0 M75.4226 1431.51 Q71.8115 1431.51 69.9828 1435.08 Q68.1773 1438.62 68.1773 1445.75 Q68.1773 1452.86 69.9828 1456.42 Q71.8115 1459.96 75.4226 1459.96 Q79.0569 1459.96 80.8624 1456.42 Q82.6911 1452.86 82.6911 1445.75 Q82.6911 1438.62 80.8624 1435.08 Q79.0569 1431.51 75.4226 1431.51 M75.4226 1427.81 Q81.2328 1427.81 84.2883 1432.42 Q87.367 1437 87.367 1445.75 Q87.367 1454.48 84.2883 1459.08 Q81.2328 1463.67 75.4226 1463.67 Q69.6125 1463.67 66.5338 1459.08 Q63.4782 1454.48 63.4782 1445.75 Q63.4782 1437 66.5338 1432.42 Q69.6125 1427.81 75.4226 1427.81 Z\" fill=\"#000000\" fill-rule=\"evenodd\" fill-opacity=\"1\" /><path clip-path=\"url(#clip600)\" d=\"M 0 0 M92.4364 1457.12 L97.3206 1457.12 L97.3206 1463 L92.4364 1463 L92.4364 1457.12 Z\" fill=\"#000000\" fill-rule=\"evenodd\" fill-opacity=\"1\" /><path clip-path=\"url(#clip600)\" d=\"M 0 0 M112.39 1431.51 Q108.779 1431.51 106.95 1435.08 Q105.145 1438.62 105.145 1445.75 Q105.145 1452.86 106.95 1456.42 Q108.779 1459.96 112.39 1459.96 Q116.024 1459.96 117.83 1456.42 Q119.658 1452.86 119.658 1445.75 Q119.658 1438.62 117.83 1435.08 Q116.024 1431.51 112.39 1431.51 M112.39 1427.81 Q118.2 1427.81 121.256 1432.42 Q124.334 1437 124.334 1445.75 Q124.334 1454.48 121.256 1459.08 Q118.2 1463.67 112.39 1463.67 Q106.58 1463.67 103.501 1459.08 Q100.446 1454.48 100.446 1445.75 Q100.446 1437 103.501 1432.42 Q106.58 1427.81 112.39 1427.81 Z\" fill=\"#000000\" fill-rule=\"evenodd\" fill-opacity=\"1\" /><path clip-path=\"url(#clip600)\" d=\"M 0 0 M76.6495 1090.75 Q73.0384 1090.75 71.2097 1094.31 Q69.4041 1097.85 69.4041 1104.98 Q69.4041 1112.09 71.2097 1115.65 Q73.0384 1119.19 76.6495 1119.19 Q80.2837 1119.19 82.0892 1115.65 Q83.9179 1112.09 83.9179 1104.98 Q83.9179 1097.85 82.0892 1094.31 Q80.2837 1090.75 76.6495 1090.75 M76.6495 1087.04 Q82.4596 1087.04 85.5152 1091.65 Q88.5938 1096.23 88.5938 1104.98 Q88.5938 1113.71 85.5152 1118.31 Q82.4596 1122.9 76.6495 1122.9 Q70.8393 1122.9 67.7606 1118.31 Q64.7051 1113.71 64.7051 1104.98 Q64.7051 1096.23 67.7606 1091.65 Q70.8393 1087.04 76.6495 1087.04 Z\" fill=\"#000000\" fill-rule=\"evenodd\" fill-opacity=\"1\" /><path clip-path=\"url(#clip600)\" d=\"M 0 0 M93.6633 1116.35 L98.5475 1116.35 L98.5475 1122.23 L93.6633 1122.23 L93.6633 1116.35 Z\" fill=\"#000000\" fill-rule=\"evenodd\" fill-opacity=\"1\" /><path clip-path=\"url(#clip600)\" d=\"M 0 0 M104.427 1118.29 L112.066 1118.29 L112.066 1091.93 L103.756 1093.59 L103.756 1089.33 L112.02 1087.67 L116.696 1087.67 L116.696 1118.29 L124.334 1118.29 L124.334 1122.23 L104.427 1122.23 L104.427 1118.29 Z\" fill=\"#000000\" fill-rule=\"evenodd\" fill-opacity=\"1\" /><path clip-path=\"url(#clip600)\" d=\"M 0 0 M77.0198 749.976 Q73.4087 749.976 71.58 753.541 Q69.7745 757.083 69.7745 764.212 Q69.7745 771.319 71.58 774.883 Q73.4087 778.425 77.0198 778.425 Q80.6541 778.425 82.4596 774.883 Q84.2883 771.319 84.2883 764.212 Q84.2883 757.083 82.4596 753.541 Q80.6541 749.976 77.0198 749.976 M77.0198 746.272 Q82.83 746.272 85.8855 750.879 Q88.9642 755.462 88.9642 764.212 Q88.9642 772.939 85.8855 777.545 Q82.83 782.129 77.0198 782.129 Q71.2097 782.129 68.131 777.545 Q65.0754 772.939 65.0754 764.212 Q65.0754 755.462 68.131 750.879 Q71.2097 746.272 77.0198 746.272 Z\" fill=\"#000000\" fill-rule=\"evenodd\" fill-opacity=\"1\" /><path clip-path=\"url(#clip600)\" d=\"M 0 0 M94.0336 775.578 L98.9179 775.578 L98.9179 781.457 L94.0336 781.457 L94.0336 775.578 Z\" fill=\"#000000\" fill-rule=\"evenodd\" fill-opacity=\"1\" /><path clip-path=\"url(#clip600)\" d=\"M 0 0 M108.015 777.522 L124.334 777.522 L124.334 781.457 L102.39 781.457 L102.39 777.522 Q105.052 774.768 109.635 770.138 Q114.242 765.485 115.422 764.143 Q117.668 761.62 118.547 759.883 Q119.45 758.124 119.45 756.434 Q119.45 753.68 117.506 751.944 Q115.584 750.208 112.483 750.208 Q110.284 750.208 107.83 750.971 Q105.399 751.735 102.622 753.286 L102.622 748.564 Q105.446 747.43 107.899 746.851 Q110.353 746.272 112.39 746.272 Q117.76 746.272 120.955 748.958 Q124.149 751.643 124.149 756.133 Q124.149 758.263 123.339 760.184 Q122.552 762.083 120.446 764.675 Q119.867 765.346 116.765 768.564 Q113.663 771.758 108.015 777.522 Z\" fill=\"#000000\" fill-rule=\"evenodd\" fill-opacity=\"1\" /><path clip-path=\"url(#clip600)\" d=\"M 0 0 M76.0708 409.207 Q72.4597 409.207 70.631 412.772 Q68.8254 416.313 68.8254 423.443 Q68.8254 430.549 70.631 434.114 Q72.4597 437.656 76.0708 437.656 Q79.705 437.656 81.5105 434.114 Q83.3392 430.549 83.3392 423.443 Q83.3392 416.313 81.5105 412.772 Q79.705 409.207 76.0708 409.207 M76.0708 405.503 Q81.8809 405.503 84.9365 410.11 Q88.0151 414.693 88.0151 423.443 Q88.0151 432.17 84.9365 436.776 Q81.8809 441.36 76.0708 441.36 Q70.2606 441.36 67.1819 436.776 Q64.1264 432.17 64.1264 423.443 Q64.1264 414.693 67.1819 410.11 Q70.2606 405.503 76.0708 405.503 Z\" fill=\"#000000\" fill-rule=\"evenodd\" fill-opacity=\"1\" /><path clip-path=\"url(#clip600)\" d=\"M 0 0 M93.0846 434.809 L97.9688 434.809 L97.9688 440.688 L93.0846 440.688 L93.0846 434.809 Z\" fill=\"#000000\" fill-rule=\"evenodd\" fill-opacity=\"1\" /><path clip-path=\"url(#clip600)\" d=\"M 0 0 M117.205 422.054 Q120.561 422.772 122.436 425.04 Q124.334 427.309 124.334 430.642 Q124.334 435.758 120.816 438.559 Q117.297 441.36 110.816 441.36 Q108.64 441.36 106.325 440.92 Q104.034 440.503 101.58 439.647 L101.58 435.133 Q103.524 436.267 105.839 436.846 Q108.154 437.424 110.677 437.424 Q115.075 437.424 117.367 435.688 Q119.682 433.952 119.682 430.642 Q119.682 427.587 117.529 425.874 Q115.399 424.137 111.58 424.137 L107.552 424.137 L107.552 420.295 L111.765 420.295 Q115.214 420.295 117.043 418.929 Q118.871 417.54 118.871 414.948 Q118.871 412.286 116.973 410.874 Q115.098 409.438 111.58 409.438 Q109.659 409.438 107.459 409.855 Q105.26 410.272 102.622 411.151 L102.622 406.985 Q105.284 406.244 107.598 405.874 Q109.936 405.503 111.996 405.503 Q117.321 405.503 120.422 407.934 Q123.524 410.341 123.524 414.462 Q123.524 417.332 121.881 419.323 Q120.237 421.29 117.205 422.054 Z\" fill=\"#000000\" fill-rule=\"evenodd\" fill-opacity=\"1\" /><path clip-path=\"url(#clip600)\" d=\"M 0 0 M74.9365 68.4378 Q71.3254 68.4378 69.4967 72.0026 Q67.6912 75.5443 67.6912 82.6739 Q67.6912 89.7803 69.4967 93.3451 Q71.3254 96.8868 74.9365 96.8868 Q78.5707 96.8868 80.3763 93.3451 Q82.205 89.7803 82.205 82.6739 Q82.205 75.5443 80.3763 72.0026 Q78.5707 68.4378 74.9365 68.4378 M74.9365 64.7342 Q80.7467 64.7342 83.8022 69.3406 Q86.8809 73.9239 86.8809 82.6739 Q86.8809 91.4007 83.8022 96.0071 Q80.7467 100.59 74.9365 100.59 Q69.1264 100.59 66.0477 96.0071 Q62.9921 91.4007 62.9921 82.6739 Q62.9921 73.9239 66.0477 69.3406 Q69.1264 64.7342 74.9365 64.7342 Z\" fill=\"#000000\" fill-rule=\"evenodd\" fill-opacity=\"1\" /><path clip-path=\"url(#clip600)\" d=\"M 0 0 M91.9503 94.0396 L96.8345 94.0396 L96.8345 99.9192 L91.9503 99.9192 L91.9503 94.0396 Z\" fill=\"#000000\" fill-rule=\"evenodd\" fill-opacity=\"1\" /><path clip-path=\"url(#clip600)\" d=\"M 0 0 M114.751 69.4332 L102.946 87.8822 L114.751 87.8822 L114.751 69.4332 M113.524 65.3592 L119.404 65.3592 L119.404 87.8822 L124.334 87.8822 L124.334 91.7711 L119.404 91.7711 L119.404 99.9192 L114.751 99.9192 L114.751 91.7711 L99.1493 91.7711 L99.1493 87.2572 L113.524 65.3592 Z\" fill=\"#000000\" fill-rule=\"evenodd\" fill-opacity=\"1\" /><path clip-path=\"url(#clip602)\" d=\"\n",
       "M834.617 1036.79 L834.617 1445.72 L938.599 1445.72 L938.599 1036.79 L834.617 1036.79 L834.617 1036.79  Z\n",
       "  \" fill=\"#009af9\" fill-rule=\"evenodd\" fill-opacity=\"1\"/>\n",
       "<polyline clip-path=\"url(#clip602)\" style=\"stroke:#000000; stroke-width:4; stroke-opacity:1; fill:none\" points=\"\n",
       "  834.617,1036.79 834.617,1445.72 938.599,1445.72 938.599,1036.79 834.617,1036.79 \n",
       "  \"/>\n",
       "<path clip-path=\"url(#clip602)\" d=\"\n",
       "M938.599 423.408 L938.599 1445.72 L1042.58 1445.72 L1042.58 423.408 L938.599 423.408 L938.599 423.408  Z\n",
       "  \" fill=\"#009af9\" fill-rule=\"evenodd\" fill-opacity=\"1\"/>\n",
       "<polyline clip-path=\"url(#clip602)\" style=\"stroke:#000000; stroke-width:4; stroke-opacity:1; fill:none\" points=\"\n",
       "  938.599,423.408 938.599,1445.72 1042.58,1445.72 1042.58,423.408 938.599,423.408 \n",
       "  \"/>\n",
       "<path clip-path=\"url(#clip602)\" d=\"\n",
       "M1042.58 559.716 L1042.58 1445.72 L1146.56 1445.72 L1146.56 559.716 L1042.58 559.716 L1042.58 559.716  Z\n",
       "  \" fill=\"#009af9\" fill-rule=\"evenodd\" fill-opacity=\"1\"/>\n",
       "<polyline clip-path=\"url(#clip602)\" style=\"stroke:#000000; stroke-width:4; stroke-opacity:1; fill:none\" points=\"\n",
       "  1042.58,559.716 1042.58,1445.72 1146.56,1445.72 1146.56,559.716 1042.58,559.716 \n",
       "  \"/>\n",
       "<path clip-path=\"url(#clip602)\" d=\"\n",
       "M1146.56 218.947 L1146.56 1445.72 L1250.55 1445.72 L1250.55 218.947 L1146.56 218.947 L1146.56 218.947  Z\n",
       "  \" fill=\"#009af9\" fill-rule=\"evenodd\" fill-opacity=\"1\"/>\n",
       "<polyline clip-path=\"url(#clip602)\" style=\"stroke:#000000; stroke-width:4; stroke-opacity:1; fill:none\" points=\"\n",
       "  1146.56,218.947 1146.56,1445.72 1250.55,1445.72 1250.55,218.947 1146.56,218.947 \n",
       "  \"/>\n",
       "<path clip-path=\"url(#clip602)\" d=\"\n",
       "M1250.55 355.254 L1250.55 1445.72 L1354.53 1445.72 L1354.53 355.254 L1250.55 355.254 L1250.55 355.254  Z\n",
       "  \" fill=\"#009af9\" fill-rule=\"evenodd\" fill-opacity=\"1\"/>\n",
       "<polyline clip-path=\"url(#clip602)\" style=\"stroke:#000000; stroke-width:4; stroke-opacity:1; fill:none\" points=\"\n",
       "  1250.55,355.254 1250.55,1445.72 1354.53,1445.72 1354.53,355.254 1250.55,355.254 \n",
       "  \"/>\n",
       "<path clip-path=\"url(#clip602)\" d=\"\n",
       "M1354.53 355.254 L1354.53 1445.72 L1458.51 1445.72 L1458.51 355.254 L1354.53 355.254 L1354.53 355.254  Z\n",
       "  \" fill=\"#009af9\" fill-rule=\"evenodd\" fill-opacity=\"1\"/>\n",
       "<polyline clip-path=\"url(#clip602)\" style=\"stroke:#000000; stroke-width:4; stroke-opacity:1; fill:none\" points=\"\n",
       "  1354.53,355.254 1354.53,1445.72 1458.51,1445.72 1458.51,355.254 1354.53,355.254 \n",
       "  \"/>\n",
       "<path clip-path=\"url(#clip602)\" d=\"\n",
       "M1458.51 832.331 L1458.51 1445.72 L1562.49 1445.72 L1562.49 832.331 L1458.51 832.331 L1458.51 832.331  Z\n",
       "  \" fill=\"#009af9\" fill-rule=\"evenodd\" fill-opacity=\"1\"/>\n",
       "<polyline clip-path=\"url(#clip602)\" style=\"stroke:#000000; stroke-width:4; stroke-opacity:1; fill:none\" points=\"\n",
       "  1458.51,832.331 1458.51,1445.72 1562.49,1445.72 1562.49,832.331 1458.51,832.331 \n",
       "  \"/>\n",
       "<path clip-path=\"url(#clip602)\" d=\"\n",
       "M1562.49 1241.25 L1562.49 1445.72 L1666.47 1445.72 L1666.47 1241.25 L1562.49 1241.25 L1562.49 1241.25  Z\n",
       "  \" fill=\"#009af9\" fill-rule=\"evenodd\" fill-opacity=\"1\"/>\n",
       "<polyline clip-path=\"url(#clip602)\" style=\"stroke:#000000; stroke-width:4; stroke-opacity:1; fill:none\" points=\"\n",
       "  1562.49,1241.25 1562.49,1445.72 1666.47,1445.72 1666.47,1241.25 1562.49,1241.25 \n",
       "  \"/>\n",
       "<path clip-path=\"url(#clip602)\" d=\"\n",
       "M1666.47 1241.25 L1666.47 1445.72 L1770.46 1445.72 L1770.46 1241.25 L1666.47 1241.25 L1666.47 1241.25  Z\n",
       "  \" fill=\"#009af9\" fill-rule=\"evenodd\" fill-opacity=\"1\"/>\n",
       "<polyline clip-path=\"url(#clip602)\" style=\"stroke:#000000; stroke-width:4; stroke-opacity:1; fill:none\" points=\"\n",
       "  1666.47,1241.25 1666.47,1445.72 1770.46,1445.72 1770.46,1241.25 1666.47,1241.25 \n",
       "  \"/>\n",
       "<path clip-path=\"url(#clip602)\" d=\"\n",
       "M1770.46 1377.56 L1770.46 1445.72 L1874.44 1445.72 L1874.44 1377.56 L1770.46 1377.56 L1770.46 1377.56  Z\n",
       "  \" fill=\"#009af9\" fill-rule=\"evenodd\" fill-opacity=\"1\"/>\n",
       "<polyline clip-path=\"url(#clip602)\" style=\"stroke:#000000; stroke-width:4; stroke-opacity:1; fill:none\" points=\"\n",
       "  1770.46,1377.56 1770.46,1445.72 1874.44,1445.72 1874.44,1377.56 1770.46,1377.56 \n",
       "  \"/>\n",
       "<polyline clip-path=\"url(#clip602)\" style=\"stroke:#e26f46; stroke-width:4; stroke-opacity:1; fill:none\" points=\"\n",
       "  210.724,1445.71 231.73,1445.71 252.737,1445.7 273.743,1445.69 294.75,1445.68 315.756,1445.66 336.763,1445.63 357.769,1445.58 378.776,1445.51 399.782,1445.4 \n",
       "  420.789,1445.24 441.795,1445.01 462.802,1444.67 483.808,1444.2 504.815,1443.52 525.821,1442.58 546.828,1441.28 567.834,1439.5 588.841,1437.11 609.847,1433.9 \n",
       "  630.854,1429.67 651.86,1424.15 672.867,1417.02 693.873,1407.92 714.88,1396.43 735.886,1382.11 756.893,1364.47 777.899,1342.98 798.906,1317.12 819.912,1286.39 \n",
       "  840.919,1250.33 861.925,1208.53 882.931,1160.71 903.938,1106.73 924.944,1046.62 945.951,980.614 966.957,909.198 987.964,833.099 1008.97,753.307 1029.98,671.067 \n",
       "  1050.98,587.857 1071.99,505.352 1093,425.376 1114,349.836 1135.01,280.652 1156.02,219.674 1177.02,168.602 1198.03,128.906 1219.04,101.759 1240.04,87.9763 \n",
       "  1261.05,87.9763 1282.05,101.759 1303.06,128.906 1324.07,168.602 1345.07,219.674 1366.08,280.652 1387.09,349.836 1408.09,425.376 1429.1,505.352 1450.11,587.857 \n",
       "  1471.11,671.067 1492.12,753.307 1513.13,833.099 1534.13,909.198 1555.14,980.614 1576.15,1046.62 1597.15,1106.73 1618.16,1160.71 1639.17,1208.53 1660.17,1250.33 \n",
       "  1681.18,1286.39 1702.18,1317.12 1723.19,1342.98 1744.2,1364.47 1765.2,1382.11 1786.21,1396.43 1807.22,1407.92 1828.22,1417.02 1849.23,1424.15 1870.24,1429.67 \n",
       "  1891.24,1433.9 1912.25,1437.11 1933.26,1439.5 1954.26,1441.28 1975.27,1442.58 1996.28,1443.52 2017.28,1444.2 2038.29,1444.67 2059.3,1445.01 2080.3,1445.24 \n",
       "  2101.31,1445.4 2122.31,1445.51 2143.32,1445.58 2164.33,1445.63 2185.33,1445.66 2206.34,1445.68 2227.35,1445.69 2248.35,1445.7 2269.36,1445.71 2290.37,1445.71 \n",
       "  \n",
       "  \"/>\n",
       "<path clip-path=\"url(#clip600)\" d=\"\n",
       "M1983.32 276.658 L2279.28 276.658 L2279.28 95.2176 L1983.32 95.2176  Z\n",
       "  \" fill=\"#ffffff\" fill-rule=\"evenodd\" fill-opacity=\"1\"/>\n",
       "<polyline clip-path=\"url(#clip600)\" style=\"stroke:#000000; stroke-width:4; stroke-opacity:1; fill:none\" points=\"\n",
       "  1983.32,276.658 2279.28,276.658 2279.28,95.2176 1983.32,95.2176 1983.32,276.658 \n",
       "  \"/>\n",
       "<path clip-path=\"url(#clip600)\" d=\"\n",
       "M2007.81 179.89 L2154.78 179.89 L2154.78 131.506 L2007.81 131.506 L2007.81 179.89  Z\n",
       "  \" fill=\"#009af9\" fill-rule=\"evenodd\" fill-opacity=\"1\"/>\n",
       "<polyline clip-path=\"url(#clip600)\" style=\"stroke:#000000; stroke-width:4; stroke-opacity:1; fill:none\" points=\"\n",
       "  2007.81,179.89 2154.78,179.89 2154.78,131.506 2007.81,131.506 2007.81,179.89 \n",
       "  \"/>\n",
       "<path clip-path=\"url(#clip600)\" d=\"M 0 0 M2193.11 175.385 Q2191.31 180.015 2189.59 181.427 Q2187.88 182.839 2185.01 182.839 L2181.61 182.839 L2181.61 179.274 L2184.11 179.274 Q2185.87 179.274 2186.84 178.44 Q2187.81 177.607 2188.99 174.505 L2189.76 172.561 L2179.27 147.052 L2183.78 147.052 L2191.89 167.329 L2199.99 147.052 L2204.5 147.052 L2193.11 175.385 Z\" fill=\"#000000\" fill-rule=\"evenodd\" fill-opacity=\"1\" /><path clip-path=\"url(#clip600)\" d=\"M 0 0 M2210.38 169.042 L2218.02 169.042 L2218.02 142.677 L2209.71 144.343 L2209.71 140.084 L2217.97 138.418 L2222.65 138.418 L2222.65 169.042 L2230.29 169.042 L2230.29 172.978 L2210.38 172.978 L2210.38 169.042 Z\" fill=\"#000000\" fill-rule=\"evenodd\" fill-opacity=\"1\" /><polyline clip-path=\"url(#clip600)\" style=\"stroke:#e26f46; stroke-width:4; stroke-opacity:1; fill:none\" points=\"\n",
       "  2007.81,216.178 2154.78,216.178 \n",
       "  \"/>\n",
       "<path clip-path=\"url(#clip600)\" d=\"M 0 0 M2193.11 235.865 Q2191.31 240.495 2189.59 241.907 Q2187.88 243.319 2185.01 243.319 L2181.61 243.319 L2181.61 239.754 L2184.11 239.754 Q2185.87 239.754 2186.84 238.92 Q2187.81 238.087 2188.99 234.985 L2189.76 233.041 L2179.27 207.532 L2183.78 207.532 L2191.89 227.809 L2199.99 207.532 L2204.5 207.532 L2193.11 235.865 Z\" fill=\"#000000\" fill-rule=\"evenodd\" fill-opacity=\"1\" /><path clip-path=\"url(#clip600)\" d=\"M 0 0 M2213.6 229.522 L2229.92 229.522 L2229.92 233.458 L2207.97 233.458 L2207.97 229.522 Q2210.64 226.768 2215.22 222.138 Q2219.83 217.485 2221.01 216.143 Q2223.25 213.62 2224.13 211.884 Q2225.03 210.124 2225.03 208.435 Q2225.03 205.68 2223.09 203.944 Q2221.17 202.208 2218.07 202.208 Q2215.87 202.208 2213.41 202.972 Q2210.98 203.735 2208.2 205.286 L2208.2 200.564 Q2211.03 199.43 2213.48 198.851 Q2215.94 198.273 2217.97 198.273 Q2223.34 198.273 2226.54 200.958 Q2229.73 203.643 2229.73 208.134 Q2229.73 210.263 2228.92 212.185 Q2228.14 214.083 2226.03 216.675 Q2225.45 217.347 2222.35 220.564 Q2219.25 223.759 2213.6 229.522 Z\" fill=\"#000000\" fill-rule=\"evenodd\" fill-opacity=\"1\" /></svg>\n"
      ]
     },
     "execution_count": 58,
     "metadata": {},
     "output_type": "execute_result"
    }
   ],
   "source": [
    "histogram(rand(𝒩,100),bins=15,normalized=true)\n",
    "plotdist!(𝒩,[5,15])"
   ]
  },
  {
   "cell_type": "markdown",
   "metadata": {},
   "source": [
    "I hope you see the power of this. We can replace hundreds to thousands of numbers with a single pair of numbers: $x = \\mathcal N(\\mu, \\sigma^2)$. \n",
    "\n",
    "The tails of the Gaussian extend to infinity on both sides, so it incorporates arbitrarily many bars in the histogram. If this represents our belief in the position of the dog in the hallway, this one Gaussian covers the entire hallway (and the entire universe on that axis). We think that it is likely the dog is at 10, but he could be at 8, 14, or, with infinitesimally small probability, at 10$^{80}$. \n",
    "\n",
    "In this chapter we replace histograms with Gaussians:\n",
    "\n",
    "$$\\begin{array}{l|l|c}\n",
    "\\text{discrete Bayes} & \\text{Gaussian} & \\text{Step}\\\\\n",
    "\\hline\n",
    "\\bar {\\mathbf x} = \\mathbf x \\ast f(\\mathbf x) & \n",
    "\\bar {x}_\\mathcal{N} =  x_\\mathcal{N} \\, \\oplus \\, f_{x_\\mathcal{N}}(\\bullet) &\n",
    "\\text{Predict} \\\\\n",
    "\\mathbf x = \\|\\mathcal L \\bar{\\mathbf x}\\| & x_\\mathcal{N} = L \\, \\otimes \\, \\bar{x}_\\mathcal{N} & \\text{Update} \n",
    "\\end{array}$$\n",
    "\n",
    "where $\\oplus$ and $\\otimes$ is meant to express some unknown operator on Gaussians. I won't do it in the rest of the book, but the subscript indicates that $x_\\mathcal{N}$ is a Gaussian. \n",
    "\n",
    "The discrete Bayes filter used convolution for the prediction. We showed that it used the *total probabability theorem*, computed as a sum, so maybe we can add the Gaussians. It used multiplications to incorporate the measurement into the prior, so maybe we can multiply the Gaussians. Could it be this easy:\n",
    "\n",
    "$$\\begin{aligned} \n",
    "\\bar x &\\stackrel{?}{=} x + f_x(\\bullet) \\\\\n",
    "x &\\stackrel{?}{=} \\mathcal L \\cdot \\bar x\n",
    "\\end{aligned}$$\n",
    "\n",
    "This will only work if the sum and product of two Gaussians is another Gaussian. Otherwise after the first epoch $x$ would not be Gaussian, and this scheme falls apart."
   ]
  },
  {
   "cell_type": "markdown",
   "metadata": {},
   "source": [
    "## Predictions with Gaussians\n",
    "\n",
    "We use Newton's equation of motion to compute current position based on the current velocity and previous position:\n",
    "\n",
    "$$ \\begin{aligned}\\bar{x}_k &= x_{k-1} + v_k \\Delta t \\\\\n",
    " &= x_{k-1} + f_x\\end{aligned}$$\n",
    "\n",
    "I've dropped the notation $f_x(\\bullet)$ in favor of $f_x$ to keep the equations uncluttered. \n",
    "\n",
    "If the dog is at 10 m, his velocity is 15 m/s, and the epoch is 2 seconds long, we have\n",
    "\n",
    "$$ \\begin{aligned} f_x &= v\\Delta t = 15\\cdot 2\\\\\n",
    "\\bar{x}_k &= 10 + (15\\cdot 2) = 40 \\end{aligned}$$\n",
    "\n",
    "We are uncertain about his current position and velocity, so this will not do. We need to express the uncertainty with a Gaussian.\n",
    "\n",
    "Position is easy. We define $x$ as a Gaussian. If we think the dog is at 10 m, and the standard deviation of our uncertainty is 0.2 m, we get $x=\\mathcal N(10, 0.2^2)$.\n",
    "\n",
    "What about our uncertainty in his movement? We define $f_x$ as a Gaussian. If the dog's velocity is 15 m/s, the epoch is 1 second, and the standard deviation of our uncertainty is 0.7 m/s, we get $f_x = \\mathcal N (15, 0.7^2)$.\n",
    "\n",
    "The equation for the prior is \n",
    "\n",
    "$$\\bar x = x + f_x$$\n",
    "\n",
    "What is the sum of two Gaussians? In the last chapter I proved that:\n",
    "\n",
    "$$\\begin{gathered}\n",
    "\\mu = \\mu_1 + \\mu_2 \\\\\n",
    "\\sigma^2 = \\sigma^2_1 + \\sigma^2_2\n",
    "\\end{gathered}$$\n",
    "\n",
    "This is fantastic news; the sum of two Gaussians is another Gaussian! \n",
    "\n",
    "The math works, but does this make intuitive sense?  Think of the physical representation of this abstract equation. We have \n",
    "\n",
    "$$\\begin{gathered}\n",
    "x=\\mathcal N(10, 0.2^2)\\\\\n",
    "f_x = \\mathcal N (15, 0.7^2)\n",
    "\\end{gathered}$$\n",
    "\n",
    "If we add these we get:\n",
    "\n",
    "$$\\begin{aligned}\\bar x &= \\mu_x + \\mu_{f_x} = 10 + 15 &&= 25 \\\\\n",
    "\\bar\\sigma^2 &= \\sigma_x^2 + \\sigma_{f_x}^2 = 0.2^2 + 0.7^2 &&= 0.53\\end{aligned}$$\n",
    "\n",
    "It makes sense that the predicted position is the previous position plus the movement. What about the variance? It is harder to form an intuition about this. However, recall that with the `predict()` function for the discrete Bayes filter we always lost information. We don't really know where the dog is moving, so the confidence should get smaller (variance gets larger). $\\mu_{f_x}^2$ is the amount of uncertainty added to the system due to the imperfect prediction about the movement, and so we would add that to the existing uncertainty. \n",
    "\n",
    "Let's take advantage of the `namedtuple` class in Python's `collection` module to implement a Gaussian object. We could implement a Gaussian using a tuple, where $\\mathcal N(10, 0.04)$ is implemented in Python as `g = (10., 0.04)`. We would access the mean with `g[0]` and the variance with `g[1]`.\n",
    "\n",
    "`namedtuple` works the same as a tuple, except you provide it with a type name and field names. It's not important to understand, but I modified the `__repr__` method to display its value using the notation in this chapter. "
   ]
  },
  {
   "cell_type": "code",
   "execution_count": 62,
   "metadata": {},
   "outputs": [],
   "source": [
    "# I exclude some python specific stuff here and continue to rely on the Distributions package for distributions"
   ]
  },
  {
   "cell_type": "code",
   "execution_count": 63,
   "metadata": {},
   "outputs": [
    {
     "name": "stdout",
     "output_type": "stream",
     "text": [
      "Normal{Float64}(μ=3.4, σ=3.1780497164141406)\n",
      "Normal{Float64}(μ=4.5, σ=0.2)\n"
     ]
    }
   ],
   "source": [
    "𝒩₁ = Normal(3.4,sqrt(10.1))\n",
    "𝒩₂ = Normal(4.5, 0.2)\n",
    "println(𝒩₁)\n",
    "println(𝒩₂)"
   ]
  },
  {
   "cell_type": "code",
   "execution_count": null,
   "metadata": {},
   "outputs": [],
   "source": []
  },
  {
   "cell_type": "code",
   "execution_count": 64,
   "metadata": {},
   "outputs": [
    {
     "name": "stdout",
     "output_type": "stream",
     "text": [
      "mean: 3.4 variance: 3.18\n"
     ]
    }
   ],
   "source": [
    "println(\"mean: \",𝒩₁.μ,\" variance: \", round(𝒩₁.σ,digits=2))"
   ]
  },
  {
   "cell_type": "markdown",
   "metadata": {},
   "source": [
    "Here is our implementation of the predict function, where `pos` and `movement` are Gaussian tuples in the form ($\\mu$, $\\sigma^2$):"
   ]
  },
  {
   "cell_type": "code",
   "execution_count": 154,
   "metadata": {},
   "outputs": [
    {
     "data": {
      "text/plain": [
       "predict (generic function with 1 method)"
      ]
     },
     "execution_count": 154,
     "metadata": {},
     "output_type": "execute_result"
    }
   ],
   "source": [
    "function predict(position, movement)\n",
    "    return Normal(position.μ + movement.μ, sqrt(position.σ^2 + movement.σ^2))\n",
    "end\n"
   ]
  },
  {
   "cell_type": "code",
   "execution_count": 155,
   "metadata": {},
   "outputs": [
    {
     "name": "stdout",
     "output_type": "stream",
     "text": [
      "0.5299999999999999\n",
      "0.5299999999999999\n",
      "Normal{Float64}(μ=25.0, σ=0.7280109889280517)\n",
      "Normal{Float64}(μ=25.0, σ=0.7280109889280517)\n"
     ]
    }
   ],
   "source": [
    "pos = Normal(10, 0.2)\n",
    "move = Normal(15, .7)\n",
    "println(pos.σ^2 + move.σ^2)\n",
    "println(move.σ^2 + pos.σ^2)\n",
    "println(predict(pos,move))\n",
    "println(predict(move,pos))"
   ]
  },
  {
   "cell_type": "markdown",
   "metadata": {},
   "source": [
    "The prior states that the dog is at 25 m with a variance of 0.53 m$^2$, which is what we computed by hand."
   ]
  },
  {
   "cell_type": "markdown",
   "metadata": {},
   "source": [
    "## Updates with Gaussians\n",
    "\n",
    "The discrete Bayes filter encodes our belief about the position of our dog in a histogram of probabilities. The distribution is discrete and multimodal. It can express strong belief that the dog is in two positions at once, and the positions are discrete.\n",
    "\n",
    "We are proposing that we replace the histogram with a Gaussian. The discrete Bayes filter used this code to compute the posterior:\n",
    "\n",
    "\n",
    "```python\n",
    "def update(likelihood, prior):\n",
    "    posterior = likelihood * prior\n",
    "    return normalize(posterior)\n",
    "```\n",
    "\n",
    "which is an implementation of the equation:\n",
    "\n",
    "$$x = \\| \\mathcal L\\bar x \\|$$\n",
    "\n",
    "We've just shown that we can represent the prior with a Gaussian. What about the likelihood? The likelihood is the probability of the measurement given the current state. We've learned how to represent measurements as Gaussians. For example, maybe our sensor states that the dog is at 23 m, with a standard deviation of 0.4 meters. Our measurement, expressed as a likelihood, is $z = \\mathcal N (23, 0.16)$.\n",
    "\n",
    "Both the likelihood and prior are modeled with Gaussians. Can we multiply Gaussians? Is the product of two Gaussians another Gaussian?\n",
    "\n",
    "Yes to the former, and almost to the latter! In the last chapter I proved that the product of two Gaussians is proportional to another Gausian. \n",
    "\n",
    "$$\\begin{aligned}\n",
    "\\mu &= \\frac{\\sigma_1^2 \\mu_2 + \\sigma_2^2 \\mu_1} {\\sigma_1^2 + \\sigma_2^2}, \\\\\n",
    "\\sigma^2 &= \\frac{\\sigma_1^2\\sigma_2^2}{\\sigma_1^2+\\sigma_2^2}\n",
    "\\end{aligned}$$\n",
    "\n",
    "We can immediately infer several things. If we normalize the result, the product is another Gaussian. If one Gaussian is the likelihood, and the second is the prior, then the mean is a scaled sum of the prior and the measurement. The variance is a combination of the variances of the prior and measurement. Finally, the variances are completely unaffected by the values of the mean!\n",
    "\n",
    "We put this in Bayesian terms like so:\n",
    "\n",
    "$$\\begin{aligned}\n",
    "\\mathcal N(\\mu, \\sigma^2) &= \\| prior \\cdot likelihood \\|\\\\\n",
    "&= \\| \\mathcal{N}(\\bar\\mu, \\bar\\sigma^2)\\cdot \\mathcal{N}(\\mu_z, \\sigma_z^2) \\|\\\\\n",
    "&= \\mathcal N(\\frac{\\bar\\sigma^2 \\mu_z + \\sigma_z^2 \\bar\\mu}{\\bar\\sigma^2 + \\sigma_z^2},\\frac{\\bar\\sigma^2\\sigma_z^2}{\\bar\\sigma^2 + \\sigma_z^2})\n",
    "\\end{aligned}$$\n",
    "\n",
    "If we implemented that in a function `gaussian_multiply()` we could implement our filter's update step as"
   ]
  },
  {
   "cell_type": "code",
   "execution_count": 156,
   "metadata": {},
   "outputs": [
    {
     "data": {
      "text/plain": [
       "Normal{Float64}(μ=10.799999999999999, σ=0.0894427190999916)"
      ]
     },
     "execution_count": 156,
     "metadata": {},
     "output_type": "execute_result"
    }
   ],
   "source": [
    "function gaussian_multiply(g1::Distribution,g2::Distribution)\n",
    "    μ = (var(g1)*mean(g2) + var(g2)*mean(g1))/ (var(g1) + var(g2))\n",
    "    σ² = var(g1)*var(g2)/(var(g1) + var(g2))\n",
    "    return Normal(μ, sqrt(σ²))\n",
    "end\n",
    "\n",
    "function update(prior::Distribution, likelihood::Distribution)\n",
    "    return gaussian_multiply(likelihood, prior)\n",
    "end\n",
    "\n",
    "predicted_pos = Normal(10, .2)\n",
    "measured_pos = Normal(11, .1)\n",
    "estimated_pos = update(predicted_pos, measured_pos)"
   ]
  },
  {
   "cell_type": "markdown",
   "metadata": {},
   "source": [
    "Perhaps this would be clearer if we used more specific names:\n",
    "\n",
    "```python\n",
    "def update_dog(dog_pos, measurement):\n",
    "    estimated_pos = gaussian_multiply(measurement, dog_pos)\n",
    "    return estimated_pos  \n",
    "```\n",
    "\n",
    "That is less abstract, which perhaps helps with comprehension, but it is poor coding practice. We are writing a Kalman filter that works for any problem, not just tracking dogs in a hallway, so we won't use variable names with 'dog' in them. Also, this form obscures the fact that we are multiplying the likelihood by the prior.\n",
    "\n",
    "We have the majority of our filter implemented, but I fear this step is still a bit confusing. I've asserted that we can multiply Gaussians and that it correctly performs the update step, but why is this true? Let's take a detour and spend some time multiplying Gaussians."
   ]
  },
  {
   "cell_type": "markdown",
   "metadata": {},
   "source": [
    "### Understanding Gaussian Multiplication\n",
    "\n",
    "Let's plot the pdf of $\\mathcal{N}(10,\\, 1) \\times \\mathcal{N}(10,\\, 1)$. Can you determine its shape without looking at the result? What should the new mean be? Will the curve be wider, narrower, or the same as $\\mathcal{N}(10,\\, 1)$?"
   ]
  },
  {
   "cell_type": "code",
   "execution_count": 157,
   "metadata": {},
   "outputs": [
    {
     "data": {
      "image/svg+xml": [
       "<?xml version=\"1.0\" encoding=\"utf-8\"?>\n",
       "<svg xmlns=\"http://www.w3.org/2000/svg\" xmlns:xlink=\"http://www.w3.org/1999/xlink\" width=\"600\" height=\"400\" viewBox=\"0 0 2400 1600\">\n",
       "<defs>\n",
       "  <clipPath id=\"clip280\">\n",
       "    <rect x=\"0\" y=\"0\" width=\"2400\" height=\"1600\"/>\n",
       "  </clipPath>\n",
       "</defs>\n",
       "<path clip-path=\"url(#clip280)\" d=\"\n",
       "M0 1600 L2400 1600 L2400 0 L0 0  Z\n",
       "  \" fill=\"#ffffff\" fill-rule=\"evenodd\" fill-opacity=\"1\"/>\n",
       "<defs>\n",
       "  <clipPath id=\"clip281\">\n",
       "    <rect x=\"480\" y=\"0\" width=\"1681\" height=\"1600\"/>\n",
       "  </clipPath>\n",
       "</defs>\n",
       "<path clip-path=\"url(#clip280)\" d=\"\n",
       "M148.334 1486.45 L2352.76 1486.45 L2352.76 47.2441 L148.334 47.2441  Z\n",
       "  \" fill=\"#ffffff\" fill-rule=\"evenodd\" fill-opacity=\"1\"/>\n",
       "<defs>\n",
       "  <clipPath id=\"clip282\">\n",
       "    <rect x=\"148\" y=\"47\" width=\"2205\" height=\"1440\"/>\n",
       "  </clipPath>\n",
       "</defs>\n",
       "<polyline clip-path=\"url(#clip282)\" style=\"stroke:#000000; stroke-width:2; stroke-opacity:0.1; fill:none\" points=\"\n",
       "  418.688,1486.45 418.688,47.2441 \n",
       "  \"/>\n",
       "<polyline clip-path=\"url(#clip282)\" style=\"stroke:#000000; stroke-width:2; stroke-opacity:0.1; fill:none\" points=\"\n",
       "  834.617,1486.45 834.617,47.2441 \n",
       "  \"/>\n",
       "<polyline clip-path=\"url(#clip282)\" style=\"stroke:#000000; stroke-width:2; stroke-opacity:0.1; fill:none\" points=\"\n",
       "  1250.55,1486.45 1250.55,47.2441 \n",
       "  \"/>\n",
       "<polyline clip-path=\"url(#clip282)\" style=\"stroke:#000000; stroke-width:2; stroke-opacity:0.1; fill:none\" points=\"\n",
       "  1666.47,1486.45 1666.47,47.2441 \n",
       "  \"/>\n",
       "<polyline clip-path=\"url(#clip282)\" style=\"stroke:#000000; stroke-width:2; stroke-opacity:0.1; fill:none\" points=\"\n",
       "  2082.4,1486.45 2082.4,47.2441 \n",
       "  \"/>\n",
       "<polyline clip-path=\"url(#clip282)\" style=\"stroke:#000000; stroke-width:2; stroke-opacity:0.1; fill:none\" points=\"\n",
       "  148.334,1445.72 2352.76,1445.72 \n",
       "  \"/>\n",
       "<polyline clip-path=\"url(#clip282)\" style=\"stroke:#000000; stroke-width:2; stroke-opacity:0.1; fill:none\" points=\"\n",
       "  148.334,1205.06 2352.76,1205.06 \n",
       "  \"/>\n",
       "<polyline clip-path=\"url(#clip282)\" style=\"stroke:#000000; stroke-width:2; stroke-opacity:0.1; fill:none\" points=\"\n",
       "  148.334,964.41 2352.76,964.41 \n",
       "  \"/>\n",
       "<polyline clip-path=\"url(#clip282)\" style=\"stroke:#000000; stroke-width:2; stroke-opacity:0.1; fill:none\" points=\"\n",
       "  148.334,723.757 2352.76,723.757 \n",
       "  \"/>\n",
       "<polyline clip-path=\"url(#clip282)\" style=\"stroke:#000000; stroke-width:2; stroke-opacity:0.1; fill:none\" points=\"\n",
       "  148.334,483.104 2352.76,483.104 \n",
       "  \"/>\n",
       "<polyline clip-path=\"url(#clip282)\" style=\"stroke:#000000; stroke-width:2; stroke-opacity:0.1; fill:none\" points=\"\n",
       "  148.334,242.45 2352.76,242.45 \n",
       "  \"/>\n",
       "<polyline clip-path=\"url(#clip280)\" style=\"stroke:#000000; stroke-width:4; stroke-opacity:1; fill:none\" points=\"\n",
       "  148.334,1486.45 2352.76,1486.45 \n",
       "  \"/>\n",
       "<polyline clip-path=\"url(#clip280)\" style=\"stroke:#000000; stroke-width:4; stroke-opacity:1; fill:none\" points=\"\n",
       "  148.334,1486.45 148.334,47.2441 \n",
       "  \"/>\n",
       "<polyline clip-path=\"url(#clip280)\" style=\"stroke:#000000; stroke-width:4; stroke-opacity:1; fill:none\" points=\"\n",
       "  418.688,1486.45 418.688,1469.18 \n",
       "  \"/>\n",
       "<polyline clip-path=\"url(#clip280)\" style=\"stroke:#000000; stroke-width:4; stroke-opacity:1; fill:none\" points=\"\n",
       "  834.617,1486.45 834.617,1469.18 \n",
       "  \"/>\n",
       "<polyline clip-path=\"url(#clip280)\" style=\"stroke:#000000; stroke-width:4; stroke-opacity:1; fill:none\" points=\"\n",
       "  1250.55,1486.45 1250.55,1469.18 \n",
       "  \"/>\n",
       "<polyline clip-path=\"url(#clip280)\" style=\"stroke:#000000; stroke-width:4; stroke-opacity:1; fill:none\" points=\"\n",
       "  1666.47,1486.45 1666.47,1469.18 \n",
       "  \"/>\n",
       "<polyline clip-path=\"url(#clip280)\" style=\"stroke:#000000; stroke-width:4; stroke-opacity:1; fill:none\" points=\"\n",
       "  2082.4,1486.45 2082.4,1469.18 \n",
       "  \"/>\n",
       "<polyline clip-path=\"url(#clip280)\" style=\"stroke:#000000; stroke-width:4; stroke-opacity:1; fill:none\" points=\"\n",
       "  148.334,1445.72 174.787,1445.72 \n",
       "  \"/>\n",
       "<polyline clip-path=\"url(#clip280)\" style=\"stroke:#000000; stroke-width:4; stroke-opacity:1; fill:none\" points=\"\n",
       "  148.334,1205.06 174.787,1205.06 \n",
       "  \"/>\n",
       "<polyline clip-path=\"url(#clip280)\" style=\"stroke:#000000; stroke-width:4; stroke-opacity:1; fill:none\" points=\"\n",
       "  148.334,964.41 174.787,964.41 \n",
       "  \"/>\n",
       "<polyline clip-path=\"url(#clip280)\" style=\"stroke:#000000; stroke-width:4; stroke-opacity:1; fill:none\" points=\"\n",
       "  148.334,723.757 174.787,723.757 \n",
       "  \"/>\n",
       "<polyline clip-path=\"url(#clip280)\" style=\"stroke:#000000; stroke-width:4; stroke-opacity:1; fill:none\" points=\"\n",
       "  148.334,483.104 174.787,483.104 \n",
       "  \"/>\n",
       "<polyline clip-path=\"url(#clip280)\" style=\"stroke:#000000; stroke-width:4; stroke-opacity:1; fill:none\" points=\"\n",
       "  148.334,242.45 174.787,242.45 \n",
       "  \"/>\n",
       "<path clip-path=\"url(#clip280)\" d=\"M 0 0 M419.093 1520.78 Q415.945 1520.78 414.093 1522.93 Q412.264 1525.08 412.264 1528.83 Q412.264 1532.56 414.093 1534.73 Q415.945 1536.89 419.093 1536.89 Q422.241 1536.89 424.07 1534.73 Q425.922 1532.56 425.922 1528.83 Q425.922 1525.08 424.07 1522.93 Q422.241 1520.78 419.093 1520.78 M428.375 1506.12 L428.375 1510.38 Q426.616 1509.55 424.811 1509.11 Q423.028 1508.67 421.269 1508.67 Q416.639 1508.67 414.186 1511.8 Q411.755 1514.92 411.408 1521.24 Q412.774 1519.23 414.834 1518.16 Q416.894 1517.07 419.371 1517.07 Q424.579 1517.07 427.588 1520.24 Q430.621 1523.39 430.621 1528.83 Q430.621 1534.16 427.473 1537.37 Q424.325 1540.59 419.093 1540.59 Q413.098 1540.59 409.926 1536.01 Q406.755 1531.4 406.755 1522.67 Q406.755 1514.48 410.644 1509.62 Q414.533 1504.73 421.084 1504.73 Q422.843 1504.73 424.625 1505.08 Q426.431 1505.43 428.375 1506.12 Z\" fill=\"#000000\" fill-rule=\"evenodd\" fill-opacity=\"1\" /><path clip-path=\"url(#clip280)\" d=\"M 0 0 M834.617 1523.51 Q831.283 1523.51 829.362 1525.29 Q827.464 1527.07 827.464 1530.2 Q827.464 1533.32 829.362 1535.11 Q831.283 1536.89 834.617 1536.89 Q837.95 1536.89 839.871 1535.11 Q841.792 1533.3 841.792 1530.2 Q841.792 1527.07 839.871 1525.29 Q837.973 1523.51 834.617 1523.51 M829.941 1521.52 Q826.931 1520.78 825.242 1518.72 Q823.575 1516.66 823.575 1513.69 Q823.575 1509.55 826.515 1507.14 Q829.478 1504.73 834.617 1504.73 Q839.779 1504.73 842.718 1507.14 Q845.658 1509.55 845.658 1513.69 Q845.658 1516.66 843.968 1518.72 Q842.302 1520.78 839.316 1521.52 Q842.695 1522.3 844.57 1524.6 Q846.468 1526.89 846.468 1530.2 Q846.468 1535.22 843.39 1537.91 Q840.334 1540.59 834.617 1540.59 Q828.899 1540.59 825.82 1537.91 Q822.765 1535.22 822.765 1530.2 Q822.765 1526.89 824.663 1524.6 Q826.561 1522.3 829.941 1521.52 M828.228 1514.13 Q828.228 1516.82 829.894 1518.32 Q831.584 1519.83 834.617 1519.83 Q837.626 1519.83 839.316 1518.32 Q841.029 1516.82 841.029 1514.13 Q841.029 1511.45 839.316 1509.94 Q837.626 1508.44 834.617 1508.44 Q831.584 1508.44 829.894 1509.94 Q828.228 1511.45 828.228 1514.13 Z\" fill=\"#000000\" fill-rule=\"evenodd\" fill-opacity=\"1\" /><path clip-path=\"url(#clip280)\" d=\"M 0 0 M1227.42 1535.98 L1235.06 1535.98 L1235.06 1509.62 L1226.75 1511.29 L1226.75 1507.03 L1235.01 1505.36 L1239.69 1505.36 L1239.69 1535.98 L1247.33 1535.98 L1247.33 1539.92 L1227.42 1539.92 L1227.42 1535.98 Z\" fill=\"#000000\" fill-rule=\"evenodd\" fill-opacity=\"1\" /><path clip-path=\"url(#clip280)\" d=\"M 0 0 M1262.4 1508.44 Q1258.79 1508.44 1256.96 1512 Q1255.15 1515.55 1255.15 1522.67 Q1255.15 1529.78 1256.96 1533.35 Q1258.79 1536.89 1262.4 1536.89 Q1266.03 1536.89 1267.84 1533.35 Q1269.67 1529.78 1269.67 1522.67 Q1269.67 1515.55 1267.84 1512 Q1266.03 1508.44 1262.4 1508.44 M1262.4 1504.73 Q1268.21 1504.73 1271.26 1509.34 Q1274.34 1513.92 1274.34 1522.67 Q1274.34 1531.4 1271.26 1536.01 Q1268.21 1540.59 1262.4 1540.59 Q1256.59 1540.59 1253.51 1536.01 Q1250.45 1531.4 1250.45 1522.67 Q1250.45 1513.92 1253.51 1509.34 Q1256.59 1504.73 1262.4 1504.73 Z\" fill=\"#000000\" fill-rule=\"evenodd\" fill-opacity=\"1\" /><path clip-path=\"url(#clip280)\" d=\"M 0 0 M1644.15 1535.98 L1651.79 1535.98 L1651.79 1509.62 L1643.48 1511.29 L1643.48 1507.03 L1651.74 1505.36 L1656.42 1505.36 L1656.42 1535.98 L1664.05 1535.98 L1664.05 1539.92 L1644.15 1539.92 L1644.15 1535.98 Z\" fill=\"#000000\" fill-rule=\"evenodd\" fill-opacity=\"1\" /><path clip-path=\"url(#clip280)\" d=\"M 0 0 M1673.15 1535.98 L1689.47 1535.98 L1689.47 1539.92 L1667.53 1539.92 L1667.53 1535.98 Q1670.19 1533.23 1674.77 1528.6 Q1679.38 1523.95 1680.56 1522.61 Q1682.8 1520.08 1683.68 1518.35 Q1684.59 1516.59 1684.59 1514.9 Q1684.59 1512.14 1682.64 1510.41 Q1680.72 1508.67 1677.62 1508.67 Q1675.42 1508.67 1672.97 1509.43 Q1670.54 1510.2 1667.76 1511.75 L1667.76 1507.03 Q1670.58 1505.89 1673.04 1505.31 Q1675.49 1504.73 1677.53 1504.73 Q1682.9 1504.73 1686.09 1507.42 Q1689.29 1510.11 1689.29 1514.6 Q1689.29 1516.73 1688.48 1518.65 Q1687.69 1520.54 1685.58 1523.14 Q1685 1523.81 1681.9 1527.03 Q1678.8 1530.22 1673.15 1535.98 Z\" fill=\"#000000\" fill-rule=\"evenodd\" fill-opacity=\"1\" /><path clip-path=\"url(#clip280)\" d=\"M 0 0 M2059.03 1535.98 L2066.67 1535.98 L2066.67 1509.62 L2058.36 1511.29 L2058.36 1507.03 L2066.63 1505.36 L2071.3 1505.36 L2071.3 1535.98 L2078.94 1535.98 L2078.94 1539.92 L2059.03 1539.92 L2059.03 1535.98 Z\" fill=\"#000000\" fill-rule=\"evenodd\" fill-opacity=\"1\" /><path clip-path=\"url(#clip280)\" d=\"M 0 0 M2096.86 1509.43 L2085.05 1527.88 L2096.86 1527.88 L2096.86 1509.43 M2095.63 1505.36 L2101.51 1505.36 L2101.51 1527.88 L2106.44 1527.88 L2106.44 1531.77 L2101.51 1531.77 L2101.51 1539.92 L2096.86 1539.92 L2096.86 1531.77 L2081.26 1531.77 L2081.26 1527.26 L2095.63 1505.36 Z\" fill=\"#000000\" fill-rule=\"evenodd\" fill-opacity=\"1\" /><path clip-path=\"url(#clip280)\" d=\"M 0 0 M75.4226 1431.51 Q71.8115 1431.51 69.9828 1435.08 Q68.1773 1438.62 68.1773 1445.75 Q68.1773 1452.86 69.9828 1456.42 Q71.8115 1459.96 75.4226 1459.96 Q79.0569 1459.96 80.8624 1456.42 Q82.6911 1452.86 82.6911 1445.75 Q82.6911 1438.62 80.8624 1435.08 Q79.0569 1431.51 75.4226 1431.51 M75.4226 1427.81 Q81.2328 1427.81 84.2883 1432.42 Q87.367 1437 87.367 1445.75 Q87.367 1454.48 84.2883 1459.08 Q81.2328 1463.67 75.4226 1463.67 Q69.6125 1463.67 66.5338 1459.08 Q63.4782 1454.48 63.4782 1445.75 Q63.4782 1437 66.5338 1432.42 Q69.6125 1427.81 75.4226 1427.81 Z\" fill=\"#000000\" fill-rule=\"evenodd\" fill-opacity=\"1\" /><path clip-path=\"url(#clip280)\" d=\"M 0 0 M92.4364 1457.12 L97.3206 1457.12 L97.3206 1463 L92.4364 1463 L92.4364 1457.12 Z\" fill=\"#000000\" fill-rule=\"evenodd\" fill-opacity=\"1\" /><path clip-path=\"url(#clip280)\" d=\"M 0 0 M112.39 1431.51 Q108.779 1431.51 106.95 1435.08 Q105.145 1438.62 105.145 1445.75 Q105.145 1452.86 106.95 1456.42 Q108.779 1459.96 112.39 1459.96 Q116.024 1459.96 117.83 1456.42 Q119.658 1452.86 119.658 1445.75 Q119.658 1438.62 117.83 1435.08 Q116.024 1431.51 112.39 1431.51 M112.39 1427.81 Q118.2 1427.81 121.256 1432.42 Q124.334 1437 124.334 1445.75 Q124.334 1454.48 121.256 1459.08 Q118.2 1463.67 112.39 1463.67 Q106.58 1463.67 103.501 1459.08 Q100.446 1454.48 100.446 1445.75 Q100.446 1437 103.501 1432.42 Q106.58 1427.81 112.39 1427.81 Z\" fill=\"#000000\" fill-rule=\"evenodd\" fill-opacity=\"1\" /><path clip-path=\"url(#clip280)\" d=\"M 0 0 M76.6495 1190.86 Q73.0384 1190.86 71.2097 1194.43 Q69.4041 1197.97 69.4041 1205.1 Q69.4041 1212.2 71.2097 1215.77 Q73.0384 1219.31 76.6495 1219.31 Q80.2837 1219.31 82.0892 1215.77 Q83.9179 1212.2 83.9179 1205.1 Q83.9179 1197.97 82.0892 1194.43 Q80.2837 1190.86 76.6495 1190.86 M76.6495 1187.16 Q82.4596 1187.16 85.5152 1191.76 Q88.5938 1196.35 88.5938 1205.1 Q88.5938 1213.82 85.5152 1218.43 Q82.4596 1223.01 76.6495 1223.01 Q70.8393 1223.01 67.7606 1218.43 Q64.7051 1213.82 64.7051 1205.1 Q64.7051 1196.35 67.7606 1191.76 Q70.8393 1187.16 76.6495 1187.16 Z\" fill=\"#000000\" fill-rule=\"evenodd\" fill-opacity=\"1\" /><path clip-path=\"url(#clip280)\" d=\"M 0 0 M93.6633 1216.46 L98.5475 1216.46 L98.5475 1222.34 L93.6633 1222.34 L93.6633 1216.46 Z\" fill=\"#000000\" fill-rule=\"evenodd\" fill-opacity=\"1\" /><path clip-path=\"url(#clip280)\" d=\"M 0 0 M104.427 1218.41 L112.066 1218.41 L112.066 1192.04 L103.756 1193.71 L103.756 1189.45 L112.02 1187.78 L116.696 1187.78 L116.696 1218.41 L124.334 1218.41 L124.334 1222.34 L104.427 1222.34 L104.427 1218.41 Z\" fill=\"#000000\" fill-rule=\"evenodd\" fill-opacity=\"1\" /><path clip-path=\"url(#clip280)\" d=\"M 0 0 M77.0198 950.208 Q73.4087 950.208 71.58 953.773 Q69.7745 957.315 69.7745 964.444 Q69.7745 971.551 71.58 975.116 Q73.4087 978.657 77.0198 978.657 Q80.6541 978.657 82.4596 975.116 Q84.2883 971.551 84.2883 964.444 Q84.2883 957.315 82.4596 953.773 Q80.6541 950.208 77.0198 950.208 M77.0198 946.505 Q82.83 946.505 85.8855 951.111 Q88.9642 955.694 88.9642 964.444 Q88.9642 973.171 85.8855 977.778 Q82.83 982.361 77.0198 982.361 Q71.2097 982.361 68.131 977.778 Q65.0754 973.171 65.0754 964.444 Q65.0754 955.694 68.131 951.111 Q71.2097 946.505 77.0198 946.505 Z\" fill=\"#000000\" fill-rule=\"evenodd\" fill-opacity=\"1\" /><path clip-path=\"url(#clip280)\" d=\"M 0 0 M94.0336 975.81 L98.9179 975.81 L98.9179 981.69 L94.0336 981.69 L94.0336 975.81 Z\" fill=\"#000000\" fill-rule=\"evenodd\" fill-opacity=\"1\" /><path clip-path=\"url(#clip280)\" d=\"M 0 0 M108.015 977.754 L124.334 977.754 L124.334 981.69 L102.39 981.69 L102.39 977.754 Q105.052 975 109.635 970.37 Q114.242 965.717 115.422 964.375 Q117.668 961.852 118.547 960.116 Q119.45 958.356 119.45 956.667 Q119.45 953.912 117.506 952.176 Q115.584 950.44 112.483 950.44 Q110.284 950.44 107.83 951.204 Q105.399 951.968 102.622 953.518 L102.622 948.796 Q105.446 947.662 107.899 947.083 Q110.353 946.505 112.39 946.505 Q117.76 946.505 120.955 949.19 Q124.149 951.875 124.149 956.366 Q124.149 958.495 123.339 960.417 Q122.552 962.315 120.446 964.907 Q119.867 965.579 116.765 968.796 Q113.663 971.991 108.015 977.754 Z\" fill=\"#000000\" fill-rule=\"evenodd\" fill-opacity=\"1\" /><path clip-path=\"url(#clip280)\" d=\"M 0 0 M76.0708 709.555 Q72.4597 709.555 70.631 713.12 Q68.8254 716.662 68.8254 723.791 Q68.8254 730.898 70.631 734.463 Q72.4597 738.004 76.0708 738.004 Q79.705 738.004 81.5105 734.463 Q83.3392 730.898 83.3392 723.791 Q83.3392 716.662 81.5105 713.12 Q79.705 709.555 76.0708 709.555 M76.0708 705.852 Q81.8809 705.852 84.9365 710.458 Q88.0151 715.041 88.0151 723.791 Q88.0151 732.518 84.9365 737.125 Q81.8809 741.708 76.0708 741.708 Q70.2606 741.708 67.1819 737.125 Q64.1264 732.518 64.1264 723.791 Q64.1264 715.041 67.1819 710.458 Q70.2606 705.852 76.0708 705.852 Z\" fill=\"#000000\" fill-rule=\"evenodd\" fill-opacity=\"1\" /><path clip-path=\"url(#clip280)\" d=\"M 0 0 M93.0846 735.157 L97.9688 735.157 L97.9688 741.037 L93.0846 741.037 L93.0846 735.157 Z\" fill=\"#000000\" fill-rule=\"evenodd\" fill-opacity=\"1\" /><path clip-path=\"url(#clip280)\" d=\"M 0 0 M117.205 722.402 Q120.561 723.12 122.436 725.388 Q124.334 727.657 124.334 730.99 Q124.334 736.106 120.816 738.907 Q117.297 741.708 110.816 741.708 Q108.64 741.708 106.325 741.268 Q104.034 740.851 101.58 739.995 L101.58 735.481 Q103.524 736.615 105.839 737.194 Q108.154 737.773 110.677 737.773 Q115.075 737.773 117.367 736.037 Q119.682 734.3 119.682 730.99 Q119.682 727.935 117.529 726.222 Q115.399 724.486 111.58 724.486 L107.552 724.486 L107.552 720.643 L111.765 720.643 Q115.214 720.643 117.043 719.277 Q118.871 717.889 118.871 715.296 Q118.871 712.634 116.973 711.222 Q115.098 709.787 111.58 709.787 Q109.659 709.787 107.459 710.203 Q105.26 710.62 102.622 711.5 L102.622 707.333 Q105.284 706.592 107.598 706.222 Q109.936 705.852 111.996 705.852 Q117.321 705.852 120.422 708.282 Q123.524 710.689 123.524 714.81 Q123.524 717.68 121.881 719.671 Q120.237 721.639 117.205 722.402 Z\" fill=\"#000000\" fill-rule=\"evenodd\" fill-opacity=\"1\" /><path clip-path=\"url(#clip280)\" d=\"M 0 0 M74.9365 468.902 Q71.3254 468.902 69.4967 472.467 Q67.6912 476.009 67.6912 483.138 Q67.6912 490.245 69.4967 493.809 Q71.3254 497.351 74.9365 497.351 Q78.5707 497.351 80.3763 493.809 Q82.205 490.245 82.205 483.138 Q82.205 476.009 80.3763 472.467 Q78.5707 468.902 74.9365 468.902 M74.9365 465.199 Q80.7467 465.199 83.8022 469.805 Q86.8809 474.388 86.8809 483.138 Q86.8809 491.865 83.8022 496.471 Q80.7467 501.055 74.9365 501.055 Q69.1264 501.055 66.0477 496.471 Q62.9921 491.865 62.9921 483.138 Q62.9921 474.388 66.0477 469.805 Q69.1264 465.199 74.9365 465.199 Z\" fill=\"#000000\" fill-rule=\"evenodd\" fill-opacity=\"1\" /><path clip-path=\"url(#clip280)\" d=\"M 0 0 M91.9503 494.504 L96.8345 494.504 L96.8345 500.384 L91.9503 500.384 L91.9503 494.504 Z\" fill=\"#000000\" fill-rule=\"evenodd\" fill-opacity=\"1\" /><path clip-path=\"url(#clip280)\" d=\"M 0 0 M114.751 469.898 L102.946 488.347 L114.751 488.347 L114.751 469.898 M113.524 465.824 L119.404 465.824 L119.404 488.347 L124.334 488.347 L124.334 492.235 L119.404 492.235 L119.404 500.384 L114.751 500.384 L114.751 492.235 L99.1493 492.235 L99.1493 487.722 L113.524 465.824 Z\" fill=\"#000000\" fill-rule=\"evenodd\" fill-opacity=\"1\" /><path clip-path=\"url(#clip280)\" d=\"M 0 0 M76.418 228.249 Q72.8069 228.249 70.9782 231.814 Q69.1726 235.356 69.1726 242.485 Q69.1726 249.592 70.9782 253.156 Q72.8069 256.698 76.418 256.698 Q80.0522 256.698 81.8578 253.156 Q83.6865 249.592 83.6865 242.485 Q83.6865 235.356 81.8578 231.814 Q80.0522 228.249 76.418 228.249 M76.418 224.545 Q82.2281 224.545 85.2837 229.152 Q88.3624 233.735 88.3624 242.485 Q88.3624 251.212 85.2837 255.818 Q82.2281 260.402 76.418 260.402 Q70.6078 260.402 67.5291 255.818 Q64.4736 251.212 64.4736 242.485 Q64.4736 233.735 67.5291 229.152 Q70.6078 224.545 76.418 224.545 Z\" fill=\"#000000\" fill-rule=\"evenodd\" fill-opacity=\"1\" /><path clip-path=\"url(#clip280)\" d=\"M 0 0 M93.4318 253.851 L98.316 253.851 L98.316 259.73 L93.4318 259.73 L93.4318 253.851 Z\" fill=\"#000000\" fill-rule=\"evenodd\" fill-opacity=\"1\" /><path clip-path=\"url(#clip280)\" d=\"M 0 0 M103.432 225.17 L121.788 225.17 L121.788 229.106 L107.714 229.106 L107.714 237.578 Q108.733 237.231 109.751 237.069 Q110.77 236.883 111.788 236.883 Q117.575 236.883 120.955 240.055 Q124.334 243.226 124.334 248.643 Q124.334 254.221 120.862 257.323 Q117.39 260.402 111.071 260.402 Q108.895 260.402 106.626 260.031 Q104.381 259.661 101.973 258.92 L101.973 254.221 Q104.057 255.355 106.279 255.911 Q108.501 256.467 110.978 256.467 Q114.983 256.467 117.321 254.36 Q119.658 252.254 119.658 248.643 Q119.658 245.031 117.321 242.925 Q114.983 240.819 110.978 240.819 Q109.103 240.819 107.228 241.235 Q105.376 241.652 103.432 242.531 L103.432 225.17 Z\" fill=\"#000000\" fill-rule=\"evenodd\" fill-opacity=\"1\" /><polyline clip-path=\"url(#clip282)\" style=\"stroke:#009af9; stroke-width:4; stroke-opacity:1; fill:none\" points=\"\n",
       "  210.724,1445.71 231.52,1445.71 252.317,1445.71 273.113,1445.7 293.909,1445.69 314.706,1445.68 335.502,1445.66 356.299,1445.62 377.095,1445.57 397.892,1445.5 \n",
       "  418.688,1445.39 439.484,1445.24 460.281,1445.01 481.077,1444.69 501.874,1444.24 522.67,1443.62 543.467,1442.75 564.263,1441.57 585.059,1439.98 605.856,1437.85 \n",
       "  626.652,1435.05 647.449,1431.39 668.245,1426.67 689.042,1420.64 709.838,1413.03 730.634,1403.53 751.431,1391.82 772.227,1377.55 793.024,1360.35 813.82,1339.87 \n",
       "  834.617,1315.78 855.413,1287.81 876.209,1255.72 897.006,1219.38 917.802,1178.78 938.599,1134.03 959.395,1085.39 980.192,1033.31 1000.99,978.401 1021.78,921.448 \n",
       "  1042.58,863.406 1063.38,805.373 1084.17,748.564 1104.97,694.267 1125.77,643.801 1146.56,598.46 1167.36,559.462 1188.16,527.894 1208.95,504.66 1229.75,490.437 \n",
       "  1250.55,485.649 1271.34,490.437 1292.14,504.66 1312.93,527.894 1333.73,559.462 1354.53,598.46 1375.32,643.801 1396.12,694.267 1416.92,748.564 1437.71,805.373 \n",
       "  1458.51,863.406 1479.31,921.448 1500.1,978.401 1520.9,1033.31 1541.7,1085.39 1562.49,1134.03 1583.29,1178.78 1604.08,1219.38 1624.88,1255.72 1645.68,1287.81 \n",
       "  1666.47,1315.78 1687.27,1339.87 1708.07,1360.35 1728.86,1377.55 1749.66,1391.82 1770.46,1403.53 1791.25,1413.03 1812.05,1420.64 1832.85,1426.67 1853.64,1431.39 \n",
       "  1874.44,1435.05 1895.23,1437.85 1916.03,1439.98 1936.83,1441.57 1957.62,1442.75 1978.42,1443.62 1999.22,1444.24 2020.01,1444.69 2040.81,1445.01 2061.61,1445.24 \n",
       "  2082.4,1445.39 2103.2,1445.5 2124,1445.57 2144.79,1445.62 2165.59,1445.66 2186.38,1445.68 2207.18,1445.69 2227.98,1445.7 2248.77,1445.71 2269.57,1445.71 \n",
       "  2290.37,1445.71 \n",
       "  \"/>\n",
       "<polyline clip-path=\"url(#clip282)\" style=\"stroke:#e26f46; stroke-width:4; stroke-opacity:1; fill:none\" stroke-dasharray=\"16, 10\" points=\"\n",
       "  210.724,1445.72 231.52,1445.72 252.317,1445.72 273.113,1445.72 293.909,1445.72 314.706,1445.72 335.502,1445.72 356.299,1445.72 377.095,1445.72 397.892,1445.72 \n",
       "  418.688,1445.72 439.484,1445.72 460.281,1445.71 481.077,1445.71 501.874,1445.71 522.67,1445.71 543.467,1445.7 564.263,1445.69 585.059,1445.67 605.856,1445.62 \n",
       "  626.652,1445.55 647.449,1445.41 668.245,1445.18 689.042,1444.79 709.838,1444.14 730.634,1443.09 751.431,1441.44 772.227,1438.87 793.024,1434.98 813.82,1429.21 \n",
       "  834.617,1420.85 855.413,1408.99 876.209,1392.54 897.006,1370.26 917.802,1340.76 938.599,1302.61 959.395,1254.47 980.192,1195.19 1000.99,1124.03 1021.78,1040.84 \n",
       "  1042.58,946.231 1063.38,841.714 1084.17,729.79 1104.97,613.929 1125.77,498.453 1146.56,388.307 1167.36,288.726 1188.16,204.835 1208.95,141.214 1229.75,101.486 \n",
       "  1250.55,87.9763 1271.34,101.486 1292.14,141.214 1312.93,204.835 1333.73,288.726 1354.53,388.307 1375.32,498.453 1396.12,613.929 1416.92,729.79 1437.71,841.714 \n",
       "  1458.51,946.231 1479.31,1040.84 1500.1,1124.03 1520.9,1195.19 1541.7,1254.47 1562.49,1302.61 1583.29,1340.76 1604.08,1370.26 1624.88,1392.54 1645.68,1408.99 \n",
       "  1666.47,1420.85 1687.27,1429.21 1708.07,1434.98 1728.86,1438.87 1749.66,1441.44 1770.46,1443.09 1791.25,1444.14 1812.05,1444.79 1832.85,1445.18 1853.64,1445.41 \n",
       "  1874.44,1445.55 1895.23,1445.62 1916.03,1445.67 1936.83,1445.69 1957.62,1445.7 1978.42,1445.71 1999.22,1445.71 2020.01,1445.71 2040.81,1445.71 2061.61,1445.72 \n",
       "  2082.4,1445.72 2103.2,1445.72 2124,1445.72 2144.79,1445.72 2165.59,1445.72 2186.38,1445.72 2207.18,1445.72 2227.98,1445.72 2248.77,1445.72 2269.57,1445.72 \n",
       "  2290.37,1445.72 \n",
       "  \"/>\n",
       "<path clip-path=\"url(#clip280)\" d=\"\n",
       "M1707.84 276.658 L2279.28 276.658 L2279.28 95.2176 L1707.84 95.2176  Z\n",
       "  \" fill=\"#ffffff\" fill-rule=\"evenodd\" fill-opacity=\"1\"/>\n",
       "<polyline clip-path=\"url(#clip280)\" style=\"stroke:#000000; stroke-width:4; stroke-opacity:1; fill:none\" points=\"\n",
       "  1707.84,276.658 2279.28,276.658 2279.28,95.2176 1707.84,95.2176 1707.84,276.658 \n",
       "  \"/>\n",
       "<polyline clip-path=\"url(#clip280)\" style=\"stroke:#009af9; stroke-width:4; stroke-opacity:1; fill:none\" points=\"\n",
       "  1732.33,155.698 1879.29,155.698 \n",
       "  \"/>\n",
       "<path clip-path=\"url(#clip280)\" d=\"M 0 0 M1903.79 138.418 L1910.08 138.418 L1925.41 167.329 L1925.41 138.418 L1929.94 138.418 L1929.94 172.978 L1923.65 172.978 L1908.32 144.066 L1908.32 172.978 L1903.79 172.978 L1903.79 138.418 Z\" fill=\"#000000\" fill-rule=\"evenodd\" fill-opacity=\"1\" /><path clip-path=\"url(#clip280)\" d=\"M 0 0 M1944.64 137.006 Q1941.54 142.33 1940.03 147.538 Q1938.53 152.746 1938.53 158.093 Q1938.53 163.441 1940.03 168.695 Q1941.56 173.927 1944.64 179.228 L1940.94 179.228 Q1937.47 173.788 1935.73 168.533 Q1934.02 163.279 1934.02 158.093 Q1934.02 152.931 1935.73 147.7 Q1937.44 142.468 1940.94 137.006 L1944.64 137.006 Z\" fill=\"#000000\" fill-rule=\"evenodd\" fill-opacity=\"1\" /><path clip-path=\"url(#clip280)\" d=\"M 0 0 M1950.52 169.042 L1958.16 169.042 L1958.16 142.677 L1949.85 144.343 L1949.85 140.084 L1958.11 138.418 L1962.79 138.418 L1962.79 169.042 L1970.43 169.042 L1970.43 172.978 L1950.52 172.978 L1950.52 169.042 Z\" fill=\"#000000\" fill-rule=\"evenodd\" fill-opacity=\"1\" /><path clip-path=\"url(#clip280)\" d=\"M 0 0 M1985.5 141.496 Q1981.89 141.496 1980.06 145.061 Q1978.25 148.603 1978.25 155.732 Q1978.25 162.839 1980.06 166.404 Q1981.89 169.945 1985.5 169.945 Q1989.13 169.945 1990.94 166.404 Q1992.77 162.839 1992.77 155.732 Q1992.77 148.603 1990.94 145.061 Q1989.13 141.496 1985.5 141.496 M1985.5 137.793 Q1991.31 137.793 1994.36 142.399 Q1997.44 146.982 1997.44 155.732 Q1997.44 164.459 1994.36 169.066 Q1991.31 173.649 1985.5 173.649 Q1979.69 173.649 1976.61 169.066 Q1973.55 164.459 1973.55 155.732 Q1973.55 146.982 1976.61 142.399 Q1979.69 137.793 1985.5 137.793 Z\" fill=\"#000000\" fill-rule=\"evenodd\" fill-opacity=\"1\" /><path clip-path=\"url(#clip280)\" d=\"M 0 0 M2003 167.098 L2007.88 167.098 L2007.88 171.079 L2004.09 178.487 L2001.1 178.487 L2003 171.079 L2003 167.098 Z\" fill=\"#000000\" fill-rule=\"evenodd\" fill-opacity=\"1\" /><path clip-path=\"url(#clip280)\" d=\"M 0 0 M2013.76 169.042 L2021.4 169.042 L2021.4 142.677 L2013.09 144.343 L2013.09 140.084 L2021.35 138.418 L2026.03 138.418 L2026.03 169.042 L2033.67 169.042 L2033.67 172.978 L2013.76 172.978 L2013.76 169.042 Z\" fill=\"#000000\" fill-rule=\"evenodd\" fill-opacity=\"1\" /><path clip-path=\"url(#clip280)\" d=\"M 0 0 M2037.47 137.006 L2041.17 137.006 Q2044.64 142.468 2046.35 147.7 Q2048.09 152.931 2048.09 158.093 Q2048.09 163.279 2046.35 168.533 Q2044.64 173.788 2041.17 179.228 L2037.47 179.228 Q2040.54 173.927 2042.05 168.695 Q2043.58 163.441 2043.58 158.093 Q2043.58 152.746 2042.05 147.538 Q2040.54 142.33 2037.47 137.006 Z\" fill=\"#000000\" fill-rule=\"evenodd\" fill-opacity=\"1\" /><polyline clip-path=\"url(#clip280)\" style=\"stroke:#e26f46; stroke-width:4; stroke-opacity:1; fill:none\" stroke-dasharray=\"16, 10\" points=\"\n",
       "  1732.33,216.178 1879.29,216.178 \n",
       "  \"/>\n",
       "<path clip-path=\"url(#clip280)\" d=\"M 0 0 M1903.79 198.898 L1910.08 198.898 L1925.41 227.809 L1925.41 198.898 L1929.94 198.898 L1929.94 233.458 L1923.65 233.458 L1908.32 204.546 L1908.32 233.458 L1903.79 233.458 L1903.79 198.898 Z\" fill=\"#000000\" fill-rule=\"evenodd\" fill-opacity=\"1\" /><path clip-path=\"url(#clip280)\" d=\"M 0 0 M1944.64 197.486 Q1941.54 202.81 1940.03 208.018 Q1938.53 213.226 1938.53 218.573 Q1938.53 223.921 1940.03 229.175 Q1941.56 234.407 1944.64 239.708 L1940.94 239.708 Q1937.47 234.268 1935.73 229.013 Q1934.02 223.759 1934.02 218.573 Q1934.02 213.411 1935.73 208.18 Q1937.44 202.948 1940.94 197.486 L1944.64 197.486 Z\" fill=\"#000000\" fill-rule=\"evenodd\" fill-opacity=\"1\" /><path clip-path=\"url(#clip280)\" d=\"M 0 0 M1950.52 229.522 L1958.16 229.522 L1958.16 203.157 L1949.85 204.823 L1949.85 200.564 L1958.11 198.898 L1962.79 198.898 L1962.79 229.522 L1970.43 229.522 L1970.43 233.458 L1950.52 233.458 L1950.52 229.522 Z\" fill=\"#000000\" fill-rule=\"evenodd\" fill-opacity=\"1\" /><path clip-path=\"url(#clip280)\" d=\"M 0 0 M1985.5 201.976 Q1981.89 201.976 1980.06 205.541 Q1978.25 209.083 1978.25 216.212 Q1978.25 223.319 1980.06 226.884 Q1981.89 230.425 1985.5 230.425 Q1989.13 230.425 1990.94 226.884 Q1992.77 223.319 1992.77 216.212 Q1992.77 209.083 1990.94 205.541 Q1989.13 201.976 1985.5 201.976 M1985.5 198.273 Q1991.31 198.273 1994.36 202.879 Q1997.44 207.462 1997.44 216.212 Q1997.44 224.939 1994.36 229.546 Q1991.31 234.129 1985.5 234.129 Q1979.69 234.129 1976.61 229.546 Q1973.55 224.939 1973.55 216.212 Q1973.55 207.462 1976.61 202.879 Q1979.69 198.273 1985.5 198.273 Z\" fill=\"#000000\" fill-rule=\"evenodd\" fill-opacity=\"1\" /><path clip-path=\"url(#clip280)\" d=\"M 0 0 M2003 227.578 L2007.88 227.578 L2007.88 231.559 L2004.09 238.967 L2001.1 238.967 L2003 231.559 L2003 227.578 Z\" fill=\"#000000\" fill-rule=\"evenodd\" fill-opacity=\"1\" /><path clip-path=\"url(#clip280)\" d=\"M 0 0 M2013.76 229.522 L2021.4 229.522 L2021.4 203.157 L2013.09 204.823 L2013.09 200.564 L2021.35 198.898 L2026.03 198.898 L2026.03 229.522 L2033.67 229.522 L2033.67 233.458 L2013.76 233.458 L2013.76 229.522 Z\" fill=\"#000000\" fill-rule=\"evenodd\" fill-opacity=\"1\" /><path clip-path=\"url(#clip280)\" d=\"M 0 0 M2037.47 197.486 L2041.17 197.486 Q2044.64 202.948 2046.35 208.18 Q2048.09 213.411 2048.09 218.573 Q2048.09 223.759 2046.35 229.013 Q2044.64 234.268 2041.17 239.708 L2037.47 239.708 Q2040.54 234.407 2042.05 229.175 Q2043.58 223.921 2043.58 218.573 Q2043.58 213.226 2042.05 208.018 Q2040.54 202.81 2037.47 197.486 Z\" fill=\"#000000\" fill-rule=\"evenodd\" fill-opacity=\"1\" /><path clip-path=\"url(#clip280)\" d=\"M 0 0 M2081.33 207.995 L2070.75 218.62 L2081.33 229.198 L2078.58 231.999 L2067.95 221.374 L2057.33 231.999 L2054.59 229.198 L2065.15 218.62 L2054.59 207.995 L2057.33 205.194 L2067.95 215.819 L2078.58 205.194 L2081.33 207.995 Z\" fill=\"#000000\" fill-rule=\"evenodd\" fill-opacity=\"1\" /><path clip-path=\"url(#clip280)\" d=\"M 0 0 M2085.98 198.898 L2092.28 198.898 L2107.6 227.809 L2107.6 198.898 L2112.14 198.898 L2112.14 233.458 L2105.84 233.458 L2090.52 204.546 L2090.52 233.458 L2085.98 233.458 L2085.98 198.898 Z\" fill=\"#000000\" fill-rule=\"evenodd\" fill-opacity=\"1\" /><path clip-path=\"url(#clip280)\" d=\"M 0 0 M2126.84 197.486 Q2123.74 202.81 2122.23 208.018 Q2120.73 213.226 2120.73 218.573 Q2120.73 223.921 2122.23 229.175 Q2123.76 234.407 2126.84 239.708 L2123.14 239.708 Q2119.66 234.268 2117.93 229.013 Q2116.21 223.759 2116.21 218.573 Q2116.21 213.411 2117.93 208.18 Q2119.64 202.948 2123.14 197.486 L2126.84 197.486 Z\" fill=\"#000000\" fill-rule=\"evenodd\" fill-opacity=\"1\" /><path clip-path=\"url(#clip280)\" d=\"M 0 0 M2132.72 229.522 L2140.36 229.522 L2140.36 203.157 L2132.05 204.823 L2132.05 200.564 L2140.31 198.898 L2144.99 198.898 L2144.99 229.522 L2152.63 229.522 L2152.63 233.458 L2132.72 233.458 L2132.72 229.522 Z\" fill=\"#000000\" fill-rule=\"evenodd\" fill-opacity=\"1\" /><path clip-path=\"url(#clip280)\" d=\"M 0 0 M2167.7 201.976 Q2164.08 201.976 2162.26 205.541 Q2160.45 209.083 2160.45 216.212 Q2160.45 223.319 2162.26 226.884 Q2164.08 230.425 2167.7 230.425 Q2171.33 230.425 2173.14 226.884 Q2174.96 223.319 2174.96 216.212 Q2174.96 209.083 2173.14 205.541 Q2171.33 201.976 2167.7 201.976 M2167.7 198.273 Q2173.51 198.273 2176.56 202.879 Q2179.64 207.462 2179.64 216.212 Q2179.64 224.939 2176.56 229.546 Q2173.51 234.129 2167.7 234.129 Q2161.89 234.129 2158.81 229.546 Q2155.75 224.939 2155.75 216.212 Q2155.75 207.462 2158.81 202.879 Q2161.89 198.273 2167.7 198.273 Z\" fill=\"#000000\" fill-rule=\"evenodd\" fill-opacity=\"1\" /><path clip-path=\"url(#clip280)\" d=\"M 0 0 M2185.2 227.578 L2190.08 227.578 L2190.08 231.559 L2186.28 238.967 L2183.3 238.967 L2185.2 231.559 L2185.2 227.578 Z\" fill=\"#000000\" fill-rule=\"evenodd\" fill-opacity=\"1\" /><path clip-path=\"url(#clip280)\" d=\"M 0 0 M2195.96 229.522 L2203.6 229.522 L2203.6 203.157 L2195.29 204.823 L2195.29 200.564 L2203.55 198.898 L2208.23 198.898 L2208.23 229.522 L2215.87 229.522 L2215.87 233.458 L2195.96 233.458 L2195.96 229.522 Z\" fill=\"#000000\" fill-rule=\"evenodd\" fill-opacity=\"1\" /><path clip-path=\"url(#clip280)\" d=\"M 0 0 M2219.66 197.486 L2223.37 197.486 Q2226.84 202.948 2228.55 208.18 Q2230.29 213.411 2230.29 218.573 Q2230.29 223.759 2228.55 229.013 Q2226.84 234.268 2223.37 239.708 L2219.66 239.708 Q2222.74 234.407 2224.25 229.175 Q2225.77 223.921 2225.77 218.573 Q2225.77 213.226 2224.25 208.018 Q2222.74 202.81 2219.66 197.486 Z\" fill=\"#000000\" fill-rule=\"evenodd\" fill-opacity=\"1\" /></svg>\n"
      ]
     },
     "execution_count": 157,
     "metadata": {},
     "output_type": "execute_result"
    }
   ],
   "source": [
    "z = Normal(10, 1)\n",
    "product = gaussian_multiply(z,z)\n",
    "\n",
    "xs = collect(range(5,15,step=0.1))\n",
    "ys = pdf(z, xs)\n",
    "\n",
    "plot(xs, ys, label=\"N(10,1)\")\n",
    "\n",
    "yss = pdf(product, xs)\n",
    "plot!(xs, yss, linestyle=:dash, label=\"N(10,1)×N(10,1)\")"
   ]
  },
  {
   "cell_type": "markdown",
   "metadata": {},
   "source": [
    "The result of the multiplication is taller and narrow than the original Gaussian but the mean is unchanged. Does this match your intuition?\n",
    "\n",
    "Think of the Gaussians as two measurements. If I measure twice and get 10 meters each time, I should conclude that the length is close to 10 meters. Thus the mean should be 10. It would make no sense to conclude the length is actually 11, or 9.5. Also, I am more confident with two measurements than with one, so the variance of the result should be smaller. \n",
    "\n",
    "\"Measure twice, cut once\" is a well known saying. Gaussian multiplication is a mathematical model of this physical fact. \n",
    "\n",
    "I'm unlikely to get the same measurement twice in a row. Now let's plot the pdf of $\\mathcal{N}(10.2,\\, 1) \\times \\mathcal{N}(9.7,\\, 1)$. What do you think the result will be? Think about it, and then look at the graph."
   ]
  },
  {
   "cell_type": "code",
   "execution_count": 158,
   "metadata": {},
   "outputs": [
    {
     "name": "stderr",
     "output_type": "stream",
     "text": [
      "\u001b[32m\u001b[1m   Building\u001b[22m\u001b[39m WebIO → `C:\\Users\\Bleep\\.julia\\packages\\WebIO\\nTMDV\\deps\\build.log`\n"
     ]
    }
   ],
   "source": [
    "using Pkg\n",
    "#Pkg.add(\"Interact\")\n",
    "using Interact\n",
    "using WebIO\n",
    "Pkg.build(\"WebIO\")"
   ]
  },
  {
   "cell_type": "markdown",
   "metadata": {},
   "source": [
    "### Interactive Example\n",
    "\n",
    "This interactive code provides sliders to alter the mean and variance of two Gaussians that are being multiplied together. As you move the sliders the plot is redrawn. Place your cursor inside the code cell and press CTRL+Enter to execute it."
   ]
  },
  {
   "cell_type": "code",
   "execution_count": 159,
   "metadata": {},
   "outputs": [
    {
     "data": {
      "application/vnd.webio.node+json": {
       "children": [
        {
         "children": [
          {
           "children": [
            {
             "children": [
              {
               "children": [
                {
                 "children": [
                  "μ₁"
                 ],
                 "instanceArgs": {
                  "namespace": "html",
                  "tag": "label"
                 },
                 "nodeType": "DOM",
                 "props": {
                  "className": "interact ",
                  "style": {
                   "padding": "5px 10px 0px 10px"
                  }
                 },
                 "type": "node"
                }
               ],
               "instanceArgs": {
                "namespace": "html",
                "tag": "div"
               },
               "nodeType": "DOM",
               "props": {
                "className": "interact-flex-row-left"
               },
               "type": "node"
              },
              {
               "children": [
                {
                 "children": [],
                 "instanceArgs": {
                  "namespace": "html",
                  "tag": "input"
                 },
                 "nodeType": "DOM",
                 "props": {
                  "attributes": {
                   "data-bind": "numericValue: index, valueUpdate: 'input', event: {change: function (){this.changes(this.changes()+1)}}",
                   "orient": "horizontal",
                   "type": "range"
                  },
                  "className": "slider slider is-fullwidth",
                  "max": 20,
                  "min": 6,
                  "step": 1,
                  "style": {}
                 },
                 "type": "node"
                }
               ],
               "instanceArgs": {
                "namespace": "html",
                "tag": "div"
               },
               "nodeType": "DOM",
               "props": {
                "className": "interact-flex-row-center"
               },
               "type": "node"
              },
              {
               "children": [
                {
                 "children": [],
                 "instanceArgs": {
                  "namespace": "html",
                  "tag": "p"
                 },
                 "nodeType": "DOM",
                 "props": {
                  "attributes": {
                   "data-bind": "text: formatted_val"
                  }
                 },
                 "type": "node"
                }
               ],
               "instanceArgs": {
                "namespace": "html",
                "tag": "div"
               },
               "nodeType": "DOM",
               "props": {
                "className": "interact-flex-row-right"
               },
               "type": "node"
              }
             ],
             "instanceArgs": {
              "namespace": "html",
              "tag": "div"
             },
             "nodeType": "DOM",
             "props": {
              "className": "interact-flex-row interact-widget"
             },
             "type": "node"
            }
           ],
           "instanceArgs": {
            "handlers": {
             "changes": [
              "(function (val){return (val!=this.model[\"changes\"]()) ? (this.valueFromJulia[\"changes\"]=true, this.model[\"changes\"](val)) : undefined})"
             ],
             "index": [
              "(function (val){return (val!=this.model[\"index\"]()) ? (this.valueFromJulia[\"index\"]=true, this.model[\"index\"](val)) : undefined})"
             ]
            },
            "id": "5729029708259741718",
            "imports": {
             "data": [
              {
               "name": "knockout",
               "type": "js",
               "url": "/assetserver/3a353afbd6c9130c04469cb36ceb880da7412142-knockout.js"
              },
              {
               "name": "knockout_punches",
               "type": "js",
               "url": "/assetserver/4ed641d55a3b9fd0bf416e425a088dbb3c4d8c47-knockout_punches.js"
              },
              {
               "name": null,
               "type": "js",
               "url": "/assetserver/d377f3bd98e9444333f45a0cc8f3442ad857b22d-all.js"
              },
              {
               "name": null,
               "type": "css",
               "url": "/assetserver/5dea6e24df3f374beda4fb1a43687135e0d24594-style.css"
              },
              {
               "name": null,
               "type": "css",
               "url": "/assetserver/62bb3f6330c38af16aaf56dac2a1ac22607e4957-bulma_confined.min.css"
              }
             ],
             "type": "async_block"
            },
            "mount_callbacks": [
             "function () {\n    var handler = (function (ko, koPunches) {\n    ko.punches.enableAll();\n    ko.bindingHandlers.numericValue = {\n        init: function(element, valueAccessor, allBindings, data, context) {\n            var stringified = ko.observable(ko.unwrap(valueAccessor()));\n            stringified.subscribe(function(value) {\n                var val = parseFloat(value);\n                if (!isNaN(val)) {\n                    valueAccessor()(val);\n                }\n            });\n            valueAccessor().subscribe(function(value) {\n                var str = JSON.stringify(value);\n                if ((str == \"0\") && ([\"-0\", \"-0.\"].indexOf(stringified()) >= 0))\n                     return;\n                 if ([\"null\", \"\"].indexOf(str) >= 0)\n                     return;\n                stringified(str);\n            });\n            ko.applyBindingsToNode(\n                element,\n                {\n                    value: stringified,\n                    valueUpdate: allBindings.get('valueUpdate'),\n                },\n                context,\n            );\n        }\n    };\n    var json_data = {\"formatted_vals\":[\"6\",\"7\",\"8\",\"9\",\"10\",\"11\",\"12\",\"13\",\"14\",\"15\",\"16\",\"17\",\"18\",\"19\",\"20\"],\"changes\":WebIO.getval({\"name\":\"changes\",\"scope\":\"5729029708259741718\",\"id\":\"11796068478014887623\",\"type\":\"observable\"}),\"index\":WebIO.getval({\"name\":\"index\",\"scope\":\"5729029708259741718\",\"id\":\"8337506423047193873\",\"type\":\"observable\"})};\n    var self = this;\n    function AppViewModel() {\n        for (var key in json_data) {\n            var el = json_data[key];\n            this[key] = Array.isArray(el) ? ko.observableArray(el) : ko.observable(el);\n        }\n        \n        [this[\"formatted_val\"]=ko.computed(    function(){\n        return this.formatted_vals()[parseInt(this.index())-(6)];\n    }\n,this)]\n        [this[\"changes\"].subscribe((function (val){!(this.valueFromJulia[\"changes\"]) ? (WebIO.setval({\"name\":\"changes\",\"scope\":\"5729029708259741718\",\"id\":\"11796068478014887623\",\"type\":\"observable\"},val)) : undefined; return this.valueFromJulia[\"changes\"]=false}),self),this[\"index\"].subscribe((function (val){!(this.valueFromJulia[\"index\"]) ? (WebIO.setval({\"name\":\"index\",\"scope\":\"5729029708259741718\",\"id\":\"8337506423047193873\",\"type\":\"observable\"},val)) : undefined; return this.valueFromJulia[\"index\"]=false}),self)]\n        \n    }\n    self.model = new AppViewModel();\n    self.valueFromJulia = {};\n    for (var key in json_data) {\n        self.valueFromJulia[key] = false;\n    }\n    ko.applyBindings(self.model, self.dom);\n}\n);\n    (WebIO.importBlock({\"data\":[{\"name\":\"knockout\",\"type\":\"js\",\"url\":\"/assetserver/3a353afbd6c9130c04469cb36ceb880da7412142-knockout.js\"},{\"name\":\"knockout_punches\",\"type\":\"js\",\"url\":\"/assetserver/4ed641d55a3b9fd0bf416e425a088dbb3c4d8c47-knockout_punches.js\"}],\"type\":\"async_block\"})).then((imports) => handler.apply(this, imports));\n}\n"
            ],
            "observables": {
             "changes": {
              "id": "11796068478014887623",
              "sync": false,
              "value": 0
             },
             "index": {
              "id": "8337506423047193873",
              "sync": true,
              "value": 6
             }
            },
            "systemjs_options": null
           },
           "nodeType": "Scope",
           "props": {},
           "type": "node"
          }
         ],
         "instanceArgs": {
          "namespace": "html",
          "tag": "div"
         },
         "nodeType": "DOM",
         "props": {
          "className": "field interact-widget"
         },
         "type": "node"
        },
        {
         "children": [
          {
           "children": [
            {
             "children": [
              {
               "children": [
                {
                 "children": [
                  "μ₂"
                 ],
                 "instanceArgs": {
                  "namespace": "html",
                  "tag": "label"
                 },
                 "nodeType": "DOM",
                 "props": {
                  "className": "interact ",
                  "style": {
                   "padding": "5px 10px 0px 10px"
                  }
                 },
                 "type": "node"
                }
               ],
               "instanceArgs": {
                "namespace": "html",
                "tag": "div"
               },
               "nodeType": "DOM",
               "props": {
                "className": "interact-flex-row-left"
               },
               "type": "node"
              },
              {
               "children": [
                {
                 "children": [],
                 "instanceArgs": {
                  "namespace": "html",
                  "tag": "input"
                 },
                 "nodeType": "DOM",
                 "props": {
                  "attributes": {
                   "data-bind": "numericValue: index, valueUpdate: 'input', event: {change: function (){this.changes(this.changes()+1)}}",
                   "orient": "horizontal",
                   "type": "range"
                  },
                  "className": "slider slider is-fullwidth",
                  "max": 20,
                  "min": 6,
                  "step": 1,
                  "style": {}
                 },
                 "type": "node"
                }
               ],
               "instanceArgs": {
                "namespace": "html",
                "tag": "div"
               },
               "nodeType": "DOM",
               "props": {
                "className": "interact-flex-row-center"
               },
               "type": "node"
              },
              {
               "children": [
                {
                 "children": [],
                 "instanceArgs": {
                  "namespace": "html",
                  "tag": "p"
                 },
                 "nodeType": "DOM",
                 "props": {
                  "attributes": {
                   "data-bind": "text: formatted_val"
                  }
                 },
                 "type": "node"
                }
               ],
               "instanceArgs": {
                "namespace": "html",
                "tag": "div"
               },
               "nodeType": "DOM",
               "props": {
                "className": "interact-flex-row-right"
               },
               "type": "node"
              }
             ],
             "instanceArgs": {
              "namespace": "html",
              "tag": "div"
             },
             "nodeType": "DOM",
             "props": {
              "className": "interact-flex-row interact-widget"
             },
             "type": "node"
            }
           ],
           "instanceArgs": {
            "handlers": {
             "changes": [
              "(function (val){return (val!=this.model[\"changes\"]()) ? (this.valueFromJulia[\"changes\"]=true, this.model[\"changes\"](val)) : undefined})"
             ],
             "index": [
              "(function (val){return (val!=this.model[\"index\"]()) ? (this.valueFromJulia[\"index\"]=true, this.model[\"index\"](val)) : undefined})"
             ]
            },
            "id": "16988792315442527486",
            "imports": {
             "data": [
              {
               "name": "knockout",
               "type": "js",
               "url": "/assetserver/3a353afbd6c9130c04469cb36ceb880da7412142-knockout.js"
              },
              {
               "name": "knockout_punches",
               "type": "js",
               "url": "/assetserver/4ed641d55a3b9fd0bf416e425a088dbb3c4d8c47-knockout_punches.js"
              },
              {
               "name": null,
               "type": "js",
               "url": "/assetserver/d377f3bd98e9444333f45a0cc8f3442ad857b22d-all.js"
              },
              {
               "name": null,
               "type": "css",
               "url": "/assetserver/5dea6e24df3f374beda4fb1a43687135e0d24594-style.css"
              },
              {
               "name": null,
               "type": "css",
               "url": "/assetserver/62bb3f6330c38af16aaf56dac2a1ac22607e4957-bulma_confined.min.css"
              }
             ],
             "type": "async_block"
            },
            "mount_callbacks": [
             "function () {\n    var handler = (function (ko, koPunches) {\n    ko.punches.enableAll();\n    ko.bindingHandlers.numericValue = {\n        init: function(element, valueAccessor, allBindings, data, context) {\n            var stringified = ko.observable(ko.unwrap(valueAccessor()));\n            stringified.subscribe(function(value) {\n                var val = parseFloat(value);\n                if (!isNaN(val)) {\n                    valueAccessor()(val);\n                }\n            });\n            valueAccessor().subscribe(function(value) {\n                var str = JSON.stringify(value);\n                if ((str == \"0\") && ([\"-0\", \"-0.\"].indexOf(stringified()) >= 0))\n                     return;\n                 if ([\"null\", \"\"].indexOf(str) >= 0)\n                     return;\n                stringified(str);\n            });\n            ko.applyBindingsToNode(\n                element,\n                {\n                    value: stringified,\n                    valueUpdate: allBindings.get('valueUpdate'),\n                },\n                context,\n            );\n        }\n    };\n    var json_data = {\"formatted_vals\":[\"6\",\"7\",\"8\",\"9\",\"10\",\"11\",\"12\",\"13\",\"14\",\"15\",\"16\",\"17\",\"18\",\"19\",\"20\"],\"changes\":WebIO.getval({\"name\":\"changes\",\"scope\":\"16988792315442527486\",\"id\":\"98393852686612021\",\"type\":\"observable\"}),\"index\":WebIO.getval({\"name\":\"index\",\"scope\":\"16988792315442527486\",\"id\":\"5341585031951208798\",\"type\":\"observable\"})};\n    var self = this;\n    function AppViewModel() {\n        for (var key in json_data) {\n            var el = json_data[key];\n            this[key] = Array.isArray(el) ? ko.observableArray(el) : ko.observable(el);\n        }\n        \n        [this[\"formatted_val\"]=ko.computed(    function(){\n        return this.formatted_vals()[parseInt(this.index())-(6)];\n    }\n,this)]\n        [this[\"changes\"].subscribe((function (val){!(this.valueFromJulia[\"changes\"]) ? (WebIO.setval({\"name\":\"changes\",\"scope\":\"16988792315442527486\",\"id\":\"98393852686612021\",\"type\":\"observable\"},val)) : undefined; return this.valueFromJulia[\"changes\"]=false}),self),this[\"index\"].subscribe((function (val){!(this.valueFromJulia[\"index\"]) ? (WebIO.setval({\"name\":\"index\",\"scope\":\"16988792315442527486\",\"id\":\"5341585031951208798\",\"type\":\"observable\"},val)) : undefined; return this.valueFromJulia[\"index\"]=false}),self)]\n        \n    }\n    self.model = new AppViewModel();\n    self.valueFromJulia = {};\n    for (var key in json_data) {\n        self.valueFromJulia[key] = false;\n    }\n    ko.applyBindings(self.model, self.dom);\n}\n);\n    (WebIO.importBlock({\"data\":[{\"name\":\"knockout\",\"type\":\"js\",\"url\":\"/assetserver/3a353afbd6c9130c04469cb36ceb880da7412142-knockout.js\"},{\"name\":\"knockout_punches\",\"type\":\"js\",\"url\":\"/assetserver/4ed641d55a3b9fd0bf416e425a088dbb3c4d8c47-knockout_punches.js\"}],\"type\":\"async_block\"})).then((imports) => handler.apply(this, imports));\n}\n"
            ],
            "observables": {
             "changes": {
              "id": "98393852686612021",
              "sync": false,
              "value": 0
             },
             "index": {
              "id": "5341585031951208798",
              "sync": true,
              "value": 10
             }
            },
            "systemjs_options": null
           },
           "nodeType": "Scope",
           "props": {},
           "type": "node"
          }
         ],
         "instanceArgs": {
          "namespace": "html",
          "tag": "div"
         },
         "nodeType": "DOM",
         "props": {
          "className": "field interact-widget"
         },
         "type": "node"
        },
        {
         "children": [
          {
           "children": [
            {
             "children": [
              {
               "children": [
                {
                 "children": [
                  "σ₁"
                 ],
                 "instanceArgs": {
                  "namespace": "html",
                  "tag": "label"
                 },
                 "nodeType": "DOM",
                 "props": {
                  "className": "interact ",
                  "style": {
                   "padding": "5px 10px 0px 10px"
                  }
                 },
                 "type": "node"
                }
               ],
               "instanceArgs": {
                "namespace": "html",
                "tag": "div"
               },
               "nodeType": "DOM",
               "props": {
                "className": "interact-flex-row-left"
               },
               "type": "node"
              },
              {
               "children": [
                {
                 "children": [],
                 "instanceArgs": {
                  "namespace": "html",
                  "tag": "input"
                 },
                 "nodeType": "DOM",
                 "props": {
                  "attributes": {
                   "data-bind": "numericValue: index, valueUpdate: 'input', event: {change: function (){this.changes(this.changes()+1)}}",
                   "orient": "horizontal",
                   "type": "range"
                  },
                  "className": "slider slider is-fullwidth",
                  "max": 19,
                  "min": 1,
                  "step": 1,
                  "style": {}
                 },
                 "type": "node"
                }
               ],
               "instanceArgs": {
                "namespace": "html",
                "tag": "div"
               },
               "nodeType": "DOM",
               "props": {
                "className": "interact-flex-row-center"
               },
               "type": "node"
              },
              {
               "children": [
                {
                 "children": [],
                 "instanceArgs": {
                  "namespace": "html",
                  "tag": "p"
                 },
                 "nodeType": "DOM",
                 "props": {
                  "attributes": {
                   "data-bind": "text: formatted_val"
                  }
                 },
                 "type": "node"
                }
               ],
               "instanceArgs": {
                "namespace": "html",
                "tag": "div"
               },
               "nodeType": "DOM",
               "props": {
                "className": "interact-flex-row-right"
               },
               "type": "node"
              }
             ],
             "instanceArgs": {
              "namespace": "html",
              "tag": "div"
             },
             "nodeType": "DOM",
             "props": {
              "className": "interact-flex-row interact-widget"
             },
             "type": "node"
            }
           ],
           "instanceArgs": {
            "handlers": {
             "changes": [
              "(function (val){return (val!=this.model[\"changes\"]()) ? (this.valueFromJulia[\"changes\"]=true, this.model[\"changes\"](val)) : undefined})"
             ],
             "index": [
              "(function (val){return (val!=this.model[\"index\"]()) ? (this.valueFromJulia[\"index\"]=true, this.model[\"index\"](val)) : undefined})"
             ]
            },
            "id": "2830824337929200187",
            "imports": {
             "data": [
              {
               "name": "knockout",
               "type": "js",
               "url": "/assetserver/3a353afbd6c9130c04469cb36ceb880da7412142-knockout.js"
              },
              {
               "name": "knockout_punches",
               "type": "js",
               "url": "/assetserver/4ed641d55a3b9fd0bf416e425a088dbb3c4d8c47-knockout_punches.js"
              },
              {
               "name": null,
               "type": "js",
               "url": "/assetserver/d377f3bd98e9444333f45a0cc8f3442ad857b22d-all.js"
              },
              {
               "name": null,
               "type": "css",
               "url": "/assetserver/5dea6e24df3f374beda4fb1a43687135e0d24594-style.css"
              },
              {
               "name": null,
               "type": "css",
               "url": "/assetserver/62bb3f6330c38af16aaf56dac2a1ac22607e4957-bulma_confined.min.css"
              }
             ],
             "type": "async_block"
            },
            "mount_callbacks": [
             "function () {\n    var handler = (function (ko, koPunches) {\n    ko.punches.enableAll();\n    ko.bindingHandlers.numericValue = {\n        init: function(element, valueAccessor, allBindings, data, context) {\n            var stringified = ko.observable(ko.unwrap(valueAccessor()));\n            stringified.subscribe(function(value) {\n                var val = parseFloat(value);\n                if (!isNaN(val)) {\n                    valueAccessor()(val);\n                }\n            });\n            valueAccessor().subscribe(function(value) {\n                var str = JSON.stringify(value);\n                if ((str == \"0\") && ([\"-0\", \"-0.\"].indexOf(stringified()) >= 0))\n                     return;\n                 if ([\"null\", \"\"].indexOf(str) >= 0)\n                     return;\n                stringified(str);\n            });\n            ko.applyBindingsToNode(\n                element,\n                {\n                    value: stringified,\n                    valueUpdate: allBindings.get('valueUpdate'),\n                },\n                context,\n            );\n        }\n    };\n    var json_data = {\"formatted_vals\":[\"1.0\",\"1.5\",\"2.0\",\"2.5\",\"3.0\",\"3.5\",\"4.0\",\"4.5\",\"5.0\",\"5.5\",\"6.0\",\"6.5\",\"7.0\",\"7.5\",\"8.0\",\"8.5\",\"9.0\",\"9.5\",\"10.0\"],\"changes\":WebIO.getval({\"name\":\"changes\",\"scope\":\"2830824337929200187\",\"id\":\"7754495274112695243\",\"type\":\"observable\"}),\"index\":WebIO.getval({\"name\":\"index\",\"scope\":\"2830824337929200187\",\"id\":\"16273590418961242741\",\"type\":\"observable\"})};\n    var self = this;\n    function AppViewModel() {\n        for (var key in json_data) {\n            var el = json_data[key];\n            this[key] = Array.isArray(el) ? ko.observableArray(el) : ko.observable(el);\n        }\n        \n        [this[\"formatted_val\"]=ko.computed(    function(){\n        return this.formatted_vals()[parseInt(this.index())-(1)];\n    }\n,this)]\n        [this[\"changes\"].subscribe((function (val){!(this.valueFromJulia[\"changes\"]) ? (WebIO.setval({\"name\":\"changes\",\"scope\":\"2830824337929200187\",\"id\":\"7754495274112695243\",\"type\":\"observable\"},val)) : undefined; return this.valueFromJulia[\"changes\"]=false}),self),this[\"index\"].subscribe((function (val){!(this.valueFromJulia[\"index\"]) ? (WebIO.setval({\"name\":\"index\",\"scope\":\"2830824337929200187\",\"id\":\"16273590418961242741\",\"type\":\"observable\"},val)) : undefined; return this.valueFromJulia[\"index\"]=false}),self)]\n        \n    }\n    self.model = new AppViewModel();\n    self.valueFromJulia = {};\n    for (var key in json_data) {\n        self.valueFromJulia[key] = false;\n    }\n    ko.applyBindings(self.model, self.dom);\n}\n);\n    (WebIO.importBlock({\"data\":[{\"name\":\"knockout\",\"type\":\"js\",\"url\":\"/assetserver/3a353afbd6c9130c04469cb36ceb880da7412142-knockout.js\"},{\"name\":\"knockout_punches\",\"type\":\"js\",\"url\":\"/assetserver/4ed641d55a3b9fd0bf416e425a088dbb3c4d8c47-knockout_punches.js\"}],\"type\":\"async_block\"})).then((imports) => handler.apply(this, imports));\n}\n"
            ],
            "observables": {
             "changes": {
              "id": "7754495274112695243",
              "sync": false,
              "value": 0
             },
             "index": {
              "id": "16273590418961242741",
              "sync": true,
              "value": 1
             }
            },
            "systemjs_options": null
           },
           "nodeType": "Scope",
           "props": {},
           "type": "node"
          }
         ],
         "instanceArgs": {
          "namespace": "html",
          "tag": "div"
         },
         "nodeType": "DOM",
         "props": {
          "className": "field interact-widget"
         },
         "type": "node"
        },
        {
         "children": [
          {
           "children": [
            {
             "children": [
              {
               "children": [
                {
                 "children": [
                  "σ₂"
                 ],
                 "instanceArgs": {
                  "namespace": "html",
                  "tag": "label"
                 },
                 "nodeType": "DOM",
                 "props": {
                  "className": "interact ",
                  "style": {
                   "padding": "5px 10px 0px 10px"
                  }
                 },
                 "type": "node"
                }
               ],
               "instanceArgs": {
                "namespace": "html",
                "tag": "div"
               },
               "nodeType": "DOM",
               "props": {
                "className": "interact-flex-row-left"
               },
               "type": "node"
              },
              {
               "children": [
                {
                 "children": [],
                 "instanceArgs": {
                  "namespace": "html",
                  "tag": "input"
                 },
                 "nodeType": "DOM",
                 "props": {
                  "attributes": {
                   "data-bind": "numericValue: index, valueUpdate: 'input', event: {change: function (){this.changes(this.changes()+1)}}",
                   "orient": "horizontal",
                   "type": "range"
                  },
                  "className": "slider slider is-fullwidth",
                  "max": 19,
                  "min": 1,
                  "step": 1,
                  "style": {}
                 },
                 "type": "node"
                }
               ],
               "instanceArgs": {
                "namespace": "html",
                "tag": "div"
               },
               "nodeType": "DOM",
               "props": {
                "className": "interact-flex-row-center"
               },
               "type": "node"
              },
              {
               "children": [
                {
                 "children": [],
                 "instanceArgs": {
                  "namespace": "html",
                  "tag": "p"
                 },
                 "nodeType": "DOM",
                 "props": {
                  "attributes": {
                   "data-bind": "text: formatted_val"
                  }
                 },
                 "type": "node"
                }
               ],
               "instanceArgs": {
                "namespace": "html",
                "tag": "div"
               },
               "nodeType": "DOM",
               "props": {
                "className": "interact-flex-row-right"
               },
               "type": "node"
              }
             ],
             "instanceArgs": {
              "namespace": "html",
              "tag": "div"
             },
             "nodeType": "DOM",
             "props": {
              "className": "interact-flex-row interact-widget"
             },
             "type": "node"
            }
           ],
           "instanceArgs": {
            "handlers": {
             "changes": [
              "(function (val){return (val!=this.model[\"changes\"]()) ? (this.valueFromJulia[\"changes\"]=true, this.model[\"changes\"](val)) : undefined})"
             ],
             "index": [
              "(function (val){return (val!=this.model[\"index\"]()) ? (this.valueFromJulia[\"index\"]=true, this.model[\"index\"](val)) : undefined})"
             ]
            },
            "id": "9719877213766344648",
            "imports": {
             "data": [
              {
               "name": "knockout",
               "type": "js",
               "url": "/assetserver/3a353afbd6c9130c04469cb36ceb880da7412142-knockout.js"
              },
              {
               "name": "knockout_punches",
               "type": "js",
               "url": "/assetserver/4ed641d55a3b9fd0bf416e425a088dbb3c4d8c47-knockout_punches.js"
              },
              {
               "name": null,
               "type": "js",
               "url": "/assetserver/d377f3bd98e9444333f45a0cc8f3442ad857b22d-all.js"
              },
              {
               "name": null,
               "type": "css",
               "url": "/assetserver/5dea6e24df3f374beda4fb1a43687135e0d24594-style.css"
              },
              {
               "name": null,
               "type": "css",
               "url": "/assetserver/62bb3f6330c38af16aaf56dac2a1ac22607e4957-bulma_confined.min.css"
              }
             ],
             "type": "async_block"
            },
            "mount_callbacks": [
             "function () {\n    var handler = (function (ko, koPunches) {\n    ko.punches.enableAll();\n    ko.bindingHandlers.numericValue = {\n        init: function(element, valueAccessor, allBindings, data, context) {\n            var stringified = ko.observable(ko.unwrap(valueAccessor()));\n            stringified.subscribe(function(value) {\n                var val = parseFloat(value);\n                if (!isNaN(val)) {\n                    valueAccessor()(val);\n                }\n            });\n            valueAccessor().subscribe(function(value) {\n                var str = JSON.stringify(value);\n                if ((str == \"0\") && ([\"-0\", \"-0.\"].indexOf(stringified()) >= 0))\n                     return;\n                 if ([\"null\", \"\"].indexOf(str) >= 0)\n                     return;\n                stringified(str);\n            });\n            ko.applyBindingsToNode(\n                element,\n                {\n                    value: stringified,\n                    valueUpdate: allBindings.get('valueUpdate'),\n                },\n                context,\n            );\n        }\n    };\n    var json_data = {\"formatted_vals\":[\"1.0\",\"1.5\",\"2.0\",\"2.5\",\"3.0\",\"3.5\",\"4.0\",\"4.5\",\"5.0\",\"5.5\",\"6.0\",\"6.5\",\"7.0\",\"7.5\",\"8.0\",\"8.5\",\"9.0\",\"9.5\",\"10.0\"],\"changes\":WebIO.getval({\"name\":\"changes\",\"scope\":\"9719877213766344648\",\"id\":\"1929647299426985242\",\"type\":\"observable\"}),\"index\":WebIO.getval({\"name\":\"index\",\"scope\":\"9719877213766344648\",\"id\":\"645444793060698222\",\"type\":\"observable\"})};\n    var self = this;\n    function AppViewModel() {\n        for (var key in json_data) {\n            var el = json_data[key];\n            this[key] = Array.isArray(el) ? ko.observableArray(el) : ko.observable(el);\n        }\n        \n        [this[\"formatted_val\"]=ko.computed(    function(){\n        return this.formatted_vals()[parseInt(this.index())-(1)];\n    }\n,this)]\n        [this[\"changes\"].subscribe((function (val){!(this.valueFromJulia[\"changes\"]) ? (WebIO.setval({\"name\":\"changes\",\"scope\":\"9719877213766344648\",\"id\":\"1929647299426985242\",\"type\":\"observable\"},val)) : undefined; return this.valueFromJulia[\"changes\"]=false}),self),this[\"index\"].subscribe((function (val){!(this.valueFromJulia[\"index\"]) ? (WebIO.setval({\"name\":\"index\",\"scope\":\"9719877213766344648\",\"id\":\"645444793060698222\",\"type\":\"observable\"},val)) : undefined; return this.valueFromJulia[\"index\"]=false}),self)]\n        \n    }\n    self.model = new AppViewModel();\n    self.valueFromJulia = {};\n    for (var key in json_data) {\n        self.valueFromJulia[key] = false;\n    }\n    ko.applyBindings(self.model, self.dom);\n}\n);\n    (WebIO.importBlock({\"data\":[{\"name\":\"knockout\",\"type\":\"js\",\"url\":\"/assetserver/3a353afbd6c9130c04469cb36ceb880da7412142-knockout.js\"},{\"name\":\"knockout_punches\",\"type\":\"js\",\"url\":\"/assetserver/4ed641d55a3b9fd0bf416e425a088dbb3c4d8c47-knockout_punches.js\"}],\"type\":\"async_block\"})).then((imports) => handler.apply(this, imports));\n}\n"
            ],
            "observables": {
             "changes": {
              "id": "1929647299426985242",
              "sync": false,
              "value": 0
             },
             "index": {
              "id": "645444793060698222",
              "sync": true,
              "value": 1
             }
            },
            "systemjs_options": null
           },
           "nodeType": "Scope",
           "props": {},
           "type": "node"
          }
         ],
         "instanceArgs": {
          "namespace": "html",
          "tag": "div"
         },
         "nodeType": "DOM",
         "props": {
          "className": "field interact-widget"
         },
         "type": "node"
        },
        {
         "children": [
          {
           "children": [],
           "instanceArgs": {
            "id": "12217194344373112592",
            "name": "obs-node"
           },
           "nodeType": "ObservableNode",
           "props": {},
           "type": "node"
          }
         ],
         "instanceArgs": {
          "handlers": {},
          "id": "9888650979464614709",
          "imports": {
           "data": [],
           "type": "async_block"
          },
          "mount_callbacks": [],
          "observables": {
           "obs-node": {
            "id": "12217194344373112592",
            "sync": false,
            "value": {
             "children": [
              {
               "children": [],
               "instanceArgs": {
                "namespace": "html",
                "tag": "div"
               },
               "nodeType": "DOM",
               "props": {
                "setInnerHtml": "<?xml version=\"1.0\" encoding=\"utf-8\"?>\n<svg xmlns=\"http://www.w3.org/2000/svg\" xmlns:xlink=\"http://www.w3.org/1999/xlink\" width=\"600\" height=\"400\" viewBox=\"0 0 2400 1600\">\n<defs>\n  <clipPath id=\"clip360\">\n    <rect x=\"0\" y=\"0\" width=\"2400\" height=\"1600\"/>\n  </clipPath>\n</defs>\n<path clip-path=\"url(#clip360)\" d=\"\nM0 1600 L2400 1600 L2400 0 L0 0  Z\n  \" fill=\"#ffffff\" fill-rule=\"evenodd\" fill-opacity=\"1\"/>\n<defs>\n  <clipPath id=\"clip361\">\n    <rect x=\"480\" y=\"0\" width=\"1681\" height=\"1600\"/>\n  </clipPath>\n</defs>\n<path clip-path=\"url(#clip360)\" d=\"\nM148.334 1486.45 L2352.76 1486.45 L2352.76 47.2441 L148.334 47.2441  Z\n  \" fill=\"#ffffff\" fill-rule=\"evenodd\" fill-opacity=\"1\"/>\n<defs>\n  <clipPath id=\"clip362\">\n    <rect x=\"148\" y=\"47\" width=\"2205\" height=\"1440\"/>\n  </clipPath>\n</defs>\n<polyline clip-path=\"url(#clip362)\" style=\"stroke:#000000; stroke-width:2; stroke-opacity:0.1; fill:none\" points=\"\n  433.543,1486.45 433.543,47.2441 \n  \"/>\n<polyline clip-path=\"url(#clip362)\" style=\"stroke:#000000; stroke-width:2; stroke-opacity:0.1; fill:none\" points=\"\n  804.907,1486.45 804.907,47.2441 \n  \"/>\n<polyline clip-path=\"url(#clip362)\" style=\"stroke:#000000; stroke-width:2; stroke-opacity:0.1; fill:none\" points=\"\n  1176.27,1486.45 1176.27,47.2441 \n  \"/>\n<polyline clip-path=\"url(#clip362)\" style=\"stroke:#000000; stroke-width:2; stroke-opacity:0.1; fill:none\" points=\"\n  1547.64,1486.45 1547.64,47.2441 \n  \"/>\n<polyline clip-path=\"url(#clip362)\" style=\"stroke:#000000; stroke-width:2; stroke-opacity:0.1; fill:none\" points=\"\n  1919,1486.45 1919,47.2441 \n  \"/>\n<polyline clip-path=\"url(#clip362)\" style=\"stroke:#000000; stroke-width:2; stroke-opacity:0.1; fill:none\" points=\"\n  2290.37,1486.45 2290.37,47.2441 \n  \"/>\n<polyline clip-path=\"url(#clip362)\" style=\"stroke:#000000; stroke-width:2; stroke-opacity:0.1; fill:none\" points=\"\n  148.334,1445.72 2352.76,1445.72 \n  \"/>\n<polyline clip-path=\"url(#clip362)\" style=\"stroke:#000000; stroke-width:2; stroke-opacity:0.1; fill:none\" points=\"\n  148.334,1204.96 2352.76,1204.96 \n  \"/>\n<polyline clip-path=\"url(#clip362)\" style=\"stroke:#000000; stroke-width:2; stroke-opacity:0.1; fill:none\" points=\"\n  148.334,964.213 2352.76,964.213 \n  \"/>\n<polyline clip-path=\"url(#clip362)\" style=\"stroke:#000000; stroke-width:2; stroke-opacity:0.1; fill:none\" points=\"\n  148.334,723.462 2352.76,723.462 \n  \"/>\n<polyline clip-path=\"url(#clip362)\" style=\"stroke:#000000; stroke-width:2; stroke-opacity:0.1; fill:none\" points=\"\n  148.334,482.711 2352.76,482.711 \n  \"/>\n<polyline clip-path=\"url(#clip362)\" style=\"stroke:#000000; stroke-width:2; stroke-opacity:0.1; fill:none\" points=\"\n  148.334,241.959 2352.76,241.959 \n  \"/>\n<polyline clip-path=\"url(#clip360)\" style=\"stroke:#000000; stroke-width:4; stroke-opacity:1; fill:none\" points=\"\n  148.334,1486.45 2352.76,1486.45 \n  \"/>\n<polyline clip-path=\"url(#clip360)\" style=\"stroke:#000000; stroke-width:4; stroke-opacity:1; fill:none\" points=\"\n  148.334,1486.45 148.334,47.2441 \n  \"/>\n<polyline clip-path=\"url(#clip360)\" style=\"stroke:#000000; stroke-width:4; stroke-opacity:1; fill:none\" points=\"\n  433.543,1486.45 433.543,1469.18 \n  \"/>\n<polyline clip-path=\"url(#clip360)\" style=\"stroke:#000000; stroke-width:4; stroke-opacity:1; fill:none\" points=\"\n  804.907,1486.45 804.907,1469.18 \n  \"/>\n<polyline clip-path=\"url(#clip360)\" style=\"stroke:#000000; stroke-width:4; stroke-opacity:1; fill:none\" points=\"\n  1176.27,1486.45 1176.27,1469.18 \n  \"/>\n<polyline clip-path=\"url(#clip360)\" style=\"stroke:#000000; stroke-width:4; stroke-opacity:1; fill:none\" points=\"\n  1547.64,1486.45 1547.64,1469.18 \n  \"/>\n<polyline clip-path=\"url(#clip360)\" style=\"stroke:#000000; stroke-width:4; stroke-opacity:1; fill:none\" points=\"\n  1919,1486.45 1919,1469.18 \n  \"/>\n<polyline clip-path=\"url(#clip360)\" style=\"stroke:#000000; stroke-width:4; stroke-opacity:1; fill:none\" points=\"\n  2290.37,1486.45 2290.37,1469.18 \n  \"/>\n<polyline clip-path=\"url(#clip360)\" style=\"stroke:#000000; stroke-width:4; stroke-opacity:1; fill:none\" points=\"\n  148.334,1445.72 174.787,1445.72 \n  \"/>\n<polyline clip-path=\"url(#clip360)\" style=\"stroke:#000000; stroke-width:4; stroke-opacity:1; fill:none\" points=\"\n  148.334,1204.96 174.787,1204.96 \n  \"/>\n<polyline clip-path=\"url(#clip360)\" style=\"stroke:#000000; stroke-width:4; stroke-opacity:1; fill:none\" points=\"\n  148.334,964.213 174.787,964.213 \n  \"/>\n<polyline clip-path=\"url(#clip360)\" style=\"stroke:#000000; stroke-width:4; stroke-opacity:1; fill:none\" points=\"\n  148.334,723.462 174.787,723.462 \n  \"/>\n<polyline clip-path=\"url(#clip360)\" style=\"stroke:#000000; stroke-width:4; stroke-opacity:1; fill:none\" points=\"\n  148.334,482.711 174.787,482.711 \n  \"/>\n<polyline clip-path=\"url(#clip360)\" style=\"stroke:#000000; stroke-width:4; stroke-opacity:1; fill:none\" points=\"\n  148.334,241.959 174.787,241.959 \n  \"/>\n<path clip-path=\"url(#clip360)\" d=\"M 0 0 M404.445 1505.36 L426.668 1505.36 L426.668 1507.35 L414.121 1539.92 L409.237 1539.92 L421.043 1509.3 L404.445 1509.3 L404.445 1505.36 Z\" fill=\"#000000\" fill-rule=\"evenodd\" fill-opacity=\"1\" /><path clip-path=\"url(#clip360)\" d=\"M 0 0 M431.737 1534.04 L436.621 1534.04 L436.621 1539.92 L431.737 1539.92 L431.737 1534.04 Z\" fill=\"#000000\" fill-rule=\"evenodd\" fill-opacity=\"1\" /><path clip-path=\"url(#clip360)\" d=\"M 0 0 M441.737 1505.36 L460.093 1505.36 L460.093 1509.3 L446.019 1509.3 L446.019 1517.77 Q447.038 1517.42 448.056 1517.26 Q449.075 1517.07 450.093 1517.07 Q455.88 1517.07 459.26 1520.24 Q462.64 1523.42 462.64 1528.83 Q462.64 1534.41 459.167 1537.51 Q455.695 1540.59 449.376 1540.59 Q447.2 1540.59 444.931 1540.22 Q442.686 1539.85 440.279 1539.11 L440.279 1534.41 Q442.362 1535.54 444.584 1536.1 Q446.806 1536.66 449.283 1536.66 Q453.288 1536.66 455.626 1534.55 Q457.964 1532.44 457.964 1528.83 Q457.964 1525.22 455.626 1523.11 Q453.288 1521.01 449.283 1521.01 Q447.408 1521.01 445.533 1521.42 Q443.681 1521.84 441.737 1522.72 L441.737 1505.36 Z\" fill=\"#000000\" fill-rule=\"evenodd\" fill-opacity=\"1\" /><path clip-path=\"url(#clip360)\" d=\"M 0 0 M763.299 1535.98 L770.938 1535.98 L770.938 1509.62 L762.628 1511.29 L762.628 1507.03 L770.891 1505.36 L775.567 1505.36 L775.567 1535.98 L783.206 1535.98 L783.206 1539.92 L763.299 1539.92 L763.299 1535.98 Z\" fill=\"#000000\" fill-rule=\"evenodd\" fill-opacity=\"1\" /><path clip-path=\"url(#clip360)\" d=\"M 0 0 M798.275 1508.44 Q794.664 1508.44 792.836 1512 Q791.03 1515.55 791.03 1522.67 Q791.03 1529.78 792.836 1533.35 Q794.664 1536.89 798.275 1536.89 Q801.91 1536.89 803.715 1533.35 Q805.544 1529.78 805.544 1522.67 Q805.544 1515.55 803.715 1512 Q801.91 1508.44 798.275 1508.44 M798.275 1504.73 Q804.086 1504.73 807.141 1509.34 Q810.22 1513.92 810.22 1522.67 Q810.22 1531.4 807.141 1536.01 Q804.086 1540.59 798.275 1540.59 Q792.465 1540.59 789.387 1536.01 Q786.331 1531.4 786.331 1522.67 Q786.331 1513.92 789.387 1509.34 Q792.465 1504.73 798.275 1504.73 Z\" fill=\"#000000\" fill-rule=\"evenodd\" fill-opacity=\"1\" /><path clip-path=\"url(#clip360)\" d=\"M 0 0 M815.289 1534.04 L820.173 1534.04 L820.173 1539.92 L815.289 1539.92 L815.289 1534.04 Z\" fill=\"#000000\" fill-rule=\"evenodd\" fill-opacity=\"1\" /><path clip-path=\"url(#clip360)\" d=\"M 0 0 M835.243 1508.44 Q831.632 1508.44 829.803 1512 Q827.998 1515.55 827.998 1522.67 Q827.998 1529.78 829.803 1533.35 Q831.632 1536.89 835.243 1536.89 Q838.877 1536.89 840.683 1533.35 Q842.511 1529.78 842.511 1522.67 Q842.511 1515.55 840.683 1512 Q838.877 1508.44 835.243 1508.44 M835.243 1504.73 Q841.053 1504.73 844.109 1509.34 Q847.187 1513.92 847.187 1522.67 Q847.187 1531.4 844.109 1536.01 Q841.053 1540.59 835.243 1540.59 Q829.433 1540.59 826.354 1536.01 Q823.298 1531.4 823.298 1522.67 Q823.298 1513.92 826.354 1509.34 Q829.433 1504.73 835.243 1504.73 Z\" fill=\"#000000\" fill-rule=\"evenodd\" fill-opacity=\"1\" /><path clip-path=\"url(#clip360)\" d=\"M 0 0 M1135.96 1535.98 L1143.6 1535.98 L1143.6 1509.62 L1135.29 1511.29 L1135.29 1507.03 L1143.55 1505.36 L1148.23 1505.36 L1148.23 1535.98 L1155.87 1535.98 L1155.87 1539.92 L1135.96 1539.92 L1135.96 1535.98 Z\" fill=\"#000000\" fill-rule=\"evenodd\" fill-opacity=\"1\" /><path clip-path=\"url(#clip360)\" d=\"M 0 0 M1164.96 1535.98 L1181.28 1535.98 L1181.28 1539.92 L1159.34 1539.92 L1159.34 1535.98 Q1162 1533.23 1166.58 1528.6 Q1171.19 1523.95 1172.37 1522.61 Q1174.62 1520.08 1175.5 1518.35 Q1176.4 1516.59 1176.4 1514.9 Q1176.4 1512.14 1174.46 1510.41 Q1172.53 1508.67 1169.43 1508.67 Q1167.23 1508.67 1164.78 1509.43 Q1162.35 1510.2 1159.57 1511.75 L1159.57 1507.03 Q1162.39 1505.89 1164.85 1505.31 Q1167.3 1504.73 1169.34 1504.73 Q1174.71 1504.73 1177.9 1507.42 Q1181.1 1510.11 1181.1 1514.6 Q1181.1 1516.73 1180.29 1518.65 Q1179.5 1520.54 1177.39 1523.14 Q1176.82 1523.81 1173.71 1527.03 Q1170.61 1530.22 1164.96 1535.98 Z\" fill=\"#000000\" fill-rule=\"evenodd\" fill-opacity=\"1\" /><path clip-path=\"url(#clip360)\" d=\"M 0 0 M1186.35 1534.04 L1191.24 1534.04 L1191.24 1539.92 L1186.35 1539.92 L1186.35 1534.04 Z\" fill=\"#000000\" fill-rule=\"evenodd\" fill-opacity=\"1\" /><path clip-path=\"url(#clip360)\" d=\"M 0 0 M1196.35 1505.36 L1214.71 1505.36 L1214.71 1509.3 L1200.64 1509.3 L1200.64 1517.77 Q1201.65 1517.42 1202.67 1517.26 Q1203.69 1517.07 1204.71 1517.07 Q1210.5 1517.07 1213.88 1520.24 Q1217.26 1523.42 1217.26 1528.83 Q1217.26 1534.41 1213.78 1537.51 Q1210.31 1540.59 1203.99 1540.59 Q1201.82 1540.59 1199.55 1540.22 Q1197.3 1539.85 1194.89 1539.11 L1194.89 1534.41 Q1196.98 1535.54 1199.2 1536.1 Q1201.42 1536.66 1203.9 1536.66 Q1207.9 1536.66 1210.24 1534.55 Q1212.58 1532.44 1212.58 1528.83 Q1212.58 1525.22 1210.24 1523.11 Q1207.9 1521.01 1203.9 1521.01 Q1202.02 1521.01 1200.15 1521.42 Q1198.3 1521.84 1196.35 1522.72 L1196.35 1505.36 Z\" fill=\"#000000\" fill-rule=\"evenodd\" fill-opacity=\"1\" /><path clip-path=\"url(#clip360)\" d=\"M 0 0 M1506.53 1535.98 L1514.16 1535.98 L1514.16 1509.62 L1505.85 1511.29 L1505.85 1507.03 L1514.12 1505.36 L1518.79 1505.36 L1518.79 1535.98 L1526.43 1535.98 L1526.43 1539.92 L1506.53 1539.92 L1506.53 1535.98 Z\" fill=\"#000000\" fill-rule=\"evenodd\" fill-opacity=\"1\" /><path clip-path=\"url(#clip360)\" d=\"M 0 0 M1531.55 1505.36 L1549.91 1505.36 L1549.91 1509.3 L1535.83 1509.3 L1535.83 1517.77 Q1536.85 1517.42 1537.87 1517.26 Q1538.89 1517.07 1539.91 1517.07 Q1545.69 1517.07 1549.07 1520.24 Q1552.45 1523.42 1552.45 1528.83 Q1552.45 1534.41 1548.98 1537.51 Q1545.51 1540.59 1539.19 1540.59 Q1537.01 1540.59 1534.74 1540.22 Q1532.5 1539.85 1530.09 1539.11 L1530.09 1534.41 Q1532.17 1535.54 1534.4 1536.1 Q1536.62 1536.66 1539.1 1536.66 Q1543.1 1536.66 1545.44 1534.55 Q1547.78 1532.44 1547.78 1528.83 Q1547.78 1525.22 1545.44 1523.11 Q1543.1 1521.01 1539.1 1521.01 Q1537.22 1521.01 1535.35 1521.42 Q1533.49 1521.84 1531.55 1522.72 L1531.55 1505.36 Z\" fill=\"#000000\" fill-rule=\"evenodd\" fill-opacity=\"1\" /><path clip-path=\"url(#clip360)\" d=\"M 0 0 M1557.52 1534.04 L1562.41 1534.04 L1562.41 1539.92 L1557.52 1539.92 L1557.52 1534.04 Z\" fill=\"#000000\" fill-rule=\"evenodd\" fill-opacity=\"1\" /><path clip-path=\"url(#clip360)\" d=\"M 0 0 M1577.47 1508.44 Q1573.86 1508.44 1572.04 1512 Q1570.23 1515.55 1570.23 1522.67 Q1570.23 1529.78 1572.04 1533.35 Q1573.86 1536.89 1577.47 1536.89 Q1581.11 1536.89 1582.91 1533.35 Q1584.74 1529.78 1584.74 1522.67 Q1584.74 1515.55 1582.91 1512 Q1581.11 1508.44 1577.47 1508.44 M1577.47 1504.73 Q1583.28 1504.73 1586.34 1509.34 Q1589.42 1513.92 1589.42 1522.67 Q1589.42 1531.4 1586.34 1536.01 Q1583.28 1540.59 1577.47 1540.59 Q1571.66 1540.59 1568.59 1536.01 Q1565.53 1531.4 1565.53 1522.67 Q1565.53 1513.92 1568.59 1509.34 Q1571.66 1504.73 1577.47 1504.73 Z\" fill=\"#000000\" fill-rule=\"evenodd\" fill-opacity=\"1\" /><path clip-path=\"url(#clip360)\" d=\"M 0 0 M1878.34 1535.98 L1885.98 1535.98 L1885.98 1509.62 L1877.67 1511.29 L1877.67 1507.03 L1885.93 1505.36 L1890.61 1505.36 L1890.61 1535.98 L1898.25 1535.98 L1898.25 1539.92 L1878.34 1539.92 L1878.34 1535.98 Z\" fill=\"#000000\" fill-rule=\"evenodd\" fill-opacity=\"1\" /><path clip-path=\"url(#clip360)\" d=\"M 0 0 M1902.14 1505.36 L1924.36 1505.36 L1924.36 1507.35 L1911.81 1539.92 L1906.93 1539.92 L1918.74 1509.3 L1902.14 1509.3 L1902.14 1505.36 Z\" fill=\"#000000\" fill-rule=\"evenodd\" fill-opacity=\"1\" /><path clip-path=\"url(#clip360)\" d=\"M 0 0 M1929.43 1534.04 L1934.31 1534.04 L1934.31 1539.92 L1929.43 1539.92 L1929.43 1534.04 Z\" fill=\"#000000\" fill-rule=\"evenodd\" fill-opacity=\"1\" /><path clip-path=\"url(#clip360)\" d=\"M 0 0 M1939.43 1505.36 L1957.79 1505.36 L1957.79 1509.3 L1943.71 1509.3 L1943.71 1517.77 Q1944.73 1517.42 1945.75 1517.26 Q1946.77 1517.07 1947.79 1517.07 Q1953.57 1517.07 1956.95 1520.24 Q1960.33 1523.42 1960.33 1528.83 Q1960.33 1534.41 1956.86 1537.51 Q1953.39 1540.59 1947.07 1540.59 Q1944.89 1540.59 1942.62 1540.22 Q1940.38 1539.85 1937.97 1539.11 L1937.97 1534.41 Q1940.05 1535.54 1942.28 1536.1 Q1944.5 1536.66 1946.98 1536.66 Q1950.98 1536.66 1953.32 1534.55 Q1955.66 1532.44 1955.66 1528.83 Q1955.66 1525.22 1953.32 1523.11 Q1950.98 1521.01 1946.98 1521.01 Q1945.1 1521.01 1943.23 1521.42 Q1941.37 1521.84 1939.43 1522.72 L1939.43 1505.36 Z\" fill=\"#000000\" fill-rule=\"evenodd\" fill-opacity=\"1\" /><path clip-path=\"url(#clip360)\" d=\"M 0 0 M2253.03 1535.98 L2269.35 1535.98 L2269.35 1539.92 L2247.4 1539.92 L2247.4 1535.98 Q2250.07 1533.23 2254.65 1528.6 Q2259.26 1523.95 2260.44 1522.61 Q2262.68 1520.08 2263.56 1518.35 Q2264.46 1516.59 2264.46 1514.9 Q2264.46 1512.14 2262.52 1510.41 Q2260.6 1508.67 2257.5 1508.67 Q2255.3 1508.67 2252.84 1509.43 Q2250.41 1510.2 2247.64 1511.75 L2247.64 1507.03 Q2250.46 1505.89 2252.91 1505.31 Q2255.37 1504.73 2257.4 1504.73 Q2262.77 1504.73 2265.97 1507.42 Q2269.16 1510.11 2269.16 1514.6 Q2269.16 1516.73 2268.35 1518.65 Q2267.57 1520.54 2265.46 1523.14 Q2264.88 1523.81 2261.78 1527.03 Q2258.68 1530.22 2253.03 1535.98 Z\" fill=\"#000000\" fill-rule=\"evenodd\" fill-opacity=\"1\" /><path clip-path=\"url(#clip360)\" d=\"M 0 0 M2284.42 1508.44 Q2280.81 1508.44 2278.98 1512 Q2277.17 1515.55 2277.17 1522.67 Q2277.17 1529.78 2278.98 1533.35 Q2280.81 1536.89 2284.42 1536.89 Q2288.05 1536.89 2289.86 1533.35 Q2291.69 1529.78 2291.69 1522.67 Q2291.69 1515.55 2289.86 1512 Q2288.05 1508.44 2284.42 1508.44 M2284.42 1504.73 Q2290.23 1504.73 2293.28 1509.34 Q2296.36 1513.92 2296.36 1522.67 Q2296.36 1531.4 2293.28 1536.01 Q2290.23 1540.59 2284.42 1540.59 Q2278.61 1540.59 2275.53 1536.01 Q2272.47 1531.4 2272.47 1522.67 Q2272.47 1513.92 2275.53 1509.34 Q2278.61 1504.73 2284.42 1504.73 Z\" fill=\"#000000\" fill-rule=\"evenodd\" fill-opacity=\"1\" /><path clip-path=\"url(#clip360)\" d=\"M 0 0 M2301.43 1534.04 L2306.32 1534.04 L2306.32 1539.92 L2301.43 1539.92 L2301.43 1534.04 Z\" fill=\"#000000\" fill-rule=\"evenodd\" fill-opacity=\"1\" /><path clip-path=\"url(#clip360)\" d=\"M 0 0 M2321.38 1508.44 Q2317.77 1508.44 2315.95 1512 Q2314.14 1515.55 2314.14 1522.67 Q2314.14 1529.78 2315.95 1533.35 Q2317.77 1536.89 2321.38 1536.89 Q2325.02 1536.89 2326.82 1533.35 Q2328.65 1529.78 2328.65 1522.67 Q2328.65 1515.55 2326.82 1512 Q2325.02 1508.44 2321.38 1508.44 M2321.38 1504.73 Q2327.2 1504.73 2330.25 1509.34 Q2333.33 1513.92 2333.33 1522.67 Q2333.33 1531.4 2330.25 1536.01 Q2327.2 1540.59 2321.38 1540.59 Q2315.57 1540.59 2312.5 1536.01 Q2309.44 1531.4 2309.44 1522.67 Q2309.44 1513.92 2312.5 1509.34 Q2315.57 1504.73 2321.38 1504.73 Z\" fill=\"#000000\" fill-rule=\"evenodd\" fill-opacity=\"1\" /><path clip-path=\"url(#clip360)\" d=\"M 0 0 M75.4226 1431.51 Q71.8115 1431.51 69.9828 1435.08 Q68.1773 1438.62 68.1773 1445.75 Q68.1773 1452.86 69.9828 1456.42 Q71.8115 1459.96 75.4226 1459.96 Q79.0569 1459.96 80.8624 1456.42 Q82.6911 1452.86 82.6911 1445.75 Q82.6911 1438.62 80.8624 1435.08 Q79.0569 1431.51 75.4226 1431.51 M75.4226 1427.81 Q81.2328 1427.81 84.2883 1432.42 Q87.367 1437 87.367 1445.75 Q87.367 1454.48 84.2883 1459.08 Q81.2328 1463.67 75.4226 1463.67 Q69.6125 1463.67 66.5338 1459.08 Q63.4782 1454.48 63.4782 1445.75 Q63.4782 1437 66.5338 1432.42 Q69.6125 1427.81 75.4226 1427.81 Z\" fill=\"#000000\" fill-rule=\"evenodd\" fill-opacity=\"1\" /><path clip-path=\"url(#clip360)\" d=\"M 0 0 M92.4364 1457.12 L97.3206 1457.12 L97.3206 1463 L92.4364 1463 L92.4364 1457.12 Z\" fill=\"#000000\" fill-rule=\"evenodd\" fill-opacity=\"1\" /><path clip-path=\"url(#clip360)\" d=\"M 0 0 M112.39 1431.51 Q108.779 1431.51 106.95 1435.08 Q105.145 1438.62 105.145 1445.75 Q105.145 1452.86 106.95 1456.42 Q108.779 1459.96 112.39 1459.96 Q116.024 1459.96 117.83 1456.42 Q119.658 1452.86 119.658 1445.75 Q119.658 1438.62 117.83 1435.08 Q116.024 1431.51 112.39 1431.51 M112.39 1427.81 Q118.2 1427.81 121.256 1432.42 Q124.334 1437 124.334 1445.75 Q124.334 1454.48 121.256 1459.08 Q118.2 1463.67 112.39 1463.67 Q106.58 1463.67 103.501 1459.08 Q100.446 1454.48 100.446 1445.75 Q100.446 1437 103.501 1432.42 Q106.58 1427.81 112.39 1427.81 Z\" fill=\"#000000\" fill-rule=\"evenodd\" fill-opacity=\"1\" /><path clip-path=\"url(#clip360)\" d=\"M 0 0 M76.6495 1190.76 Q73.0384 1190.76 71.2097 1194.33 Q69.4041 1197.87 69.4041 1205 Q69.4041 1212.11 71.2097 1215.67 Q73.0384 1219.21 76.6495 1219.21 Q80.2837 1219.21 82.0892 1215.67 Q83.9179 1212.11 83.9179 1205 Q83.9179 1197.87 82.0892 1194.33 Q80.2837 1190.76 76.6495 1190.76 M76.6495 1187.06 Q82.4596 1187.06 85.5152 1191.67 Q88.5938 1196.25 88.5938 1205 Q88.5938 1213.73 85.5152 1218.33 Q82.4596 1222.92 76.6495 1222.92 Q70.8393 1222.92 67.7606 1218.33 Q64.7051 1213.73 64.7051 1205 Q64.7051 1196.25 67.7606 1191.67 Q70.8393 1187.06 76.6495 1187.06 Z\" fill=\"#000000\" fill-rule=\"evenodd\" fill-opacity=\"1\" /><path clip-path=\"url(#clip360)\" d=\"M 0 0 M93.6633 1216.36 L98.5475 1216.36 L98.5475 1222.24 L93.6633 1222.24 L93.6633 1216.36 Z\" fill=\"#000000\" fill-rule=\"evenodd\" fill-opacity=\"1\" /><path clip-path=\"url(#clip360)\" d=\"M 0 0 M104.427 1218.31 L112.066 1218.31 L112.066 1191.94 L103.756 1193.61 L103.756 1189.35 L112.02 1187.68 L116.696 1187.68 L116.696 1218.31 L124.334 1218.31 L124.334 1222.24 L104.427 1222.24 L104.427 1218.31 Z\" fill=\"#000000\" fill-rule=\"evenodd\" fill-opacity=\"1\" /><path clip-path=\"url(#clip360)\" d=\"M 0 0 M77.0198 950.012 Q73.4087 950.012 71.58 953.577 Q69.7745 957.118 69.7745 964.248 Q69.7745 971.354 71.58 974.919 Q73.4087 978.461 77.0198 978.461 Q80.6541 978.461 82.4596 974.919 Q84.2883 971.354 84.2883 964.248 Q84.2883 957.118 82.4596 953.577 Q80.6541 950.012 77.0198 950.012 M77.0198 946.308 Q82.83 946.308 85.8855 950.915 Q88.9642 955.498 88.9642 964.248 Q88.9642 972.975 85.8855 977.581 Q82.83 982.164 77.0198 982.164 Q71.2097 982.164 68.131 977.581 Q65.0754 972.975 65.0754 964.248 Q65.0754 955.498 68.131 950.915 Q71.2097 946.308 77.0198 946.308 Z\" fill=\"#000000\" fill-rule=\"evenodd\" fill-opacity=\"1\" /><path clip-path=\"url(#clip360)\" d=\"M 0 0 M94.0336 975.614 L98.9179 975.614 L98.9179 981.493 L94.0336 981.493 L94.0336 975.614 Z\" fill=\"#000000\" fill-rule=\"evenodd\" fill-opacity=\"1\" /><path clip-path=\"url(#clip360)\" d=\"M 0 0 M108.015 977.558 L124.334 977.558 L124.334 981.493 L102.39 981.493 L102.39 977.558 Q105.052 974.803 109.635 970.174 Q114.242 965.521 115.422 964.178 Q117.668 961.655 118.547 959.919 Q119.45 958.16 119.45 956.47 Q119.45 953.716 117.506 951.979 Q115.584 950.243 112.483 950.243 Q110.284 950.243 107.83 951.007 Q105.399 951.771 102.622 953.322 L102.622 948.6 Q105.446 947.466 107.899 946.887 Q110.353 946.308 112.39 946.308 Q117.76 946.308 120.955 948.993 Q124.149 951.678 124.149 956.169 Q124.149 958.299 123.339 960.22 Q122.552 962.118 120.446 964.711 Q119.867 965.382 116.765 968.6 Q113.663 971.794 108.015 977.558 Z\" fill=\"#000000\" fill-rule=\"evenodd\" fill-opacity=\"1\" /><path clip-path=\"url(#clip360)\" d=\"M 0 0 M76.0708 709.261 Q72.4597 709.261 70.631 712.825 Q68.8254 716.367 68.8254 723.497 Q68.8254 730.603 70.631 734.168 Q72.4597 737.709 76.0708 737.709 Q79.705 737.709 81.5105 734.168 Q83.3392 730.603 83.3392 723.497 Q83.3392 716.367 81.5105 712.825 Q79.705 709.261 76.0708 709.261 M76.0708 705.557 Q81.8809 705.557 84.9365 710.163 Q88.0151 714.747 88.0151 723.497 Q88.0151 732.223 84.9365 736.83 Q81.8809 741.413 76.0708 741.413 Q70.2606 741.413 67.1819 736.83 Q64.1264 732.223 64.1264 723.497 Q64.1264 714.747 67.1819 710.163 Q70.2606 705.557 76.0708 705.557 Z\" fill=\"#000000\" fill-rule=\"evenodd\" fill-opacity=\"1\" /><path clip-path=\"url(#clip360)\" d=\"M 0 0 M93.0846 734.862 L97.9688 734.862 L97.9688 740.742 L93.0846 740.742 L93.0846 734.862 Z\" fill=\"#000000\" fill-rule=\"evenodd\" fill-opacity=\"1\" /><path clip-path=\"url(#clip360)\" d=\"M 0 0 M117.205 722.108 Q120.561 722.825 122.436 725.094 Q124.334 727.362 124.334 730.696 Q124.334 735.811 120.816 738.612 Q117.297 741.413 110.816 741.413 Q108.64 741.413 106.325 740.973 Q104.034 740.557 101.58 739.7 L101.58 735.186 Q103.524 736.321 105.839 736.899 Q108.154 737.478 110.677 737.478 Q115.075 737.478 117.367 735.742 Q119.682 734.006 119.682 730.696 Q119.682 727.64 117.529 725.927 Q115.399 724.191 111.58 724.191 L107.552 724.191 L107.552 720.348 L111.765 720.348 Q115.214 720.348 117.043 718.983 Q118.871 717.594 118.871 715.001 Q118.871 712.339 116.973 710.927 Q115.098 709.492 111.58 709.492 Q109.659 709.492 107.459 709.909 Q105.26 710.325 102.622 711.205 L102.622 707.038 Q105.284 706.298 107.598 705.927 Q109.936 705.557 111.996 705.557 Q117.321 705.557 120.422 707.987 Q123.524 710.395 123.524 714.515 Q123.524 717.385 121.881 719.376 Q120.237 721.344 117.205 722.108 Z\" fill=\"#000000\" fill-rule=\"evenodd\" fill-opacity=\"1\" /><path clip-path=\"url(#clip360)\" d=\"M 0 0 M74.9365 468.509 Q71.3254 468.509 69.4967 472.074 Q67.6912 475.616 67.6912 482.745 Q67.6912 489.852 69.4967 493.417 Q71.3254 496.958 74.9365 496.958 Q78.5707 496.958 80.3763 493.417 Q82.205 489.852 82.205 482.745 Q82.205 475.616 80.3763 472.074 Q78.5707 468.509 74.9365 468.509 M74.9365 464.806 Q80.7467 464.806 83.8022 469.412 Q86.8809 473.995 86.8809 482.745 Q86.8809 491.472 83.8022 496.079 Q80.7467 500.662 74.9365 500.662 Q69.1264 500.662 66.0477 496.079 Q62.9921 491.472 62.9921 482.745 Q62.9921 473.995 66.0477 469.412 Q69.1264 464.806 74.9365 464.806 Z\" fill=\"#000000\" fill-rule=\"evenodd\" fill-opacity=\"1\" /><path clip-path=\"url(#clip360)\" d=\"M 0 0 M91.9503 494.111 L96.8345 494.111 L96.8345 499.991 L91.9503 499.991 L91.9503 494.111 Z\" fill=\"#000000\" fill-rule=\"evenodd\" fill-opacity=\"1\" /><path clip-path=\"url(#clip360)\" d=\"M 0 0 M114.751 469.505 L102.946 487.954 L114.751 487.954 L114.751 469.505 M113.524 465.431 L119.404 465.431 L119.404 487.954 L124.334 487.954 L124.334 491.842 L119.404 491.842 L119.404 499.991 L114.751 499.991 L114.751 491.842 L99.1493 491.842 L99.1493 487.329 L113.524 465.431 Z\" fill=\"#000000\" fill-rule=\"evenodd\" fill-opacity=\"1\" /><path clip-path=\"url(#clip360)\" d=\"M 0 0 M76.418 227.758 Q72.8069 227.758 70.9782 231.323 Q69.1726 234.864 69.1726 241.994 Q69.1726 249.1 70.9782 252.665 Q72.8069 256.207 76.418 256.207 Q80.0522 256.207 81.8578 252.665 Q83.6865 249.1 83.6865 241.994 Q83.6865 234.864 81.8578 231.323 Q80.0522 227.758 76.418 227.758 M76.418 224.054 Q82.2281 224.054 85.2837 228.661 Q88.3624 233.244 88.3624 241.994 Q88.3624 250.721 85.2837 255.327 Q82.2281 259.911 76.418 259.911 Q70.6078 259.911 67.5291 255.327 Q64.4736 250.721 64.4736 241.994 Q64.4736 233.244 67.5291 228.661 Q70.6078 224.054 76.418 224.054 Z\" fill=\"#000000\" fill-rule=\"evenodd\" fill-opacity=\"1\" /><path clip-path=\"url(#clip360)\" d=\"M 0 0 M93.4318 253.36 L98.316 253.36 L98.316 259.239 L93.4318 259.239 L93.4318 253.36 Z\" fill=\"#000000\" fill-rule=\"evenodd\" fill-opacity=\"1\" /><path clip-path=\"url(#clip360)\" d=\"M 0 0 M103.432 224.679 L121.788 224.679 L121.788 228.614 L107.714 228.614 L107.714 237.087 Q108.733 236.739 109.751 236.577 Q110.77 236.392 111.788 236.392 Q117.575 236.392 120.955 239.563 Q124.334 242.735 124.334 248.151 Q124.334 253.73 120.862 256.832 Q117.39 259.911 111.071 259.911 Q108.895 259.911 106.626 259.54 Q104.381 259.17 101.973 258.429 L101.973 253.73 Q104.057 254.864 106.279 255.42 Q108.501 255.975 110.978 255.975 Q114.983 255.975 117.321 253.869 Q119.658 251.762 119.658 248.151 Q119.658 244.54 117.321 242.434 Q114.983 240.327 110.978 240.327 Q109.103 240.327 107.228 240.744 Q105.376 241.161 103.432 242.04 L103.432 224.679 Z\" fill=\"#000000\" fill-rule=\"evenodd\" fill-opacity=\"1\" /><polyline clip-path=\"url(#clip362)\" style=\"stroke:#009af9; stroke-width:4; stroke-opacity:1; fill:none\" points=\"\n  210.724,485.257 231.73,494.813 252.737,522.913 273.743,567.915 294.75,627.253 315.756,697.691 336.763,775.602 357.769,857.284 378.776,939.24 399.782,1018.41 \n  420.789,1092.35 441.795,1159.27 462.802,1218.12 483.808,1268.46 504.815,1310.4 525.821,1344.46 546.828,1371.45 567.834,1392.32 588.841,1408.09 609.847,1419.72 \n  630.854,1428.12 651.86,1434.04 672.867,1438.12 693.873,1440.87 714.88,1442.69 735.886,1443.86 756.893,1444.6 777.899,1445.06 798.906,1445.34 819.912,1445.5 \n  840.919,1445.6 861.925,1445.65 882.931,1445.68 903.938,1445.7 924.944,1445.71 945.951,1445.71 966.957,1445.71 987.964,1445.71 1008.97,1445.72 1029.98,1445.72 \n  1050.98,1445.72 1071.99,1445.72 1093,1445.72 1114,1445.72 1135.01,1445.72 1156.02,1445.72 1177.02,1445.72 1198.03,1445.72 1219.04,1445.72 1240.04,1445.72 \n  1261.05,1445.72 1282.05,1445.72 1303.06,1445.72 1324.07,1445.72 1345.07,1445.72 1366.08,1445.72 1387.09,1445.72 1408.09,1445.72 1429.1,1445.72 1450.11,1445.72 \n  1471.11,1445.72 1492.12,1445.72 1513.13,1445.72 1534.13,1445.72 1555.14,1445.72 1576.15,1445.72 1597.15,1445.72 1618.16,1445.72 1639.17,1445.72 1660.17,1445.72 \n  1681.18,1445.72 1702.18,1445.72 1723.19,1445.72 1744.2,1445.72 1765.2,1445.72 1786.21,1445.72 1807.22,1445.72 1828.22,1445.72 1849.23,1445.72 1870.24,1445.72 \n  1891.24,1445.72 1912.25,1445.72 1933.26,1445.72 1954.26,1445.72 1975.27,1445.72 1996.28,1445.72 2017.28,1445.72 2038.29,1445.72 2059.3,1445.72 2080.3,1445.72 \n  2101.31,1445.72 2122.31,1445.72 2143.32,1445.72 2164.33,1445.72 2185.33,1445.72 2206.34,1445.72 2227.35,1445.72 2248.35,1445.72 2269.36,1445.72 2290.37,1445.72 \n  \n  \"/>\n<polyline clip-path=\"url(#clip362)\" style=\"stroke:#e26f46; stroke-width:4; stroke-opacity:1; fill:none\" points=\"\n  210.724,1445.39 231.73,1445.15 252.737,1444.76 273.743,1444.11 294.75,1443.08 315.756,1441.47 336.763,1439.02 357.769,1435.36 378.776,1430.03 399.782,1422.42 \n  420.789,1411.79 441.795,1397.3 462.802,1377.99 483.808,1352.85 504.815,1320.9 525.821,1281.29 546.828,1233.38 567.834,1176.94 588.841,1112.24 609.847,1040.16 \n  630.854,962.264 651.86,880.816 672.867,798.714 693.873,719.351 714.88,646.4 735.886,583.537 756.893,534.143 777.899,501.002 798.906,486.041 819.912,490.144 \n  840.919,513.069 861.925,553.467 882.931,609.015 903.938,676.641 924.944,752.796 945.951,833.772 966.957,915.985 987.964,996.232 1008.97,1071.87 1029.98,1140.94 \n  1050.98,1202.17 1071.99,1254.95 1093,1299.25 1114,1335.49 1135.01,1364.41 1156.02,1386.92 1177.02,1404.05 1198.03,1416.77 1219.04,1426 1240.04,1432.56 \n  1261.05,1437.11 1282.05,1440.19 1303.06,1442.25 1324.07,1443.58 1345.07,1444.42 1366.08,1444.95 1387.09,1445.27 1408.09,1445.46 1429.1,1445.57 1450.11,1445.64 \n  1471.11,1445.67 1492.12,1445.69 1513.13,1445.7 1534.13,1445.71 1555.14,1445.71 1576.15,1445.71 1597.15,1445.72 1618.16,1445.72 1639.17,1445.72 1660.17,1445.72 \n  1681.18,1445.72 1702.18,1445.72 1723.19,1445.72 1744.2,1445.72 1765.2,1445.72 1786.21,1445.72 1807.22,1445.72 1828.22,1445.72 1849.23,1445.72 1870.24,1445.72 \n  1891.24,1445.72 1912.25,1445.72 1933.26,1445.72 1954.26,1445.72 1975.27,1445.72 1996.28,1445.72 2017.28,1445.72 2038.29,1445.72 2059.3,1445.72 2080.3,1445.72 \n  2101.31,1445.72 2122.31,1445.72 2143.32,1445.72 2164.33,1445.72 2185.33,1445.72 2206.34,1445.72 2227.35,1445.72 2248.35,1445.72 2269.36,1445.72 2290.37,1445.72 \n  \n  \"/>\n<polyline clip-path=\"url(#clip362)\" style=\"stroke:#3da44d; stroke-width:4; stroke-opacity:1; fill:none\" points=\"\n  210.724,1420.84 231.73,1402.78 252.737,1374.53 273.743,1332.31 294.75,1272.13 315.756,1190.45 336.763,1085.03 357.769,956.071 378.776,807.059 399.782,645.358 \n  420.789,482.041 441.795,330.89 462.802,206.595 483.808,122.441 504.815,87.9763 525.821,107.233 546.828,177.949 567.834,292.008 588.841,436.969 609.847,598.296 \n  630.854,761.733 651.86,915.294 672.867,1050.51 693.873,1162.8 714.88,1251.12 735.886,1317.12 756.893,1364.07 777.899,1395.91 798.906,1416.52 819.912,1429.28 \n  840.919,1436.82 861.925,1441.09 882.931,1443.41 903.938,1444.61 924.944,1445.2 945.951,1445.49 966.957,1445.62 987.964,1445.68 1008.97,1445.7 1029.98,1445.71 \n  1050.98,1445.71 1071.99,1445.71 1093,1445.72 1114,1445.72 1135.01,1445.72 1156.02,1445.72 1177.02,1445.72 1198.03,1445.72 1219.04,1445.72 1240.04,1445.72 \n  1261.05,1445.72 1282.05,1445.72 1303.06,1445.72 1324.07,1445.72 1345.07,1445.72 1366.08,1445.72 1387.09,1445.72 1408.09,1445.72 1429.1,1445.72 1450.11,1445.72 \n  1471.11,1445.72 1492.12,1445.72 1513.13,1445.72 1534.13,1445.72 1555.14,1445.72 1576.15,1445.72 1597.15,1445.72 1618.16,1445.72 1639.17,1445.72 1660.17,1445.72 \n  1681.18,1445.72 1702.18,1445.72 1723.19,1445.72 1744.2,1445.72 1765.2,1445.72 1786.21,1445.72 1807.22,1445.72 1828.22,1445.72 1849.23,1445.72 1870.24,1445.72 \n  1891.24,1445.72 1912.25,1445.72 1933.26,1445.72 1954.26,1445.72 1975.27,1445.72 1996.28,1445.72 2017.28,1445.72 2038.29,1445.72 2059.3,1445.72 2080.3,1445.72 \n  2101.31,1445.72 2122.31,1445.72 2143.32,1445.72 2164.33,1445.72 2185.33,1445.72 2206.34,1445.72 2227.35,1445.72 2248.35,1445.72 2269.36,1445.72 2290.37,1445.72 \n  \n  \"/>\n<path clip-path=\"url(#clip360)\" d=\"\nM1982.74 337.138 L2279.28 337.138 L2279.28 95.2176 L1982.74 95.2176  Z\n  \" fill=\"#ffffff\" fill-rule=\"evenodd\" fill-opacity=\"1\"/>\n<polyline clip-path=\"url(#clip360)\" style=\"stroke:#000000; stroke-width:4; stroke-opacity:1; fill:none\" points=\"\n  1982.74,337.138 2279.28,337.138 2279.28,95.2176 1982.74,95.2176 1982.74,337.138 \n  \"/>\n<polyline clip-path=\"url(#clip360)\" style=\"stroke:#009af9; stroke-width:4; stroke-opacity:1; fill:none\" points=\"\n  2007.24,155.698 2154.2,155.698 \n  \"/>\n<path clip-path=\"url(#clip360)\" d=\"M 0 0 M2192.53 175.385 Q2190.73 180.015 2189.02 181.427 Q2187.3 182.839 2184.43 182.839 L2181.03 182.839 L2181.03 179.274 L2183.53 179.274 Q2185.29 179.274 2186.26 178.44 Q2187.23 177.607 2188.41 174.505 L2189.18 172.561 L2178.69 147.052 L2183.2 147.052 L2191.31 167.329 L2199.41 147.052 L2203.92 147.052 L2192.53 175.385 Z\" fill=\"#000000\" fill-rule=\"evenodd\" fill-opacity=\"1\" /><path clip-path=\"url(#clip360)\" d=\"M 0 0 M2209.8 169.042 L2217.44 169.042 L2217.44 142.677 L2209.13 144.343 L2209.13 140.084 L2217.39 138.418 L2222.07 138.418 L2222.07 169.042 L2229.71 169.042 L2229.71 172.978 L2209.8 172.978 L2209.8 169.042 Z\" fill=\"#000000\" fill-rule=\"evenodd\" fill-opacity=\"1\" /><polyline clip-path=\"url(#clip360)\" style=\"stroke:#e26f46; stroke-width:4; stroke-opacity:1; fill:none\" points=\"\n  2007.24,216.178 2154.2,216.178 \n  \"/>\n<path clip-path=\"url(#clip360)\" d=\"M 0 0 M2192.53 235.865 Q2190.73 240.495 2189.02 241.907 Q2187.3 243.319 2184.43 243.319 L2181.03 243.319 L2181.03 239.754 L2183.53 239.754 Q2185.29 239.754 2186.26 238.92 Q2187.23 238.087 2188.41 234.985 L2189.18 233.041 L2178.69 207.532 L2183.2 207.532 L2191.31 227.809 L2199.41 207.532 L2203.92 207.532 L2192.53 235.865 Z\" fill=\"#000000\" fill-rule=\"evenodd\" fill-opacity=\"1\" /><path clip-path=\"url(#clip360)\" d=\"M 0 0 M2213.02 229.522 L2229.34 229.522 L2229.34 233.458 L2207.39 233.458 L2207.39 229.522 Q2210.06 226.768 2214.64 222.138 Q2219.25 217.485 2220.43 216.143 Q2222.67 213.62 2223.55 211.884 Q2224.45 210.124 2224.45 208.435 Q2224.45 205.68 2222.51 203.944 Q2220.59 202.208 2217.49 202.208 Q2215.29 202.208 2212.83 202.972 Q2210.4 203.735 2207.63 205.286 L2207.63 200.564 Q2210.45 199.43 2212.9 198.851 Q2215.36 198.273 2217.39 198.273 Q2222.76 198.273 2225.96 200.958 Q2229.15 203.643 2229.15 208.134 Q2229.15 210.263 2228.34 212.185 Q2227.56 214.083 2225.45 216.675 Q2224.87 217.347 2221.77 220.564 Q2218.67 223.759 2213.02 229.522 Z\" fill=\"#000000\" fill-rule=\"evenodd\" fill-opacity=\"1\" /><polyline clip-path=\"url(#clip360)\" style=\"stroke:#3da44d; stroke-width:4; stroke-opacity:1; fill:none\" points=\"\n  2007.24,276.658 2154.2,276.658 \n  \"/>\n<path clip-path=\"url(#clip360)\" d=\"M 0 0 M2192.53 296.345 Q2190.73 300.975 2189.02 302.387 Q2187.3 303.799 2184.43 303.799 L2181.03 303.799 L2181.03 300.234 L2183.53 300.234 Q2185.29 300.234 2186.26 299.4 Q2187.23 298.567 2188.41 295.465 L2189.18 293.521 L2178.69 268.012 L2183.2 268.012 L2191.31 288.289 L2199.41 268.012 L2203.92 268.012 L2192.53 296.345 Z\" fill=\"#000000\" fill-rule=\"evenodd\" fill-opacity=\"1\" /><path clip-path=\"url(#clip360)\" d=\"M 0 0 M2223.16 275.303 Q2226.51 276.021 2228.39 278.289 Q2230.29 280.558 2230.29 283.891 Q2230.29 289.007 2226.77 291.808 Q2223.25 294.609 2216.77 294.609 Q2214.59 294.609 2212.28 294.169 Q2209.99 293.752 2207.53 292.896 L2207.53 288.382 Q2209.48 289.516 2211.79 290.095 Q2214.11 290.674 2216.63 290.674 Q2221.03 290.674 2223.32 288.938 Q2225.64 287.201 2225.64 283.891 Q2225.64 280.836 2223.48 279.123 Q2221.35 277.387 2217.53 277.387 L2213.51 277.387 L2213.51 273.544 L2217.72 273.544 Q2221.17 273.544 2223 272.178 Q2224.83 270.79 2224.83 268.197 Q2224.83 265.535 2222.93 264.123 Q2221.05 262.688 2217.53 262.688 Q2215.61 262.688 2213.41 263.104 Q2211.21 263.521 2208.58 264.401 L2208.58 260.234 Q2211.24 259.493 2213.55 259.123 Q2215.89 258.753 2217.95 258.753 Q2223.27 258.753 2226.38 261.183 Q2229.48 263.59 2229.48 267.711 Q2229.48 270.581 2227.83 272.572 Q2226.19 274.54 2223.16 275.303 Z\" fill=\"#000000\" fill-rule=\"evenodd\" fill-opacity=\"1\" /></svg>\n"
               },
               "type": "node"
              }
             ],
             "instanceArgs": {
              "namespace": "html",
              "tag": "div"
             },
             "nodeType": "DOM",
             "props": {
              "className": "interact-flex-row interact-widget"
             },
             "type": "node"
            }
           }
          },
          "systemjs_options": null
         },
         "nodeType": "Scope",
         "props": {},
         "type": "node"
        }
       ],
       "instanceArgs": {
        "namespace": "html",
        "tag": "div"
       },
       "nodeType": "DOM",
       "props": {},
       "type": "node"
      },
      "text/html": [
       "<div\n",
       "    class=\"webio-mountpoint\"\n",
       "    data-webio-mountpoint=\"16303697085689842653\"\n",
       ">\n",
       "    <script>\n",
       "    if (window.require && require.defined && require.defined(\"nbextensions/webio-jupyter-notebook\")) {\n",
       "        console.log(\"Jupyter WebIO extension detected, not mounting.\");\n",
       "    } else if (window.WebIO) {\n",
       "        WebIO.mount(\n",
       "            document.querySelector('[data-webio-mountpoint=\"16303697085689842653\"]'),\n",
       "            {\"props\":{},\"nodeType\":\"DOM\",\"type\":\"node\",\"instanceArgs\":{\"namespace\":\"html\",\"tag\":\"div\"},\"children\":[{\"props\":{\"className\":\"field interact-widget\"},\"nodeType\":\"DOM\",\"type\":\"node\",\"instanceArgs\":{\"namespace\":\"html\",\"tag\":\"div\"},\"children\":[{\"props\":{},\"nodeType\":\"Scope\",\"type\":\"node\",\"instanceArgs\":{\"imports\":{\"data\":[{\"name\":\"knockout\",\"type\":\"js\",\"url\":\"\\/assetserver\\/3a353afbd6c9130c04469cb36ceb880da7412142-knockout.js\"},{\"name\":\"knockout_punches\",\"type\":\"js\",\"url\":\"\\/assetserver\\/4ed641d55a3b9fd0bf416e425a088dbb3c4d8c47-knockout_punches.js\"},{\"name\":null,\"type\":\"js\",\"url\":\"\\/assetserver\\/d377f3bd98e9444333f45a0cc8f3442ad857b22d-all.js\"},{\"name\":null,\"type\":\"css\",\"url\":\"\\/assetserver\\/5dea6e24df3f374beda4fb1a43687135e0d24594-style.css\"},{\"name\":null,\"type\":\"css\",\"url\":\"\\/assetserver\\/62bb3f6330c38af16aaf56dac2a1ac22607e4957-bulma_confined.min.css\"}],\"type\":\"async_block\"},\"id\":\"5729029708259741718\",\"handlers\":{\"changes\":[\"(function (val){return (val!=this.model[\\\"changes\\\"]()) ? (this.valueFromJulia[\\\"changes\\\"]=true, this.model[\\\"changes\\\"](val)) : undefined})\"],\"index\":[\"(function (val){return (val!=this.model[\\\"index\\\"]()) ? (this.valueFromJulia[\\\"index\\\"]=true, this.model[\\\"index\\\"](val)) : undefined})\"]},\"systemjs_options\":null,\"mount_callbacks\":[\"function () {\\n    var handler = (function (ko, koPunches) {\\n    ko.punches.enableAll();\\n    ko.bindingHandlers.numericValue = {\\n        init: function(element, valueAccessor, allBindings, data, context) {\\n            var stringified = ko.observable(ko.unwrap(valueAccessor()));\\n            stringified.subscribe(function(value) {\\n                var val = parseFloat(value);\\n                if (!isNaN(val)) {\\n                    valueAccessor()(val);\\n                }\\n            });\\n            valueAccessor().subscribe(function(value) {\\n                var str = JSON.stringify(value);\\n                if ((str == \\\"0\\\") && ([\\\"-0\\\", \\\"-0.\\\"].indexOf(stringified()) >= 0))\\n                     return;\\n                 if ([\\\"null\\\", \\\"\\\"].indexOf(str) >= 0)\\n                     return;\\n                stringified(str);\\n            });\\n            ko.applyBindingsToNode(\\n                element,\\n                {\\n                    value: stringified,\\n                    valueUpdate: allBindings.get('valueUpdate'),\\n                },\\n                context,\\n            );\\n        }\\n    };\\n    var json_data = {\\\"formatted_vals\\\":[\\\"6\\\",\\\"7\\\",\\\"8\\\",\\\"9\\\",\\\"10\\\",\\\"11\\\",\\\"12\\\",\\\"13\\\",\\\"14\\\",\\\"15\\\",\\\"16\\\",\\\"17\\\",\\\"18\\\",\\\"19\\\",\\\"20\\\"],\\\"changes\\\":WebIO.getval({\\\"name\\\":\\\"changes\\\",\\\"scope\\\":\\\"5729029708259741718\\\",\\\"id\\\":\\\"11796068478014887623\\\",\\\"type\\\":\\\"observable\\\"}),\\\"index\\\":WebIO.getval({\\\"name\\\":\\\"index\\\",\\\"scope\\\":\\\"5729029708259741718\\\",\\\"id\\\":\\\"8337506423047193873\\\",\\\"type\\\":\\\"observable\\\"})};\\n    var self = this;\\n    function AppViewModel() {\\n        for (var key in json_data) {\\n            var el = json_data[key];\\n            this[key] = Array.isArray(el) ? ko.observableArray(el) : ko.observable(el);\\n        }\\n        \\n        [this[\\\"formatted_val\\\"]=ko.computed(    function(){\\n        return this.formatted_vals()[parseInt(this.index())-(6)];\\n    }\\n,this)]\\n        [this[\\\"changes\\\"].subscribe((function (val){!(this.valueFromJulia[\\\"changes\\\"]) ? (WebIO.setval({\\\"name\\\":\\\"changes\\\",\\\"scope\\\":\\\"5729029708259741718\\\",\\\"id\\\":\\\"11796068478014887623\\\",\\\"type\\\":\\\"observable\\\"},val)) : undefined; return this.valueFromJulia[\\\"changes\\\"]=false}),self),this[\\\"index\\\"].subscribe((function (val){!(this.valueFromJulia[\\\"index\\\"]) ? (WebIO.setval({\\\"name\\\":\\\"index\\\",\\\"scope\\\":\\\"5729029708259741718\\\",\\\"id\\\":\\\"8337506423047193873\\\",\\\"type\\\":\\\"observable\\\"},val)) : undefined; return this.valueFromJulia[\\\"index\\\"]=false}),self)]\\n        \\n    }\\n    self.model = new AppViewModel();\\n    self.valueFromJulia = {};\\n    for (var key in json_data) {\\n        self.valueFromJulia[key] = false;\\n    }\\n    ko.applyBindings(self.model, self.dom);\\n}\\n);\\n    (WebIO.importBlock({\\\"data\\\":[{\\\"name\\\":\\\"knockout\\\",\\\"type\\\":\\\"js\\\",\\\"url\\\":\\\"\\/assetserver\\/3a353afbd6c9130c04469cb36ceb880da7412142-knockout.js\\\"},{\\\"name\\\":\\\"knockout_punches\\\",\\\"type\\\":\\\"js\\\",\\\"url\\\":\\\"\\/assetserver\\/4ed641d55a3b9fd0bf416e425a088dbb3c4d8c47-knockout_punches.js\\\"}],\\\"type\\\":\\\"async_block\\\"})).then((imports) => handler.apply(this, imports));\\n}\\n\"],\"observables\":{\"changes\":{\"sync\":false,\"id\":\"11796068478014887623\",\"value\":0},\"index\":{\"sync\":true,\"id\":\"8337506423047193873\",\"value\":6}}},\"children\":[{\"props\":{\"className\":\"interact-flex-row interact-widget\"},\"nodeType\":\"DOM\",\"type\":\"node\",\"instanceArgs\":{\"namespace\":\"html\",\"tag\":\"div\"},\"children\":[{\"props\":{\"className\":\"interact-flex-row-left\"},\"nodeType\":\"DOM\",\"type\":\"node\",\"instanceArgs\":{\"namespace\":\"html\",\"tag\":\"div\"},\"children\":[{\"props\":{\"className\":\"interact \",\"style\":{\"padding\":\"5px 10px 0px 10px\"}},\"nodeType\":\"DOM\",\"type\":\"node\",\"instanceArgs\":{\"namespace\":\"html\",\"tag\":\"label\"},\"children\":[\"μ₁\"]}]},{\"props\":{\"className\":\"interact-flex-row-center\"},\"nodeType\":\"DOM\",\"type\":\"node\",\"instanceArgs\":{\"namespace\":\"html\",\"tag\":\"div\"},\"children\":[{\"props\":{\"max\":20,\"min\":6,\"attributes\":{\"type\":\"range\",\"data-bind\":\"numericValue: index, valueUpdate: 'input', event: {change: function (){this.changes(this.changes()+1)}}\",\"orient\":\"horizontal\"},\"step\":1,\"className\":\"slider slider is-fullwidth\",\"style\":{}},\"nodeType\":\"DOM\",\"type\":\"node\",\"instanceArgs\":{\"namespace\":\"html\",\"tag\":\"input\"},\"children\":[]}]},{\"props\":{\"className\":\"interact-flex-row-right\"},\"nodeType\":\"DOM\",\"type\":\"node\",\"instanceArgs\":{\"namespace\":\"html\",\"tag\":\"div\"},\"children\":[{\"props\":{\"attributes\":{\"data-bind\":\"text: formatted_val\"}},\"nodeType\":\"DOM\",\"type\":\"node\",\"instanceArgs\":{\"namespace\":\"html\",\"tag\":\"p\"},\"children\":[]}]}]}]}]},{\"props\":{\"className\":\"field interact-widget\"},\"nodeType\":\"DOM\",\"type\":\"node\",\"instanceArgs\":{\"namespace\":\"html\",\"tag\":\"div\"},\"children\":[{\"props\":{},\"nodeType\":\"Scope\",\"type\":\"node\",\"instanceArgs\":{\"imports\":{\"data\":[{\"name\":\"knockout\",\"type\":\"js\",\"url\":\"\\/assetserver\\/3a353afbd6c9130c04469cb36ceb880da7412142-knockout.js\"},{\"name\":\"knockout_punches\",\"type\":\"js\",\"url\":\"\\/assetserver\\/4ed641d55a3b9fd0bf416e425a088dbb3c4d8c47-knockout_punches.js\"},{\"name\":null,\"type\":\"js\",\"url\":\"\\/assetserver\\/d377f3bd98e9444333f45a0cc8f3442ad857b22d-all.js\"},{\"name\":null,\"type\":\"css\",\"url\":\"\\/assetserver\\/5dea6e24df3f374beda4fb1a43687135e0d24594-style.css\"},{\"name\":null,\"type\":\"css\",\"url\":\"\\/assetserver\\/62bb3f6330c38af16aaf56dac2a1ac22607e4957-bulma_confined.min.css\"}],\"type\":\"async_block\"},\"id\":\"16988792315442527486\",\"handlers\":{\"changes\":[\"(function (val){return (val!=this.model[\\\"changes\\\"]()) ? (this.valueFromJulia[\\\"changes\\\"]=true, this.model[\\\"changes\\\"](val)) : undefined})\"],\"index\":[\"(function (val){return (val!=this.model[\\\"index\\\"]()) ? (this.valueFromJulia[\\\"index\\\"]=true, this.model[\\\"index\\\"](val)) : undefined})\"]},\"systemjs_options\":null,\"mount_callbacks\":[\"function () {\\n    var handler = (function (ko, koPunches) {\\n    ko.punches.enableAll();\\n    ko.bindingHandlers.numericValue = {\\n        init: function(element, valueAccessor, allBindings, data, context) {\\n            var stringified = ko.observable(ko.unwrap(valueAccessor()));\\n            stringified.subscribe(function(value) {\\n                var val = parseFloat(value);\\n                if (!isNaN(val)) {\\n                    valueAccessor()(val);\\n                }\\n            });\\n            valueAccessor().subscribe(function(value) {\\n                var str = JSON.stringify(value);\\n                if ((str == \\\"0\\\") && ([\\\"-0\\\", \\\"-0.\\\"].indexOf(stringified()) >= 0))\\n                     return;\\n                 if ([\\\"null\\\", \\\"\\\"].indexOf(str) >= 0)\\n                     return;\\n                stringified(str);\\n            });\\n            ko.applyBindingsToNode(\\n                element,\\n                {\\n                    value: stringified,\\n                    valueUpdate: allBindings.get('valueUpdate'),\\n                },\\n                context,\\n            );\\n        }\\n    };\\n    var json_data = {\\\"formatted_vals\\\":[\\\"6\\\",\\\"7\\\",\\\"8\\\",\\\"9\\\",\\\"10\\\",\\\"11\\\",\\\"12\\\",\\\"13\\\",\\\"14\\\",\\\"15\\\",\\\"16\\\",\\\"17\\\",\\\"18\\\",\\\"19\\\",\\\"20\\\"],\\\"changes\\\":WebIO.getval({\\\"name\\\":\\\"changes\\\",\\\"scope\\\":\\\"16988792315442527486\\\",\\\"id\\\":\\\"98393852686612021\\\",\\\"type\\\":\\\"observable\\\"}),\\\"index\\\":WebIO.getval({\\\"name\\\":\\\"index\\\",\\\"scope\\\":\\\"16988792315442527486\\\",\\\"id\\\":\\\"5341585031951208798\\\",\\\"type\\\":\\\"observable\\\"})};\\n    var self = this;\\n    function AppViewModel() {\\n        for (var key in json_data) {\\n            var el = json_data[key];\\n            this[key] = Array.isArray(el) ? ko.observableArray(el) : ko.observable(el);\\n        }\\n        \\n        [this[\\\"formatted_val\\\"]=ko.computed(    function(){\\n        return this.formatted_vals()[parseInt(this.index())-(6)];\\n    }\\n,this)]\\n        [this[\\\"changes\\\"].subscribe((function (val){!(this.valueFromJulia[\\\"changes\\\"]) ? (WebIO.setval({\\\"name\\\":\\\"changes\\\",\\\"scope\\\":\\\"16988792315442527486\\\",\\\"id\\\":\\\"98393852686612021\\\",\\\"type\\\":\\\"observable\\\"},val)) : undefined; return this.valueFromJulia[\\\"changes\\\"]=false}),self),this[\\\"index\\\"].subscribe((function (val){!(this.valueFromJulia[\\\"index\\\"]) ? (WebIO.setval({\\\"name\\\":\\\"index\\\",\\\"scope\\\":\\\"16988792315442527486\\\",\\\"id\\\":\\\"5341585031951208798\\\",\\\"type\\\":\\\"observable\\\"},val)) : undefined; return this.valueFromJulia[\\\"index\\\"]=false}),self)]\\n        \\n    }\\n    self.model = new AppViewModel();\\n    self.valueFromJulia = {};\\n    for (var key in json_data) {\\n        self.valueFromJulia[key] = false;\\n    }\\n    ko.applyBindings(self.model, self.dom);\\n}\\n);\\n    (WebIO.importBlock({\\\"data\\\":[{\\\"name\\\":\\\"knockout\\\",\\\"type\\\":\\\"js\\\",\\\"url\\\":\\\"\\/assetserver\\/3a353afbd6c9130c04469cb36ceb880da7412142-knockout.js\\\"},{\\\"name\\\":\\\"knockout_punches\\\",\\\"type\\\":\\\"js\\\",\\\"url\\\":\\\"\\/assetserver\\/4ed641d55a3b9fd0bf416e425a088dbb3c4d8c47-knockout_punches.js\\\"}],\\\"type\\\":\\\"async_block\\\"})).then((imports) => handler.apply(this, imports));\\n}\\n\"],\"observables\":{\"changes\":{\"sync\":false,\"id\":\"98393852686612021\",\"value\":0},\"index\":{\"sync\":true,\"id\":\"5341585031951208798\",\"value\":10}}},\"children\":[{\"props\":{\"className\":\"interact-flex-row interact-widget\"},\"nodeType\":\"DOM\",\"type\":\"node\",\"instanceArgs\":{\"namespace\":\"html\",\"tag\":\"div\"},\"children\":[{\"props\":{\"className\":\"interact-flex-row-left\"},\"nodeType\":\"DOM\",\"type\":\"node\",\"instanceArgs\":{\"namespace\":\"html\",\"tag\":\"div\"},\"children\":[{\"props\":{\"className\":\"interact \",\"style\":{\"padding\":\"5px 10px 0px 10px\"}},\"nodeType\":\"DOM\",\"type\":\"node\",\"instanceArgs\":{\"namespace\":\"html\",\"tag\":\"label\"},\"children\":[\"μ₂\"]}]},{\"props\":{\"className\":\"interact-flex-row-center\"},\"nodeType\":\"DOM\",\"type\":\"node\",\"instanceArgs\":{\"namespace\":\"html\",\"tag\":\"div\"},\"children\":[{\"props\":{\"max\":20,\"min\":6,\"attributes\":{\"type\":\"range\",\"data-bind\":\"numericValue: index, valueUpdate: 'input', event: {change: function (){this.changes(this.changes()+1)}}\",\"orient\":\"horizontal\"},\"step\":1,\"className\":\"slider slider is-fullwidth\",\"style\":{}},\"nodeType\":\"DOM\",\"type\":\"node\",\"instanceArgs\":{\"namespace\":\"html\",\"tag\":\"input\"},\"children\":[]}]},{\"props\":{\"className\":\"interact-flex-row-right\"},\"nodeType\":\"DOM\",\"type\":\"node\",\"instanceArgs\":{\"namespace\":\"html\",\"tag\":\"div\"},\"children\":[{\"props\":{\"attributes\":{\"data-bind\":\"text: formatted_val\"}},\"nodeType\":\"DOM\",\"type\":\"node\",\"instanceArgs\":{\"namespace\":\"html\",\"tag\":\"p\"},\"children\":[]}]}]}]}]},{\"props\":{\"className\":\"field interact-widget\"},\"nodeType\":\"DOM\",\"type\":\"node\",\"instanceArgs\":{\"namespace\":\"html\",\"tag\":\"div\"},\"children\":[{\"props\":{},\"nodeType\":\"Scope\",\"type\":\"node\",\"instanceArgs\":{\"imports\":{\"data\":[{\"name\":\"knockout\",\"type\":\"js\",\"url\":\"\\/assetserver\\/3a353afbd6c9130c04469cb36ceb880da7412142-knockout.js\"},{\"name\":\"knockout_punches\",\"type\":\"js\",\"url\":\"\\/assetserver\\/4ed641d55a3b9fd0bf416e425a088dbb3c4d8c47-knockout_punches.js\"},{\"name\":null,\"type\":\"js\",\"url\":\"\\/assetserver\\/d377f3bd98e9444333f45a0cc8f3442ad857b22d-all.js\"},{\"name\":null,\"type\":\"css\",\"url\":\"\\/assetserver\\/5dea6e24df3f374beda4fb1a43687135e0d24594-style.css\"},{\"name\":null,\"type\":\"css\",\"url\":\"\\/assetserver\\/62bb3f6330c38af16aaf56dac2a1ac22607e4957-bulma_confined.min.css\"}],\"type\":\"async_block\"},\"id\":\"2830824337929200187\",\"handlers\":{\"changes\":[\"(function (val){return (val!=this.model[\\\"changes\\\"]()) ? (this.valueFromJulia[\\\"changes\\\"]=true, this.model[\\\"changes\\\"](val)) : undefined})\"],\"index\":[\"(function (val){return (val!=this.model[\\\"index\\\"]()) ? (this.valueFromJulia[\\\"index\\\"]=true, this.model[\\\"index\\\"](val)) : undefined})\"]},\"systemjs_options\":null,\"mount_callbacks\":[\"function () {\\n    var handler = (function (ko, koPunches) {\\n    ko.punches.enableAll();\\n    ko.bindingHandlers.numericValue = {\\n        init: function(element, valueAccessor, allBindings, data, context) {\\n            var stringified = ko.observable(ko.unwrap(valueAccessor()));\\n            stringified.subscribe(function(value) {\\n                var val = parseFloat(value);\\n                if (!isNaN(val)) {\\n                    valueAccessor()(val);\\n                }\\n            });\\n            valueAccessor().subscribe(function(value) {\\n                var str = JSON.stringify(value);\\n                if ((str == \\\"0\\\") && ([\\\"-0\\\", \\\"-0.\\\"].indexOf(stringified()) >= 0))\\n                     return;\\n                 if ([\\\"null\\\", \\\"\\\"].indexOf(str) >= 0)\\n                     return;\\n                stringified(str);\\n            });\\n            ko.applyBindingsToNode(\\n                element,\\n                {\\n                    value: stringified,\\n                    valueUpdate: allBindings.get('valueUpdate'),\\n                },\\n                context,\\n            );\\n        }\\n    };\\n    var json_data = {\\\"formatted_vals\\\":[\\\"1.0\\\",\\\"1.5\\\",\\\"2.0\\\",\\\"2.5\\\",\\\"3.0\\\",\\\"3.5\\\",\\\"4.0\\\",\\\"4.5\\\",\\\"5.0\\\",\\\"5.5\\\",\\\"6.0\\\",\\\"6.5\\\",\\\"7.0\\\",\\\"7.5\\\",\\\"8.0\\\",\\\"8.5\\\",\\\"9.0\\\",\\\"9.5\\\",\\\"10.0\\\"],\\\"changes\\\":WebIO.getval({\\\"name\\\":\\\"changes\\\",\\\"scope\\\":\\\"2830824337929200187\\\",\\\"id\\\":\\\"7754495274112695243\\\",\\\"type\\\":\\\"observable\\\"}),\\\"index\\\":WebIO.getval({\\\"name\\\":\\\"index\\\",\\\"scope\\\":\\\"2830824337929200187\\\",\\\"id\\\":\\\"16273590418961242741\\\",\\\"type\\\":\\\"observable\\\"})};\\n    var self = this;\\n    function AppViewModel() {\\n        for (var key in json_data) {\\n            var el = json_data[key];\\n            this[key] = Array.isArray(el) ? ko.observableArray(el) : ko.observable(el);\\n        }\\n        \\n        [this[\\\"formatted_val\\\"]=ko.computed(    function(){\\n        return this.formatted_vals()[parseInt(this.index())-(1)];\\n    }\\n,this)]\\n        [this[\\\"changes\\\"].subscribe((function (val){!(this.valueFromJulia[\\\"changes\\\"]) ? (WebIO.setval({\\\"name\\\":\\\"changes\\\",\\\"scope\\\":\\\"2830824337929200187\\\",\\\"id\\\":\\\"7754495274112695243\\\",\\\"type\\\":\\\"observable\\\"},val)) : undefined; return this.valueFromJulia[\\\"changes\\\"]=false}),self),this[\\\"index\\\"].subscribe((function (val){!(this.valueFromJulia[\\\"index\\\"]) ? (WebIO.setval({\\\"name\\\":\\\"index\\\",\\\"scope\\\":\\\"2830824337929200187\\\",\\\"id\\\":\\\"16273590418961242741\\\",\\\"type\\\":\\\"observable\\\"},val)) : undefined; return this.valueFromJulia[\\\"index\\\"]=false}),self)]\\n        \\n    }\\n    self.model = new AppViewModel();\\n    self.valueFromJulia = {};\\n    for (var key in json_data) {\\n        self.valueFromJulia[key] = false;\\n    }\\n    ko.applyBindings(self.model, self.dom);\\n}\\n);\\n    (WebIO.importBlock({\\\"data\\\":[{\\\"name\\\":\\\"knockout\\\",\\\"type\\\":\\\"js\\\",\\\"url\\\":\\\"\\/assetserver\\/3a353afbd6c9130c04469cb36ceb880da7412142-knockout.js\\\"},{\\\"name\\\":\\\"knockout_punches\\\",\\\"type\\\":\\\"js\\\",\\\"url\\\":\\\"\\/assetserver\\/4ed641d55a3b9fd0bf416e425a088dbb3c4d8c47-knockout_punches.js\\\"}],\\\"type\\\":\\\"async_block\\\"})).then((imports) => handler.apply(this, imports));\\n}\\n\"],\"observables\":{\"changes\":{\"sync\":false,\"id\":\"7754495274112695243\",\"value\":0},\"index\":{\"sync\":true,\"id\":\"16273590418961242741\",\"value\":1}}},\"children\":[{\"props\":{\"className\":\"interact-flex-row interact-widget\"},\"nodeType\":\"DOM\",\"type\":\"node\",\"instanceArgs\":{\"namespace\":\"html\",\"tag\":\"div\"},\"children\":[{\"props\":{\"className\":\"interact-flex-row-left\"},\"nodeType\":\"DOM\",\"type\":\"node\",\"instanceArgs\":{\"namespace\":\"html\",\"tag\":\"div\"},\"children\":[{\"props\":{\"className\":\"interact \",\"style\":{\"padding\":\"5px 10px 0px 10px\"}},\"nodeType\":\"DOM\",\"type\":\"node\",\"instanceArgs\":{\"namespace\":\"html\",\"tag\":\"label\"},\"children\":[\"σ₁\"]}]},{\"props\":{\"className\":\"interact-flex-row-center\"},\"nodeType\":\"DOM\",\"type\":\"node\",\"instanceArgs\":{\"namespace\":\"html\",\"tag\":\"div\"},\"children\":[{\"props\":{\"max\":19,\"min\":1,\"attributes\":{\"type\":\"range\",\"data-bind\":\"numericValue: index, valueUpdate: 'input', event: {change: function (){this.changes(this.changes()+1)}}\",\"orient\":\"horizontal\"},\"step\":1,\"className\":\"slider slider is-fullwidth\",\"style\":{}},\"nodeType\":\"DOM\",\"type\":\"node\",\"instanceArgs\":{\"namespace\":\"html\",\"tag\":\"input\"},\"children\":[]}]},{\"props\":{\"className\":\"interact-flex-row-right\"},\"nodeType\":\"DOM\",\"type\":\"node\",\"instanceArgs\":{\"namespace\":\"html\",\"tag\":\"div\"},\"children\":[{\"props\":{\"attributes\":{\"data-bind\":\"text: formatted_val\"}},\"nodeType\":\"DOM\",\"type\":\"node\",\"instanceArgs\":{\"namespace\":\"html\",\"tag\":\"p\"},\"children\":[]}]}]}]}]},{\"props\":{\"className\":\"field interact-widget\"},\"nodeType\":\"DOM\",\"type\":\"node\",\"instanceArgs\":{\"namespace\":\"html\",\"tag\":\"div\"},\"children\":[{\"props\":{},\"nodeType\":\"Scope\",\"type\":\"node\",\"instanceArgs\":{\"imports\":{\"data\":[{\"name\":\"knockout\",\"type\":\"js\",\"url\":\"\\/assetserver\\/3a353afbd6c9130c04469cb36ceb880da7412142-knockout.js\"},{\"name\":\"knockout_punches\",\"type\":\"js\",\"url\":\"\\/assetserver\\/4ed641d55a3b9fd0bf416e425a088dbb3c4d8c47-knockout_punches.js\"},{\"name\":null,\"type\":\"js\",\"url\":\"\\/assetserver\\/d377f3bd98e9444333f45a0cc8f3442ad857b22d-all.js\"},{\"name\":null,\"type\":\"css\",\"url\":\"\\/assetserver\\/5dea6e24df3f374beda4fb1a43687135e0d24594-style.css\"},{\"name\":null,\"type\":\"css\",\"url\":\"\\/assetserver\\/62bb3f6330c38af16aaf56dac2a1ac22607e4957-bulma_confined.min.css\"}],\"type\":\"async_block\"},\"id\":\"9719877213766344648\",\"handlers\":{\"changes\":[\"(function (val){return (val!=this.model[\\\"changes\\\"]()) ? (this.valueFromJulia[\\\"changes\\\"]=true, this.model[\\\"changes\\\"](val)) : undefined})\"],\"index\":[\"(function (val){return (val!=this.model[\\\"index\\\"]()) ? (this.valueFromJulia[\\\"index\\\"]=true, this.model[\\\"index\\\"](val)) : undefined})\"]},\"systemjs_options\":null,\"mount_callbacks\":[\"function () {\\n    var handler = (function (ko, koPunches) {\\n    ko.punches.enableAll();\\n    ko.bindingHandlers.numericValue = {\\n        init: function(element, valueAccessor, allBindings, data, context) {\\n            var stringified = ko.observable(ko.unwrap(valueAccessor()));\\n            stringified.subscribe(function(value) {\\n                var val = parseFloat(value);\\n                if (!isNaN(val)) {\\n                    valueAccessor()(val);\\n                }\\n            });\\n            valueAccessor().subscribe(function(value) {\\n                var str = JSON.stringify(value);\\n                if ((str == \\\"0\\\") && ([\\\"-0\\\", \\\"-0.\\\"].indexOf(stringified()) >= 0))\\n                     return;\\n                 if ([\\\"null\\\", \\\"\\\"].indexOf(str) >= 0)\\n                     return;\\n                stringified(str);\\n            });\\n            ko.applyBindingsToNode(\\n                element,\\n                {\\n                    value: stringified,\\n                    valueUpdate: allBindings.get('valueUpdate'),\\n                },\\n                context,\\n            );\\n        }\\n    };\\n    var json_data = {\\\"formatted_vals\\\":[\\\"1.0\\\",\\\"1.5\\\",\\\"2.0\\\",\\\"2.5\\\",\\\"3.0\\\",\\\"3.5\\\",\\\"4.0\\\",\\\"4.5\\\",\\\"5.0\\\",\\\"5.5\\\",\\\"6.0\\\",\\\"6.5\\\",\\\"7.0\\\",\\\"7.5\\\",\\\"8.0\\\",\\\"8.5\\\",\\\"9.0\\\",\\\"9.5\\\",\\\"10.0\\\"],\\\"changes\\\":WebIO.getval({\\\"name\\\":\\\"changes\\\",\\\"scope\\\":\\\"9719877213766344648\\\",\\\"id\\\":\\\"1929647299426985242\\\",\\\"type\\\":\\\"observable\\\"}),\\\"index\\\":WebIO.getval({\\\"name\\\":\\\"index\\\",\\\"scope\\\":\\\"9719877213766344648\\\",\\\"id\\\":\\\"645444793060698222\\\",\\\"type\\\":\\\"observable\\\"})};\\n    var self = this;\\n    function AppViewModel() {\\n        for (var key in json_data) {\\n            var el = json_data[key];\\n            this[key] = Array.isArray(el) ? ko.observableArray(el) : ko.observable(el);\\n        }\\n        \\n        [this[\\\"formatted_val\\\"]=ko.computed(    function(){\\n        return this.formatted_vals()[parseInt(this.index())-(1)];\\n    }\\n,this)]\\n        [this[\\\"changes\\\"].subscribe((function (val){!(this.valueFromJulia[\\\"changes\\\"]) ? (WebIO.setval({\\\"name\\\":\\\"changes\\\",\\\"scope\\\":\\\"9719877213766344648\\\",\\\"id\\\":\\\"1929647299426985242\\\",\\\"type\\\":\\\"observable\\\"},val)) : undefined; return this.valueFromJulia[\\\"changes\\\"]=false}),self),this[\\\"index\\\"].subscribe((function (val){!(this.valueFromJulia[\\\"index\\\"]) ? (WebIO.setval({\\\"name\\\":\\\"index\\\",\\\"scope\\\":\\\"9719877213766344648\\\",\\\"id\\\":\\\"645444793060698222\\\",\\\"type\\\":\\\"observable\\\"},val)) : undefined; return this.valueFromJulia[\\\"index\\\"]=false}),self)]\\n        \\n    }\\n    self.model = new AppViewModel();\\n    self.valueFromJulia = {};\\n    for (var key in json_data) {\\n        self.valueFromJulia[key] = false;\\n    }\\n    ko.applyBindings(self.model, self.dom);\\n}\\n);\\n    (WebIO.importBlock({\\\"data\\\":[{\\\"name\\\":\\\"knockout\\\",\\\"type\\\":\\\"js\\\",\\\"url\\\":\\\"\\/assetserver\\/3a353afbd6c9130c04469cb36ceb880da7412142-knockout.js\\\"},{\\\"name\\\":\\\"knockout_punches\\\",\\\"type\\\":\\\"js\\\",\\\"url\\\":\\\"\\/assetserver\\/4ed641d55a3b9fd0bf416e425a088dbb3c4d8c47-knockout_punches.js\\\"}],\\\"type\\\":\\\"async_block\\\"})).then((imports) => handler.apply(this, imports));\\n}\\n\"],\"observables\":{\"changes\":{\"sync\":false,\"id\":\"1929647299426985242\",\"value\":0},\"index\":{\"sync\":true,\"id\":\"645444793060698222\",\"value\":1}}},\"children\":[{\"props\":{\"className\":\"interact-flex-row interact-widget\"},\"nodeType\":\"DOM\",\"type\":\"node\",\"instanceArgs\":{\"namespace\":\"html\",\"tag\":\"div\"},\"children\":[{\"props\":{\"className\":\"interact-flex-row-left\"},\"nodeType\":\"DOM\",\"type\":\"node\",\"instanceArgs\":{\"namespace\":\"html\",\"tag\":\"div\"},\"children\":[{\"props\":{\"className\":\"interact \",\"style\":{\"padding\":\"5px 10px 0px 10px\"}},\"nodeType\":\"DOM\",\"type\":\"node\",\"instanceArgs\":{\"namespace\":\"html\",\"tag\":\"label\"},\"children\":[\"σ₂\"]}]},{\"props\":{\"className\":\"interact-flex-row-center\"},\"nodeType\":\"DOM\",\"type\":\"node\",\"instanceArgs\":{\"namespace\":\"html\",\"tag\":\"div\"},\"children\":[{\"props\":{\"max\":19,\"min\":1,\"attributes\":{\"type\":\"range\",\"data-bind\":\"numericValue: index, valueUpdate: 'input', event: {change: function (){this.changes(this.changes()+1)}}\",\"orient\":\"horizontal\"},\"step\":1,\"className\":\"slider slider is-fullwidth\",\"style\":{}},\"nodeType\":\"DOM\",\"type\":\"node\",\"instanceArgs\":{\"namespace\":\"html\",\"tag\":\"input\"},\"children\":[]}]},{\"props\":{\"className\":\"interact-flex-row-right\"},\"nodeType\":\"DOM\",\"type\":\"node\",\"instanceArgs\":{\"namespace\":\"html\",\"tag\":\"div\"},\"children\":[{\"props\":{\"attributes\":{\"data-bind\":\"text: formatted_val\"}},\"nodeType\":\"DOM\",\"type\":\"node\",\"instanceArgs\":{\"namespace\":\"html\",\"tag\":\"p\"},\"children\":[]}]}]}]}]},{\"props\":{},\"nodeType\":\"Scope\",\"type\":\"node\",\"instanceArgs\":{\"imports\":{\"data\":[],\"type\":\"async_block\"},\"id\":\"5997939869863786246\",\"handlers\":{},\"systemjs_options\":null,\"mount_callbacks\":[],\"observables\":{\"obs-node\":{\"sync\":false,\"id\":\"11849697234967234327\",\"value\":{\"props\":{\"className\":\"interact-flex-row interact-widget\"},\"nodeType\":\"DOM\",\"type\":\"node\",\"instanceArgs\":{\"namespace\":\"html\",\"tag\":\"div\"},\"children\":[{\"props\":{\"setInnerHtml\":\"<?xml version=\\\"1.0\\\" encoding=\\\"utf-8\\\"?>\\n<svg xmlns=\\\"http:\\/\\/www.w3.org\\/2000\\/svg\\\" xmlns:xlink=\\\"http:\\/\\/www.w3.org\\/1999\\/xlink\\\" width=\\\"600\\\" height=\\\"400\\\" viewBox=\\\"0 0 2400 1600\\\">\\n<defs>\\n  <clipPath id=\\\"clip320\\\">\\n    <rect x=\\\"0\\\" y=\\\"0\\\" width=\\\"2400\\\" height=\\\"1600\\\"\\/>\\n  <\\/clipPath>\\n<\\/defs>\\n<path clip-path=\\\"url(#clip320)\\\" d=\\\"\\nM0 1600 L2400 1600 L2400 0 L0 0  Z\\n  \\\" fill=\\\"#ffffff\\\" fill-rule=\\\"evenodd\\\" fill-opacity=\\\"1\\\"\\/>\\n<defs>\\n  <clipPath id=\\\"clip321\\\">\\n    <rect x=\\\"480\\\" y=\\\"0\\\" width=\\\"1681\\\" height=\\\"1600\\\"\\/>\\n  <\\/clipPath>\\n<\\/defs>\\n<path clip-path=\\\"url(#clip320)\\\" d=\\\"\\nM148.334 1486.45 L2352.76 1486.45 L2352.76 47.2441 L148.334 47.2441  Z\\n  \\\" fill=\\\"#ffffff\\\" fill-rule=\\\"evenodd\\\" fill-opacity=\\\"1\\\"\\/>\\n<defs>\\n  <clipPath id=\\\"clip322\\\">\\n    <rect x=\\\"148\\\" y=\\\"47\\\" width=\\\"2205\\\" height=\\\"1440\\\"\\/>\\n  <\\/clipPath>\\n<\\/defs>\\n<polyline clip-path=\\\"url(#clip322)\\\" style=\\\"stroke:#000000; stroke-width:2; stroke-opacity:0.1; fill:none\\\" points=\\\"\\n  433.543,1486.45 433.543,47.2441 \\n  \\\"\\/>\\n<polyline clip-path=\\\"url(#clip322)\\\" style=\\\"stroke:#000000; stroke-width:2; stroke-opacity:0.1; fill:none\\\" points=\\\"\\n  804.907,1486.45 804.907,47.2441 \\n  \\\"\\/>\\n<polyline clip-path=\\\"url(#clip322)\\\" style=\\\"stroke:#000000; stroke-width:2; stroke-opacity:0.1; fill:none\\\" points=\\\"\\n  1176.27,1486.45 1176.27,47.2441 \\n  \\\"\\/>\\n<polyline clip-path=\\\"url(#clip322)\\\" style=\\\"stroke:#000000; stroke-width:2; stroke-opacity:0.1; fill:none\\\" points=\\\"\\n  1547.64,1486.45 1547.64,47.2441 \\n  \\\"\\/>\\n<polyline clip-path=\\\"url(#clip322)\\\" style=\\\"stroke:#000000; stroke-width:2; stroke-opacity:0.1; fill:none\\\" points=\\\"\\n  1919,1486.45 1919,47.2441 \\n  \\\"\\/>\\n<polyline clip-path=\\\"url(#clip322)\\\" style=\\\"stroke:#000000; stroke-width:2; stroke-opacity:0.1; fill:none\\\" points=\\\"\\n  2290.37,1486.45 2290.37,47.2441 \\n  \\\"\\/>\\n<polyline clip-path=\\\"url(#clip322)\\\" style=\\\"stroke:#000000; stroke-width:2; stroke-opacity:0.1; fill:none\\\" points=\\\"\\n  148.334,1445.72 2352.76,1445.72 \\n  \\\"\\/>\\n<polyline clip-path=\\\"url(#clip322)\\\" style=\\\"stroke:#000000; stroke-width:2; stroke-opacity:0.1; fill:none\\\" points=\\\"\\n  148.334,1204.96 2352.76,1204.96 \\n  \\\"\\/>\\n<polyline clip-path=\\\"url(#clip322)\\\" style=\\\"stroke:#000000; stroke-width:2; stroke-opacity:0.1; fill:none\\\" points=\\\"\\n  148.334,964.213 2352.76,964.213 \\n  \\\"\\/>\\n<polyline clip-path=\\\"url(#clip322)\\\" style=\\\"stroke:#000000; stroke-width:2; stroke-opacity:0.1; fill:none\\\" points=\\\"\\n  148.334,723.462 2352.76,723.462 \\n  \\\"\\/>\\n<polyline clip-path=\\\"url(#clip322)\\\" style=\\\"stroke:#000000; stroke-width:2; stroke-opacity:0.1; fill:none\\\" points=\\\"\\n  148.334,482.711 2352.76,482.711 \\n  \\\"\\/>\\n<polyline clip-path=\\\"url(#clip322)\\\" style=\\\"stroke:#000000; stroke-width:2; stroke-opacity:0.1; fill:none\\\" points=\\\"\\n  148.334,241.959 2352.76,241.959 \\n  \\\"\\/>\\n<polyline clip-path=\\\"url(#clip320)\\\" style=\\\"stroke:#000000; stroke-width:4; stroke-opacity:1; fill:none\\\" points=\\\"\\n  148.334,1486.45 2352.76,1486.45 \\n  \\\"\\/>\\n<polyline clip-path=\\\"url(#clip320)\\\" style=\\\"stroke:#000000; stroke-width:4; stroke-opacity:1; fill:none\\\" points=\\\"\\n  148.334,1486.45 148.334,47.2441 \\n  \\\"\\/>\\n<polyline clip-path=\\\"url(#clip320)\\\" style=\\\"stroke:#000000; stroke-width:4; stroke-opacity:1; fill:none\\\" points=\\\"\\n  433.543,1486.45 433.543,1469.18 \\n  \\\"\\/>\\n<polyline clip-path=\\\"url(#clip320)\\\" style=\\\"stroke:#000000; stroke-width:4; stroke-opacity:1; fill:none\\\" points=\\\"\\n  804.907,1486.45 804.907,1469.18 \\n  \\\"\\/>\\n<polyline clip-path=\\\"url(#clip320)\\\" style=\\\"stroke:#000000; stroke-width:4; stroke-opacity:1; fill:none\\\" points=\\\"\\n  1176.27,1486.45 1176.27,1469.18 \\n  \\\"\\/>\\n<polyline clip-path=\\\"url(#clip320)\\\" style=\\\"stroke:#000000; stroke-width:4; stroke-opacity:1; fill:none\\\" points=\\\"\\n  1547.64,1486.45 1547.64,1469.18 \\n  \\\"\\/>\\n<polyline clip-path=\\\"url(#clip320)\\\" style=\\\"stroke:#000000; stroke-width:4; stroke-opacity:1; fill:none\\\" points=\\\"\\n  1919,1486.45 1919,1469.18 \\n  \\\"\\/>\\n<polyline clip-path=\\\"url(#clip320)\\\" style=\\\"stroke:#000000; stroke-width:4; stroke-opacity:1; fill:none\\\" points=\\\"\\n  2290.37,1486.45 2290.37,1469.18 \\n  \\\"\\/>\\n<polyline clip-path=\\\"url(#clip320)\\\" style=\\\"stroke:#000000; stroke-width:4; stroke-opacity:1; fill:none\\\" points=\\\"\\n  148.334,1445.72 174.787,1445.72 \\n  \\\"\\/>\\n<polyline clip-path=\\\"url(#clip320)\\\" style=\\\"stroke:#000000; stroke-width:4; stroke-opacity:1; fill:none\\\" points=\\\"\\n  148.334,1204.96 174.787,1204.96 \\n  \\\"\\/>\\n<polyline clip-path=\\\"url(#clip320)\\\" style=\\\"stroke:#000000; stroke-width:4; stroke-opacity:1; fill:none\\\" points=\\\"\\n  148.334,964.213 174.787,964.213 \\n  \\\"\\/>\\n<polyline clip-path=\\\"url(#clip320)\\\" style=\\\"stroke:#000000; stroke-width:4; stroke-opacity:1; fill:none\\\" points=\\\"\\n  148.334,723.462 174.787,723.462 \\n  \\\"\\/>\\n<polyline clip-path=\\\"url(#clip320)\\\" style=\\\"stroke:#000000; stroke-width:4; stroke-opacity:1; fill:none\\\" points=\\\"\\n  148.334,482.711 174.787,482.711 \\n  \\\"\\/>\\n<polyline clip-path=\\\"url(#clip320)\\\" style=\\\"stroke:#000000; stroke-width:4; stroke-opacity:1; fill:none\\\" points=\\\"\\n  148.334,241.959 174.787,241.959 \\n  \\\"\\/>\\n<path clip-path=\\\"url(#clip320)\\\" d=\\\"M 0 0 M404.445 1505.36 L426.668 1505.36 L426.668 1507.35 L414.121 1539.92 L409.237 1539.92 L421.043 1509.3 L404.445 1509.3 L404.445 1505.36 Z\\\" fill=\\\"#000000\\\" fill-rule=\\\"evenodd\\\" fill-opacity=\\\"1\\\" \\/><path clip-path=\\\"url(#clip320)\\\" d=\\\"M 0 0 M431.737 1534.04 L436.621 1534.04 L436.621 1539.92 L431.737 1539.92 L431.737 1534.04 Z\\\" fill=\\\"#000000\\\" fill-rule=\\\"evenodd\\\" fill-opacity=\\\"1\\\" \\/><path clip-path=\\\"url(#clip320)\\\" d=\\\"M 0 0 M441.737 1505.36 L460.093 1505.36 L460.093 1509.3 L446.019 1509.3 L446.019 1517.77 Q447.038 1517.42 448.056 1517.26 Q449.075 1517.07 450.093 1517.07 Q455.88 1517.07 459.26 1520.24 Q462.64 1523.42 462.64 1528.83 Q462.64 1534.41 459.167 1537.51 Q455.695 1540.59 449.376 1540.59 Q447.2 1540.59 444.931 1540.22 Q442.686 1539.85 440.279 1539.11 L440.279 1534.41 Q442.362 1535.54 444.584 1536.1 Q446.806 1536.66 449.283 1536.66 Q453.288 1536.66 455.626 1534.55 Q457.964 1532.44 457.964 1528.83 Q457.964 1525.22 455.626 1523.11 Q453.288 1521.01 449.283 1521.01 Q447.408 1521.01 445.533 1521.42 Q443.681 1521.84 441.737 1522.72 L441.737 1505.36 Z\\\" fill=\\\"#000000\\\" fill-rule=\\\"evenodd\\\" fill-opacity=\\\"1\\\" \\/><path clip-path=\\\"url(#clip320)\\\" d=\\\"M 0 0 M763.299 1535.98 L770.938 1535.98 L770.938 1509.62 L762.628 1511.29 L762.628 1507.03 L770.891 1505.36 L775.567 1505.36 L775.567 1535.98 L783.206 1535.98 L783.206 1539.92 L763.299 1539.92 L763.299 1535.98 Z\\\" fill=\\\"#000000\\\" fill-rule=\\\"evenodd\\\" fill-opacity=\\\"1\\\" \\/><path clip-path=\\\"url(#clip320)\\\" d=\\\"M 0 0 M798.275 1508.44 Q794.664 1508.44 792.836 1512 Q791.03 1515.55 791.03 1522.67 Q791.03 1529.78 792.836 1533.35 Q794.664 1536.89 798.275 1536.89 Q801.91 1536.89 803.715 1533.35 Q805.544 1529.78 805.544 1522.67 Q805.544 1515.55 803.715 1512 Q801.91 1508.44 798.275 1508.44 M798.275 1504.73 Q804.086 1504.73 807.141 1509.34 Q810.22 1513.92 810.22 1522.67 Q810.22 1531.4 807.141 1536.01 Q804.086 1540.59 798.275 1540.59 Q792.465 1540.59 789.387 1536.01 Q786.331 1531.4 786.331 1522.67 Q786.331 1513.92 789.387 1509.34 Q792.465 1504.73 798.275 1504.73 Z\\\" fill=\\\"#000000\\\" fill-rule=\\\"evenodd\\\" fill-opacity=\\\"1\\\" \\/><path clip-path=\\\"url(#clip320)\\\" d=\\\"M 0 0 M815.289 1534.04 L820.173 1534.04 L820.173 1539.92 L815.289 1539.92 L815.289 1534.04 Z\\\" fill=\\\"#000000\\\" fill-rule=\\\"evenodd\\\" fill-opacity=\\\"1\\\" \\/><path clip-path=\\\"url(#clip320)\\\" d=\\\"M 0 0 M835.243 1508.44 Q831.632 1508.44 829.803 1512 Q827.998 1515.55 827.998 1522.67 Q827.998 1529.78 829.803 1533.35 Q831.632 1536.89 835.243 1536.89 Q838.877 1536.89 840.683 1533.35 Q842.511 1529.78 842.511 1522.67 Q842.511 1515.55 840.683 1512 Q838.877 1508.44 835.243 1508.44 M835.243 1504.73 Q841.053 1504.73 844.109 1509.34 Q847.187 1513.92 847.187 1522.67 Q847.187 1531.4 844.109 1536.01 Q841.053 1540.59 835.243 1540.59 Q829.433 1540.59 826.354 1536.01 Q823.298 1531.4 823.298 1522.67 Q823.298 1513.92 826.354 1509.34 Q829.433 1504.73 835.243 1504.73 Z\\\" fill=\\\"#000000\\\" fill-rule=\\\"evenodd\\\" fill-opacity=\\\"1\\\" \\/><path clip-path=\\\"url(#clip320)\\\" d=\\\"M 0 0 M1135.96 1535.98 L1143.6 1535.98 L1143.6 1509.62 L1135.29 1511.29 L1135.29 1507.03 L1143.55 1505.36 L1148.23 1505.36 L1148.23 1535.98 L1155.87 1535.98 L1155.87 1539.92 L1135.96 1539.92 L1135.96 1535.98 Z\\\" fill=\\\"#000000\\\" fill-rule=\\\"evenodd\\\" fill-opacity=\\\"1\\\" \\/><path clip-path=\\\"url(#clip320)\\\" d=\\\"M 0 0 M1164.96 1535.98 L1181.28 1535.98 L1181.28 1539.92 L1159.34 1539.92 L1159.34 1535.98 Q1162 1533.23 1166.58 1528.6 Q1171.19 1523.95 1172.37 1522.61 Q1174.62 1520.08 1175.5 1518.35 Q1176.4 1516.59 1176.4 1514.9 Q1176.4 1512.14 1174.46 1510.41 Q1172.53 1508.67 1169.43 1508.67 Q1167.23 1508.67 1164.78 1509.43 Q1162.35 1510.2 1159.57 1511.75 L1159.57 1507.03 Q1162.39 1505.89 1164.85 1505.31 Q1167.3 1504.73 1169.34 1504.73 Q1174.71 1504.73 1177.9 1507.42 Q1181.1 1510.11 1181.1 1514.6 Q1181.1 1516.73 1180.29 1518.65 Q1179.5 1520.54 1177.39 1523.14 Q1176.82 1523.81 1173.71 1527.03 Q1170.61 1530.22 1164.96 1535.98 Z\\\" fill=\\\"#000000\\\" fill-rule=\\\"evenodd\\\" fill-opacity=\\\"1\\\" \\/><path clip-path=\\\"url(#clip320)\\\" d=\\\"M 0 0 M1186.35 1534.04 L1191.24 1534.04 L1191.24 1539.92 L1186.35 1539.92 L1186.35 1534.04 Z\\\" fill=\\\"#000000\\\" fill-rule=\\\"evenodd\\\" fill-opacity=\\\"1\\\" \\/><path clip-path=\\\"url(#clip320)\\\" d=\\\"M 0 0 M1196.35 1505.36 L1214.71 1505.36 L1214.71 1509.3 L1200.64 1509.3 L1200.64 1517.77 Q1201.65 1517.42 1202.67 1517.26 Q1203.69 1517.07 1204.71 1517.07 Q1210.5 1517.07 1213.88 1520.24 Q1217.26 1523.42 1217.26 1528.83 Q1217.26 1534.41 1213.78 1537.51 Q1210.31 1540.59 1203.99 1540.59 Q1201.82 1540.59 1199.55 1540.22 Q1197.3 1539.85 1194.89 1539.11 L1194.89 1534.41 Q1196.98 1535.54 1199.2 1536.1 Q1201.42 1536.66 1203.9 1536.66 Q1207.9 1536.66 1210.24 1534.55 Q1212.58 1532.44 1212.58 1528.83 Q1212.58 1525.22 1210.24 1523.11 Q1207.9 1521.01 1203.9 1521.01 Q1202.02 1521.01 1200.15 1521.42 Q1198.3 1521.84 1196.35 1522.72 L1196.35 1505.36 Z\\\" fill=\\\"#000000\\\" fill-rule=\\\"evenodd\\\" fill-opacity=\\\"1\\\" \\/><path clip-path=\\\"url(#clip320)\\\" d=\\\"M 0 0 M1506.53 1535.98 L1514.16 1535.98 L1514.16 1509.62 L1505.85 1511.29 L1505.85 1507.03 L1514.12 1505.36 L1518.79 1505.36 L1518.79 1535.98 L1526.43 1535.98 L1526.43 1539.92 L1506.53 1539.92 L1506.53 1535.98 Z\\\" fill=\\\"#000000\\\" fill-rule=\\\"evenodd\\\" fill-opacity=\\\"1\\\" \\/><path clip-path=\\\"url(#clip320)\\\" d=\\\"M 0 0 M1531.55 1505.36 L1549.91 1505.36 L1549.91 1509.3 L1535.83 1509.3 L1535.83 1517.77 Q1536.85 1517.42 1537.87 1517.26 Q1538.89 1517.07 1539.91 1517.07 Q1545.69 1517.07 1549.07 1520.24 Q1552.45 1523.42 1552.45 1528.83 Q1552.45 1534.41 1548.98 1537.51 Q1545.51 1540.59 1539.19 1540.59 Q1537.01 1540.59 1534.74 1540.22 Q1532.5 1539.85 1530.09 1539.11 L1530.09 1534.41 Q1532.17 1535.54 1534.4 1536.1 Q1536.62 1536.66 1539.1 1536.66 Q1543.1 1536.66 1545.44 1534.55 Q1547.78 1532.44 1547.78 1528.83 Q1547.78 1525.22 1545.44 1523.11 Q1543.1 1521.01 1539.1 1521.01 Q1537.22 1521.01 1535.35 1521.42 Q1533.49 1521.84 1531.55 1522.72 L1531.55 1505.36 Z\\\" fill=\\\"#000000\\\" fill-rule=\\\"evenodd\\\" fill-opacity=\\\"1\\\" \\/><path clip-path=\\\"url(#clip320)\\\" d=\\\"M 0 0 M1557.52 1534.04 L1562.41 1534.04 L1562.41 1539.92 L1557.52 1539.92 L1557.52 1534.04 Z\\\" fill=\\\"#000000\\\" fill-rule=\\\"evenodd\\\" fill-opacity=\\\"1\\\" \\/><path clip-path=\\\"url(#clip320)\\\" d=\\\"M 0 0 M1577.47 1508.44 Q1573.86 1508.44 1572.04 1512 Q1570.23 1515.55 1570.23 1522.67 Q1570.23 1529.78 1572.04 1533.35 Q1573.86 1536.89 1577.47 1536.89 Q1581.11 1536.89 1582.91 1533.35 Q1584.74 1529.78 1584.74 1522.67 Q1584.74 1515.55 1582.91 1512 Q1581.11 1508.44 1577.47 1508.44 M1577.47 1504.73 Q1583.28 1504.73 1586.34 1509.34 Q1589.42 1513.92 1589.42 1522.67 Q1589.42 1531.4 1586.34 1536.01 Q1583.28 1540.59 1577.47 1540.59 Q1571.66 1540.59 1568.59 1536.01 Q1565.53 1531.4 1565.53 1522.67 Q1565.53 1513.92 1568.59 1509.34 Q1571.66 1504.73 1577.47 1504.73 Z\\\" fill=\\\"#000000\\\" fill-rule=\\\"evenodd\\\" fill-opacity=\\\"1\\\" \\/><path clip-path=\\\"url(#clip320)\\\" d=\\\"M 0 0 M1878.34 1535.98 L1885.98 1535.98 L1885.98 1509.62 L1877.67 1511.29 L1877.67 1507.03 L1885.93 1505.36 L1890.61 1505.36 L1890.61 1535.98 L1898.25 1535.98 L1898.25 1539.92 L1878.34 1539.92 L1878.34 1535.98 Z\\\" fill=\\\"#000000\\\" fill-rule=\\\"evenodd\\\" fill-opacity=\\\"1\\\" \\/><path clip-path=\\\"url(#clip320)\\\" d=\\\"M 0 0 M1902.14 1505.36 L1924.36 1505.36 L1924.36 1507.35 L1911.81 1539.92 L1906.93 1539.92 L1918.74 1509.3 L1902.14 1509.3 L1902.14 1505.36 Z\\\" fill=\\\"#000000\\\" fill-rule=\\\"evenodd\\\" fill-opacity=\\\"1\\\" \\/><path clip-path=\\\"url(#clip320)\\\" d=\\\"M 0 0 M1929.43 1534.04 L1934.31 1534.04 L1934.31 1539.92 L1929.43 1539.92 L1929.43 1534.04 Z\\\" fill=\\\"#000000\\\" fill-rule=\\\"evenodd\\\" fill-opacity=\\\"1\\\" \\/><path clip-path=\\\"url(#clip320)\\\" d=\\\"M 0 0 M1939.43 1505.36 L1957.79 1505.36 L1957.79 1509.3 L1943.71 1509.3 L1943.71 1517.77 Q1944.73 1517.42 1945.75 1517.26 Q1946.77 1517.07 1947.79 1517.07 Q1953.57 1517.07 1956.95 1520.24 Q1960.33 1523.42 1960.33 1528.83 Q1960.33 1534.41 1956.86 1537.51 Q1953.39 1540.59 1947.07 1540.59 Q1944.89 1540.59 1942.62 1540.22 Q1940.38 1539.85 1937.97 1539.11 L1937.97 1534.41 Q1940.05 1535.54 1942.28 1536.1 Q1944.5 1536.66 1946.98 1536.66 Q1950.98 1536.66 1953.32 1534.55 Q1955.66 1532.44 1955.66 1528.83 Q1955.66 1525.22 1953.32 1523.11 Q1950.98 1521.01 1946.98 1521.01 Q1945.1 1521.01 1943.23 1521.42 Q1941.37 1521.84 1939.43 1522.72 L1939.43 1505.36 Z\\\" fill=\\\"#000000\\\" fill-rule=\\\"evenodd\\\" fill-opacity=\\\"1\\\" \\/><path clip-path=\\\"url(#clip320)\\\" d=\\\"M 0 0 M2253.03 1535.98 L2269.35 1535.98 L2269.35 1539.92 L2247.4 1539.92 L2247.4 1535.98 Q2250.07 1533.23 2254.65 1528.6 Q2259.26 1523.95 2260.44 1522.61 Q2262.68 1520.08 2263.56 1518.35 Q2264.46 1516.59 2264.46 1514.9 Q2264.46 1512.14 2262.52 1510.41 Q2260.6 1508.67 2257.5 1508.67 Q2255.3 1508.67 2252.84 1509.43 Q2250.41 1510.2 2247.64 1511.75 L2247.64 1507.03 Q2250.46 1505.89 2252.91 1505.31 Q2255.37 1504.73 2257.4 1504.73 Q2262.77 1504.73 2265.97 1507.42 Q2269.16 1510.11 2269.16 1514.6 Q2269.16 1516.73 2268.35 1518.65 Q2267.57 1520.54 2265.46 1523.14 Q2264.88 1523.81 2261.78 1527.03 Q2258.68 1530.22 2253.03 1535.98 Z\\\" fill=\\\"#000000\\\" fill-rule=\\\"evenodd\\\" fill-opacity=\\\"1\\\" \\/><path clip-path=\\\"url(#clip320)\\\" d=\\\"M 0 0 M2284.42 1508.44 Q2280.81 1508.44 2278.98 1512 Q2277.17 1515.55 2277.17 1522.67 Q2277.17 1529.78 2278.98 1533.35 Q2280.81 1536.89 2284.42 1536.89 Q2288.05 1536.89 2289.86 1533.35 Q2291.69 1529.78 2291.69 1522.67 Q2291.69 1515.55 2289.86 1512 Q2288.05 1508.44 2284.42 1508.44 M2284.42 1504.73 Q2290.23 1504.73 2293.28 1509.34 Q2296.36 1513.92 2296.36 1522.67 Q2296.36 1531.4 2293.28 1536.01 Q2290.23 1540.59 2284.42 1540.59 Q2278.61 1540.59 2275.53 1536.01 Q2272.47 1531.4 2272.47 1522.67 Q2272.47 1513.92 2275.53 1509.34 Q2278.61 1504.73 2284.42 1504.73 Z\\\" fill=\\\"#000000\\\" fill-rule=\\\"evenodd\\\" fill-opacity=\\\"1\\\" \\/><path clip-path=\\\"url(#clip320)\\\" d=\\\"M 0 0 M2301.43 1534.04 L2306.32 1534.04 L2306.32 1539.92 L2301.43 1539.92 L2301.43 1534.04 Z\\\" fill=\\\"#000000\\\" fill-rule=\\\"evenodd\\\" fill-opacity=\\\"1\\\" \\/><path clip-path=\\\"url(#clip320)\\\" d=\\\"M 0 0 M2321.38 1508.44 Q2317.77 1508.44 2315.95 1512 Q2314.14 1515.55 2314.14 1522.67 Q2314.14 1529.78 2315.95 1533.35 Q2317.77 1536.89 2321.38 1536.89 Q2325.02 1536.89 2326.82 1533.35 Q2328.65 1529.78 2328.65 1522.67 Q2328.65 1515.55 2326.82 1512 Q2325.02 1508.44 2321.38 1508.44 M2321.38 1504.73 Q2327.2 1504.73 2330.25 1509.34 Q2333.33 1513.92 2333.33 1522.67 Q2333.33 1531.4 2330.25 1536.01 Q2327.2 1540.59 2321.38 1540.59 Q2315.57 1540.59 2312.5 1536.01 Q2309.44 1531.4 2309.44 1522.67 Q2309.44 1513.92 2312.5 1509.34 Q2315.57 1504.73 2321.38 1504.73 Z\\\" fill=\\\"#000000\\\" fill-rule=\\\"evenodd\\\" fill-opacity=\\\"1\\\" \\/><path clip-path=\\\"url(#clip320)\\\" d=\\\"M 0 0 M75.4226 1431.51 Q71.8115 1431.51 69.9828 1435.08 Q68.1773 1438.62 68.1773 1445.75 Q68.1773 1452.86 69.9828 1456.42 Q71.8115 1459.96 75.4226 1459.96 Q79.0569 1459.96 80.8624 1456.42 Q82.6911 1452.86 82.6911 1445.75 Q82.6911 1438.62 80.8624 1435.08 Q79.0569 1431.51 75.4226 1431.51 M75.4226 1427.81 Q81.2328 1427.81 84.2883 1432.42 Q87.367 1437 87.367 1445.75 Q87.367 1454.48 84.2883 1459.08 Q81.2328 1463.67 75.4226 1463.67 Q69.6125 1463.67 66.5338 1459.08 Q63.4782 1454.48 63.4782 1445.75 Q63.4782 1437 66.5338 1432.42 Q69.6125 1427.81 75.4226 1427.81 Z\\\" fill=\\\"#000000\\\" fill-rule=\\\"evenodd\\\" fill-opacity=\\\"1\\\" \\/><path clip-path=\\\"url(#clip320)\\\" d=\\\"M 0 0 M92.4364 1457.12 L97.3206 1457.12 L97.3206 1463 L92.4364 1463 L92.4364 1457.12 Z\\\" fill=\\\"#000000\\\" fill-rule=\\\"evenodd\\\" fill-opacity=\\\"1\\\" \\/><path clip-path=\\\"url(#clip320)\\\" d=\\\"M 0 0 M112.39 1431.51 Q108.779 1431.51 106.95 1435.08 Q105.145 1438.62 105.145 1445.75 Q105.145 1452.86 106.95 1456.42 Q108.779 1459.96 112.39 1459.96 Q116.024 1459.96 117.83 1456.42 Q119.658 1452.86 119.658 1445.75 Q119.658 1438.62 117.83 1435.08 Q116.024 1431.51 112.39 1431.51 M112.39 1427.81 Q118.2 1427.81 121.256 1432.42 Q124.334 1437 124.334 1445.75 Q124.334 1454.48 121.256 1459.08 Q118.2 1463.67 112.39 1463.67 Q106.58 1463.67 103.501 1459.08 Q100.446 1454.48 100.446 1445.75 Q100.446 1437 103.501 1432.42 Q106.58 1427.81 112.39 1427.81 Z\\\" fill=\\\"#000000\\\" fill-rule=\\\"evenodd\\\" fill-opacity=\\\"1\\\" \\/><path clip-path=\\\"url(#clip320)\\\" d=\\\"M 0 0 M76.6495 1190.76 Q73.0384 1190.76 71.2097 1194.33 Q69.4041 1197.87 69.4041 1205 Q69.4041 1212.11 71.2097 1215.67 Q73.0384 1219.21 76.6495 1219.21 Q80.2837 1219.21 82.0892 1215.67 Q83.9179 1212.11 83.9179 1205 Q83.9179 1197.87 82.0892 1194.33 Q80.2837 1190.76 76.6495 1190.76 M76.6495 1187.06 Q82.4596 1187.06 85.5152 1191.67 Q88.5938 1196.25 88.5938 1205 Q88.5938 1213.73 85.5152 1218.33 Q82.4596 1222.92 76.6495 1222.92 Q70.8393 1222.92 67.7606 1218.33 Q64.7051 1213.73 64.7051 1205 Q64.7051 1196.25 67.7606 1191.67 Q70.8393 1187.06 76.6495 1187.06 Z\\\" fill=\\\"#000000\\\" fill-rule=\\\"evenodd\\\" fill-opacity=\\\"1\\\" \\/><path clip-path=\\\"url(#clip320)\\\" d=\\\"M 0 0 M93.6633 1216.36 L98.5475 1216.36 L98.5475 1222.24 L93.6633 1222.24 L93.6633 1216.36 Z\\\" fill=\\\"#000000\\\" fill-rule=\\\"evenodd\\\" fill-opacity=\\\"1\\\" \\/><path clip-path=\\\"url(#clip320)\\\" d=\\\"M 0 0 M104.427 1218.31 L112.066 1218.31 L112.066 1191.94 L103.756 1193.61 L103.756 1189.35 L112.02 1187.68 L116.696 1187.68 L116.696 1218.31 L124.334 1218.31 L124.334 1222.24 L104.427 1222.24 L104.427 1218.31 Z\\\" fill=\\\"#000000\\\" fill-rule=\\\"evenodd\\\" fill-opacity=\\\"1\\\" \\/><path clip-path=\\\"url(#clip320)\\\" d=\\\"M 0 0 M77.0198 950.012 Q73.4087 950.012 71.58 953.577 Q69.7745 957.118 69.7745 964.248 Q69.7745 971.354 71.58 974.919 Q73.4087 978.461 77.0198 978.461 Q80.6541 978.461 82.4596 974.919 Q84.2883 971.354 84.2883 964.248 Q84.2883 957.118 82.4596 953.577 Q80.6541 950.012 77.0198 950.012 M77.0198 946.308 Q82.83 946.308 85.8855 950.915 Q88.9642 955.498 88.9642 964.248 Q88.9642 972.975 85.8855 977.581 Q82.83 982.164 77.0198 982.164 Q71.2097 982.164 68.131 977.581 Q65.0754 972.975 65.0754 964.248 Q65.0754 955.498 68.131 950.915 Q71.2097 946.308 77.0198 946.308 Z\\\" fill=\\\"#000000\\\" fill-rule=\\\"evenodd\\\" fill-opacity=\\\"1\\\" \\/><path clip-path=\\\"url(#clip320)\\\" d=\\\"M 0 0 M94.0336 975.614 L98.9179 975.614 L98.9179 981.493 L94.0336 981.493 L94.0336 975.614 Z\\\" fill=\\\"#000000\\\" fill-rule=\\\"evenodd\\\" fill-opacity=\\\"1\\\" \\/><path clip-path=\\\"url(#clip320)\\\" d=\\\"M 0 0 M108.015 977.558 L124.334 977.558 L124.334 981.493 L102.39 981.493 L102.39 977.558 Q105.052 974.803 109.635 970.174 Q114.242 965.521 115.422 964.178 Q117.668 961.655 118.547 959.919 Q119.45 958.16 119.45 956.47 Q119.45 953.716 117.506 951.979 Q115.584 950.243 112.483 950.243 Q110.284 950.243 107.83 951.007 Q105.399 951.771 102.622 953.322 L102.622 948.6 Q105.446 947.466 107.899 946.887 Q110.353 946.308 112.39 946.308 Q117.76 946.308 120.955 948.993 Q124.149 951.678 124.149 956.169 Q124.149 958.299 123.339 960.22 Q122.552 962.118 120.446 964.711 Q119.867 965.382 116.765 968.6 Q113.663 971.794 108.015 977.558 Z\\\" fill=\\\"#000000\\\" fill-rule=\\\"evenodd\\\" fill-opacity=\\\"1\\\" \\/><path clip-path=\\\"url(#clip320)\\\" d=\\\"M 0 0 M76.0708 709.261 Q72.4597 709.261 70.631 712.825 Q68.8254 716.367 68.8254 723.497 Q68.8254 730.603 70.631 734.168 Q72.4597 737.709 76.0708 737.709 Q79.705 737.709 81.5105 734.168 Q83.3392 730.603 83.3392 723.497 Q83.3392 716.367 81.5105 712.825 Q79.705 709.261 76.0708 709.261 M76.0708 705.557 Q81.8809 705.557 84.9365 710.163 Q88.0151 714.747 88.0151 723.497 Q88.0151 732.223 84.9365 736.83 Q81.8809 741.413 76.0708 741.413 Q70.2606 741.413 67.1819 736.83 Q64.1264 732.223 64.1264 723.497 Q64.1264 714.747 67.1819 710.163 Q70.2606 705.557 76.0708 705.557 Z\\\" fill=\\\"#000000\\\" fill-rule=\\\"evenodd\\\" fill-opacity=\\\"1\\\" \\/><path clip-path=\\\"url(#clip320)\\\" d=\\\"M 0 0 M93.0846 734.862 L97.9688 734.862 L97.9688 740.742 L93.0846 740.742 L93.0846 734.862 Z\\\" fill=\\\"#000000\\\" fill-rule=\\\"evenodd\\\" fill-opacity=\\\"1\\\" \\/><path clip-path=\\\"url(#clip320)\\\" d=\\\"M 0 0 M117.205 722.108 Q120.561 722.825 122.436 725.094 Q124.334 727.362 124.334 730.696 Q124.334 735.811 120.816 738.612 Q117.297 741.413 110.816 741.413 Q108.64 741.413 106.325 740.973 Q104.034 740.557 101.58 739.7 L101.58 735.186 Q103.524 736.321 105.839 736.899 Q108.154 737.478 110.677 737.478 Q115.075 737.478 117.367 735.742 Q119.682 734.006 119.682 730.696 Q119.682 727.64 117.529 725.927 Q115.399 724.191 111.58 724.191 L107.552 724.191 L107.552 720.348 L111.765 720.348 Q115.214 720.348 117.043 718.983 Q118.871 717.594 118.871 715.001 Q118.871 712.339 116.973 710.927 Q115.098 709.492 111.58 709.492 Q109.659 709.492 107.459 709.909 Q105.26 710.325 102.622 711.205 L102.622 707.038 Q105.284 706.298 107.598 705.927 Q109.936 705.557 111.996 705.557 Q117.321 705.557 120.422 707.987 Q123.524 710.395 123.524 714.515 Q123.524 717.385 121.881 719.376 Q120.237 721.344 117.205 722.108 Z\\\" fill=\\\"#000000\\\" fill-rule=\\\"evenodd\\\" fill-opacity=\\\"1\\\" \\/><path clip-path=\\\"url(#clip320)\\\" d=\\\"M 0 0 M74.9365 468.509 Q71.3254 468.509 69.4967 472.074 Q67.6912 475.616 67.6912 482.745 Q67.6912 489.852 69.4967 493.417 Q71.3254 496.958 74.9365 496.958 Q78.5707 496.958 80.3763 493.417 Q82.205 489.852 82.205 482.745 Q82.205 475.616 80.3763 472.074 Q78.5707 468.509 74.9365 468.509 M74.9365 464.806 Q80.7467 464.806 83.8022 469.412 Q86.8809 473.995 86.8809 482.745 Q86.8809 491.472 83.8022 496.079 Q80.7467 500.662 74.9365 500.662 Q69.1264 500.662 66.0477 496.079 Q62.9921 491.472 62.9921 482.745 Q62.9921 473.995 66.0477 469.412 Q69.1264 464.806 74.9365 464.806 Z\\\" fill=\\\"#000000\\\" fill-rule=\\\"evenodd\\\" fill-opacity=\\\"1\\\" \\/><path clip-path=\\\"url(#clip320)\\\" d=\\\"M 0 0 M91.9503 494.111 L96.8345 494.111 L96.8345 499.991 L91.9503 499.991 L91.9503 494.111 Z\\\" fill=\\\"#000000\\\" fill-rule=\\\"evenodd\\\" fill-opacity=\\\"1\\\" \\/><path clip-path=\\\"url(#clip320)\\\" d=\\\"M 0 0 M114.751 469.505 L102.946 487.954 L114.751 487.954 L114.751 469.505 M113.524 465.431 L119.404 465.431 L119.404 487.954 L124.334 487.954 L124.334 491.842 L119.404 491.842 L119.404 499.991 L114.751 499.991 L114.751 491.842 L99.1493 491.842 L99.1493 487.329 L113.524 465.431 Z\\\" fill=\\\"#000000\\\" fill-rule=\\\"evenodd\\\" fill-opacity=\\\"1\\\" \\/><path clip-path=\\\"url(#clip320)\\\" d=\\\"M 0 0 M76.418 227.758 Q72.8069 227.758 70.9782 231.323 Q69.1726 234.864 69.1726 241.994 Q69.1726 249.1 70.9782 252.665 Q72.8069 256.207 76.418 256.207 Q80.0522 256.207 81.8578 252.665 Q83.6865 249.1 83.6865 241.994 Q83.6865 234.864 81.8578 231.323 Q80.0522 227.758 76.418 227.758 M76.418 224.054 Q82.2281 224.054 85.2837 228.661 Q88.3624 233.244 88.3624 241.994 Q88.3624 250.721 85.2837 255.327 Q82.2281 259.911 76.418 259.911 Q70.6078 259.911 67.5291 255.327 Q64.4736 250.721 64.4736 241.994 Q64.4736 233.244 67.5291 228.661 Q70.6078 224.054 76.418 224.054 Z\\\" fill=\\\"#000000\\\" fill-rule=\\\"evenodd\\\" fill-opacity=\\\"1\\\" \\/><path clip-path=\\\"url(#clip320)\\\" d=\\\"M 0 0 M93.4318 253.36 L98.316 253.36 L98.316 259.239 L93.4318 259.239 L93.4318 253.36 Z\\\" fill=\\\"#000000\\\" fill-rule=\\\"evenodd\\\" fill-opacity=\\\"1\\\" \\/><path clip-path=\\\"url(#clip320)\\\" d=\\\"M 0 0 M103.432 224.679 L121.788 224.679 L121.788 228.614 L107.714 228.614 L107.714 237.087 Q108.733 236.739 109.751 236.577 Q110.77 236.392 111.788 236.392 Q117.575 236.392 120.955 239.563 Q124.334 242.735 124.334 248.151 Q124.334 253.73 120.862 256.832 Q117.39 259.911 111.071 259.911 Q108.895 259.911 106.626 259.54 Q104.381 259.17 101.973 258.429 L101.973 253.73 Q104.057 254.864 106.279 255.42 Q108.501 255.975 110.978 255.975 Q114.983 255.975 117.321 253.869 Q119.658 251.762 119.658 248.151 Q119.658 244.54 117.321 242.434 Q114.983 240.327 110.978 240.327 Q109.103 240.327 107.228 240.744 Q105.376 241.161 103.432 242.04 L103.432 224.679 Z\\\" fill=\\\"#000000\\\" fill-rule=\\\"evenodd\\\" fill-opacity=\\\"1\\\" \\/><polyline clip-path=\\\"url(#clip322)\\\" style=\\\"stroke:#009af9; stroke-width:4; stroke-opacity:1; fill:none\\\" points=\\\"\\n  210.724,485.257 231.73,494.813 252.737,522.913 273.743,567.915 294.75,627.253 315.756,697.691 336.763,775.602 357.769,857.284 378.776,939.24 399.782,1018.41 \\n  420.789,1092.35 441.795,1159.27 462.802,1218.12 483.808,1268.46 504.815,1310.4 525.821,1344.46 546.828,1371.45 567.834,1392.32 588.841,1408.09 609.847,1419.72 \\n  630.854,1428.12 651.86,1434.04 672.867,1438.12 693.873,1440.87 714.88,1442.69 735.886,1443.86 756.893,1444.6 777.899,1445.06 798.906,1445.34 819.912,1445.5 \\n  840.919,1445.6 861.925,1445.65 882.931,1445.68 903.938,1445.7 924.944,1445.71 945.951,1445.71 966.957,1445.71 987.964,1445.71 1008.97,1445.72 1029.98,1445.72 \\n  1050.98,1445.72 1071.99,1445.72 1093,1445.72 1114,1445.72 1135.01,1445.72 1156.02,1445.72 1177.02,1445.72 1198.03,1445.72 1219.04,1445.72 1240.04,1445.72 \\n  1261.05,1445.72 1282.05,1445.72 1303.06,1445.72 1324.07,1445.72 1345.07,1445.72 1366.08,1445.72 1387.09,1445.72 1408.09,1445.72 1429.1,1445.72 1450.11,1445.72 \\n  1471.11,1445.72 1492.12,1445.72 1513.13,1445.72 1534.13,1445.72 1555.14,1445.72 1576.15,1445.72 1597.15,1445.72 1618.16,1445.72 1639.17,1445.72 1660.17,1445.72 \\n  1681.18,1445.72 1702.18,1445.72 1723.19,1445.72 1744.2,1445.72 1765.2,1445.72 1786.21,1445.72 1807.22,1445.72 1828.22,1445.72 1849.23,1445.72 1870.24,1445.72 \\n  1891.24,1445.72 1912.25,1445.72 1933.26,1445.72 1954.26,1445.72 1975.27,1445.72 1996.28,1445.72 2017.28,1445.72 2038.29,1445.72 2059.3,1445.72 2080.3,1445.72 \\n  2101.31,1445.72 2122.31,1445.72 2143.32,1445.72 2164.33,1445.72 2185.33,1445.72 2206.34,1445.72 2227.35,1445.72 2248.35,1445.72 2269.36,1445.72 2290.37,1445.72 \\n  \\n  \\\"\\/>\\n<polyline clip-path=\\\"url(#clip322)\\\" style=\\\"stroke:#e26f46; stroke-width:4; stroke-opacity:1; fill:none\\\" points=\\\"\\n  210.724,1445.39 231.73,1445.15 252.737,1444.76 273.743,1444.11 294.75,1443.08 315.756,1441.47 336.763,1439.02 357.769,1435.36 378.776,1430.03 399.782,1422.42 \\n  420.789,1411.79 441.795,1397.3 462.802,1377.99 483.808,1352.85 504.815,1320.9 525.821,1281.29 546.828,1233.38 567.834,1176.94 588.841,1112.24 609.847,1040.16 \\n  630.854,962.264 651.86,880.816 672.867,798.714 693.873,719.351 714.88,646.4 735.886,583.537 756.893,534.143 777.899,501.002 798.906,486.041 819.912,490.144 \\n  840.919,513.069 861.925,553.467 882.931,609.015 903.938,676.641 924.944,752.796 945.951,833.772 966.957,915.985 987.964,996.232 1008.97,1071.87 1029.98,1140.94 \\n  1050.98,1202.17 1071.99,1254.95 1093,1299.25 1114,1335.49 1135.01,1364.41 1156.02,1386.92 1177.02,1404.05 1198.03,1416.77 1219.04,1426 1240.04,1432.56 \\n  1261.05,1437.11 1282.05,1440.19 1303.06,1442.25 1324.07,1443.58 1345.07,1444.42 1366.08,1444.95 1387.09,1445.27 1408.09,1445.46 1429.1,1445.57 1450.11,1445.64 \\n  1471.11,1445.67 1492.12,1445.69 1513.13,1445.7 1534.13,1445.71 1555.14,1445.71 1576.15,1445.71 1597.15,1445.72 1618.16,1445.72 1639.17,1445.72 1660.17,1445.72 \\n  1681.18,1445.72 1702.18,1445.72 1723.19,1445.72 1744.2,1445.72 1765.2,1445.72 1786.21,1445.72 1807.22,1445.72 1828.22,1445.72 1849.23,1445.72 1870.24,1445.72 \\n  1891.24,1445.72 1912.25,1445.72 1933.26,1445.72 1954.26,1445.72 1975.27,1445.72 1996.28,1445.72 2017.28,1445.72 2038.29,1445.72 2059.3,1445.72 2080.3,1445.72 \\n  2101.31,1445.72 2122.31,1445.72 2143.32,1445.72 2164.33,1445.72 2185.33,1445.72 2206.34,1445.72 2227.35,1445.72 2248.35,1445.72 2269.36,1445.72 2290.37,1445.72 \\n  \\n  \\\"\\/>\\n<polyline clip-path=\\\"url(#clip322)\\\" style=\\\"stroke:#3da44d; stroke-width:4; stroke-opacity:1; fill:none\\\" points=\\\"\\n  210.724,1420.84 231.73,1402.78 252.737,1374.53 273.743,1332.31 294.75,1272.13 315.756,1190.45 336.763,1085.03 357.769,956.071 378.776,807.059 399.782,645.358 \\n  420.789,482.041 441.795,330.89 462.802,206.595 483.808,122.441 504.815,87.9763 525.821,107.233 546.828,177.949 567.834,292.008 588.841,436.969 609.847,598.296 \\n  630.854,761.733 651.86,915.294 672.867,1050.51 693.873,1162.8 714.88,1251.12 735.886,1317.12 756.893,1364.07 777.899,1395.91 798.906,1416.52 819.912,1429.28 \\n  840.919,1436.82 861.925,1441.09 882.931,1443.41 903.938,1444.61 924.944,1445.2 945.951,1445.49 966.957,1445.62 987.964,1445.68 1008.97,1445.7 1029.98,1445.71 \\n  1050.98,1445.71 1071.99,1445.71 1093,1445.72 1114,1445.72 1135.01,1445.72 1156.02,1445.72 1177.02,1445.72 1198.03,1445.72 1219.04,1445.72 1240.04,1445.72 \\n  1261.05,1445.72 1282.05,1445.72 1303.06,1445.72 1324.07,1445.72 1345.07,1445.72 1366.08,1445.72 1387.09,1445.72 1408.09,1445.72 1429.1,1445.72 1450.11,1445.72 \\n  1471.11,1445.72 1492.12,1445.72 1513.13,1445.72 1534.13,1445.72 1555.14,1445.72 1576.15,1445.72 1597.15,1445.72 1618.16,1445.72 1639.17,1445.72 1660.17,1445.72 \\n  1681.18,1445.72 1702.18,1445.72 1723.19,1445.72 1744.2,1445.72 1765.2,1445.72 1786.21,1445.72 1807.22,1445.72 1828.22,1445.72 1849.23,1445.72 1870.24,1445.72 \\n  1891.24,1445.72 1912.25,1445.72 1933.26,1445.72 1954.26,1445.72 1975.27,1445.72 1996.28,1445.72 2017.28,1445.72 2038.29,1445.72 2059.3,1445.72 2080.3,1445.72 \\n  2101.31,1445.72 2122.31,1445.72 2143.32,1445.72 2164.33,1445.72 2185.33,1445.72 2206.34,1445.72 2227.35,1445.72 2248.35,1445.72 2269.36,1445.72 2290.37,1445.72 \\n  \\n  \\\"\\/>\\n<path clip-path=\\\"url(#clip320)\\\" d=\\\"\\nM1982.74 337.138 L2279.28 337.138 L2279.28 95.2176 L1982.74 95.2176  Z\\n  \\\" fill=\\\"#ffffff\\\" fill-rule=\\\"evenodd\\\" fill-opacity=\\\"1\\\"\\/>\\n<polyline clip-path=\\\"url(#clip320)\\\" style=\\\"stroke:#000000; stroke-width:4; stroke-opacity:1; fill:none\\\" points=\\\"\\n  1982.74,337.138 2279.28,337.138 2279.28,95.2176 1982.74,95.2176 1982.74,337.138 \\n  \\\"\\/>\\n<polyline clip-path=\\\"url(#clip320)\\\" style=\\\"stroke:#009af9; stroke-width:4; stroke-opacity:1; fill:none\\\" points=\\\"\\n  2007.24,155.698 2154.2,155.698 \\n  \\\"\\/>\\n<path clip-path=\\\"url(#clip320)\\\" d=\\\"M 0 0 M2192.53 175.385 Q2190.73 180.015 2189.02 181.427 Q2187.3 182.839 2184.43 182.839 L2181.03 182.839 L2181.03 179.274 L2183.53 179.274 Q2185.29 179.274 2186.26 178.44 Q2187.23 177.607 2188.41 174.505 L2189.18 172.561 L2178.69 147.052 L2183.2 147.052 L2191.31 167.329 L2199.41 147.052 L2203.92 147.052 L2192.53 175.385 Z\\\" fill=\\\"#000000\\\" fill-rule=\\\"evenodd\\\" fill-opacity=\\\"1\\\" \\/><path clip-path=\\\"url(#clip320)\\\" d=\\\"M 0 0 M2209.8 169.042 L2217.44 169.042 L2217.44 142.677 L2209.13 144.343 L2209.13 140.084 L2217.39 138.418 L2222.07 138.418 L2222.07 169.042 L2229.71 169.042 L2229.71 172.978 L2209.8 172.978 L2209.8 169.042 Z\\\" fill=\\\"#000000\\\" fill-rule=\\\"evenodd\\\" fill-opacity=\\\"1\\\" \\/><polyline clip-path=\\\"url(#clip320)\\\" style=\\\"stroke:#e26f46; stroke-width:4; stroke-opacity:1; fill:none\\\" points=\\\"\\n  2007.24,216.178 2154.2,216.178 \\n  \\\"\\/>\\n<path clip-path=\\\"url(#clip320)\\\" d=\\\"M 0 0 M2192.53 235.865 Q2190.73 240.495 2189.02 241.907 Q2187.3 243.319 2184.43 243.319 L2181.03 243.319 L2181.03 239.754 L2183.53 239.754 Q2185.29 239.754 2186.26 238.92 Q2187.23 238.087 2188.41 234.985 L2189.18 233.041 L2178.69 207.532 L2183.2 207.532 L2191.31 227.809 L2199.41 207.532 L2203.92 207.532 L2192.53 235.865 Z\\\" fill=\\\"#000000\\\" fill-rule=\\\"evenodd\\\" fill-opacity=\\\"1\\\" \\/><path clip-path=\\\"url(#clip320)\\\" d=\\\"M 0 0 M2213.02 229.522 L2229.34 229.522 L2229.34 233.458 L2207.39 233.458 L2207.39 229.522 Q2210.06 226.768 2214.64 222.138 Q2219.25 217.485 2220.43 216.143 Q2222.67 213.62 2223.55 211.884 Q2224.45 210.124 2224.45 208.435 Q2224.45 205.68 2222.51 203.944 Q2220.59 202.208 2217.49 202.208 Q2215.29 202.208 2212.83 202.972 Q2210.4 203.735 2207.63 205.286 L2207.63 200.564 Q2210.45 199.43 2212.9 198.851 Q2215.36 198.273 2217.39 198.273 Q2222.76 198.273 2225.96 200.958 Q2229.15 203.643 2229.15 208.134 Q2229.15 210.263 2228.34 212.185 Q2227.56 214.083 2225.45 216.675 Q2224.87 217.347 2221.77 220.564 Q2218.67 223.759 2213.02 229.522 Z\\\" fill=\\\"#000000\\\" fill-rule=\\\"evenodd\\\" fill-opacity=\\\"1\\\" \\/><polyline clip-path=\\\"url(#clip320)\\\" style=\\\"stroke:#3da44d; stroke-width:4; stroke-opacity:1; fill:none\\\" points=\\\"\\n  2007.24,276.658 2154.2,276.658 \\n  \\\"\\/>\\n<path clip-path=\\\"url(#clip320)\\\" d=\\\"M 0 0 M2192.53 296.345 Q2190.73 300.975 2189.02 302.387 Q2187.3 303.799 2184.43 303.799 L2181.03 303.799 L2181.03 300.234 L2183.53 300.234 Q2185.29 300.234 2186.26 299.4 Q2187.23 298.567 2188.41 295.465 L2189.18 293.521 L2178.69 268.012 L2183.2 268.012 L2191.31 288.289 L2199.41 268.012 L2203.92 268.012 L2192.53 296.345 Z\\\" fill=\\\"#000000\\\" fill-rule=\\\"evenodd\\\" fill-opacity=\\\"1\\\" \\/><path clip-path=\\\"url(#clip320)\\\" d=\\\"M 0 0 M2223.16 275.303 Q2226.51 276.021 2228.39 278.289 Q2230.29 280.558 2230.29 283.891 Q2230.29 289.007 2226.77 291.808 Q2223.25 294.609 2216.77 294.609 Q2214.59 294.609 2212.28 294.169 Q2209.99 293.752 2207.53 292.896 L2207.53 288.382 Q2209.48 289.516 2211.79 290.095 Q2214.11 290.674 2216.63 290.674 Q2221.03 290.674 2223.32 288.938 Q2225.64 287.201 2225.64 283.891 Q2225.64 280.836 2223.48 279.123 Q2221.35 277.387 2217.53 277.387 L2213.51 277.387 L2213.51 273.544 L2217.72 273.544 Q2221.17 273.544 2223 272.178 Q2224.83 270.79 2224.83 268.197 Q2224.83 265.535 2222.93 264.123 Q2221.05 262.688 2217.53 262.688 Q2215.61 262.688 2213.41 263.104 Q2211.21 263.521 2208.58 264.401 L2208.58 260.234 Q2211.24 259.493 2213.55 259.123 Q2215.89 258.753 2217.95 258.753 Q2223.27 258.753 2226.38 261.183 Q2229.48 263.59 2229.48 267.711 Q2229.48 270.581 2227.83 272.572 Q2226.19 274.54 2223.16 275.303 Z\\\" fill=\\\"#000000\\\" fill-rule=\\\"evenodd\\\" fill-opacity=\\\"1\\\" \\/><\\/svg>\\n\"},\"nodeType\":\"DOM\",\"type\":\"node\",\"instanceArgs\":{\"namespace\":\"html\",\"tag\":\"div\"},\"children\":[]}]}}}},\"children\":[{\"props\":{},\"nodeType\":\"ObservableNode\",\"type\":\"node\",\"instanceArgs\":{\"id\":\"11849697234967234327\",\"name\":\"obs-node\"},\"children\":[]}]}]},\n",
       "            window,\n",
       "        );\n",
       "    } else {\n",
       "        document\n",
       "            .querySelector('[data-webio-mountpoint=\"16303697085689842653\"]')\n",
       "            .innerHTML = (\n",
       "                '<div style=\"padding: 1em; background-color: #f8d6da; border: 1px solid #f5c6cb\">' +\n",
       "                '<p><strong>WebIO not detected.</strong></p>' +\n",
       "                '<p>Please read ' +\n",
       "                '<a href=\"https://juliagizmos.github.io/WebIO.jl/latest/troubleshooting/not-detected/\" target=\"_blank\">the troubleshooting guide</a> ' +\n",
       "                'for more information on how to resolve this issue.</p>' +\n",
       "                '<p><a href=\"https://juliagizmos.github.io/WebIO.jl/latest/troubleshooting/not-detected/\" target=\"_blank\">https://juliagizmos.github.io/WebIO.jl/latest/troubleshooting/not-detected/</a></p>' +\n",
       "                '</div>'\n",
       "            );\n",
       "    }\n",
       "    </script>\n",
       "</div>\n"
      ],
      "text/plain": [
       "Node{WebIO.DOM}(WebIO.DOM(:html, :div), Any[Node{WebIO.DOM}(WebIO.DOM(:html, :div), Any[Scope(Node{WebIO.DOM}(WebIO.DOM(:html, :div), Any[Node{WebIO.DOM}(WebIO.DOM(:html, :div), Any[Node{WebIO.DOM}(WebIO.DOM(:html, :label), Any[\"μ₁\"], Dict{Symbol,Any}(:className => \"interact \",:style => Dict{Any,Any}(:padding => \"5px 10px 0px 10px\")))], Dict{Symbol,Any}(:className => \"interact-flex-row-left\")), Node{WebIO.DOM}(WebIO.DOM(:html, :div), Any[Node{WebIO.DOM}(WebIO.DOM(:html, :input), Any[], Dict{Symbol,Any}(:max => 20,:min => 6,:attributes => Dict{Any,Any}(:type => \"range\",Symbol(\"data-bind\") => \"numericValue: index, valueUpdate: 'input', event: {change: function (){this.changes(this.changes()+1)}}\",\"orient\" => \"horizontal\"),:step => 1,:className => \"slider slider is-fullwidth\",:style => Dict{Any,Any}()))], Dict{Symbol,Any}(:className => \"interact-flex-row-center\")), Node{WebIO.DOM}(WebIO.DOM(:html, :div), Any[Node{WebIO.DOM}(WebIO.DOM(:html, :p), Any[], Dict{Symbol,Any}(:attributes => Dict(\"data-bind\" => \"text: formatted_val\")))], Dict{Symbol,Any}(:className => \"interact-flex-row-right\"))], Dict{Symbol,Any}(:className => \"interact-flex-row interact-widget\")), Dict{String,Tuple{Observables.AbstractObservable,Union{Nothing, Bool}}}(\"changes\" => (Observable{Int64} with 1 listeners. Value:\n",
       "0, nothing),\"index\" => (Observable{Int64} with 2 listeners. Value:\n",
       "6, nothing)), Set{String}(), nothing, Asset[Asset(\"js\", \"knockout\", \"C:\\\\Users\\\\Bleep\\\\.julia\\\\packages\\\\Knockout\\\\IP1uR\\\\src\\\\..\\\\assets\\\\knockout.js\"), Asset(\"js\", \"knockout_punches\", \"C:\\\\Users\\\\Bleep\\\\.julia\\\\packages\\\\Knockout\\\\IP1uR\\\\src\\\\..\\\\assets\\\\knockout_punches.js\"), Asset(\"js\", nothing, \"C:\\\\Users\\\\Bleep\\\\.julia\\\\packages\\\\InteractBase\\\\sOe2Z\\\\src\\\\..\\\\assets\\\\all.js\"), Asset(\"css\", nothing, \"C:\\\\Users\\\\Bleep\\\\.julia\\\\packages\\\\InteractBase\\\\sOe2Z\\\\src\\\\..\\\\assets\\\\style.css\"), Asset(\"css\", nothing, \"C:\\\\Users\\\\Bleep\\\\.julia\\\\packages\\\\Interact\\\\SbgIk\\\\src\\\\..\\\\assets\\\\bulma_confined.min.css\")], Dict{Any,Any}(\"changes\" => Any[WebIO.JSString(\"(function (val){return (val!=this.model[\\\"changes\\\"]()) ? (this.valueFromJulia[\\\"changes\\\"]=true, this.model[\\\"changes\\\"](val)) : undefined})\")],\"index\" => Any[WebIO.JSString(\"(function (val){return (val!=this.model[\\\"index\\\"]()) ? (this.valueFromJulia[\\\"index\\\"]=true, this.model[\\\"index\\\"](val)) : undefined})\")]), WebIO.ConnectionPool(Channel{Any}(sz_max:32,sz_curr:0), Set{AbstractConnection}(), Base.GenericCondition{Base.AlwaysLockedST}(Base.InvasiveLinkedList{Task}(Task (runnable) @0x0000000034f20010, Task (runnable) @0x0000000034f20010), Base.AlwaysLockedST(1))), WebIO.JSString[WebIO.JSString(\"function () {\\n    var handler = (function (ko, koPunches) {\\n    ko.punches.enableAll();\\n    ko.bindingHandlers.numericValue = {\\n        init: function(element, valueAccessor, allBindings, data, context) {\\n            var stringified = ko.observable(ko.unwrap(valueAccessor()));\\n            stringified.subscribe(function(value) {\\n                var val = parseFloat(value);\\n                if (!isNaN(val)) {\\n                    valueAccessor()(val);\\n                }\\n            });\\n            valueAccessor().subscribe(function(value) {\\n                var str = JSON.stringify(value);\\n                if ((str == \\\"0\\\") && ([\\\"-0\\\", \\\"-0.\\\"].indexOf(stringified()) >= 0))\\n                     return;\\n                 if ([\\\"null\\\", \\\"\\\"].indexOf(str) >= 0)\\n                     return;\\n                stringified(str);\\n            });\\n            ko.applyBindingsToNode(\\n                element,\\n                {\\n                    value: stringified,\\n                    valueUpdate: allBindings.get('valueUpdate'),\\n                },\\n                context,\\n            );\\n        }\\n    };\\n    var json_data = {\\\"formatted_vals\\\":[\\\"6\\\",\\\"7\\\",\\\"8\\\",\\\"9\\\",\\\"10\\\",\\\"11\\\",\\\"12\\\",\\\"13\\\",\\\"14\\\",\\\"15\\\",\\\"16\\\",\\\"17\\\",\\\"18\\\",\\\"19\\\",\\\"20\\\"],\\\"changes\\\":WebIO.getval({\\\"name\\\":\\\"changes\\\",\\\"scope\\\":\\\"5729029708259741718\\\",\\\"id\\\":\\\"11796068478014887623\\\",\\\"type\\\":\\\"observable\\\"}),\\\"index\\\":WebIO.getval({\\\"name\\\":\\\"index\\\",\\\"scope\\\":\\\"5729029708259741718\\\",\\\"id\\\":\\\"8337506423047193873\\\",\\\"type\\\":\\\"observable\\\"})};\\n    var self = this;\\n    function AppViewModel() {\\n        for (var key in json_data) {\\n            var el = json_data[key];\\n            this[key] = Array.isArray(el) ? ko.observableArray(el) : ko.observable(el);\\n        }\\n        \\n        [this[\\\"formatted_val\\\"]=ko.computed(    function(){\\n        return this.formatted_vals()[parseInt(this.index())-(6)];\\n    }\\n,this)]\\n        [this[\\\"changes\\\"].subscribe((function (val){!(this.valueFromJulia[\\\"changes\\\"]) ? (WebIO.setval({\\\"name\\\":\\\"changes\\\",\\\"scope\\\":\\\"5729029708259741718\\\",\\\"id\\\":\\\"11796068478014887623\\\",\\\"type\\\":\\\"observable\\\"},val)) : undefined; return this.valueFromJulia[\\\"changes\\\"]=false}),self),this[\\\"index\\\"].subscribe((function (val){!(this.valueFromJulia[\\\"index\\\"]) ? (WebIO.setval({\\\"name\\\":\\\"index\\\",\\\"scope\\\":\\\"5729029708259741718\\\",\\\"id\\\":\\\"8337506423047193873\\\",\\\"type\\\":\\\"observable\\\"},val)) : undefined; return this.valueFromJulia[\\\"index\\\"]=false}),self)]\\n        \\n    }\\n    self.model = new AppViewModel();\\n    self.valueFromJulia = {};\\n    for (var key in json_data) {\\n        self.valueFromJulia[key] = false;\\n    }\\n    ko.applyBindings(self.model, self.dom);\\n}\\n);\\n    (WebIO.importBlock({\\\"data\\\":[{\\\"name\\\":\\\"knockout\\\",\\\"type\\\":\\\"js\\\",\\\"url\\\":\\\"/assetserver/3a353afbd6c9130c04469cb36ceb880da7412142-knockout.js\\\"},{\\\"name\\\":\\\"knockout_punches\\\",\\\"type\\\":\\\"js\\\",\\\"url\\\":\\\"/assetserver/4ed641d55a3b9fd0bf416e425a088dbb3c4d8c47-knockout_punches.js\\\"}],\\\"type\\\":\\\"async_block\\\"})).then((imports) => handler.apply(this, imports));\\n}\\n\")])], Dict{Symbol,Any}(:className => \"field interact-widget\")), Node{WebIO.DOM}(WebIO.DOM(:html, :div), Any[Scope(Node{WebIO.DOM}(WebIO.DOM(:html, :div), Any[Node{WebIO.DOM}(WebIO.DOM(:html, :div), Any[Node{WebIO.DOM}(WebIO.DOM(:html, :label), Any[\"μ₂\"], Dict{Symbol,Any}(:className => \"interact \",:style => Dict{Any,Any}(:padding => \"5px 10px 0px 10px\")))], Dict{Symbol,Any}(:className => \"interact-flex-row-left\")), Node{WebIO.DOM}(WebIO.DOM(:html, :div), Any[Node{WebIO.DOM}(WebIO.DOM(:html, :input), Any[], Dict{Symbol,Any}(:max => 20,:min => 6,:attributes => Dict{Any,Any}(:type => \"range\",Symbol(\"data-bind\") => \"numericValue: index, valueUpdate: 'input', event: {change: function (){this.changes(this.changes()+1)}}\",\"orient\" => \"horizontal\"),:step => 1,:className => \"slider slider is-fullwidth\",:style => Dict{Any,Any}()))], Dict{Symbol,Any}(:className => \"interact-flex-row-center\")), Node{WebIO.DOM}(WebIO.DOM(:html, :div), Any[Node{WebIO.DOM}(WebIO.DOM(:html, :p), Any[], Dict{Symbol,Any}(:attributes => Dict(\"data-bind\" => \"text: formatted_val\")))], Dict{Symbol,Any}(:className => \"interact-flex-row-right\"))], Dict{Symbol,Any}(:className => \"interact-flex-row interact-widget\")), Dict{String,Tuple{Observables.AbstractObservable,Union{Nothing, Bool}}}(\"changes\" => (Observable{Int64} with 1 listeners. Value:\n",
       "0, nothing),\"index\" => (Observable{Int64} with 2 listeners. Value:\n",
       "10, nothing)), Set{String}(), nothing, Asset[Asset(\"js\", \"knockout\", \"C:\\\\Users\\\\Bleep\\\\.julia\\\\packages\\\\Knockout\\\\IP1uR\\\\src\\\\..\\\\assets\\\\knockout.js\"), Asset(\"js\", \"knockout_punches\", \"C:\\\\Users\\\\Bleep\\\\.julia\\\\packages\\\\Knockout\\\\IP1uR\\\\src\\\\..\\\\assets\\\\knockout_punches.js\"), Asset(\"js\", nothing, \"C:\\\\Users\\\\Bleep\\\\.julia\\\\packages\\\\InteractBase\\\\sOe2Z\\\\src\\\\..\\\\assets\\\\all.js\"), Asset(\"css\", nothing, \"C:\\\\Users\\\\Bleep\\\\.julia\\\\packages\\\\InteractBase\\\\sOe2Z\\\\src\\\\..\\\\assets\\\\style.css\"), Asset(\"css\", nothing, \"C:\\\\Users\\\\Bleep\\\\.julia\\\\packages\\\\Interact\\\\SbgIk\\\\src\\\\..\\\\assets\\\\bulma_confined.min.css\")], Dict{Any,Any}(\"changes\" => Any[WebIO.JSString(\"(function (val){return (val!=this.model[\\\"changes\\\"]()) ? (this.valueFromJulia[\\\"changes\\\"]=true, this.model[\\\"changes\\\"](val)) : undefined})\")],\"index\" => Any[WebIO.JSString(\"(function (val){return (val!=this.model[\\\"index\\\"]()) ? (this.valueFromJulia[\\\"index\\\"]=true, this.model[\\\"index\\\"](val)) : undefined})\")]), WebIO.ConnectionPool(Channel{Any}(sz_max:32,sz_curr:0), Set{AbstractConnection}(), Base.GenericCondition{Base.AlwaysLockedST}(Base.InvasiveLinkedList{Task}(Task (runnable) @0x0000000034f20b90, Task (runnable) @0x0000000034f20b90), Base.AlwaysLockedST(1))), WebIO.JSString[WebIO.JSString(\"function () {\\n    var handler = (function (ko, koPunches) {\\n    ko.punches.enableAll();\\n    ko.bindingHandlers.numericValue = {\\n        init: function(element, valueAccessor, allBindings, data, context) {\\n            var stringified = ko.observable(ko.unwrap(valueAccessor()));\\n            stringified.subscribe(function(value) {\\n                var val = parseFloat(value);\\n                if (!isNaN(val)) {\\n                    valueAccessor()(val);\\n                }\\n            });\\n            valueAccessor().subscribe(function(value) {\\n                var str = JSON.stringify(value);\\n                if ((str == \\\"0\\\") && ([\\\"-0\\\", \\\"-0.\\\"].indexOf(stringified()) >= 0))\\n                     return;\\n                 if ([\\\"null\\\", \\\"\\\"].indexOf(str) >= 0)\\n                     return;\\n                stringified(str);\\n            });\\n            ko.applyBindingsToNode(\\n                element,\\n                {\\n                    value: stringified,\\n                    valueUpdate: allBindings.get('valueUpdate'),\\n                },\\n                context,\\n            );\\n        }\\n    };\\n    var json_data = {\\\"formatted_vals\\\":[\\\"6\\\",\\\"7\\\",\\\"8\\\",\\\"9\\\",\\\"10\\\",\\\"11\\\",\\\"12\\\",\\\"13\\\",\\\"14\\\",\\\"15\\\",\\\"16\\\",\\\"17\\\",\\\"18\\\",\\\"19\\\",\\\"20\\\"],\\\"changes\\\":WebIO.getval({\\\"name\\\":\\\"changes\\\",\\\"scope\\\":\\\"16988792315442527486\\\",\\\"id\\\":\\\"98393852686612021\\\",\\\"type\\\":\\\"observable\\\"}),\\\"index\\\":WebIO.getval({\\\"name\\\":\\\"index\\\",\\\"scope\\\":\\\"16988792315442527486\\\",\\\"id\\\":\\\"5341585031951208798\\\",\\\"type\\\":\\\"observable\\\"})};\\n    var self = this;\\n    function AppViewModel() {\\n        for (var key in json_data) {\\n            var el = json_data[key];\\n            this[key] = Array.isArray(el) ? ko.observableArray(el) : ko.observable(el);\\n        }\\n        \\n        [this[\\\"formatted_val\\\"]=ko.computed(    function(){\\n        return this.formatted_vals()[parseInt(this.index())-(6)];\\n    }\\n,this)]\\n        [this[\\\"changes\\\"].subscribe((function (val){!(this.valueFromJulia[\\\"changes\\\"]) ? (WebIO.setval({\\\"name\\\":\\\"changes\\\",\\\"scope\\\":\\\"16988792315442527486\\\",\\\"id\\\":\\\"98393852686612021\\\",\\\"type\\\":\\\"observable\\\"},val)) : undefined; return this.valueFromJulia[\\\"changes\\\"]=false}),self),this[\\\"index\\\"].subscribe((function (val){!(this.valueFromJulia[\\\"index\\\"]) ? (WebIO.setval({\\\"name\\\":\\\"index\\\",\\\"scope\\\":\\\"16988792315442527486\\\",\\\"id\\\":\\\"5341585031951208798\\\",\\\"type\\\":\\\"observable\\\"},val)) : undefined; return this.valueFromJulia[\\\"index\\\"]=false}),self)]\\n        \\n    }\\n    self.model = new AppViewModel();\\n    self.valueFromJulia = {};\\n    for (var key in json_data) {\\n        self.valueFromJulia[key] = false;\\n    }\\n    ko.applyBindings(self.model, self.dom);\\n}\\n);\\n    (WebIO.importBlock({\\\"data\\\":[{\\\"name\\\":\\\"knockout\\\",\\\"type\\\":\\\"js\\\",\\\"url\\\":\\\"/assetserver/3a353afbd6c9130c04469cb36ceb880da7412142-knockout.js\\\"},{\\\"name\\\":\\\"knockout_punches\\\",\\\"type\\\":\\\"js\\\",\\\"url\\\":\\\"/assetserver/4ed641d55a3b9fd0bf416e425a088dbb3c4d8c47-knockout_punches.js\\\"}],\\\"type\\\":\\\"async_block\\\"})).then((imports) => handler.apply(this, imports));\\n}\\n\")])], Dict{Symbol,Any}(:className => \"field interact-widget\")), Node{WebIO.DOM}(WebIO.DOM(:html, :div), Any[Scope(Node{WebIO.DOM}(WebIO.DOM(:html, :div), Any[Node{WebIO.DOM}(WebIO.DOM(:html, :div), Any[Node{WebIO.DOM}(WebIO.DOM(:html, :label), Any[\"σ₁\"], Dict{Symbol,Any}(:className => \"interact \",:style => Dict{Any,Any}(:padding => \"5px 10px 0px 10px\")))], Dict{Symbol,Any}(:className => \"interact-flex-row-left\")), Node{WebIO.DOM}(WebIO.DOM(:html, :div), Any[Node{WebIO.DOM}(WebIO.DOM(:html, :input), Any[], Dict{Symbol,Any}(:max => 19,:min => 1,:attributes => Dict{Any,Any}(:type => \"range\",Symbol(\"data-bind\") => \"numericValue: index, valueUpdate: 'input', event: {change: function (){this.changes(this.changes()+1)}}\",\"orient\" => \"horizontal\"),:step => 1,:className => \"slider slider is-fullwidth\",:style => Dict{Any,Any}()))], Dict{Symbol,Any}(:className => \"interact-flex-row-center\")), Node{WebIO.DOM}(WebIO.DOM(:html, :div), Any[Node{WebIO.DOM}(WebIO.DOM(:html, :p), Any[], Dict{Symbol,Any}(:attributes => Dict(\"data-bind\" => \"text: formatted_val\")))], Dict{Symbol,Any}(:className => \"interact-flex-row-right\"))], Dict{Symbol,Any}(:className => \"interact-flex-row interact-widget\")), Dict{String,Tuple{Observables.AbstractObservable,Union{Nothing, Bool}}}(\"changes\" => (Observable{Int64} with 1 listeners. Value:\n",
       "0, nothing),\"index\" => (Observable{Any} with 2 listeners. Value:\n",
       "1, nothing)), Set{String}(), nothing, Asset[Asset(\"js\", \"knockout\", \"C:\\\\Users\\\\Bleep\\\\.julia\\\\packages\\\\Knockout\\\\IP1uR\\\\src\\\\..\\\\assets\\\\knockout.js\"), Asset(\"js\", \"knockout_punches\", \"C:\\\\Users\\\\Bleep\\\\.julia\\\\packages\\\\Knockout\\\\IP1uR\\\\src\\\\..\\\\assets\\\\knockout_punches.js\"), Asset(\"js\", nothing, \"C:\\\\Users\\\\Bleep\\\\.julia\\\\packages\\\\InteractBase\\\\sOe2Z\\\\src\\\\..\\\\assets\\\\all.js\"), Asset(\"css\", nothing, \"C:\\\\Users\\\\Bleep\\\\.julia\\\\packages\\\\InteractBase\\\\sOe2Z\\\\src\\\\..\\\\assets\\\\style.css\"), Asset(\"css\", nothing, \"C:\\\\Users\\\\Bleep\\\\.julia\\\\packages\\\\Interact\\\\SbgIk\\\\src\\\\..\\\\assets\\\\bulma_confined.min.css\")], Dict{Any,Any}(\"changes\" => Any[WebIO.JSString(\"(function (val){return (val!=this.model[\\\"changes\\\"]()) ? (this.valueFromJulia[\\\"changes\\\"]=true, this.model[\\\"changes\\\"](val)) : undefined})\")],\"index\" => Any[WebIO.JSString(\"(function (val){return (val!=this.model[\\\"index\\\"]()) ? (this.valueFromJulia[\\\"index\\\"]=true, this.model[\\\"index\\\"](val)) : undefined})\")]), WebIO.ConnectionPool(Channel{Any}(sz_max:32,sz_curr:0), Set{AbstractConnection}(), Base.GenericCondition{Base.AlwaysLockedST}(Base.InvasiveLinkedList{Task}(Task (runnable) @0x0000000034f21430, Task (runnable) @0x0000000034f21430), Base.AlwaysLockedST(1))), WebIO.JSString[WebIO.JSString(\"function () {\\n    var handler = (function (ko, koPunches) {\\n    ko.punches.enableAll();\\n    ko.bindingHandlers.numericValue = {\\n        init: function(element, valueAccessor, allBindings, data, context) {\\n            var stringified = ko.observable(ko.unwrap(valueAccessor()));\\n            stringified.subscribe(function(value) {\\n                var val = parseFloat(value);\\n                if (!isNaN(val)) {\\n                    valueAccessor()(val);\\n                }\\n            });\\n            valueAccessor().subscribe(function(value) {\\n                var str = JSON.stringify(value);\\n                if ((str == \\\"0\\\") && ([\\\"-0\\\", \\\"-0.\\\"].indexOf(stringified()) >= 0))\\n                     return;\\n                 if ([\\\"null\\\", \\\"\\\"].indexOf(str) >= 0)\\n                     return;\\n                stringified(str);\\n            });\\n            ko.applyBindingsToNode(\\n                element,\\n                {\\n                    value: stringified,\\n                    valueUpdate: allBindings.get('valueUpdate'),\\n                },\\n                context,\\n            );\\n        }\\n    };\\n    var json_data = {\\\"formatted_vals\\\":[\\\"1.0\\\",\\\"1.5\\\",\\\"2.0\\\",\\\"2.5\\\",\\\"3.0\\\",\\\"3.5\\\",\\\"4.0\\\",\\\"4.5\\\",\\\"5.0\\\",\\\"5.5\\\",\\\"6.0\\\",\\\"6.5\\\",\\\"7.0\\\",\\\"7.5\\\",\\\"8.0\\\",\\\"8.5\\\",\\\"9.0\\\",\\\"9.5\\\",\\\"10.0\\\"],\\\"changes\\\":WebIO.getval({\\\"name\\\":\\\"changes\\\",\\\"scope\\\":\\\"2830824337929200187\\\",\\\"id\\\":\\\"7754495274112695243\\\",\\\"type\\\":\\\"observable\\\"}),\\\"index\\\":WebIO.getval({\\\"name\\\":\\\"index\\\",\\\"scope\\\":\\\"2830824337929200187\\\",\\\"id\\\":\\\"16273590418961242741\\\",\\\"type\\\":\\\"observable\\\"})};\\n    var self = this;\\n    function AppViewModel() {\\n        for (var key in json_data) {\\n            var el = json_data[key];\\n            this[key] = Array.isArray(el) ? ko.observableArray(el) : ko.observable(el);\\n        }\\n        \\n        [this[\\\"formatted_val\\\"]=ko.computed(    function(){\\n        return this.formatted_vals()[parseInt(this.index())-(1)];\\n    }\\n,this)]\\n        [this[\\\"changes\\\"].subscribe((function (val){!(this.valueFromJulia[\\\"changes\\\"]) ? (WebIO.setval({\\\"name\\\":\\\"changes\\\",\\\"scope\\\":\\\"2830824337929200187\\\",\\\"id\\\":\\\"7754495274112695243\\\",\\\"type\\\":\\\"observable\\\"},val)) : undefined; return this.valueFromJulia[\\\"changes\\\"]=false}),self),this[\\\"index\\\"].subscribe((function (val){!(this.valueFromJulia[\\\"index\\\"]) ? (WebIO.setval({\\\"name\\\":\\\"index\\\",\\\"scope\\\":\\\"2830824337929200187\\\",\\\"id\\\":\\\"16273590418961242741\\\",\\\"type\\\":\\\"observable\\\"},val)) : undefined; return this.valueFromJulia[\\\"index\\\"]=false}),self)]\\n        \\n    }\\n    self.model = new AppViewModel();\\n    self.valueFromJulia = {};\\n    for (var key in json_data) {\\n        self.valueFromJulia[key] = false;\\n    }\\n    ko.applyBindings(self.model, self.dom);\\n}\\n);\\n    (WebIO.importBlock({\\\"data\\\":[{\\\"name\\\":\\\"knockout\\\",\\\"type\\\":\\\"js\\\",\\\"url\\\":\\\"/assetserver/3a353afbd6c9130c04469cb36ceb880da7412142-knockout.js\\\"},{\\\"name\\\":\\\"knockout_punches\\\",\\\"type\\\":\\\"js\\\",\\\"url\\\":\\\"/assetserver/4ed641d55a3b9fd0bf416e425a088dbb3c4d8c47-knockout_punches.js\\\"}],\\\"type\\\":\\\"async_block\\\"})).then((imports) => handler.apply(this, imports));\\n}\\n\")])], Dict{Symbol,Any}(:className => \"field interact-widget\")), Node{WebIO.DOM}(WebIO.DOM(:html, :div), Any[Scope(Node{WebIO.DOM}(WebIO.DOM(:html, :div), Any[Node{WebIO.DOM}(WebIO.DOM(:html, :div), Any[Node{WebIO.DOM}(WebIO.DOM(:html, :label), Any[\"σ₂\"], Dict{Symbol,Any}(:className => \"interact \",:style => Dict{Any,Any}(:padding => \"5px 10px 0px 10px\")))], Dict{Symbol,Any}(:className => \"interact-flex-row-left\")), Node{WebIO.DOM}(WebIO.DOM(:html, :div), Any[Node{WebIO.DOM}(WebIO.DOM(:html, :input), Any[], Dict{Symbol,Any}(:max => 19,:min => 1,:attributes => Dict{Any,Any}(:type => \"range\",Symbol(\"data-bind\") => \"numericValue: index, valueUpdate: 'input', event: {change: function (){this.changes(this.changes()+1)}}\",\"orient\" => \"horizontal\"),:step => 1,:className => \"slider slider is-fullwidth\",:style => Dict{Any,Any}()))], Dict{Symbol,Any}(:className => \"interact-flex-row-center\")), Node{WebIO.DOM}(WebIO.DOM(:html, :div), Any[Node{WebIO.DOM}(WebIO.DOM(:html, :p), Any[], Dict{Symbol,Any}(:attributes => Dict(\"data-bind\" => \"text: formatted_val\")))], Dict{Symbol,Any}(:className => \"interact-flex-row-right\"))], Dict{Symbol,Any}(:className => \"interact-flex-row interact-widget\")), Dict{String,Tuple{Observables.AbstractObservable,Union{Nothing, Bool}}}(\"changes\" => (Observable{Int64} with 1 listeners. Value:\n",
       "0, nothing),\"index\" => (Observable{Any} with 2 listeners. Value:\n",
       "1, nothing)), Set{String}(), nothing, Asset[Asset(\"js\", \"knockout\", \"C:\\\\Users\\\\Bleep\\\\.julia\\\\packages\\\\Knockout\\\\IP1uR\\\\src\\\\..\\\\assets\\\\knockout.js\"), Asset(\"js\", \"knockout_punches\", \"C:\\\\Users\\\\Bleep\\\\.julia\\\\packages\\\\Knockout\\\\IP1uR\\\\src\\\\..\\\\assets\\\\knockout_punches.js\"), Asset(\"js\", nothing, \"C:\\\\Users\\\\Bleep\\\\.julia\\\\packages\\\\InteractBase\\\\sOe2Z\\\\src\\\\..\\\\assets\\\\all.js\"), Asset(\"css\", nothing, \"C:\\\\Users\\\\Bleep\\\\.julia\\\\packages\\\\InteractBase\\\\sOe2Z\\\\src\\\\..\\\\assets\\\\style.css\"), Asset(\"css\", nothing, \"C:\\\\Users\\\\Bleep\\\\.julia\\\\packages\\\\Interact\\\\SbgIk\\\\src\\\\..\\\\assets\\\\bulma_confined.min.css\")], Dict{Any,Any}(\"changes\" => Any[WebIO.JSString(\"(function (val){return (val!=this.model[\\\"changes\\\"]()) ? (this.valueFromJulia[\\\"changes\\\"]=true, this.model[\\\"changes\\\"](val)) : undefined})\")],\"index\" => Any[WebIO.JSString(\"(function (val){return (val!=this.model[\\\"index\\\"]()) ? (this.valueFromJulia[\\\"index\\\"]=true, this.model[\\\"index\\\"](val)) : undefined})\")]), WebIO.ConnectionPool(Channel{Any}(sz_max:32,sz_curr:0), Set{AbstractConnection}(), Base.GenericCondition{Base.AlwaysLockedST}(Base.InvasiveLinkedList{Task}(Task (runnable) @0x0000000034f21710, Task (runnable) @0x0000000034f21710), Base.AlwaysLockedST(1))), WebIO.JSString[WebIO.JSString(\"function () {\\n    var handler = (function (ko, koPunches) {\\n    ko.punches.enableAll();\\n    ko.bindingHandlers.numericValue = {\\n        init: function(element, valueAccessor, allBindings, data, context) {\\n            var stringified = ko.observable(ko.unwrap(valueAccessor()));\\n            stringified.subscribe(function(value) {\\n                var val = parseFloat(value);\\n                if (!isNaN(val)) {\\n                    valueAccessor()(val);\\n                }\\n            });\\n            valueAccessor().subscribe(function(value) {\\n                var str = JSON.stringify(value);\\n                if ((str == \\\"0\\\") && ([\\\"-0\\\", \\\"-0.\\\"].indexOf(stringified()) >= 0))\\n                     return;\\n                 if ([\\\"null\\\", \\\"\\\"].indexOf(str) >= 0)\\n                     return;\\n                stringified(str);\\n            });\\n            ko.applyBindingsToNode(\\n                element,\\n                {\\n                    value: stringified,\\n                    valueUpdate: allBindings.get('valueUpdate'),\\n                },\\n                context,\\n            );\\n        }\\n    };\\n    var json_data = {\\\"formatted_vals\\\":[\\\"1.0\\\",\\\"1.5\\\",\\\"2.0\\\",\\\"2.5\\\",\\\"3.0\\\",\\\"3.5\\\",\\\"4.0\\\",\\\"4.5\\\",\\\"5.0\\\",\\\"5.5\\\",\\\"6.0\\\",\\\"6.5\\\",\\\"7.0\\\",\\\"7.5\\\",\\\"8.0\\\",\\\"8.5\\\",\\\"9.0\\\",\\\"9.5\\\",\\\"10.0\\\"],\\\"changes\\\":WebIO.getval({\\\"name\\\":\\\"changes\\\",\\\"scope\\\":\\\"9719877213766344648\\\",\\\"id\\\":\\\"1929647299426985242\\\",\\\"type\\\":\\\"observable\\\"}),\\\"index\\\":WebIO.getval({\\\"name\\\":\\\"index\\\",\\\"scope\\\":\\\"9719877213766344648\\\",\\\"id\\\":\\\"645444793060698222\\\",\\\"type\\\":\\\"observable\\\"})};\\n    var self = this;\\n    function AppViewModel() {\\n        for (var key in json_data) {\\n            var el = json_data[key];\\n            this[key] = Array.isArray(el) ? ko.observableArray(el) : ko.observable(el);\\n        }\\n        \\n        [this[\\\"formatted_val\\\"]=ko.computed(    function(){\\n        return this.formatted_vals()[parseInt(this.index())-(1)];\\n    }\\n,this)]\\n        [this[\\\"changes\\\"].subscribe((function (val){!(this.valueFromJulia[\\\"changes\\\"]) ? (WebIO.setval({\\\"name\\\":\\\"changes\\\",\\\"scope\\\":\\\"9719877213766344648\\\",\\\"id\\\":\\\"1929647299426985242\\\",\\\"type\\\":\\\"observable\\\"},val)) : undefined; return this.valueFromJulia[\\\"changes\\\"]=false}),self),this[\\\"index\\\"].subscribe((function (val){!(this.valueFromJulia[\\\"index\\\"]) ? (WebIO.setval({\\\"name\\\":\\\"index\\\",\\\"scope\\\":\\\"9719877213766344648\\\",\\\"id\\\":\\\"645444793060698222\\\",\\\"type\\\":\\\"observable\\\"},val)) : undefined; return this.valueFromJulia[\\\"index\\\"]=false}),self)]\\n        \\n    }\\n    self.model = new AppViewModel();\\n    self.valueFromJulia = {};\\n    for (var key in json_data) {\\n        self.valueFromJulia[key] = false;\\n    }\\n    ko.applyBindings(self.model, self.dom);\\n}\\n);\\n    (WebIO.importBlock({\\\"data\\\":[{\\\"name\\\":\\\"knockout\\\",\\\"type\\\":\\\"js\\\",\\\"url\\\":\\\"/assetserver/3a353afbd6c9130c04469cb36ceb880da7412142-knockout.js\\\"},{\\\"name\\\":\\\"knockout_punches\\\",\\\"type\\\":\\\"js\\\",\\\"url\\\":\\\"/assetserver/4ed641d55a3b9fd0bf416e425a088dbb3c4d8c47-knockout_punches.js\\\"}],\\\"type\\\":\\\"async_block\\\"})).then((imports) => handler.apply(this, imports));\\n}\\n\")])], Dict{Symbol,Any}(:className => \"field interact-widget\")), Observable{Any} with 0 listeners. Value:\n",
       "Node{WebIO.DOM}(WebIO.DOM(:html, :div), Any[Plot{Plots.GRBackend() n=3}], Dict{Symbol,Any}(:className => \"interact-flex-row interact-widget\"))], Dict{Symbol,Any}())"
      ]
     },
     "execution_count": 159,
     "metadata": {
      "application/vnd.webio.node+json": {
       "kernelId": "42937471-8476-4594-b61a-a48b1bf1f19d"
      }
     },
     "output_type": "execute_result"
    }
   ],
   "source": [
    "@manipulate for i = slider(6:20,value=6, label=\"μ₁\"),  j = slider(6:20, value=10, label=\"μ₂\"),  k = slider(1:0.5:10, value=1, label=\"σ₁\"),  l = slider(1:0.5:10, value=1, label=\"σ₂\")\n",
    "    dist1 = Normal(i,k)\n",
    "    dist2 = Normal(j,l)\n",
    "    dist3 = gaussian_multiply(dist1,dist2)\n",
    "    plotdist(dist1,[6,20])\n",
    "    plotdist!(dist2,[6,20])\n",
    "    plotdist!(dist3, [6,20])\n",
    "\n",
    "end"
   ]
  },
  {
   "cell_type": "markdown",
   "metadata": {},
   "source": [
    "If you ask two people to measure the distance of a table from a wall, and one gets 10.2 meters, and the other got 9.7 meters, your best guess must be the average, 9.95 meters if you trust the skills of both equally.\n",
    "\n",
    "Recall the g-h filter. We agreed that if I weighed myself on two scales, and the first read 160 lbs while the second read 170 lbs, and both were equally accurate, the best estimate was 165 lbs. Furthermore I should be a bit more confident about 165 lbs vs 160 lbs or 170 lbs because I now have two readings, both near this estimate, increasing my confidence that neither is wildly wrong. \n",
    "\n",
    "This becomes counter-intuitive in more complicated situations, so let's consider it further. Perhaps a more reasonable assumption would be that one person made a mistake, and the true distance is either 10.2 or 9.7, but certainly not 9.95. Surely that is possible. But we know we have noisy measurements, so we have no reason to think one of the measurements has no noise, or that one person made a gross error that allows us to discard their measurement. Given all available information, the best estimate must be 9.95.\n",
    "\n",
    "In the update step of the Kalman filter we are not combining two measurements, but one measurement and the prior, our estimate before incorporating the measurement. We went through this logic for the g-h filter. It doesn't matter if we are incorporating information from two measurements, or a measurement and a prediction, the math is the same. \n",
    "\n",
    "Let's look at that. I'll create a fairly inaccurate prior of $\\mathcal N(8.5, 1.5)$ and a more accurate measurement of $\\mathcal N(10.2, 0.5).$ By \"accurate\" I mean the sensor variance is smaller than the prior's variance, not that I somehow know that the dog is closer to 10.2 than 8.5. Next I'll plot the reverse relationship: an accurate prior of $\\mathcal N(8.5, 0.5)$ and a inaccurate measurement of $\\mathcal N(10.2, 1.5)$."
   ]
  },
  {
   "cell_type": "markdown",
   "metadata": {},
   "source": [
    "The result is a Gaussian that is taller than either input. This makes sense - we have incorporated information, so our variance should have been reduced. And notice how the result is far closer to the the input with the smaller variance. We have more confidence in that value, so it makes sense to weight it more heavily.\n",
    "\n",
    "It *seems* to work, but is it really correct? There is more to say about this, but I want to get a working filter going so you can it experience it in concrete terms. After that we will revisit Gaussian multiplication and determine why it is correct."
   ]
  },
  {
   "cell_type": "markdown",
   "metadata": {},
   "source": [
    "## First Kalman Filter\n",
    "\n",
    "Let's get back to concrete terms and implement a Kalman filter. We've implemented the `update()` and `predict()` functions. We just need to write some boilerplate code to simulate a dog and create the measurements. I've put a `DogSimulation` class in `kf_internal` to avoid getting distracted with that task. \n",
    "\n",
    "This boilerplate code sets up the problem by definine the means, variances, and generating the simulated dog movement."
   ]
  },
  {
   "cell_type": "code",
   "execution_count": 223,
   "metadata": {},
   "outputs": [
    {
     "name": "stdout",
     "output_type": "stream",
     "text": [
      "Normal{Float64}(μ=1.0, σ=20.024984394500787)\n"
     ]
    }
   ],
   "source": [
    "# We don't have classes in Julia, so we will built a DogSimulation TYPE\n",
    "# and move() and sense() functions\n",
    "\n",
    "mutable struct DogSimulation\n",
    "    x0::Float64\n",
    "    velocity::Float64\n",
    "    measurement_var::Float64\n",
    "    process_var::Float64\n",
    "end\n",
    "\n",
    "process_var = 1.0\n",
    "sensor_var = 2.0\n",
    "\n",
    "x = Normal(0, 20)\n",
    "velocity = 1\n",
    "dt = 1\n",
    "process_model = Normal(velocity*dt, sqrt(process_var))\n",
    "sensor_model = Normal(0, sqrt(sensor_var))\n",
    "println(predict(x,process_model))\n",
    "dog = DogSimulation(x.μ, mean(process_model), sensor_var, var(process_model))\n",
    "\n",
    "function move_and_sense(dog::DogSimulation)\n",
    "    dog.x0 += rand(process_model) +  rand(sensor_model)\n",
    "    return dog.x0\n",
    "end\n",
    "steps = 100\n",
    "zs =[move_and_sense(dog) for i in 1:steps];"
   ]
  },
  {
   "cell_type": "code",
   "execution_count": 224,
   "metadata": {},
   "outputs": [
    {
     "name": "stdout",
     "output_type": "stream",
     "text": [
      "PREDICT\t\t\tUPDATE\n",
      "    x      var\t\t  z\t    x      var\n",
      "    1.000      401.000\t  -0.114\t    -0.108\t     1.990\n",
      "    0.892      2.990\t  0.076\t    0.403\t     1.198\n",
      "    1.403      2.198\t  5.338\t    3.463\t     1.047\n",
      "    4.463      2.047\t  5.863\t    5.172\t     1.012\n",
      "    6.172      2.012\t  5.992\t    6.082\t     1.003\n",
      "    7.082      2.003\t  6.245\t    6.663\t     1.001\n",
      "    7.663      2.001\t  5.491\t    6.577\t     1.000\n",
      "    7.577      2.000\t  5.661\t    6.619\t     1.000\n",
      "    7.619      2.000\t  5.769\t    6.694\t     1.000\n",
      "    7.694      2.000\t  4.832\t    6.263\t     1.000\n",
      "    7.263      2.000\t  6.529\t    6.896\t     1.000\n",
      "    7.896      2.000\t  7.092\t    7.494\t     1.000\n",
      "    8.494      2.000\t  5.405\t    6.949\t     1.000\n",
      "    7.949      2.000\t  3.779\t    5.864\t     1.000\n",
      "    6.864      2.000\t  3.875\t    5.370\t     1.000\n",
      "    6.370      2.000\t  6.494\t    6.432\t     1.000\n",
      "    7.432      2.000\t  4.132\t    5.782\t     1.000\n",
      "    6.782      2.000\t  5.073\t    5.928\t     1.000\n",
      "    6.928      2.000\t  7.183\t    7.055\t     1.000\n",
      "    8.055      2.000\t  6.475\t    7.265\t     1.000\n",
      "    8.265      2.000\t  6.468\t    7.366\t     1.000\n",
      "    8.366      2.000\t  7.690\t    8.028\t     1.000\n",
      "    9.028      2.000\t  10.663\t    9.846\t     1.000\n",
      "    10.846      2.000\t  12.398\t    11.622\t     1.000\n",
      "    12.622      2.000\t  14.255\t    13.439\t     1.000\n",
      "    14.439      2.000\t  15.257\t    14.848\t     1.000\n",
      "    15.848      2.000\t  16.783\t    16.315\t     1.000\n",
      "    17.315      2.000\t  14.890\t    16.103\t     1.000\n",
      "    17.103      2.000\t  15.395\t    16.249\t     1.000\n",
      "    17.249      2.000\t  16.102\t    16.675\t     1.000\n",
      "    17.675      2.000\t  17.836\t    17.756\t     1.000\n",
      "    18.756      2.000\t  20.597\t    19.676\t     1.000\n",
      "    20.676      2.000\t  20.145\t    20.410\t     1.000\n",
      "    21.410      2.000\t  20.371\t    20.891\t     1.000\n",
      "    21.891      2.000\t  19.074\t    20.483\t     1.000\n",
      "    21.483      2.000\t  17.724\t    19.603\t     1.000\n",
      "    20.603      2.000\t  20.081\t    20.342\t     1.000\n",
      "    21.342      2.000\t  22.199\t    21.771\t     1.000\n",
      "    22.771      2.000\t  25.504\t    24.137\t     1.000\n",
      "    25.137      2.000\t  29.329\t    27.233\t     1.000\n",
      "    28.233      2.000\t  30.872\t    29.552\t     1.000\n",
      "    30.552      2.000\t  30.166\t    30.359\t     1.000\n",
      "    31.359      2.000\t  31.905\t    31.632\t     1.000\n",
      "    32.632      2.000\t  30.353\t    31.493\t     1.000\n",
      "    32.493      2.000\t  28.435\t    30.464\t     1.000\n",
      "    31.464      2.000\t  27.002\t    29.233\t     1.000\n",
      "    30.233      2.000\t  26.824\t    28.529\t     1.000\n",
      "    29.529      2.000\t  26.871\t    28.200\t     1.000\n",
      "    29.200      2.000\t  28.296\t    28.748\t     1.000\n",
      "    29.748      2.000\t  32.094\t    30.921\t     1.000\n",
      "    31.921      2.000\t  33.471\t    32.696\t     1.000\n",
      "    33.696      2.000\t  32.323\t    33.009\t     1.000\n",
      "    34.009      2.000\t  33.611\t    33.810\t     1.000\n",
      "    34.810      2.000\t  33.497\t    34.154\t     1.000\n",
      "    35.154      2.000\t  36.022\t    35.588\t     1.000\n",
      "    36.588      2.000\t  35.884\t    36.236\t     1.000\n",
      "    37.236      2.000\t  35.104\t    36.170\t     1.000\n",
      "    37.170      2.000\t  36.279\t    36.724\t     1.000\n",
      "    37.724      2.000\t  37.418\t    37.571\t     1.000\n",
      "    38.571      2.000\t  40.598\t    39.585\t     1.000\n",
      "    40.585      2.000\t  39.712\t    40.148\t     1.000\n",
      "    41.148      2.000\t  40.576\t    40.862\t     1.000\n",
      "    41.862      2.000\t  39.891\t    40.876\t     1.000\n",
      "    41.876      2.000\t  41.598\t    41.737\t     1.000\n",
      "    42.737      2.000\t  44.060\t    43.398\t     1.000\n",
      "    44.398      2.000\t  43.248\t    43.823\t     1.000\n",
      "    44.823      2.000\t  44.947\t    44.885\t     1.000\n",
      "    45.885      2.000\t  46.866\t    46.375\t     1.000\n",
      "    47.375      2.000\t  47.791\t    47.583\t     1.000\n",
      "    48.583      2.000\t  45.878\t    47.230\t     1.000\n",
      "    48.230      2.000\t  45.845\t    47.038\t     1.000\n",
      "    48.038      2.000\t  43.032\t    45.535\t     1.000\n",
      "    46.535      2.000\t  47.463\t    46.999\t     1.000\n",
      "    47.999      2.000\t  47.761\t    47.880\t     1.000\n",
      "    48.880      2.000\t  49.464\t    49.172\t     1.000\n",
      "    50.172      2.000\t  50.144\t    50.158\t     1.000\n",
      "    51.158      2.000\t  53.381\t    52.269\t     1.000\n",
      "    53.269      2.000\t  54.411\t    53.840\t     1.000\n",
      "    54.840      2.000\t  57.972\t    56.406\t     1.000\n",
      "    57.406      2.000\t  62.651\t    60.028\t     1.000\n",
      "    61.028      2.000\t  64.269\t    62.649\t     1.000\n",
      "    63.649      2.000\t  63.431\t    63.540\t     1.000\n",
      "    64.540      2.000\t  61.768\t    63.154\t     1.000\n",
      "    64.154      2.000\t  62.566\t    63.360\t     1.000\n",
      "    64.360      2.000\t  63.898\t    64.129\t     1.000\n",
      "    65.129      2.000\t  64.683\t    64.906\t     1.000\n",
      "    65.906      2.000\t  66.261\t    66.083\t     1.000\n",
      "    67.083      2.000\t  65.538\t    66.311\t     1.000\n",
      "    67.311      2.000\t  66.442\t    66.876\t     1.000\n",
      "    67.876      2.000\t  69.713\t    68.795\t     1.000\n",
      "    69.795      2.000\t  72.837\t    71.316\t     1.000\n",
      "    72.316      2.000\t  75.681\t    73.998\t     1.000\n",
      "    74.998      2.000\t  75.200\t    75.099\t     1.000\n",
      "    76.099      2.000\t  75.017\t    75.558\t     1.000\n",
      "    76.558      2.000\t  76.563\t    76.560\t     1.000\n",
      "    77.560      2.000\t  79.536\t    78.548\t     1.000\n",
      "    79.548      2.000\t  80.213\t    79.881\t     1.000\n",
      "    80.881      2.000\t  81.532\t    81.206\t     1.000\n",
      "    82.206      2.000\t  83.332\t    82.769\t     1.000\n",
      "    83.769      2.000\t  89.129\t    86.449\t     1.000\n",
      "Final Estimate: 86.45\n",
      "Actual Final Position: 89.13"
     ]
    }
   ],
   "source": [
    "println(\"PREDICT\\t\\t\\tUPDATE\")\n",
    "println(\"    x      var\\t\\t  z\\t    x      var\")\n",
    "\n",
    "for z in zs\n",
    "    prior = predict(x, process_model)\n",
    "    #println(prior)\n",
    "    likelihood = Normal(z, sqrt(sensor_var))\n",
    "    x = update(prior,likelihood)\n",
    "    \n",
    "    @printf \"    %.3f      %.3f\\t  %.3f\\t    %.3f\\t     %.3f\\n\" mean(prior) var(prior) z mean(x) var(x)\n",
    "end\n",
    "@printf \"Final Estimate: %.2f\\n\" mean(x)\n",
    "@printf \"Actual Final Position: %.2f\" dog.x0"
   ]
  },
  {
   "cell_type": "markdown",
   "metadata": {},
   "source": [
    "Here is an animation of the filter. Predictions are plotted with a red triangle. After the prediction, the filter receives the next measurement, plotted as a black circle. The filter then forms an estimate part way between the two. "
   ]
  },
  {
   "cell_type": "code",
   "execution_count": 225,
   "metadata": {},
   "outputs": [
    {
     "data": {
      "application/vnd.webio.node+json": {
       "children": [
        {
         "children": [
          {
           "children": [
            {
             "children": [
              {
               "children": [
                {
                 "children": [
                  "Step"
                 ],
                 "instanceArgs": {
                  "namespace": "html",
                  "tag": "label"
                 },
                 "nodeType": "DOM",
                 "props": {
                  "className": "interact ",
                  "style": {
                   "padding": "5px 10px 0px 10px"
                  }
                 },
                 "type": "node"
                }
               ],
               "instanceArgs": {
                "namespace": "html",
                "tag": "div"
               },
               "nodeType": "DOM",
               "props": {
                "className": "interact-flex-row-left"
               },
               "type": "node"
              },
              {
               "children": [
                {
                 "children": [],
                 "instanceArgs": {
                  "namespace": "html",
                  "tag": "input"
                 },
                 "nodeType": "DOM",
                 "props": {
                  "attributes": {
                   "data-bind": "numericValue: index, valueUpdate: 'input', event: {change: function (){this.changes(this.changes()+1)}}",
                   "orient": "horizontal",
                   "type": "range"
                  },
                  "className": "slider slider is-fullwidth",
                  "max": 100,
                  "min": 1,
                  "step": 1,
                  "style": {}
                 },
                 "type": "node"
                }
               ],
               "instanceArgs": {
                "namespace": "html",
                "tag": "div"
               },
               "nodeType": "DOM",
               "props": {
                "className": "interact-flex-row-center"
               },
               "type": "node"
              },
              {
               "children": [
                {
                 "children": [],
                 "instanceArgs": {
                  "namespace": "html",
                  "tag": "p"
                 },
                 "nodeType": "DOM",
                 "props": {
                  "attributes": {
                   "data-bind": "text: formatted_val"
                  }
                 },
                 "type": "node"
                }
               ],
               "instanceArgs": {
                "namespace": "html",
                "tag": "div"
               },
               "nodeType": "DOM",
               "props": {
                "className": "interact-flex-row-right"
               },
               "type": "node"
              }
             ],
             "instanceArgs": {
              "namespace": "html",
              "tag": "div"
             },
             "nodeType": "DOM",
             "props": {
              "className": "interact-flex-row interact-widget"
             },
             "type": "node"
            }
           ],
           "instanceArgs": {
            "handlers": {
             "changes": [
              "(function (val){return (val!=this.model[\"changes\"]()) ? (this.valueFromJulia[\"changes\"]=true, this.model[\"changes\"](val)) : undefined})"
             ],
             "index": [
              "(function (val){return (val!=this.model[\"index\"]()) ? (this.valueFromJulia[\"index\"]=true, this.model[\"index\"](val)) : undefined})"
             ]
            },
            "id": "7482525417763078715",
            "imports": {
             "data": [
              {
               "name": "knockout",
               "type": "js",
               "url": "/assetserver/3a353afbd6c9130c04469cb36ceb880da7412142-knockout.js"
              },
              {
               "name": "knockout_punches",
               "type": "js",
               "url": "/assetserver/4ed641d55a3b9fd0bf416e425a088dbb3c4d8c47-knockout_punches.js"
              },
              {
               "name": null,
               "type": "js",
               "url": "/assetserver/d377f3bd98e9444333f45a0cc8f3442ad857b22d-all.js"
              },
              {
               "name": null,
               "type": "css",
               "url": "/assetserver/5dea6e24df3f374beda4fb1a43687135e0d24594-style.css"
              },
              {
               "name": null,
               "type": "css",
               "url": "/assetserver/62bb3f6330c38af16aaf56dac2a1ac22607e4957-bulma_confined.min.css"
              }
             ],
             "type": "async_block"
            },
            "mount_callbacks": [
             "function () {\n    var handler = (function (ko, koPunches) {\n    ko.punches.enableAll();\n    ko.bindingHandlers.numericValue = {\n        init: function(element, valueAccessor, allBindings, data, context) {\n            var stringified = ko.observable(ko.unwrap(valueAccessor()));\n            stringified.subscribe(function(value) {\n                var val = parseFloat(value);\n                if (!isNaN(val)) {\n                    valueAccessor()(val);\n                }\n            });\n            valueAccessor().subscribe(function(value) {\n                var str = JSON.stringify(value);\n                if ((str == \"0\") && ([\"-0\", \"-0.\"].indexOf(stringified()) >= 0))\n                     return;\n                 if ([\"null\", \"\"].indexOf(str) >= 0)\n                     return;\n                stringified(str);\n            });\n            ko.applyBindingsToNode(\n                element,\n                {\n                    value: stringified,\n                    valueUpdate: allBindings.get('valueUpdate'),\n                },\n                context,\n            );\n        }\n    };\n    var json_data = {\"formatted_vals\":[\"1\",\"2\",\"3\",\"4\",\"5\",\"6\",\"7\",\"8\",\"9\",\"10\",\"11\",\"12\",\"13\",\"14\",\"15\",\"16\",\"17\",\"18\",\"19\",\"20\",\"21\",\"22\",\"23\",\"24\",\"25\",\"26\",\"27\",\"28\",\"29\",\"30\",\"31\",\"32\",\"33\",\"34\",\"35\",\"36\",\"37\",\"38\",\"39\",\"40\",\"41\",\"42\",\"43\",\"44\",\"45\",\"46\",\"47\",\"48\",\"49\",\"50\",\"51\",\"52\",\"53\",\"54\",\"55\",\"56\",\"57\",\"58\",\"59\",\"60\",\"61\",\"62\",\"63\",\"64\",\"65\",\"66\",\"67\",\"68\",\"69\",\"70\",\"71\",\"72\",\"73\",\"74\",\"75\",\"76\",\"77\",\"78\",\"79\",\"80\",\"81\",\"82\",\"83\",\"84\",\"85\",\"86\",\"87\",\"88\",\"89\",\"90\",\"91\",\"92\",\"93\",\"94\",\"95\",\"96\",\"97\",\"98\",\"99\",\"100\"],\"changes\":WebIO.getval({\"name\":\"changes\",\"scope\":\"7482525417763078715\",\"id\":\"15187868850438421738\",\"type\":\"observable\"}),\"index\":WebIO.getval({\"name\":\"index\",\"scope\":\"7482525417763078715\",\"id\":\"4152906525994785987\",\"type\":\"observable\"})};\n    var self = this;\n    function AppViewModel() {\n        for (var key in json_data) {\n            var el = json_data[key];\n            this[key] = Array.isArray(el) ? ko.observableArray(el) : ko.observable(el);\n        }\n        \n        [this[\"formatted_val\"]=ko.computed(    function(){\n        return this.formatted_vals()[parseInt(this.index())-(1)];\n    }\n,this)]\n        [this[\"changes\"].subscribe((function (val){!(this.valueFromJulia[\"changes\"]) ? (WebIO.setval({\"name\":\"changes\",\"scope\":\"7482525417763078715\",\"id\":\"15187868850438421738\",\"type\":\"observable\"},val)) : undefined; return this.valueFromJulia[\"changes\"]=false}),self),this[\"index\"].subscribe((function (val){!(this.valueFromJulia[\"index\"]) ? (WebIO.setval({\"name\":\"index\",\"scope\":\"7482525417763078715\",\"id\":\"4152906525994785987\",\"type\":\"observable\"},val)) : undefined; return this.valueFromJulia[\"index\"]=false}),self)]\n        \n    }\n    self.model = new AppViewModel();\n    self.valueFromJulia = {};\n    for (var key in json_data) {\n        self.valueFromJulia[key] = false;\n    }\n    ko.applyBindings(self.model, self.dom);\n}\n);\n    (WebIO.importBlock({\"data\":[{\"name\":\"knockout\",\"type\":\"js\",\"url\":\"/assetserver/3a353afbd6c9130c04469cb36ceb880da7412142-knockout.js\"},{\"name\":\"knockout_punches\",\"type\":\"js\",\"url\":\"/assetserver/4ed641d55a3b9fd0bf416e425a088dbb3c4d8c47-knockout_punches.js\"}],\"type\":\"async_block\"})).then((imports) => handler.apply(this, imports));\n}\n"
            ],
            "observables": {
             "changes": {
              "id": "15187868850438421738",
              "sync": false,
              "value": 0
             },
             "index": {
              "id": "4152906525994785987",
              "sync": true,
              "value": 1
             }
            },
            "systemjs_options": null
           },
           "nodeType": "Scope",
           "props": {},
           "type": "node"
          }
         ],
         "instanceArgs": {
          "namespace": "html",
          "tag": "div"
         },
         "nodeType": "DOM",
         "props": {
          "className": "field interact-widget"
         },
         "type": "node"
        },
        {
         "children": [
          {
           "children": [],
           "instanceArgs": {
            "id": "16576940138879459422",
            "name": "obs-node"
           },
           "nodeType": "ObservableNode",
           "props": {},
           "type": "node"
          }
         ],
         "instanceArgs": {
          "handlers": {},
          "id": "18237169728586944975",
          "imports": {
           "data": [],
           "type": "async_block"
          },
          "mount_callbacks": [],
          "observables": {
           "obs-node": {
            "id": "16576940138879459422",
            "sync": false,
            "value": {
             "children": [
              {
               "children": [],
               "instanceArgs": {
                "namespace": "html",
                "tag": "div"
               },
               "nodeType": "DOM",
               "props": {
                "setInnerHtml": "<?xml version=\"1.0\" encoding=\"utf-8\"?>\n<svg xmlns=\"http://www.w3.org/2000/svg\" xmlns:xlink=\"http://www.w3.org/1999/xlink\" width=\"600\" height=\"400\" viewBox=\"0 0 2400 1600\">\n<defs>\n  <clipPath id=\"clip040\">\n    <rect x=\"0\" y=\"0\" width=\"2400\" height=\"1600\"/>\n  </clipPath>\n</defs>\n<path clip-path=\"url(#clip040)\" d=\"\nM0 1600 L2400 1600 L2400 0 L0 0  Z\n  \" fill=\"#ffffff\" fill-rule=\"evenodd\" fill-opacity=\"1\"/>\n<defs>\n  <clipPath id=\"clip041\">\n    <rect x=\"480\" y=\"0\" width=\"1681\" height=\"1600\"/>\n  </clipPath>\n</defs>\n<path clip-path=\"url(#clip040)\" d=\"\nM139.191 1486.45 L2352.76 1486.45 L2352.76 47.2441 L139.191 47.2441  Z\n  \" fill=\"#ffffff\" fill-rule=\"evenodd\" fill-opacity=\"1\"/>\n<defs>\n  <clipPath id=\"clip042\">\n    <rect x=\"139\" y=\"47\" width=\"2215\" height=\"1440\"/>\n  </clipPath>\n</defs>\n<polyline clip-path=\"url(#clip042)\" style=\"stroke:#000000; stroke-width:2; stroke-opacity:0.1; fill:none\" points=\"\n  180.745,1486.45 180.745,47.2441 \n  \"/>\n<polyline clip-path=\"url(#clip042)\" style=\"stroke:#000000; stroke-width:2; stroke-opacity:0.1; fill:none\" points=\"\n  708.086,1486.45 708.086,47.2441 \n  \"/>\n<polyline clip-path=\"url(#clip042)\" style=\"stroke:#000000; stroke-width:2; stroke-opacity:0.1; fill:none\" points=\"\n  1235.43,1486.45 1235.43,47.2441 \n  \"/>\n<polyline clip-path=\"url(#clip042)\" style=\"stroke:#000000; stroke-width:2; stroke-opacity:0.1; fill:none\" points=\"\n  1762.77,1486.45 1762.77,47.2441 \n  \"/>\n<polyline clip-path=\"url(#clip042)\" style=\"stroke:#000000; stroke-width:2; stroke-opacity:0.1; fill:none\" points=\"\n  2290.11,1486.45 2290.11,47.2441 \n  \"/>\n<polyline clip-path=\"url(#clip042)\" style=\"stroke:#000000; stroke-width:2; stroke-opacity:0.1; fill:none\" points=\"\n  139.191,1445.72 2352.76,1445.72 \n  \"/>\n<polyline clip-path=\"url(#clip042)\" style=\"stroke:#000000; stroke-width:2; stroke-opacity:0.1; fill:none\" points=\"\n  139.191,1141.05 2352.76,1141.05 \n  \"/>\n<polyline clip-path=\"url(#clip042)\" style=\"stroke:#000000; stroke-width:2; stroke-opacity:0.1; fill:none\" points=\"\n  139.191,836.377 2352.76,836.377 \n  \"/>\n<polyline clip-path=\"url(#clip042)\" style=\"stroke:#000000; stroke-width:2; stroke-opacity:0.1; fill:none\" points=\"\n  139.191,531.707 2352.76,531.707 \n  \"/>\n<polyline clip-path=\"url(#clip042)\" style=\"stroke:#000000; stroke-width:2; stroke-opacity:0.1; fill:none\" points=\"\n  139.191,227.038 2352.76,227.038 \n  \"/>\n<polyline clip-path=\"url(#clip040)\" style=\"stroke:#000000; stroke-width:4; stroke-opacity:1; fill:none\" points=\"\n  139.191,1486.45 2352.76,1486.45 \n  \"/>\n<polyline clip-path=\"url(#clip040)\" style=\"stroke:#000000; stroke-width:4; stroke-opacity:1; fill:none\" points=\"\n  139.191,1486.45 139.191,47.2441 \n  \"/>\n<polyline clip-path=\"url(#clip040)\" style=\"stroke:#000000; stroke-width:4; stroke-opacity:1; fill:none\" points=\"\n  180.745,1486.45 180.745,1469.18 \n  \"/>\n<polyline clip-path=\"url(#clip040)\" style=\"stroke:#000000; stroke-width:4; stroke-opacity:1; fill:none\" points=\"\n  708.086,1486.45 708.086,1469.18 \n  \"/>\n<polyline clip-path=\"url(#clip040)\" style=\"stroke:#000000; stroke-width:4; stroke-opacity:1; fill:none\" points=\"\n  1235.43,1486.45 1235.43,1469.18 \n  \"/>\n<polyline clip-path=\"url(#clip040)\" style=\"stroke:#000000; stroke-width:4; stroke-opacity:1; fill:none\" points=\"\n  1762.77,1486.45 1762.77,1469.18 \n  \"/>\n<polyline clip-path=\"url(#clip040)\" style=\"stroke:#000000; stroke-width:4; stroke-opacity:1; fill:none\" points=\"\n  2290.11,1486.45 2290.11,1469.18 \n  \"/>\n<polyline clip-path=\"url(#clip040)\" style=\"stroke:#000000; stroke-width:4; stroke-opacity:1; fill:none\" points=\"\n  139.191,1445.72 165.754,1445.72 \n  \"/>\n<polyline clip-path=\"url(#clip040)\" style=\"stroke:#000000; stroke-width:4; stroke-opacity:1; fill:none\" points=\"\n  139.191,1141.05 165.754,1141.05 \n  \"/>\n<polyline clip-path=\"url(#clip040)\" style=\"stroke:#000000; stroke-width:4; stroke-opacity:1; fill:none\" points=\"\n  139.191,836.377 165.754,836.377 \n  \"/>\n<polyline clip-path=\"url(#clip040)\" style=\"stroke:#000000; stroke-width:4; stroke-opacity:1; fill:none\" points=\"\n  139.191,531.707 165.754,531.707 \n  \"/>\n<polyline clip-path=\"url(#clip040)\" style=\"stroke:#000000; stroke-width:4; stroke-opacity:1; fill:none\" points=\"\n  139.191,227.038 165.754,227.038 \n  \"/>\n<path clip-path=\"url(#clip040)\" d=\"M 0 0 M180.745 1508.44 Q177.134 1508.44 175.306 1512 Q173.5 1515.55 173.5 1522.67 Q173.5 1529.78 175.306 1533.35 Q177.134 1536.89 180.745 1536.89 Q184.38 1536.89 186.185 1533.35 Q188.014 1529.78 188.014 1522.67 Q188.014 1515.55 186.185 1512 Q184.38 1508.44 180.745 1508.44 M180.745 1504.73 Q186.556 1504.73 189.611 1509.34 Q192.69 1513.92 192.69 1522.67 Q192.69 1531.4 189.611 1536.01 Q186.556 1540.59 180.745 1540.59 Q174.935 1540.59 171.857 1536.01 Q168.801 1531.4 168.801 1522.67 Q168.801 1513.92 171.857 1509.34 Q174.935 1504.73 180.745 1504.73 Z\" fill=\"#000000\" fill-rule=\"evenodd\" fill-opacity=\"1\" /><path clip-path=\"url(#clip040)\" d=\"M 0 0 M689.73 1535.98 L706.049 1535.98 L706.049 1539.92 L684.105 1539.92 L684.105 1535.98 Q686.767 1533.23 691.35 1528.6 Q695.956 1523.95 697.137 1522.61 Q699.382 1520.08 700.262 1518.35 Q701.165 1516.59 701.165 1514.9 Q701.165 1512.14 699.22 1510.41 Q697.299 1508.67 694.197 1508.67 Q691.998 1508.67 689.544 1509.43 Q687.114 1510.2 684.336 1511.75 L684.336 1507.03 Q687.16 1505.89 689.614 1505.31 Q692.068 1504.73 694.105 1504.73 Q699.475 1504.73 702.669 1507.42 Q705.864 1510.11 705.864 1514.6 Q705.864 1516.73 705.054 1518.65 Q704.267 1520.54 702.16 1523.14 Q701.581 1523.81 698.48 1527.03 Q695.378 1530.22 689.73 1535.98 Z\" fill=\"#000000\" fill-rule=\"evenodd\" fill-opacity=\"1\" /><path clip-path=\"url(#clip040)\" d=\"M 0 0 M711.165 1505.36 L729.521 1505.36 L729.521 1509.3 L715.447 1509.3 L715.447 1517.77 Q716.466 1517.42 717.484 1517.26 Q718.503 1517.07 719.521 1517.07 Q725.308 1517.07 728.688 1520.24 Q732.067 1523.42 732.067 1528.83 Q732.067 1534.41 728.595 1537.51 Q725.123 1540.59 718.804 1540.59 Q716.628 1540.59 714.359 1540.22 Q712.114 1539.85 709.706 1539.11 L709.706 1534.41 Q711.79 1535.54 714.012 1536.1 Q716.234 1536.66 718.711 1536.66 Q722.716 1536.66 725.053 1534.55 Q727.391 1532.44 727.391 1528.83 Q727.391 1525.22 725.053 1523.11 Q722.716 1521.01 718.711 1521.01 Q716.836 1521.01 714.961 1521.42 Q713.109 1521.84 711.165 1522.72 L711.165 1505.36 Z\" fill=\"#000000\" fill-rule=\"evenodd\" fill-opacity=\"1\" /><path clip-path=\"url(#clip040)\" d=\"M 0 0 M1212.2 1505.36 L1230.55 1505.36 L1230.55 1509.3 L1216.48 1509.3 L1216.48 1517.77 Q1217.5 1517.42 1218.52 1517.26 Q1219.54 1517.07 1220.55 1517.07 Q1226.34 1517.07 1229.72 1520.24 Q1233.1 1523.42 1233.1 1528.83 Q1233.1 1534.41 1229.63 1537.51 Q1226.16 1540.59 1219.84 1540.59 Q1217.66 1540.59 1215.39 1540.22 Q1213.15 1539.85 1210.74 1539.11 L1210.74 1534.41 Q1212.82 1535.54 1215.04 1536.1 Q1217.27 1536.66 1219.74 1536.66 Q1223.75 1536.66 1226.09 1534.55 Q1228.42 1532.44 1228.42 1528.83 Q1228.42 1525.22 1226.09 1523.11 Q1223.75 1521.01 1219.74 1521.01 Q1217.87 1521.01 1215.99 1521.42 Q1214.14 1521.84 1212.2 1522.72 L1212.2 1505.36 Z\" fill=\"#000000\" fill-rule=\"evenodd\" fill-opacity=\"1\" /><path clip-path=\"url(#clip040)\" d=\"M 0 0 M1248.17 1508.44 Q1244.56 1508.44 1242.73 1512 Q1240.92 1515.55 1240.92 1522.67 Q1240.92 1529.78 1242.73 1533.35 Q1244.56 1536.89 1248.17 1536.89 Q1251.8 1536.89 1253.61 1533.35 Q1255.44 1529.78 1255.44 1522.67 Q1255.44 1515.55 1253.61 1512 Q1251.8 1508.44 1248.17 1508.44 M1248.17 1504.73 Q1253.98 1504.73 1257.04 1509.34 Q1260.11 1513.92 1260.11 1522.67 Q1260.11 1531.4 1257.04 1536.01 Q1253.98 1540.59 1248.17 1540.59 Q1242.36 1540.59 1239.28 1536.01 Q1236.23 1531.4 1236.23 1522.67 Q1236.23 1513.92 1239.28 1509.34 Q1242.36 1504.73 1248.17 1504.73 Z\" fill=\"#000000\" fill-rule=\"evenodd\" fill-opacity=\"1\" /><path clip-path=\"url(#clip040)\" d=\"M 0 0 M1738.65 1505.36 L1760.87 1505.36 L1760.87 1507.35 L1748.32 1539.92 L1743.44 1539.92 L1755.24 1509.3 L1738.65 1509.3 L1738.65 1505.36 Z\" fill=\"#000000\" fill-rule=\"evenodd\" fill-opacity=\"1\" /><path clip-path=\"url(#clip040)\" d=\"M 0 0 M1765.98 1505.36 L1784.34 1505.36 L1784.34 1509.3 L1770.27 1509.3 L1770.27 1517.77 Q1771.29 1517.42 1772.3 1517.26 Q1773.32 1517.07 1774.34 1517.07 Q1780.13 1517.07 1783.51 1520.24 Q1786.89 1523.42 1786.89 1528.83 Q1786.89 1534.41 1783.42 1537.51 Q1779.94 1540.59 1773.62 1540.59 Q1771.45 1540.59 1769.18 1540.22 Q1766.93 1539.85 1764.53 1539.11 L1764.53 1534.41 Q1766.61 1535.54 1768.83 1536.1 Q1771.05 1536.66 1773.53 1536.66 Q1777.54 1536.66 1779.87 1534.55 Q1782.21 1532.44 1782.21 1528.83 Q1782.21 1525.22 1779.87 1523.11 Q1777.54 1521.01 1773.53 1521.01 Q1771.66 1521.01 1769.78 1521.42 Q1767.93 1521.84 1765.98 1522.72 L1765.98 1505.36 Z\" fill=\"#000000\" fill-rule=\"evenodd\" fill-opacity=\"1\" /><path clip-path=\"url(#clip040)\" d=\"M 0 0 M2253.48 1535.98 L2261.11 1535.98 L2261.11 1509.62 L2252.8 1511.29 L2252.8 1507.03 L2261.07 1505.36 L2265.74 1505.36 L2265.74 1535.98 L2273.38 1535.98 L2273.38 1539.92 L2253.48 1539.92 L2253.48 1535.98 Z\" fill=\"#000000\" fill-rule=\"evenodd\" fill-opacity=\"1\" /><path clip-path=\"url(#clip040)\" d=\"M 0 0 M2288.45 1508.44 Q2284.84 1508.44 2283.01 1512 Q2281.21 1515.55 2281.21 1522.67 Q2281.21 1529.78 2283.01 1533.35 Q2284.84 1536.89 2288.45 1536.89 Q2292.09 1536.89 2293.89 1533.35 Q2295.72 1529.78 2295.72 1522.67 Q2295.72 1515.55 2293.89 1512 Q2292.09 1508.44 2288.45 1508.44 M2288.45 1504.73 Q2294.26 1504.73 2297.32 1509.34 Q2300.4 1513.92 2300.4 1522.67 Q2300.4 1531.4 2297.32 1536.01 Q2294.26 1540.59 2288.45 1540.59 Q2282.64 1540.59 2279.56 1536.01 Q2276.51 1531.4 2276.51 1522.67 Q2276.51 1513.92 2279.56 1509.34 Q2282.64 1504.73 2288.45 1504.73 Z\" fill=\"#000000\" fill-rule=\"evenodd\" fill-opacity=\"1\" /><path clip-path=\"url(#clip040)\" d=\"M 0 0 M2315.47 1508.44 Q2311.86 1508.44 2310.03 1512 Q2308.22 1515.55 2308.22 1522.67 Q2308.22 1529.78 2310.03 1533.35 Q2311.86 1536.89 2315.47 1536.89 Q2319.1 1536.89 2320.91 1533.35 Q2322.73 1529.78 2322.73 1522.67 Q2322.73 1515.55 2320.91 1512 Q2319.1 1508.44 2315.47 1508.44 M2315.47 1504.73 Q2321.28 1504.73 2324.33 1509.34 Q2327.41 1513.92 2327.41 1522.67 Q2327.41 1531.4 2324.33 1536.01 Q2321.28 1540.59 2315.47 1540.59 Q2309.66 1540.59 2306.58 1536.01 Q2303.52 1531.4 2303.52 1522.67 Q2303.52 1513.92 2306.58 1509.34 Q2309.66 1504.73 2315.47 1504.73 Z\" fill=\"#000000\" fill-rule=\"evenodd\" fill-opacity=\"1\" /><path clip-path=\"url(#clip040)\" d=\"M 0 0 M103.247 1431.51 Q99.6354 1431.51 97.8068 1435.08 Q96.0012 1438.62 96.0012 1445.75 Q96.0012 1452.86 97.8068 1456.42 Q99.6354 1459.96 103.247 1459.96 Q106.881 1459.96 108.686 1456.42 Q110.515 1452.86 110.515 1445.75 Q110.515 1438.62 108.686 1435.08 Q106.881 1431.51 103.247 1431.51 M103.247 1427.81 Q109.057 1427.81 112.112 1432.42 Q115.191 1437 115.191 1445.75 Q115.191 1454.48 112.112 1459.08 Q109.057 1463.67 103.247 1463.67 Q97.4364 1463.67 94.3577 1459.08 Q91.3022 1454.48 91.3022 1445.75 Q91.3022 1437 94.3577 1432.42 Q97.4364 1427.81 103.247 1427.81 Z\" fill=\"#000000\" fill-rule=\"evenodd\" fill-opacity=\"1\" /><path clip-path=\"url(#clip040)\" d=\"M 0 0 M71.8578 1154.39 L88.1772 1154.39 L88.1772 1158.33 L66.2328 1158.33 L66.2328 1154.39 Q68.8949 1151.64 73.4782 1147.01 Q78.0846 1142.35 79.2652 1141.01 Q81.5105 1138.49 82.3902 1136.75 Q83.2929 1134.99 83.2929 1133.3 Q83.2929 1130.55 81.3485 1128.81 Q79.4272 1127.08 76.3254 1127.08 Q74.1263 1127.08 71.6726 1127.84 Q69.2421 1128.6 66.4643 1130.16 L66.4643 1125.43 Q69.2884 1124.3 71.7421 1123.72 Q74.1958 1123.14 76.2328 1123.14 Q81.6031 1123.14 84.7976 1125.83 Q87.992 1128.51 87.992 1133 Q87.992 1135.13 87.1818 1137.05 Q86.3948 1138.95 84.2883 1141.54 Q83.7096 1142.22 80.6078 1145.43 Q77.5059 1148.63 71.8578 1154.39 Z\" fill=\"#000000\" fill-rule=\"evenodd\" fill-opacity=\"1\" /><path clip-path=\"url(#clip040)\" d=\"M 0 0 M103.247 1126.84 Q99.6354 1126.84 97.8068 1130.41 Q96.0012 1133.95 96.0012 1141.08 Q96.0012 1148.19 97.8068 1151.75 Q99.6354 1155.29 103.247 1155.29 Q106.881 1155.29 108.686 1151.75 Q110.515 1148.19 110.515 1141.08 Q110.515 1133.95 108.686 1130.41 Q106.881 1126.84 103.247 1126.84 M103.247 1123.14 Q109.057 1123.14 112.112 1127.75 Q115.191 1132.33 115.191 1141.08 Q115.191 1149.81 112.112 1154.41 Q109.057 1159 103.247 1159 Q97.4364 1159 94.3577 1154.41 Q91.3022 1149.81 91.3022 1141.08 Q91.3022 1132.33 94.3577 1127.75 Q97.4364 1123.14 103.247 1123.14 Z\" fill=\"#000000\" fill-rule=\"evenodd\" fill-opacity=\"1\" /><path clip-path=\"url(#clip040)\" d=\"M 0 0 M78.5939 823.171 L66.7884 841.62 L78.5939 841.62 L78.5939 823.171 M77.367 819.097 L83.2466 819.097 L83.2466 841.62 L88.1772 841.62 L88.1772 845.509 L83.2466 845.509 L83.2466 853.657 L78.5939 853.657 L78.5939 845.509 L62.9921 845.509 L62.9921 840.995 L77.367 819.097 Z\" fill=\"#000000\" fill-rule=\"evenodd\" fill-opacity=\"1\" /><path clip-path=\"url(#clip040)\" d=\"M 0 0 M103.247 822.175 Q99.6354 822.175 97.8068 825.74 Q96.0012 829.282 96.0012 836.411 Q96.0012 843.518 97.8068 847.083 Q99.6354 850.624 103.247 850.624 Q106.881 850.624 108.686 847.083 Q110.515 843.518 110.515 836.411 Q110.515 829.282 108.686 825.74 Q106.881 822.175 103.247 822.175 M103.247 818.472 Q109.057 818.472 112.112 823.078 Q115.191 827.662 115.191 836.411 Q115.191 845.138 112.112 849.745 Q109.057 854.328 103.247 854.328 Q97.4364 854.328 94.3577 849.745 Q91.3022 845.138 91.3022 836.411 Q91.3022 827.662 94.3577 823.078 Q97.4364 818.472 103.247 818.472 Z\" fill=\"#000000\" fill-rule=\"evenodd\" fill-opacity=\"1\" /><path clip-path=\"url(#clip040)\" d=\"M 0 0 M76.6495 529.844 Q73.5013 529.844 71.6495 531.997 Q69.8208 534.149 69.8208 537.899 Q69.8208 541.626 71.6495 543.802 Q73.5013 545.955 76.6495 545.955 Q79.7976 545.955 81.6263 543.802 Q83.4781 541.626 83.4781 537.899 Q83.4781 534.149 81.6263 531.997 Q79.7976 529.844 76.6495 529.844 M85.9318 515.191 L85.9318 519.45 Q84.1726 518.617 82.367 518.177 Q80.5846 517.737 78.8254 517.737 Q74.1958 517.737 71.7421 520.862 Q69.3115 523.987 68.9643 530.307 Q70.33 528.293 72.3902 527.228 Q74.4504 526.14 76.9272 526.14 Q82.1355 526.14 85.1448 529.311 Q88.1772 532.46 88.1772 537.899 Q88.1772 543.223 85.029 546.441 Q81.8809 549.659 76.6495 549.659 Q70.6541 549.659 67.4828 545.075 Q64.3116 540.469 64.3116 531.742 Q64.3116 523.548 68.2004 518.687 Q72.0893 513.802 78.6402 513.802 Q80.3994 513.802 82.1818 514.149 Q83.9874 514.497 85.9318 515.191 Z\" fill=\"#000000\" fill-rule=\"evenodd\" fill-opacity=\"1\" /><path clip-path=\"url(#clip040)\" d=\"M 0 0 M103.247 517.506 Q99.6354 517.506 97.8068 521.071 Q96.0012 524.612 96.0012 531.742 Q96.0012 538.848 97.8068 542.413 Q99.6354 545.955 103.247 545.955 Q106.881 545.955 108.686 542.413 Q110.515 538.848 110.515 531.742 Q110.515 524.612 108.686 521.071 Q106.881 517.506 103.247 517.506 M103.247 513.802 Q109.057 513.802 112.112 518.409 Q115.191 522.992 115.191 531.742 Q115.191 540.469 112.112 545.075 Q109.057 549.659 103.247 549.659 Q97.4364 549.659 94.3577 545.075 Q91.3022 540.469 91.3022 531.742 Q91.3022 522.992 94.3577 518.409 Q97.4364 513.802 103.247 513.802 Z\" fill=\"#000000\" fill-rule=\"evenodd\" fill-opacity=\"1\" /><path clip-path=\"url(#clip040)\" d=\"M 0 0 M76.3254 227.906 Q72.9921 227.906 71.0708 229.688 Q69.1726 231.471 69.1726 234.596 Q69.1726 237.721 71.0708 239.503 Q72.9921 241.285 76.3254 241.285 Q79.6587 241.285 81.58 239.503 Q83.5013 237.697 83.5013 234.596 Q83.5013 231.471 81.58 229.688 Q79.6819 227.906 76.3254 227.906 M71.6495 225.915 Q68.6402 225.174 66.9504 223.114 Q65.2838 221.054 65.2838 218.091 Q65.2838 213.948 68.2236 211.54 Q71.1865 209.133 76.3254 209.133 Q81.4874 209.133 84.4272 211.54 Q87.367 213.948 87.367 218.091 Q87.367 221.054 85.6772 223.114 Q84.0105 225.174 81.0244 225.915 Q84.404 226.702 86.279 228.994 Q88.1772 231.285 88.1772 234.596 Q88.1772 239.619 85.0985 242.304 Q82.0429 244.989 76.3254 244.989 Q70.6078 244.989 67.5291 242.304 Q64.4736 239.619 64.4736 234.596 Q64.4736 231.285 66.3717 228.994 Q68.2699 226.702 71.6495 225.915 M69.9365 218.531 Q69.9365 221.216 71.6032 222.721 Q73.293 224.225 76.3254 224.225 Q79.3346 224.225 81.0244 222.721 Q82.7374 221.216 82.7374 218.531 Q82.7374 215.846 81.0244 214.341 Q79.3346 212.836 76.3254 212.836 Q73.293 212.836 71.6032 214.341 Q69.9365 215.846 69.9365 218.531 Z\" fill=\"#000000\" fill-rule=\"evenodd\" fill-opacity=\"1\" /><path clip-path=\"url(#clip040)\" d=\"M 0 0 M103.247 212.836 Q99.6354 212.836 97.8068 216.401 Q96.0012 219.943 96.0012 227.073 Q96.0012 234.179 97.8068 237.744 Q99.6354 241.285 103.247 241.285 Q106.881 241.285 108.686 237.744 Q110.515 234.179 110.515 227.073 Q110.515 219.943 108.686 216.401 Q106.881 212.836 103.247 212.836 M103.247 209.133 Q109.057 209.133 112.112 213.739 Q115.191 218.323 115.191 227.073 Q115.191 235.799 112.112 240.406 Q109.057 244.989 103.247 244.989 Q97.4364 244.989 94.3577 240.406 Q91.3022 235.799 91.3022 227.073 Q91.3022 218.323 94.3577 213.739 Q97.4364 209.133 103.247 209.133 Z\" fill=\"#000000\" fill-rule=\"evenodd\" fill-opacity=\"1\" /><circle clip-path=\"url(#clip042)\" cx=\"201.839\" cy=\"1447.45\" r=\"14\" fill=\"#009af9\" fill-rule=\"evenodd\" fill-opacity=\"1\" stroke=\"#000000\" stroke-opacity=\"1\" stroke-width=\"3.2\"/>\n<circle clip-path=\"url(#clip042)\" cx=\"201.839\" cy=\"1430.48\" r=\"14\" fill=\"#e26f46\" fill-rule=\"evenodd\" fill-opacity=\"1\" stroke=\"#000000\" stroke-opacity=\"1\" stroke-width=\"3.2\"/>\n<path clip-path=\"url(#clip040)\" d=\"\nM1981.42 337.138 L2278.97 337.138 L2278.97 95.2176 L1981.42 95.2176  Z\n  \" fill=\"#ffffff\" fill-rule=\"evenodd\" fill-opacity=\"1\"/>\n<polyline clip-path=\"url(#clip040)\" style=\"stroke:#000000; stroke-width:4; stroke-opacity:1; fill:none\" points=\"\n  1981.42,337.138 2278.97,337.138 2278.97,95.2176 1981.42,95.2176 1981.42,337.138 \n  \"/>\n<circle clip-path=\"url(#clip040)\" cx=\"2079.8\" cy=\"155.698\" r=\"23\" fill=\"#009af9\" fill-rule=\"evenodd\" fill-opacity=\"1\" stroke=\"#000000\" stroke-opacity=\"1\" stroke-width=\"5.12\"/>\n<path clip-path=\"url(#clip040)\" d=\"M 0 0 M2192.03 175.385 Q2190.22 180.015 2188.51 181.427 Q2186.79 182.839 2183.92 182.839 L2180.52 182.839 L2180.52 179.274 L2183.02 179.274 Q2184.78 179.274 2185.75 178.44 Q2186.72 177.607 2187.91 174.505 L2188.67 172.561 L2178.18 147.052 L2182.7 147.052 L2190.8 167.329 L2198.9 147.052 L2203.41 147.052 L2192.03 175.385 Z\" fill=\"#000000\" fill-rule=\"evenodd\" fill-opacity=\"1\" /><path clip-path=\"url(#clip040)\" d=\"M 0 0 M2209.29 169.042 L2216.93 169.042 L2216.93 142.677 L2208.62 144.343 L2208.62 140.084 L2216.89 138.418 L2221.56 138.418 L2221.56 169.042 L2229.2 169.042 L2229.2 172.978 L2209.29 172.978 L2209.29 169.042 Z\" fill=\"#000000\" fill-rule=\"evenodd\" fill-opacity=\"1\" /><circle clip-path=\"url(#clip040)\" cx=\"2079.8\" cy=\"216.178\" r=\"23\" fill=\"#e26f46\" fill-rule=\"evenodd\" fill-opacity=\"1\" stroke=\"#000000\" stroke-opacity=\"1\" stroke-width=\"5.12\"/>\n<path clip-path=\"url(#clip040)\" d=\"M 0 0 M2192.03 235.865 Q2190.22 240.495 2188.51 241.907 Q2186.79 243.319 2183.92 243.319 L2180.52 243.319 L2180.52 239.754 L2183.02 239.754 Q2184.78 239.754 2185.75 238.92 Q2186.72 238.087 2187.91 234.985 L2188.67 233.041 L2178.18 207.532 L2182.7 207.532 L2190.8 227.809 L2198.9 207.532 L2203.41 207.532 L2192.03 235.865 Z\" fill=\"#000000\" fill-rule=\"evenodd\" fill-opacity=\"1\" /><path clip-path=\"url(#clip040)\" d=\"M 0 0 M2212.51 229.522 L2228.83 229.522 L2228.83 233.458 L2206.89 233.458 L2206.89 229.522 Q2209.55 226.768 2214.13 222.138 Q2218.74 217.485 2219.92 216.143 Q2222.16 213.62 2223.04 211.884 Q2223.95 210.124 2223.95 208.435 Q2223.95 205.68 2222 203.944 Q2220.08 202.208 2216.98 202.208 Q2214.78 202.208 2212.33 202.972 Q2209.9 203.735 2207.12 205.286 L2207.12 200.564 Q2209.94 199.43 2212.4 198.851 Q2214.85 198.273 2216.89 198.273 Q2222.26 198.273 2225.45 200.958 Q2228.65 203.643 2228.65 208.134 Q2228.65 210.263 2227.84 212.185 Q2227.05 214.083 2224.94 216.675 Q2224.36 217.347 2221.26 220.564 Q2218.16 223.759 2212.51 229.522 Z\" fill=\"#000000\" fill-rule=\"evenodd\" fill-opacity=\"1\" /><polyline clip-path=\"url(#clip040)\" style=\"stroke:#3da44d; stroke-width:4; stroke-opacity:1; fill:none\" points=\"\n  2006.02,276.658 2153.59,276.658 \n  \"/>\n<path clip-path=\"url(#clip040)\" d=\"M 0 0 M2192.03 296.345 Q2190.22 300.975 2188.51 302.387 Q2186.79 303.799 2183.92 303.799 L2180.52 303.799 L2180.52 300.234 L2183.02 300.234 Q2184.78 300.234 2185.75 299.4 Q2186.72 298.567 2187.91 295.465 L2188.67 293.521 L2178.18 268.012 L2182.7 268.012 L2190.8 288.289 L2198.9 268.012 L2203.41 268.012 L2192.03 296.345 Z\" fill=\"#000000\" fill-rule=\"evenodd\" fill-opacity=\"1\" /><path clip-path=\"url(#clip040)\" d=\"M 0 0 M2222.65 275.303 Q2226.01 276.021 2227.88 278.289 Q2229.78 280.558 2229.78 283.891 Q2229.78 289.007 2226.26 291.808 Q2222.74 294.609 2216.26 294.609 Q2214.09 294.609 2211.77 294.169 Q2209.48 293.752 2207.03 292.896 L2207.03 288.382 Q2208.97 289.516 2211.28 290.095 Q2213.6 290.674 2216.12 290.674 Q2220.52 290.674 2222.81 288.938 Q2225.13 287.201 2225.13 283.891 Q2225.13 280.836 2222.97 279.123 Q2220.84 277.387 2217.03 277.387 L2213 277.387 L2213 273.544 L2217.21 273.544 Q2220.66 273.544 2222.49 272.178 Q2224.32 270.79 2224.32 268.197 Q2224.32 265.535 2222.42 264.123 Q2220.54 262.688 2217.03 262.688 Q2215.1 262.688 2212.91 263.104 Q2210.71 263.521 2208.07 264.401 L2208.07 260.234 Q2210.73 259.493 2213.04 259.123 Q2215.38 258.753 2217.44 258.753 Q2222.77 258.753 2225.87 261.183 Q2228.97 263.59 2228.97 267.711 Q2228.97 270.581 2227.33 272.572 Q2225.68 274.54 2222.65 275.303 Z\" fill=\"#000000\" fill-rule=\"evenodd\" fill-opacity=\"1\" /></svg>\n"
               },
               "type": "node"
              }
             ],
             "instanceArgs": {
              "namespace": "html",
              "tag": "div"
             },
             "nodeType": "DOM",
             "props": {
              "className": "interact-flex-row interact-widget"
             },
             "type": "node"
            }
           }
          },
          "systemjs_options": null
         },
         "nodeType": "Scope",
         "props": {},
         "type": "node"
        }
       ],
       "instanceArgs": {
        "namespace": "html",
        "tag": "div"
       },
       "nodeType": "DOM",
       "props": {},
       "type": "node"
      },
      "text/html": [
       "<div\n",
       "    class=\"webio-mountpoint\"\n",
       "    data-webio-mountpoint=\"15309074071797823552\"\n",
       ">\n",
       "    <script>\n",
       "    if (window.require && require.defined && require.defined(\"nbextensions/webio-jupyter-notebook\")) {\n",
       "        console.log(\"Jupyter WebIO extension detected, not mounting.\");\n",
       "    } else if (window.WebIO) {\n",
       "        WebIO.mount(\n",
       "            document.querySelector('[data-webio-mountpoint=\"15309074071797823552\"]'),\n",
       "            {\"props\":{},\"nodeType\":\"DOM\",\"type\":\"node\",\"instanceArgs\":{\"namespace\":\"html\",\"tag\":\"div\"},\"children\":[{\"props\":{\"className\":\"field interact-widget\"},\"nodeType\":\"DOM\",\"type\":\"node\",\"instanceArgs\":{\"namespace\":\"html\",\"tag\":\"div\"},\"children\":[{\"props\":{},\"nodeType\":\"Scope\",\"type\":\"node\",\"instanceArgs\":{\"imports\":{\"data\":[{\"name\":\"knockout\",\"type\":\"js\",\"url\":\"\\/assetserver\\/3a353afbd6c9130c04469cb36ceb880da7412142-knockout.js\"},{\"name\":\"knockout_punches\",\"type\":\"js\",\"url\":\"\\/assetserver\\/4ed641d55a3b9fd0bf416e425a088dbb3c4d8c47-knockout_punches.js\"},{\"name\":null,\"type\":\"js\",\"url\":\"\\/assetserver\\/d377f3bd98e9444333f45a0cc8f3442ad857b22d-all.js\"},{\"name\":null,\"type\":\"css\",\"url\":\"\\/assetserver\\/5dea6e24df3f374beda4fb1a43687135e0d24594-style.css\"},{\"name\":null,\"type\":\"css\",\"url\":\"\\/assetserver\\/62bb3f6330c38af16aaf56dac2a1ac22607e4957-bulma_confined.min.css\"}],\"type\":\"async_block\"},\"id\":\"7482525417763078715\",\"handlers\":{\"changes\":[\"(function (val){return (val!=this.model[\\\"changes\\\"]()) ? (this.valueFromJulia[\\\"changes\\\"]=true, this.model[\\\"changes\\\"](val)) : undefined})\"],\"index\":[\"(function (val){return (val!=this.model[\\\"index\\\"]()) ? (this.valueFromJulia[\\\"index\\\"]=true, this.model[\\\"index\\\"](val)) : undefined})\"]},\"systemjs_options\":null,\"mount_callbacks\":[\"function () {\\n    var handler = (function (ko, koPunches) {\\n    ko.punches.enableAll();\\n    ko.bindingHandlers.numericValue = {\\n        init: function(element, valueAccessor, allBindings, data, context) {\\n            var stringified = ko.observable(ko.unwrap(valueAccessor()));\\n            stringified.subscribe(function(value) {\\n                var val = parseFloat(value);\\n                if (!isNaN(val)) {\\n                    valueAccessor()(val);\\n                }\\n            });\\n            valueAccessor().subscribe(function(value) {\\n                var str = JSON.stringify(value);\\n                if ((str == \\\"0\\\") && ([\\\"-0\\\", \\\"-0.\\\"].indexOf(stringified()) >= 0))\\n                     return;\\n                 if ([\\\"null\\\", \\\"\\\"].indexOf(str) >= 0)\\n                     return;\\n                stringified(str);\\n            });\\n            ko.applyBindingsToNode(\\n                element,\\n                {\\n                    value: stringified,\\n                    valueUpdate: allBindings.get('valueUpdate'),\\n                },\\n                context,\\n            );\\n        }\\n    };\\n    var json_data = {\\\"formatted_vals\\\":[\\\"1\\\",\\\"2\\\",\\\"3\\\",\\\"4\\\",\\\"5\\\",\\\"6\\\",\\\"7\\\",\\\"8\\\",\\\"9\\\",\\\"10\\\",\\\"11\\\",\\\"12\\\",\\\"13\\\",\\\"14\\\",\\\"15\\\",\\\"16\\\",\\\"17\\\",\\\"18\\\",\\\"19\\\",\\\"20\\\",\\\"21\\\",\\\"22\\\",\\\"23\\\",\\\"24\\\",\\\"25\\\",\\\"26\\\",\\\"27\\\",\\\"28\\\",\\\"29\\\",\\\"30\\\",\\\"31\\\",\\\"32\\\",\\\"33\\\",\\\"34\\\",\\\"35\\\",\\\"36\\\",\\\"37\\\",\\\"38\\\",\\\"39\\\",\\\"40\\\",\\\"41\\\",\\\"42\\\",\\\"43\\\",\\\"44\\\",\\\"45\\\",\\\"46\\\",\\\"47\\\",\\\"48\\\",\\\"49\\\",\\\"50\\\",\\\"51\\\",\\\"52\\\",\\\"53\\\",\\\"54\\\",\\\"55\\\",\\\"56\\\",\\\"57\\\",\\\"58\\\",\\\"59\\\",\\\"60\\\",\\\"61\\\",\\\"62\\\",\\\"63\\\",\\\"64\\\",\\\"65\\\",\\\"66\\\",\\\"67\\\",\\\"68\\\",\\\"69\\\",\\\"70\\\",\\\"71\\\",\\\"72\\\",\\\"73\\\",\\\"74\\\",\\\"75\\\",\\\"76\\\",\\\"77\\\",\\\"78\\\",\\\"79\\\",\\\"80\\\",\\\"81\\\",\\\"82\\\",\\\"83\\\",\\\"84\\\",\\\"85\\\",\\\"86\\\",\\\"87\\\",\\\"88\\\",\\\"89\\\",\\\"90\\\",\\\"91\\\",\\\"92\\\",\\\"93\\\",\\\"94\\\",\\\"95\\\",\\\"96\\\",\\\"97\\\",\\\"98\\\",\\\"99\\\",\\\"100\\\"],\\\"changes\\\":WebIO.getval({\\\"name\\\":\\\"changes\\\",\\\"scope\\\":\\\"7482525417763078715\\\",\\\"id\\\":\\\"15187868850438421738\\\",\\\"type\\\":\\\"observable\\\"}),\\\"index\\\":WebIO.getval({\\\"name\\\":\\\"index\\\",\\\"scope\\\":\\\"7482525417763078715\\\",\\\"id\\\":\\\"4152906525994785987\\\",\\\"type\\\":\\\"observable\\\"})};\\n    var self = this;\\n    function AppViewModel() {\\n        for (var key in json_data) {\\n            var el = json_data[key];\\n            this[key] = Array.isArray(el) ? ko.observableArray(el) : ko.observable(el);\\n        }\\n        \\n        [this[\\\"formatted_val\\\"]=ko.computed(    function(){\\n        return this.formatted_vals()[parseInt(this.index())-(1)];\\n    }\\n,this)]\\n        [this[\\\"changes\\\"].subscribe((function (val){!(this.valueFromJulia[\\\"changes\\\"]) ? (WebIO.setval({\\\"name\\\":\\\"changes\\\",\\\"scope\\\":\\\"7482525417763078715\\\",\\\"id\\\":\\\"15187868850438421738\\\",\\\"type\\\":\\\"observable\\\"},val)) : undefined; return this.valueFromJulia[\\\"changes\\\"]=false}),self),this[\\\"index\\\"].subscribe((function (val){!(this.valueFromJulia[\\\"index\\\"]) ? (WebIO.setval({\\\"name\\\":\\\"index\\\",\\\"scope\\\":\\\"7482525417763078715\\\",\\\"id\\\":\\\"4152906525994785987\\\",\\\"type\\\":\\\"observable\\\"},val)) : undefined; return this.valueFromJulia[\\\"index\\\"]=false}),self)]\\n        \\n    }\\n    self.model = new AppViewModel();\\n    self.valueFromJulia = {};\\n    for (var key in json_data) {\\n        self.valueFromJulia[key] = false;\\n    }\\n    ko.applyBindings(self.model, self.dom);\\n}\\n);\\n    (WebIO.importBlock({\\\"data\\\":[{\\\"name\\\":\\\"knockout\\\",\\\"type\\\":\\\"js\\\",\\\"url\\\":\\\"\\/assetserver\\/3a353afbd6c9130c04469cb36ceb880da7412142-knockout.js\\\"},{\\\"name\\\":\\\"knockout_punches\\\",\\\"type\\\":\\\"js\\\",\\\"url\\\":\\\"\\/assetserver\\/4ed641d55a3b9fd0bf416e425a088dbb3c4d8c47-knockout_punches.js\\\"}],\\\"type\\\":\\\"async_block\\\"})).then((imports) => handler.apply(this, imports));\\n}\\n\"],\"observables\":{\"changes\":{\"sync\":false,\"id\":\"15187868850438421738\",\"value\":0},\"index\":{\"sync\":true,\"id\":\"4152906525994785987\",\"value\":1}}},\"children\":[{\"props\":{\"className\":\"interact-flex-row interact-widget\"},\"nodeType\":\"DOM\",\"type\":\"node\",\"instanceArgs\":{\"namespace\":\"html\",\"tag\":\"div\"},\"children\":[{\"props\":{\"className\":\"interact-flex-row-left\"},\"nodeType\":\"DOM\",\"type\":\"node\",\"instanceArgs\":{\"namespace\":\"html\",\"tag\":\"div\"},\"children\":[{\"props\":{\"className\":\"interact \",\"style\":{\"padding\":\"5px 10px 0px 10px\"}},\"nodeType\":\"DOM\",\"type\":\"node\",\"instanceArgs\":{\"namespace\":\"html\",\"tag\":\"label\"},\"children\":[\"Step\"]}]},{\"props\":{\"className\":\"interact-flex-row-center\"},\"nodeType\":\"DOM\",\"type\":\"node\",\"instanceArgs\":{\"namespace\":\"html\",\"tag\":\"div\"},\"children\":[{\"props\":{\"max\":100,\"min\":1,\"attributes\":{\"type\":\"range\",\"data-bind\":\"numericValue: index, valueUpdate: 'input', event: {change: function (){this.changes(this.changes()+1)}}\",\"orient\":\"horizontal\"},\"step\":1,\"className\":\"slider slider is-fullwidth\",\"style\":{}},\"nodeType\":\"DOM\",\"type\":\"node\",\"instanceArgs\":{\"namespace\":\"html\",\"tag\":\"input\"},\"children\":[]}]},{\"props\":{\"className\":\"interact-flex-row-right\"},\"nodeType\":\"DOM\",\"type\":\"node\",\"instanceArgs\":{\"namespace\":\"html\",\"tag\":\"div\"},\"children\":[{\"props\":{\"attributes\":{\"data-bind\":\"text: formatted_val\"}},\"nodeType\":\"DOM\",\"type\":\"node\",\"instanceArgs\":{\"namespace\":\"html\",\"tag\":\"p\"},\"children\":[]}]}]}]}]},{\"props\":{},\"nodeType\":\"Scope\",\"type\":\"node\",\"instanceArgs\":{\"imports\":{\"data\":[],\"type\":\"async_block\"},\"id\":\"12432066186729161288\",\"handlers\":{},\"systemjs_options\":null,\"mount_callbacks\":[],\"observables\":{\"obs-node\":{\"sync\":false,\"id\":\"5453506221156596695\",\"value\":{\"props\":{\"className\":\"interact-flex-row interact-widget\"},\"nodeType\":\"DOM\",\"type\":\"node\",\"instanceArgs\":{\"namespace\":\"html\",\"tag\":\"div\"},\"children\":[{\"props\":{\"setInnerHtml\":\"<?xml version=\\\"1.0\\\" encoding=\\\"utf-8\\\"?>\\n<svg xmlns=\\\"http:\\/\\/www.w3.org\\/2000\\/svg\\\" xmlns:xlink=\\\"http:\\/\\/www.w3.org\\/1999\\/xlink\\\" width=\\\"600\\\" height=\\\"400\\\" viewBox=\\\"0 0 2400 1600\\\">\\n<defs>\\n  <clipPath id=\\\"clip000\\\">\\n    <rect x=\\\"0\\\" y=\\\"0\\\" width=\\\"2400\\\" height=\\\"1600\\\"\\/>\\n  <\\/clipPath>\\n<\\/defs>\\n<path clip-path=\\\"url(#clip000)\\\" d=\\\"\\nM0 1600 L2400 1600 L2400 0 L0 0  Z\\n  \\\" fill=\\\"#ffffff\\\" fill-rule=\\\"evenodd\\\" fill-opacity=\\\"1\\\"\\/>\\n<defs>\\n  <clipPath id=\\\"clip001\\\">\\n    <rect x=\\\"480\\\" y=\\\"0\\\" width=\\\"1681\\\" height=\\\"1600\\\"\\/>\\n  <\\/clipPath>\\n<\\/defs>\\n<path clip-path=\\\"url(#clip000)\\\" d=\\\"\\nM139.191 1486.45 L2352.76 1486.45 L2352.76 47.2441 L139.191 47.2441  Z\\n  \\\" fill=\\\"#ffffff\\\" fill-rule=\\\"evenodd\\\" fill-opacity=\\\"1\\\"\\/>\\n<defs>\\n  <clipPath id=\\\"clip002\\\">\\n    <rect x=\\\"139\\\" y=\\\"47\\\" width=\\\"2215\\\" height=\\\"1440\\\"\\/>\\n  <\\/clipPath>\\n<\\/defs>\\n<polyline clip-path=\\\"url(#clip002)\\\" style=\\\"stroke:#000000; stroke-width:2; stroke-opacity:0.1; fill:none\\\" points=\\\"\\n  180.745,1486.45 180.745,47.2441 \\n  \\\"\\/>\\n<polyline clip-path=\\\"url(#clip002)\\\" style=\\\"stroke:#000000; stroke-width:2; stroke-opacity:0.1; fill:none\\\" points=\\\"\\n  708.086,1486.45 708.086,47.2441 \\n  \\\"\\/>\\n<polyline clip-path=\\\"url(#clip002)\\\" style=\\\"stroke:#000000; stroke-width:2; stroke-opacity:0.1; fill:none\\\" points=\\\"\\n  1235.43,1486.45 1235.43,47.2441 \\n  \\\"\\/>\\n<polyline clip-path=\\\"url(#clip002)\\\" style=\\\"stroke:#000000; stroke-width:2; stroke-opacity:0.1; fill:none\\\" points=\\\"\\n  1762.77,1486.45 1762.77,47.2441 \\n  \\\"\\/>\\n<polyline clip-path=\\\"url(#clip002)\\\" style=\\\"stroke:#000000; stroke-width:2; stroke-opacity:0.1; fill:none\\\" points=\\\"\\n  2290.11,1486.45 2290.11,47.2441 \\n  \\\"\\/>\\n<polyline clip-path=\\\"url(#clip002)\\\" style=\\\"stroke:#000000; stroke-width:2; stroke-opacity:0.1; fill:none\\\" points=\\\"\\n  139.191,1445.72 2352.76,1445.72 \\n  \\\"\\/>\\n<polyline clip-path=\\\"url(#clip002)\\\" style=\\\"stroke:#000000; stroke-width:2; stroke-opacity:0.1; fill:none\\\" points=\\\"\\n  139.191,1141.05 2352.76,1141.05 \\n  \\\"\\/>\\n<polyline clip-path=\\\"url(#clip002)\\\" style=\\\"stroke:#000000; stroke-width:2; stroke-opacity:0.1; fill:none\\\" points=\\\"\\n  139.191,836.377 2352.76,836.377 \\n  \\\"\\/>\\n<polyline clip-path=\\\"url(#clip002)\\\" style=\\\"stroke:#000000; stroke-width:2; stroke-opacity:0.1; fill:none\\\" points=\\\"\\n  139.191,531.707 2352.76,531.707 \\n  \\\"\\/>\\n<polyline clip-path=\\\"url(#clip002)\\\" style=\\\"stroke:#000000; stroke-width:2; stroke-opacity:0.1; fill:none\\\" points=\\\"\\n  139.191,227.038 2352.76,227.038 \\n  \\\"\\/>\\n<polyline clip-path=\\\"url(#clip000)\\\" style=\\\"stroke:#000000; stroke-width:4; stroke-opacity:1; fill:none\\\" points=\\\"\\n  139.191,1486.45 2352.76,1486.45 \\n  \\\"\\/>\\n<polyline clip-path=\\\"url(#clip000)\\\" style=\\\"stroke:#000000; stroke-width:4; stroke-opacity:1; fill:none\\\" points=\\\"\\n  139.191,1486.45 139.191,47.2441 \\n  \\\"\\/>\\n<polyline clip-path=\\\"url(#clip000)\\\" style=\\\"stroke:#000000; stroke-width:4; stroke-opacity:1; fill:none\\\" points=\\\"\\n  180.745,1486.45 180.745,1469.18 \\n  \\\"\\/>\\n<polyline clip-path=\\\"url(#clip000)\\\" style=\\\"stroke:#000000; stroke-width:4; stroke-opacity:1; fill:none\\\" points=\\\"\\n  708.086,1486.45 708.086,1469.18 \\n  \\\"\\/>\\n<polyline clip-path=\\\"url(#clip000)\\\" style=\\\"stroke:#000000; stroke-width:4; stroke-opacity:1; fill:none\\\" points=\\\"\\n  1235.43,1486.45 1235.43,1469.18 \\n  \\\"\\/>\\n<polyline clip-path=\\\"url(#clip000)\\\" style=\\\"stroke:#000000; stroke-width:4; stroke-opacity:1; fill:none\\\" points=\\\"\\n  1762.77,1486.45 1762.77,1469.18 \\n  \\\"\\/>\\n<polyline clip-path=\\\"url(#clip000)\\\" style=\\\"stroke:#000000; stroke-width:4; stroke-opacity:1; fill:none\\\" points=\\\"\\n  2290.11,1486.45 2290.11,1469.18 \\n  \\\"\\/>\\n<polyline clip-path=\\\"url(#clip000)\\\" style=\\\"stroke:#000000; stroke-width:4; stroke-opacity:1; fill:none\\\" points=\\\"\\n  139.191,1445.72 165.754,1445.72 \\n  \\\"\\/>\\n<polyline clip-path=\\\"url(#clip000)\\\" style=\\\"stroke:#000000; stroke-width:4; stroke-opacity:1; fill:none\\\" points=\\\"\\n  139.191,1141.05 165.754,1141.05 \\n  \\\"\\/>\\n<polyline clip-path=\\\"url(#clip000)\\\" style=\\\"stroke:#000000; stroke-width:4; stroke-opacity:1; fill:none\\\" points=\\\"\\n  139.191,836.377 165.754,836.377 \\n  \\\"\\/>\\n<polyline clip-path=\\\"url(#clip000)\\\" style=\\\"stroke:#000000; stroke-width:4; stroke-opacity:1; fill:none\\\" points=\\\"\\n  139.191,531.707 165.754,531.707 \\n  \\\"\\/>\\n<polyline clip-path=\\\"url(#clip000)\\\" style=\\\"stroke:#000000; stroke-width:4; stroke-opacity:1; fill:none\\\" points=\\\"\\n  139.191,227.038 165.754,227.038 \\n  \\\"\\/>\\n<path clip-path=\\\"url(#clip000)\\\" d=\\\"M 0 0 M180.745 1508.44 Q177.134 1508.44 175.306 1512 Q173.5 1515.55 173.5 1522.67 Q173.5 1529.78 175.306 1533.35 Q177.134 1536.89 180.745 1536.89 Q184.38 1536.89 186.185 1533.35 Q188.014 1529.78 188.014 1522.67 Q188.014 1515.55 186.185 1512 Q184.38 1508.44 180.745 1508.44 M180.745 1504.73 Q186.556 1504.73 189.611 1509.34 Q192.69 1513.92 192.69 1522.67 Q192.69 1531.4 189.611 1536.01 Q186.556 1540.59 180.745 1540.59 Q174.935 1540.59 171.857 1536.01 Q168.801 1531.4 168.801 1522.67 Q168.801 1513.92 171.857 1509.34 Q174.935 1504.73 180.745 1504.73 Z\\\" fill=\\\"#000000\\\" fill-rule=\\\"evenodd\\\" fill-opacity=\\\"1\\\" \\/><path clip-path=\\\"url(#clip000)\\\" d=\\\"M 0 0 M689.73 1535.98 L706.049 1535.98 L706.049 1539.92 L684.105 1539.92 L684.105 1535.98 Q686.767 1533.23 691.35 1528.6 Q695.956 1523.95 697.137 1522.61 Q699.382 1520.08 700.262 1518.35 Q701.165 1516.59 701.165 1514.9 Q701.165 1512.14 699.22 1510.41 Q697.299 1508.67 694.197 1508.67 Q691.998 1508.67 689.544 1509.43 Q687.114 1510.2 684.336 1511.75 L684.336 1507.03 Q687.16 1505.89 689.614 1505.31 Q692.068 1504.73 694.105 1504.73 Q699.475 1504.73 702.669 1507.42 Q705.864 1510.11 705.864 1514.6 Q705.864 1516.73 705.054 1518.65 Q704.267 1520.54 702.16 1523.14 Q701.581 1523.81 698.48 1527.03 Q695.378 1530.22 689.73 1535.98 Z\\\" fill=\\\"#000000\\\" fill-rule=\\\"evenodd\\\" fill-opacity=\\\"1\\\" \\/><path clip-path=\\\"url(#clip000)\\\" d=\\\"M 0 0 M711.165 1505.36 L729.521 1505.36 L729.521 1509.3 L715.447 1509.3 L715.447 1517.77 Q716.466 1517.42 717.484 1517.26 Q718.503 1517.07 719.521 1517.07 Q725.308 1517.07 728.688 1520.24 Q732.067 1523.42 732.067 1528.83 Q732.067 1534.41 728.595 1537.51 Q725.123 1540.59 718.804 1540.59 Q716.628 1540.59 714.359 1540.22 Q712.114 1539.85 709.706 1539.11 L709.706 1534.41 Q711.79 1535.54 714.012 1536.1 Q716.234 1536.66 718.711 1536.66 Q722.716 1536.66 725.053 1534.55 Q727.391 1532.44 727.391 1528.83 Q727.391 1525.22 725.053 1523.11 Q722.716 1521.01 718.711 1521.01 Q716.836 1521.01 714.961 1521.42 Q713.109 1521.84 711.165 1522.72 L711.165 1505.36 Z\\\" fill=\\\"#000000\\\" fill-rule=\\\"evenodd\\\" fill-opacity=\\\"1\\\" \\/><path clip-path=\\\"url(#clip000)\\\" d=\\\"M 0 0 M1212.2 1505.36 L1230.55 1505.36 L1230.55 1509.3 L1216.48 1509.3 L1216.48 1517.77 Q1217.5 1517.42 1218.52 1517.26 Q1219.54 1517.07 1220.55 1517.07 Q1226.34 1517.07 1229.72 1520.24 Q1233.1 1523.42 1233.1 1528.83 Q1233.1 1534.41 1229.63 1537.51 Q1226.16 1540.59 1219.84 1540.59 Q1217.66 1540.59 1215.39 1540.22 Q1213.15 1539.85 1210.74 1539.11 L1210.74 1534.41 Q1212.82 1535.54 1215.04 1536.1 Q1217.27 1536.66 1219.74 1536.66 Q1223.75 1536.66 1226.09 1534.55 Q1228.42 1532.44 1228.42 1528.83 Q1228.42 1525.22 1226.09 1523.11 Q1223.75 1521.01 1219.74 1521.01 Q1217.87 1521.01 1215.99 1521.42 Q1214.14 1521.84 1212.2 1522.72 L1212.2 1505.36 Z\\\" fill=\\\"#000000\\\" fill-rule=\\\"evenodd\\\" fill-opacity=\\\"1\\\" \\/><path clip-path=\\\"url(#clip000)\\\" d=\\\"M 0 0 M1248.17 1508.44 Q1244.56 1508.44 1242.73 1512 Q1240.92 1515.55 1240.92 1522.67 Q1240.92 1529.78 1242.73 1533.35 Q1244.56 1536.89 1248.17 1536.89 Q1251.8 1536.89 1253.61 1533.35 Q1255.44 1529.78 1255.44 1522.67 Q1255.44 1515.55 1253.61 1512 Q1251.8 1508.44 1248.17 1508.44 M1248.17 1504.73 Q1253.98 1504.73 1257.04 1509.34 Q1260.11 1513.92 1260.11 1522.67 Q1260.11 1531.4 1257.04 1536.01 Q1253.98 1540.59 1248.17 1540.59 Q1242.36 1540.59 1239.28 1536.01 Q1236.23 1531.4 1236.23 1522.67 Q1236.23 1513.92 1239.28 1509.34 Q1242.36 1504.73 1248.17 1504.73 Z\\\" fill=\\\"#000000\\\" fill-rule=\\\"evenodd\\\" fill-opacity=\\\"1\\\" \\/><path clip-path=\\\"url(#clip000)\\\" d=\\\"M 0 0 M1738.65 1505.36 L1760.87 1505.36 L1760.87 1507.35 L1748.32 1539.92 L1743.44 1539.92 L1755.24 1509.3 L1738.65 1509.3 L1738.65 1505.36 Z\\\" fill=\\\"#000000\\\" fill-rule=\\\"evenodd\\\" fill-opacity=\\\"1\\\" \\/><path clip-path=\\\"url(#clip000)\\\" d=\\\"M 0 0 M1765.98 1505.36 L1784.34 1505.36 L1784.34 1509.3 L1770.27 1509.3 L1770.27 1517.77 Q1771.29 1517.42 1772.3 1517.26 Q1773.32 1517.07 1774.34 1517.07 Q1780.13 1517.07 1783.51 1520.24 Q1786.89 1523.42 1786.89 1528.83 Q1786.89 1534.41 1783.42 1537.51 Q1779.94 1540.59 1773.62 1540.59 Q1771.45 1540.59 1769.18 1540.22 Q1766.93 1539.85 1764.53 1539.11 L1764.53 1534.41 Q1766.61 1535.54 1768.83 1536.1 Q1771.05 1536.66 1773.53 1536.66 Q1777.54 1536.66 1779.87 1534.55 Q1782.21 1532.44 1782.21 1528.83 Q1782.21 1525.22 1779.87 1523.11 Q1777.54 1521.01 1773.53 1521.01 Q1771.66 1521.01 1769.78 1521.42 Q1767.93 1521.84 1765.98 1522.72 L1765.98 1505.36 Z\\\" fill=\\\"#000000\\\" fill-rule=\\\"evenodd\\\" fill-opacity=\\\"1\\\" \\/><path clip-path=\\\"url(#clip000)\\\" d=\\\"M 0 0 M2253.48 1535.98 L2261.11 1535.98 L2261.11 1509.62 L2252.8 1511.29 L2252.8 1507.03 L2261.07 1505.36 L2265.74 1505.36 L2265.74 1535.98 L2273.38 1535.98 L2273.38 1539.92 L2253.48 1539.92 L2253.48 1535.98 Z\\\" fill=\\\"#000000\\\" fill-rule=\\\"evenodd\\\" fill-opacity=\\\"1\\\" \\/><path clip-path=\\\"url(#clip000)\\\" d=\\\"M 0 0 M2288.45 1508.44 Q2284.84 1508.44 2283.01 1512 Q2281.21 1515.55 2281.21 1522.67 Q2281.21 1529.78 2283.01 1533.35 Q2284.84 1536.89 2288.45 1536.89 Q2292.09 1536.89 2293.89 1533.35 Q2295.72 1529.78 2295.72 1522.67 Q2295.72 1515.55 2293.89 1512 Q2292.09 1508.44 2288.45 1508.44 M2288.45 1504.73 Q2294.26 1504.73 2297.32 1509.34 Q2300.4 1513.92 2300.4 1522.67 Q2300.4 1531.4 2297.32 1536.01 Q2294.26 1540.59 2288.45 1540.59 Q2282.64 1540.59 2279.56 1536.01 Q2276.51 1531.4 2276.51 1522.67 Q2276.51 1513.92 2279.56 1509.34 Q2282.64 1504.73 2288.45 1504.73 Z\\\" fill=\\\"#000000\\\" fill-rule=\\\"evenodd\\\" fill-opacity=\\\"1\\\" \\/><path clip-path=\\\"url(#clip000)\\\" d=\\\"M 0 0 M2315.47 1508.44 Q2311.86 1508.44 2310.03 1512 Q2308.22 1515.55 2308.22 1522.67 Q2308.22 1529.78 2310.03 1533.35 Q2311.86 1536.89 2315.47 1536.89 Q2319.1 1536.89 2320.91 1533.35 Q2322.73 1529.78 2322.73 1522.67 Q2322.73 1515.55 2320.91 1512 Q2319.1 1508.44 2315.47 1508.44 M2315.47 1504.73 Q2321.28 1504.73 2324.33 1509.34 Q2327.41 1513.92 2327.41 1522.67 Q2327.41 1531.4 2324.33 1536.01 Q2321.28 1540.59 2315.47 1540.59 Q2309.66 1540.59 2306.58 1536.01 Q2303.52 1531.4 2303.52 1522.67 Q2303.52 1513.92 2306.58 1509.34 Q2309.66 1504.73 2315.47 1504.73 Z\\\" fill=\\\"#000000\\\" fill-rule=\\\"evenodd\\\" fill-opacity=\\\"1\\\" \\/><path clip-path=\\\"url(#clip000)\\\" d=\\\"M 0 0 M103.247 1431.51 Q99.6354 1431.51 97.8068 1435.08 Q96.0012 1438.62 96.0012 1445.75 Q96.0012 1452.86 97.8068 1456.42 Q99.6354 1459.96 103.247 1459.96 Q106.881 1459.96 108.686 1456.42 Q110.515 1452.86 110.515 1445.75 Q110.515 1438.62 108.686 1435.08 Q106.881 1431.51 103.247 1431.51 M103.247 1427.81 Q109.057 1427.81 112.112 1432.42 Q115.191 1437 115.191 1445.75 Q115.191 1454.48 112.112 1459.08 Q109.057 1463.67 103.247 1463.67 Q97.4364 1463.67 94.3577 1459.08 Q91.3022 1454.48 91.3022 1445.75 Q91.3022 1437 94.3577 1432.42 Q97.4364 1427.81 103.247 1427.81 Z\\\" fill=\\\"#000000\\\" fill-rule=\\\"evenodd\\\" fill-opacity=\\\"1\\\" \\/><path clip-path=\\\"url(#clip000)\\\" d=\\\"M 0 0 M71.8578 1154.39 L88.1772 1154.39 L88.1772 1158.33 L66.2328 1158.33 L66.2328 1154.39 Q68.8949 1151.64 73.4782 1147.01 Q78.0846 1142.35 79.2652 1141.01 Q81.5105 1138.49 82.3902 1136.75 Q83.2929 1134.99 83.2929 1133.3 Q83.2929 1130.55 81.3485 1128.81 Q79.4272 1127.08 76.3254 1127.08 Q74.1263 1127.08 71.6726 1127.84 Q69.2421 1128.6 66.4643 1130.16 L66.4643 1125.43 Q69.2884 1124.3 71.7421 1123.72 Q74.1958 1123.14 76.2328 1123.14 Q81.6031 1123.14 84.7976 1125.83 Q87.992 1128.51 87.992 1133 Q87.992 1135.13 87.1818 1137.05 Q86.3948 1138.95 84.2883 1141.54 Q83.7096 1142.22 80.6078 1145.43 Q77.5059 1148.63 71.8578 1154.39 Z\\\" fill=\\\"#000000\\\" fill-rule=\\\"evenodd\\\" fill-opacity=\\\"1\\\" \\/><path clip-path=\\\"url(#clip000)\\\" d=\\\"M 0 0 M103.247 1126.84 Q99.6354 1126.84 97.8068 1130.41 Q96.0012 1133.95 96.0012 1141.08 Q96.0012 1148.19 97.8068 1151.75 Q99.6354 1155.29 103.247 1155.29 Q106.881 1155.29 108.686 1151.75 Q110.515 1148.19 110.515 1141.08 Q110.515 1133.95 108.686 1130.41 Q106.881 1126.84 103.247 1126.84 M103.247 1123.14 Q109.057 1123.14 112.112 1127.75 Q115.191 1132.33 115.191 1141.08 Q115.191 1149.81 112.112 1154.41 Q109.057 1159 103.247 1159 Q97.4364 1159 94.3577 1154.41 Q91.3022 1149.81 91.3022 1141.08 Q91.3022 1132.33 94.3577 1127.75 Q97.4364 1123.14 103.247 1123.14 Z\\\" fill=\\\"#000000\\\" fill-rule=\\\"evenodd\\\" fill-opacity=\\\"1\\\" \\/><path clip-path=\\\"url(#clip000)\\\" d=\\\"M 0 0 M78.5939 823.171 L66.7884 841.62 L78.5939 841.62 L78.5939 823.171 M77.367 819.097 L83.2466 819.097 L83.2466 841.62 L88.1772 841.62 L88.1772 845.509 L83.2466 845.509 L83.2466 853.657 L78.5939 853.657 L78.5939 845.509 L62.9921 845.509 L62.9921 840.995 L77.367 819.097 Z\\\" fill=\\\"#000000\\\" fill-rule=\\\"evenodd\\\" fill-opacity=\\\"1\\\" \\/><path clip-path=\\\"url(#clip000)\\\" d=\\\"M 0 0 M103.247 822.175 Q99.6354 822.175 97.8068 825.74 Q96.0012 829.282 96.0012 836.411 Q96.0012 843.518 97.8068 847.083 Q99.6354 850.624 103.247 850.624 Q106.881 850.624 108.686 847.083 Q110.515 843.518 110.515 836.411 Q110.515 829.282 108.686 825.74 Q106.881 822.175 103.247 822.175 M103.247 818.472 Q109.057 818.472 112.112 823.078 Q115.191 827.662 115.191 836.411 Q115.191 845.138 112.112 849.745 Q109.057 854.328 103.247 854.328 Q97.4364 854.328 94.3577 849.745 Q91.3022 845.138 91.3022 836.411 Q91.3022 827.662 94.3577 823.078 Q97.4364 818.472 103.247 818.472 Z\\\" fill=\\\"#000000\\\" fill-rule=\\\"evenodd\\\" fill-opacity=\\\"1\\\" \\/><path clip-path=\\\"url(#clip000)\\\" d=\\\"M 0 0 M76.6495 529.844 Q73.5013 529.844 71.6495 531.997 Q69.8208 534.149 69.8208 537.899 Q69.8208 541.626 71.6495 543.802 Q73.5013 545.955 76.6495 545.955 Q79.7976 545.955 81.6263 543.802 Q83.4781 541.626 83.4781 537.899 Q83.4781 534.149 81.6263 531.997 Q79.7976 529.844 76.6495 529.844 M85.9318 515.191 L85.9318 519.45 Q84.1726 518.617 82.367 518.177 Q80.5846 517.737 78.8254 517.737 Q74.1958 517.737 71.7421 520.862 Q69.3115 523.987 68.9643 530.307 Q70.33 528.293 72.3902 527.228 Q74.4504 526.14 76.9272 526.14 Q82.1355 526.14 85.1448 529.311 Q88.1772 532.46 88.1772 537.899 Q88.1772 543.223 85.029 546.441 Q81.8809 549.659 76.6495 549.659 Q70.6541 549.659 67.4828 545.075 Q64.3116 540.469 64.3116 531.742 Q64.3116 523.548 68.2004 518.687 Q72.0893 513.802 78.6402 513.802 Q80.3994 513.802 82.1818 514.149 Q83.9874 514.497 85.9318 515.191 Z\\\" fill=\\\"#000000\\\" fill-rule=\\\"evenodd\\\" fill-opacity=\\\"1\\\" \\/><path clip-path=\\\"url(#clip000)\\\" d=\\\"M 0 0 M103.247 517.506 Q99.6354 517.506 97.8068 521.071 Q96.0012 524.612 96.0012 531.742 Q96.0012 538.848 97.8068 542.413 Q99.6354 545.955 103.247 545.955 Q106.881 545.955 108.686 542.413 Q110.515 538.848 110.515 531.742 Q110.515 524.612 108.686 521.071 Q106.881 517.506 103.247 517.506 M103.247 513.802 Q109.057 513.802 112.112 518.409 Q115.191 522.992 115.191 531.742 Q115.191 540.469 112.112 545.075 Q109.057 549.659 103.247 549.659 Q97.4364 549.659 94.3577 545.075 Q91.3022 540.469 91.3022 531.742 Q91.3022 522.992 94.3577 518.409 Q97.4364 513.802 103.247 513.802 Z\\\" fill=\\\"#000000\\\" fill-rule=\\\"evenodd\\\" fill-opacity=\\\"1\\\" \\/><path clip-path=\\\"url(#clip000)\\\" d=\\\"M 0 0 M76.3254 227.906 Q72.9921 227.906 71.0708 229.688 Q69.1726 231.471 69.1726 234.596 Q69.1726 237.721 71.0708 239.503 Q72.9921 241.285 76.3254 241.285 Q79.6587 241.285 81.58 239.503 Q83.5013 237.697 83.5013 234.596 Q83.5013 231.471 81.58 229.688 Q79.6819 227.906 76.3254 227.906 M71.6495 225.915 Q68.6402 225.174 66.9504 223.114 Q65.2838 221.054 65.2838 218.091 Q65.2838 213.948 68.2236 211.54 Q71.1865 209.133 76.3254 209.133 Q81.4874 209.133 84.4272 211.54 Q87.367 213.948 87.367 218.091 Q87.367 221.054 85.6772 223.114 Q84.0105 225.174 81.0244 225.915 Q84.404 226.702 86.279 228.994 Q88.1772 231.285 88.1772 234.596 Q88.1772 239.619 85.0985 242.304 Q82.0429 244.989 76.3254 244.989 Q70.6078 244.989 67.5291 242.304 Q64.4736 239.619 64.4736 234.596 Q64.4736 231.285 66.3717 228.994 Q68.2699 226.702 71.6495 225.915 M69.9365 218.531 Q69.9365 221.216 71.6032 222.721 Q73.293 224.225 76.3254 224.225 Q79.3346 224.225 81.0244 222.721 Q82.7374 221.216 82.7374 218.531 Q82.7374 215.846 81.0244 214.341 Q79.3346 212.836 76.3254 212.836 Q73.293 212.836 71.6032 214.341 Q69.9365 215.846 69.9365 218.531 Z\\\" fill=\\\"#000000\\\" fill-rule=\\\"evenodd\\\" fill-opacity=\\\"1\\\" \\/><path clip-path=\\\"url(#clip000)\\\" d=\\\"M 0 0 M103.247 212.836 Q99.6354 212.836 97.8068 216.401 Q96.0012 219.943 96.0012 227.073 Q96.0012 234.179 97.8068 237.744 Q99.6354 241.285 103.247 241.285 Q106.881 241.285 108.686 237.744 Q110.515 234.179 110.515 227.073 Q110.515 219.943 108.686 216.401 Q106.881 212.836 103.247 212.836 M103.247 209.133 Q109.057 209.133 112.112 213.739 Q115.191 218.323 115.191 227.073 Q115.191 235.799 112.112 240.406 Q109.057 244.989 103.247 244.989 Q97.4364 244.989 94.3577 240.406 Q91.3022 235.799 91.3022 227.073 Q91.3022 218.323 94.3577 213.739 Q97.4364 209.133 103.247 209.133 Z\\\" fill=\\\"#000000\\\" fill-rule=\\\"evenodd\\\" fill-opacity=\\\"1\\\" \\/><circle clip-path=\\\"url(#clip002)\\\" cx=\\\"201.839\\\" cy=\\\"1447.45\\\" r=\\\"14\\\" fill=\\\"#009af9\\\" fill-rule=\\\"evenodd\\\" fill-opacity=\\\"1\\\" stroke=\\\"#000000\\\" stroke-opacity=\\\"1\\\" stroke-width=\\\"3.2\\\"\\/>\\n<circle clip-path=\\\"url(#clip002)\\\" cx=\\\"201.839\\\" cy=\\\"1430.48\\\" r=\\\"14\\\" fill=\\\"#e26f46\\\" fill-rule=\\\"evenodd\\\" fill-opacity=\\\"1\\\" stroke=\\\"#000000\\\" stroke-opacity=\\\"1\\\" stroke-width=\\\"3.2\\\"\\/>\\n<path clip-path=\\\"url(#clip000)\\\" d=\\\"\\nM1981.42 337.138 L2278.97 337.138 L2278.97 95.2176 L1981.42 95.2176  Z\\n  \\\" fill=\\\"#ffffff\\\" fill-rule=\\\"evenodd\\\" fill-opacity=\\\"1\\\"\\/>\\n<polyline clip-path=\\\"url(#clip000)\\\" style=\\\"stroke:#000000; stroke-width:4; stroke-opacity:1; fill:none\\\" points=\\\"\\n  1981.42,337.138 2278.97,337.138 2278.97,95.2176 1981.42,95.2176 1981.42,337.138 \\n  \\\"\\/>\\n<circle clip-path=\\\"url(#clip000)\\\" cx=\\\"2079.8\\\" cy=\\\"155.698\\\" r=\\\"23\\\" fill=\\\"#009af9\\\" fill-rule=\\\"evenodd\\\" fill-opacity=\\\"1\\\" stroke=\\\"#000000\\\" stroke-opacity=\\\"1\\\" stroke-width=\\\"5.12\\\"\\/>\\n<path clip-path=\\\"url(#clip000)\\\" d=\\\"M 0 0 M2192.03 175.385 Q2190.22 180.015 2188.51 181.427 Q2186.79 182.839 2183.92 182.839 L2180.52 182.839 L2180.52 179.274 L2183.02 179.274 Q2184.78 179.274 2185.75 178.44 Q2186.72 177.607 2187.91 174.505 L2188.67 172.561 L2178.18 147.052 L2182.7 147.052 L2190.8 167.329 L2198.9 147.052 L2203.41 147.052 L2192.03 175.385 Z\\\" fill=\\\"#000000\\\" fill-rule=\\\"evenodd\\\" fill-opacity=\\\"1\\\" \\/><path clip-path=\\\"url(#clip000)\\\" d=\\\"M 0 0 M2209.29 169.042 L2216.93 169.042 L2216.93 142.677 L2208.62 144.343 L2208.62 140.084 L2216.89 138.418 L2221.56 138.418 L2221.56 169.042 L2229.2 169.042 L2229.2 172.978 L2209.29 172.978 L2209.29 169.042 Z\\\" fill=\\\"#000000\\\" fill-rule=\\\"evenodd\\\" fill-opacity=\\\"1\\\" \\/><circle clip-path=\\\"url(#clip000)\\\" cx=\\\"2079.8\\\" cy=\\\"216.178\\\" r=\\\"23\\\" fill=\\\"#e26f46\\\" fill-rule=\\\"evenodd\\\" fill-opacity=\\\"1\\\" stroke=\\\"#000000\\\" stroke-opacity=\\\"1\\\" stroke-width=\\\"5.12\\\"\\/>\\n<path clip-path=\\\"url(#clip000)\\\" d=\\\"M 0 0 M2192.03 235.865 Q2190.22 240.495 2188.51 241.907 Q2186.79 243.319 2183.92 243.319 L2180.52 243.319 L2180.52 239.754 L2183.02 239.754 Q2184.78 239.754 2185.75 238.92 Q2186.72 238.087 2187.91 234.985 L2188.67 233.041 L2178.18 207.532 L2182.7 207.532 L2190.8 227.809 L2198.9 207.532 L2203.41 207.532 L2192.03 235.865 Z\\\" fill=\\\"#000000\\\" fill-rule=\\\"evenodd\\\" fill-opacity=\\\"1\\\" \\/><path clip-path=\\\"url(#clip000)\\\" d=\\\"M 0 0 M2212.51 229.522 L2228.83 229.522 L2228.83 233.458 L2206.89 233.458 L2206.89 229.522 Q2209.55 226.768 2214.13 222.138 Q2218.74 217.485 2219.92 216.143 Q2222.16 213.62 2223.04 211.884 Q2223.95 210.124 2223.95 208.435 Q2223.95 205.68 2222 203.944 Q2220.08 202.208 2216.98 202.208 Q2214.78 202.208 2212.33 202.972 Q2209.9 203.735 2207.12 205.286 L2207.12 200.564 Q2209.94 199.43 2212.4 198.851 Q2214.85 198.273 2216.89 198.273 Q2222.26 198.273 2225.45 200.958 Q2228.65 203.643 2228.65 208.134 Q2228.65 210.263 2227.84 212.185 Q2227.05 214.083 2224.94 216.675 Q2224.36 217.347 2221.26 220.564 Q2218.16 223.759 2212.51 229.522 Z\\\" fill=\\\"#000000\\\" fill-rule=\\\"evenodd\\\" fill-opacity=\\\"1\\\" \\/><polyline clip-path=\\\"url(#clip000)\\\" style=\\\"stroke:#3da44d; stroke-width:4; stroke-opacity:1; fill:none\\\" points=\\\"\\n  2006.02,276.658 2153.59,276.658 \\n  \\\"\\/>\\n<path clip-path=\\\"url(#clip000)\\\" d=\\\"M 0 0 M2192.03 296.345 Q2190.22 300.975 2188.51 302.387 Q2186.79 303.799 2183.92 303.799 L2180.52 303.799 L2180.52 300.234 L2183.02 300.234 Q2184.78 300.234 2185.75 299.4 Q2186.72 298.567 2187.91 295.465 L2188.67 293.521 L2178.18 268.012 L2182.7 268.012 L2190.8 288.289 L2198.9 268.012 L2203.41 268.012 L2192.03 296.345 Z\\\" fill=\\\"#000000\\\" fill-rule=\\\"evenodd\\\" fill-opacity=\\\"1\\\" \\/><path clip-path=\\\"url(#clip000)\\\" d=\\\"M 0 0 M2222.65 275.303 Q2226.01 276.021 2227.88 278.289 Q2229.78 280.558 2229.78 283.891 Q2229.78 289.007 2226.26 291.808 Q2222.74 294.609 2216.26 294.609 Q2214.09 294.609 2211.77 294.169 Q2209.48 293.752 2207.03 292.896 L2207.03 288.382 Q2208.97 289.516 2211.28 290.095 Q2213.6 290.674 2216.12 290.674 Q2220.52 290.674 2222.81 288.938 Q2225.13 287.201 2225.13 283.891 Q2225.13 280.836 2222.97 279.123 Q2220.84 277.387 2217.03 277.387 L2213 277.387 L2213 273.544 L2217.21 273.544 Q2220.66 273.544 2222.49 272.178 Q2224.32 270.79 2224.32 268.197 Q2224.32 265.535 2222.42 264.123 Q2220.54 262.688 2217.03 262.688 Q2215.1 262.688 2212.91 263.104 Q2210.71 263.521 2208.07 264.401 L2208.07 260.234 Q2210.73 259.493 2213.04 259.123 Q2215.38 258.753 2217.44 258.753 Q2222.77 258.753 2225.87 261.183 Q2228.97 263.59 2228.97 267.711 Q2228.97 270.581 2227.33 272.572 Q2225.68 274.54 2222.65 275.303 Z\\\" fill=\\\"#000000\\\" fill-rule=\\\"evenodd\\\" fill-opacity=\\\"1\\\" \\/><\\/svg>\\n\"},\"nodeType\":\"DOM\",\"type\":\"node\",\"instanceArgs\":{\"namespace\":\"html\",\"tag\":\"div\"},\"children\":[]}]}}}},\"children\":[{\"props\":{},\"nodeType\":\"ObservableNode\",\"type\":\"node\",\"instanceArgs\":{\"id\":\"5453506221156596695\",\"name\":\"obs-node\"},\"children\":[]}]}]},\n",
       "            window,\n",
       "        );\n",
       "    } else {\n",
       "        document\n",
       "            .querySelector('[data-webio-mountpoint=\"15309074071797823552\"]')\n",
       "            .innerHTML = (\n",
       "                '<div style=\"padding: 1em; background-color: #f8d6da; border: 1px solid #f5c6cb\">' +\n",
       "                '<p><strong>WebIO not detected.</strong></p>' +\n",
       "                '<p>Please read ' +\n",
       "                '<a href=\"https://juliagizmos.github.io/WebIO.jl/latest/troubleshooting/not-detected/\" target=\"_blank\">the troubleshooting guide</a> ' +\n",
       "                'for more information on how to resolve this issue.</p>' +\n",
       "                '<p><a href=\"https://juliagizmos.github.io/WebIO.jl/latest/troubleshooting/not-detected/\" target=\"_blank\">https://juliagizmos.github.io/WebIO.jl/latest/troubleshooting/not-detected/</a></p>' +\n",
       "                '</div>'\n",
       "            );\n",
       "    }\n",
       "    </script>\n",
       "</div>\n"
      ],
      "text/plain": [
       "Node{WebIO.DOM}(WebIO.DOM(:html, :div), Any[Node{WebIO.DOM}(WebIO.DOM(:html, :div), Any[Scope(Node{WebIO.DOM}(WebIO.DOM(:html, :div), Any[Node{WebIO.DOM}(WebIO.DOM(:html, :div), Any[Node{WebIO.DOM}(WebIO.DOM(:html, :label), Any[\"Step\"], Dict{Symbol,Any}(:className => \"interact \",:style => Dict{Any,Any}(:padding => \"5px 10px 0px 10px\")))], Dict{Symbol,Any}(:className => \"interact-flex-row-left\")), Node{WebIO.DOM}(WebIO.DOM(:html, :div), Any[Node{WebIO.DOM}(WebIO.DOM(:html, :input), Any[], Dict{Symbol,Any}(:max => 100,:min => 1,:attributes => Dict{Any,Any}(:type => \"range\",Symbol(\"data-bind\") => \"numericValue: index, valueUpdate: 'input', event: {change: function (){this.changes(this.changes()+1)}}\",\"orient\" => \"horizontal\"),:step => 1,:className => \"slider slider is-fullwidth\",:style => Dict{Any,Any}()))], Dict{Symbol,Any}(:className => \"interact-flex-row-center\")), Node{WebIO.DOM}(WebIO.DOM(:html, :div), Any[Node{WebIO.DOM}(WebIO.DOM(:html, :p), Any[], Dict{Symbol,Any}(:attributes => Dict(\"data-bind\" => \"text: formatted_val\")))], Dict{Symbol,Any}(:className => \"interact-flex-row-right\"))], Dict{Symbol,Any}(:className => \"interact-flex-row interact-widget\")), Dict{String,Tuple{Observables.AbstractObservable,Union{Nothing, Bool}}}(\"changes\" => (Observable{Int64} with 1 listeners. Value:\n",
       "0, nothing),\"index\" => (Observable{Int64} with 2 listeners. Value:\n",
       "1, nothing)), Set{String}(), nothing, Asset[Asset(\"js\", \"knockout\", \"C:\\\\Users\\\\Bleep\\\\.julia\\\\packages\\\\Knockout\\\\IP1uR\\\\src\\\\..\\\\assets\\\\knockout.js\"), Asset(\"js\", \"knockout_punches\", \"C:\\\\Users\\\\Bleep\\\\.julia\\\\packages\\\\Knockout\\\\IP1uR\\\\src\\\\..\\\\assets\\\\knockout_punches.js\"), Asset(\"js\", nothing, \"C:\\\\Users\\\\Bleep\\\\.julia\\\\packages\\\\InteractBase\\\\sOe2Z\\\\src\\\\..\\\\assets\\\\all.js\"), Asset(\"css\", nothing, \"C:\\\\Users\\\\Bleep\\\\.julia\\\\packages\\\\InteractBase\\\\sOe2Z\\\\src\\\\..\\\\assets\\\\style.css\"), Asset(\"css\", nothing, \"C:\\\\Users\\\\Bleep\\\\.julia\\\\packages\\\\Interact\\\\SbgIk\\\\src\\\\..\\\\assets\\\\bulma_confined.min.css\")], Dict{Any,Any}(\"changes\" => Any[WebIO.JSString(\"(function (val){return (val!=this.model[\\\"changes\\\"]()) ? (this.valueFromJulia[\\\"changes\\\"]=true, this.model[\\\"changes\\\"](val)) : undefined})\")],\"index\" => Any[WebIO.JSString(\"(function (val){return (val!=this.model[\\\"index\\\"]()) ? (this.valueFromJulia[\\\"index\\\"]=true, this.model[\\\"index\\\"](val)) : undefined})\")]), WebIO.ConnectionPool(Channel{Any}(sz_max:32,sz_curr:0), Set{AbstractConnection}(), Base.GenericCondition{Base.AlwaysLockedST}(Base.InvasiveLinkedList{Task}(Task (runnable) @0x0000000034f1fc70, Task (runnable) @0x0000000034f1fc70), Base.AlwaysLockedST(1))), WebIO.JSString[WebIO.JSString(\"function () {\\n    var handler = (function (ko, koPunches) {\\n    ko.punches.enableAll();\\n    ko.bindingHandlers.numericValue = {\\n        init: function(element, valueAccessor, allBindings, data, context) {\\n            var stringified = ko.observable(ko.unwrap(valueAccessor()));\\n            stringified.subscribe(function(value) {\\n                var val = parseFloat(value);\\n                if (!isNaN(val)) {\\n                    valueAccessor()(val);\\n                }\\n            });\\n            valueAccessor().subscribe(function(value) {\\n                var str = JSON.stringify(value);\\n                if ((str == \\\"0\\\") && ([\\\"-0\\\", \\\"-0.\\\"].indexOf(stringified()) >= 0))\\n                     return;\\n                 if ([\\\"null\\\", \\\"\\\"].indexOf(str) >= 0)\\n                     return;\\n                stringified(str);\\n            });\\n            ko.applyBindingsToNode(\\n                element,\\n                {\\n                    value: stringified,\\n                    valueUpdate: allBindings.get('valueUpdate'),\\n                },\\n                context,\\n            );\\n        }\\n    };\\n    var json_data = {\\\"formatted_vals\\\":[\\\"1\\\",\\\"2\\\",\\\"3\\\",\\\"4\\\",\\\"5\\\",\\\"6\\\",\\\"7\\\",\\\"8\\\",\\\"9\\\",\\\"10\\\",\\\"11\\\",\\\"12\\\",\\\"13\\\",\\\"14\\\",\\\"15\\\",\\\"16\\\",\\\"17\\\",\\\"18\\\",\\\"19\\\",\\\"20\\\",\\\"21\\\",\\\"22\\\",\\\"23\\\",\\\"24\\\",\\\"25\\\",\\\"26\\\",\\\"27\\\",\\\"28\\\",\\\"29\\\",\\\"30\\\",\\\"31\\\",\\\"32\\\",\\\"33\\\",\\\"34\\\",\\\"35\\\",\\\"36\\\",\\\"37\\\",\\\"38\\\",\\\"39\\\",\\\"40\\\",\\\"41\\\",\\\"42\\\",\\\"43\\\",\\\"44\\\",\\\"45\\\",\\\"46\\\",\\\"47\\\",\\\"48\\\",\\\"49\\\",\\\"50\\\",\\\"51\\\",\\\"52\\\",\\\"53\\\",\\\"54\\\",\\\"55\\\",\\\"56\\\",\\\"57\\\",\\\"58\\\",\\\"59\\\",\\\"60\\\",\\\"61\\\",\\\"62\\\",\\\"63\\\",\\\"64\\\",\\\"65\\\",\\\"66\\\",\\\"67\\\",\\\"68\\\",\\\"69\\\",\\\"70\\\",\\\"71\\\",\\\"72\\\",\\\"73\\\",\\\"74\\\",\\\"75\\\",\\\"76\\\",\\\"77\\\",\\\"78\\\",\\\"79\\\",\\\"80\\\",\\\"81\\\",\\\"82\\\",\\\"83\\\",\\\"84\\\",\\\"85\\\",\\\"86\\\",\\\"87\\\",\\\"88\\\",\\\"89\\\",\\\"90\\\",\\\"91\\\",\\\"92\\\",\\\"93\\\",\\\"94\\\",\\\"95\\\",\\\"96\\\",\\\"97\\\",\\\"98\\\",\\\"99\\\",\\\"100\\\"],\\\"changes\\\":WebIO.getval({\\\"name\\\":\\\"changes\\\",\\\"scope\\\":\\\"7482525417763078715\\\",\\\"id\\\":\\\"15187868850438421738\\\",\\\"type\\\":\\\"observable\\\"}),\\\"index\\\":WebIO.getval({\\\"name\\\":\\\"index\\\",\\\"scope\\\":\\\"7482525417763078715\\\",\\\"id\\\":\\\"4152906525994785987\\\",\\\"type\\\":\\\"observable\\\"})};\\n    var self = this;\\n    function AppViewModel() {\\n        for (var key in json_data) {\\n            var el = json_data[key];\\n            this[key] = Array.isArray(el) ? ko.observableArray(el) : ko.observable(el);\\n        }\\n        \\n        [this[\\\"formatted_val\\\"]=ko.computed(    function(){\\n        return this.formatted_vals()[parseInt(this.index())-(1)];\\n    }\\n,this)]\\n        [this[\\\"changes\\\"].subscribe((function (val){!(this.valueFromJulia[\\\"changes\\\"]) ? (WebIO.setval({\\\"name\\\":\\\"changes\\\",\\\"scope\\\":\\\"7482525417763078715\\\",\\\"id\\\":\\\"15187868850438421738\\\",\\\"type\\\":\\\"observable\\\"},val)) : undefined; return this.valueFromJulia[\\\"changes\\\"]=false}),self),this[\\\"index\\\"].subscribe((function (val){!(this.valueFromJulia[\\\"index\\\"]) ? (WebIO.setval({\\\"name\\\":\\\"index\\\",\\\"scope\\\":\\\"7482525417763078715\\\",\\\"id\\\":\\\"4152906525994785987\\\",\\\"type\\\":\\\"observable\\\"},val)) : undefined; return this.valueFromJulia[\\\"index\\\"]=false}),self)]\\n        \\n    }\\n    self.model = new AppViewModel();\\n    self.valueFromJulia = {};\\n    for (var key in json_data) {\\n        self.valueFromJulia[key] = false;\\n    }\\n    ko.applyBindings(self.model, self.dom);\\n}\\n);\\n    (WebIO.importBlock({\\\"data\\\":[{\\\"name\\\":\\\"knockout\\\",\\\"type\\\":\\\"js\\\",\\\"url\\\":\\\"/assetserver/3a353afbd6c9130c04469cb36ceb880da7412142-knockout.js\\\"},{\\\"name\\\":\\\"knockout_punches\\\",\\\"type\\\":\\\"js\\\",\\\"url\\\":\\\"/assetserver/4ed641d55a3b9fd0bf416e425a088dbb3c4d8c47-knockout_punches.js\\\"}],\\\"type\\\":\\\"async_block\\\"})).then((imports) => handler.apply(this, imports));\\n}\\n\")])], Dict{Symbol,Any}(:className => \"field interact-widget\")), Observable{Any} with 0 listeners. Value:\n",
       "Node{WebIO.DOM}(WebIO.DOM(:html, :div), Any[Plot{Plots.GRBackend() n=3}], Dict{Symbol,Any}(:className => \"interact-flex-row interact-widget\"))], Dict{Symbol,Any}())"
      ]
     },
     "execution_count": 225,
     "metadata": {
      "application/vnd.webio.node+json": {
       "kernelId": "42937471-8476-4594-b61a-a48b1bf1f19d"
      }
     },
     "output_type": "execute_result"
    }
   ],
   "source": [
    "xs, predictions = [],[]\n",
    "x = Normal(0, 20)\n",
    "for z in zs\n",
    "    prior = predict(x, process_model)\n",
    "    likelihood = Normal(z, sqrt(sensor_var))\n",
    "    x = update(prior, likelihood)\n",
    "    \n",
    "    push!(predictions, prior.μ)\n",
    "    push!(xs, x.μ)\n",
    "end\n",
    "    \n",
    "@manipulate for i = slider(1:steps, value=1, label=\"Step\")\n",
    "        scatter(zs[1:i],xlim=[1,steps], ylim=[0,maximum(zs)])\n",
    "        scatter!(predictions[1:i])\n",
    "        plot!(xs[1:i])\n",
    "    end"
   ]
  },
  {
   "cell_type": "code",
   "execution_count": null,
   "metadata": {},
   "outputs": [],
   "source": []
  }
 ],
 "metadata": {
  "@webio": {
   "lastCommId": "e52f56a8caff4a0c925cfb4be69f4eb2",
   "lastKernelId": "42937471-8476-4594-b61a-a48b1bf1f19d"
  },
  "kernelspec": {
   "display_name": "Julia 1.5.1",
   "language": "julia",
   "name": "julia-1.5"
  },
  "language_info": {
   "file_extension": ".jl",
   "mimetype": "application/julia",
   "name": "julia",
   "version": "1.5.1"
  }
 },
 "nbformat": 4,
 "nbformat_minor": 4
}
